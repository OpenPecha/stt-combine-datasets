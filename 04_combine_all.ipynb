{
 "cells": [
  {
   "cell_type": "code",
   "execution_count": 1,
   "metadata": {},
   "outputs": [],
   "source": [
    "stt_pecha_tools = \"01_stt_pecha_tools.tsv\"\n",
    "prodigy = \"02_prodigy.tsv\"\n",
    "mv = \"03_mv_saymore.tsv\""
   ]
  },
  {
   "cell_type": "code",
   "execution_count": 2,
   "metadata": {},
   "outputs": [],
   "source": [
    "import pandas as pd\n",
    "pecha_tools_df = pd.read_csv(stt_pecha_tools, sep='\\t')\n",
    "prodigy_df = pd.read_csv(prodigy, sep='\\t')\n",
    "mv_df = pd.read_csv(mv, sep='\\t')"
   ]
  },
  {
   "cell_type": "code",
   "execution_count": 3,
   "metadata": {},
   "outputs": [],
   "source": [
    "df = pd.concat([pecha_tools_df, prodigy_df, mv_df], ignore_index=True)"
   ]
  },
  {
   "cell_type": "code",
   "execution_count": 4,
   "metadata": {},
   "outputs": [],
   "source": [
    "bad_apples = pd.read_csv('04_bad_apples.csv')"
   ]
  },
  {
   "cell_type": "code",
   "execution_count": 5,
   "metadata": {},
   "outputs": [],
   "source": [
    "df = df[~df['file_name'].isin(bad_apples['file_name'])]"
   ]
  },
  {
   "cell_type": "code",
   "execution_count": 6,
   "metadata": {},
   "outputs": [],
   "source": [
    "df.drop_duplicates(subset='file_name', keep=\"first\", inplace=True)"
   ]
  },
  {
   "cell_type": "markdown",
   "metadata": {},
   "source": [
    "# clean the combined tsv"
   ]
  },
  {
   "cell_type": "code",
   "execution_count": 7,
   "metadata": {},
   "outputs": [
    {
     "name": "stdout",
     "output_type": "stream",
     "text": [
      "False\n",
      "True\n"
     ]
    }
   ],
   "source": [
    "import re\n",
    "def clean_transcription(text):\n",
    "    text = text.replace('\\n', ' ')\n",
    "    text = text.replace('\\t', ' ')\n",
    "    text = text.strip()\n",
    "\n",
    "    text = re.sub(r\"་+\", \"་\", text)\n",
    "    text = re.sub(r\"།+\", \"།\", text)\n",
    "    text = re.sub(r\"\\s+\", \" \", text)\n",
    "    text = re.sub(r\"\\s+།\", \"།\", text)\n",
    "\n",
    "    text = re.sub(r\"ཧཧཧ+\", \"ཧཧཧ\", text)\n",
    "    text = re.sub(r'འེ་འེ་(འེ་)+', r'འེ་འེ་འེ་', text)\n",
    "    text = re.sub(r'ཧ་ཧ་(ཧ་)+', r'ཧ་ཧ་ཧ་', text)\n",
    "\n",
    "    chars_to_ignore_regex = '[\\,\\?\\.\\!\\-\\;\\:\\\"\\“\\%\\‘\\”\\�\\/\\{\\}\\(\\)\\༽\\》\\༼\\《\\༅\\༄\\༈\\༑\\༠]'\n",
    "    \n",
    "    text = re.sub(chars_to_ignore_regex, '', text)+\" \"\n",
    "    return text\n",
    "\n",
    "def check_if_regex(text):\n",
    "    text = str(text)\n",
    "    regex = re.compile(r'[a-zA-Z]+')\n",
    "    match = re.search(regex, text)\n",
    "    \n",
    "    return bool(match)\n",
    "    \n",
    "print(check_if_regex('ཧཧ'))\n",
    "print(check_if_regex('some text'))"
   ]
  },
  {
   "cell_type": "code",
   "execution_count": 8,
   "metadata": {},
   "outputs": [],
   "source": [
    "df = df[df['uni'].str.len() > 0]"
   ]
  },
  {
   "cell_type": "code",
   "execution_count": 9,
   "metadata": {},
   "outputs": [],
   "source": [
    "df = df[~df['uni'].apply(check_if_regex)]"
   ]
  },
  {
   "cell_type": "code",
   "execution_count": 10,
   "metadata": {},
   "outputs": [],
   "source": [
    "df['uni'] = df['uni'].map(clean_transcription)"
   ]
  },
  {
   "cell_type": "code",
   "execution_count": 11,
   "metadata": {},
   "outputs": [
    {
     "name": "stdout",
     "output_type": "stream",
     "text": [
      "Requirement already satisfied: pyewts in ./.env/lib/python3.10/site-packages (0.2.0)\n"
     ]
    }
   ],
   "source": [
    "! pip install pyewts"
   ]
  },
  {
   "cell_type": "code",
   "execution_count": 12,
   "metadata": {},
   "outputs": [],
   "source": [
    "import pyewts\n",
    "\n",
    "converter = pyewts.pyewts()\n",
    "\n",
    "df['wylie'] = df['uni'].apply(converter.toWylie)"
   ]
  },
  {
   "cell_type": "code",
   "execution_count": 13,
   "metadata": {},
   "outputs": [],
   "source": [
    "df['char_len'] = df['uni'].str.len()"
   ]
  },
  {
   "cell_type": "code",
   "execution_count": 14,
   "metadata": {},
   "outputs": [
    {
     "name": "stdout",
     "output_type": "stream",
     "text": [
      "Requirement already satisfied: matplotlib in ./.env/lib/python3.10/site-packages (3.8.2)\n",
      "Requirement already satisfied: contourpy>=1.0.1 in ./.env/lib/python3.10/site-packages (from matplotlib) (1.2.0)\n",
      "Requirement already satisfied: pillow>=8 in ./.env/lib/python3.10/site-packages (from matplotlib) (10.2.0)\n",
      "Requirement already satisfied: fonttools>=4.22.0 in ./.env/lib/python3.10/site-packages (from matplotlib) (4.47.0)\n",
      "Requirement already satisfied: numpy<2,>=1.21 in ./.env/lib/python3.10/site-packages (from matplotlib) (1.26.3)\n",
      "Requirement already satisfied: pyparsing>=2.3.1 in ./.env/lib/python3.10/site-packages (from matplotlib) (3.1.1)\n",
      "Requirement already satisfied: kiwisolver>=1.3.1 in ./.env/lib/python3.10/site-packages (from matplotlib) (1.4.5)\n",
      "Requirement already satisfied: python-dateutil>=2.7 in ./.env/lib/python3.10/site-packages (from matplotlib) (2.8.2)\n",
      "Requirement already satisfied: cycler>=0.10 in ./.env/lib/python3.10/site-packages (from matplotlib) (0.12.1)\n",
      "Requirement already satisfied: packaging>=20.0 in ./.env/lib/python3.10/site-packages (from matplotlib) (23.2)\n",
      "Requirement already satisfied: six>=1.5 in ./.env/lib/python3.10/site-packages (from python-dateutil>=2.7->matplotlib) (1.16.0)\n"
     ]
    }
   ],
   "source": [
    "! pip install matplotlib"
   ]
  },
  {
   "cell_type": "code",
   "execution_count": 15,
   "metadata": {},
   "outputs": [
    {
     "data": {
      "text/plain": [
       "<Axes: >"
      ]
     },
     "execution_count": 15,
     "metadata": {},
     "output_type": "execute_result"
    },
    {
     "data": {
      "image/png": "[encoded data removed]",
      "text/plain": [
       "<Figure size 640x480 with 1 Axes>"
      ]
     },
     "metadata": {},
     "output_type": "display_data"
    }
   ],
   "source": [
    "df['char_len'].hist(bins=100, range=(0, 300))"
   ]
  },
  {
   "cell_type": "code",
   "execution_count": 16,
   "metadata": {},
   "outputs": [
    {
     "data": {
      "text/plain": [
       "count    822757.000000\n",
       "mean         66.464085\n",
       "std          60.418673\n",
       "min           1.000000\n",
       "25%          28.000000\n",
       "50%          53.000000\n",
       "75%          93.000000\n",
       "max       23249.000000\n",
       "Name: char_len, dtype: float64"
      ]
     },
     "execution_count": 16,
     "metadata": {},
     "output_type": "execute_result"
    }
   ],
   "source": [
    "df['char_len'].describe()"
   ]
  },
  {
   "cell_type": "code",
   "execution_count": 17,
   "metadata": {},
   "outputs": [
    {
     "data": {
      "text/plain": [
       "822757"
      ]
     },
     "execution_count": 17,
     "metadata": {},
     "output_type": "execute_result"
    }
   ],
   "source": [
    "df.shape[0]"
   ]
  },
  {
   "cell_type": "code",
   "execution_count": 18,
   "metadata": {},
   "outputs": [],
   "source": [
    "upper_cutoff = 400\n",
    "lower_cutoff = 5"
   ]
  },
  {
   "cell_type": "code",
   "execution_count": 19,
   "metadata": {},
   "outputs": [
    {
     "data": {
      "text/plain": [
       "(3, 7769)"
      ]
     },
     "execution_count": 19,
     "metadata": {},
     "output_type": "execute_result"
    }
   ],
   "source": [
    "df[df['char_len'] > upper_cutoff].shape[0], df[df['char_len'] < lower_cutoff].shape[0]"
   ]
  },
  {
   "cell_type": "code",
   "execution_count": 20,
   "metadata": {},
   "outputs": [],
   "source": [
    "df[df['char_len'] > upper_cutoff][['uni', 'url', 'char_len']].sort_values(by='char_len').to_csv('04_longer_than_upper_cutoff.tsv', sep='\\t', index=False)"
   ]
  },
  {
   "cell_type": "code",
   "execution_count": 21,
   "metadata": {},
   "outputs": [],
   "source": [
    "df[df['char_len'] < lower_cutoff][['uni', 'url', 'char_len']].sort_values(by='char_len').to_csv('04_shorter_than_lower_cutoff.tsv', sep='\\t', index=False)"
   ]
  },
  {
   "cell_type": "code",
   "execution_count": 22,
   "metadata": {},
   "outputs": [],
   "source": [
    "df = df[(df['char_len'] < upper_cutoff) & (df['char_len'] > lower_cutoff)]"
   ]
  },
  {
   "cell_type": "code",
   "execution_count": 23,
   "metadata": {},
   "outputs": [
    {
     "data": {
      "text/plain": [
       "811562"
      ]
     },
     "execution_count": 23,
     "metadata": {},
     "output_type": "execute_result"
    }
   ],
   "source": [
    "df.shape[0]"
   ]
  },
  {
   "cell_type": "code",
   "execution_count": 24,
   "metadata": {},
   "outputs": [
    {
     "data": {
      "text/plain": [
       "5.5900000000001455"
      ]
     },
     "execution_count": 24,
     "metadata": {},
     "output_type": "execute_result"
    }
   ],
   "source": [
    "def getTimeSpan(filename):\n",
    "\n",
    "    filename = filename.replace(\".wav\", \"\")\n",
    "    filename = filename.replace(\".WAV\", \"\")\n",
    "    filename = filename.replace(\".mp3\", \"\")\n",
    "    filename = filename.replace(\".MP3\", \"\")\n",
    "    try:\n",
    "        if \"_to_\" in filename:\n",
    "            start, end = filename.split(\"_to_\")\n",
    "            start = start.split(\"_\")[-1]\n",
    "            end = end.split(\"_\")[0]\n",
    "            end = float(end)\n",
    "            start = float(start)\n",
    "            return abs(end - start)/1000\n",
    "        else:\n",
    "            start, end = filename.split(\"-\")\n",
    "            start = start.split(\"_\")[-1]\n",
    "            end = end.split(\"_\")[0]\n",
    "            end =   float(end)\n",
    "            start = float(start)\n",
    "            return abs(end - start)\n",
    "    except Exception as err:\n",
    "        print(f\"filename is:'{filename}'. Could not parse to get time span.\")\n",
    "        return 0\n",
    "    \n",
    "\n",
    "getTimeSpan(\"STT_TT00031_03471.850-03477.44\")"
   ]
  },
  {
   "cell_type": "code",
   "execution_count": 25,
   "metadata": {},
   "outputs": [],
   "source": [
    "df['audio_len'] = df['file_name'].apply(getTimeSpan)"
   ]
  },
  {
   "cell_type": "code",
   "execution_count": 26,
   "metadata": {},
   "outputs": [
    {
     "data": {
      "text/plain": [
       "count    811562.000000\n",
       "mean          4.231404\n",
       "std           3.009444\n",
       "min           0.400000\n",
       "25%           1.700000\n",
       "50%           3.224000\n",
       "75%           6.706000\n",
       "max          14.050000\n",
       "Name: audio_len, dtype: float64"
      ]
     },
     "execution_count": 26,
     "metadata": {},
     "output_type": "execute_result"
    }
   ],
   "source": [
    "df['audio_len'].describe()"
   ]
  },
  {
   "cell_type": "code",
   "execution_count": 27,
   "metadata": {},
   "outputs": [
    {
     "data": {
      "text/plain": [
       "<Axes: >"
      ]
     },
     "execution_count": 27,
     "metadata": {},
     "output_type": "execute_result"
    },
    {
     "data": {
      "image/png": "[encoded data removed]",
      "text/plain": [
       "<Figure size 640x480 with 1 Axes>"
      ]
     },
     "metadata": {},
     "output_type": "display_data"
    }
   ],
   "source": [
    "df['audio_len'].hist(bins=100, range=(0, 15))"
   ]
  },
  {
   "cell_type": "code",
   "execution_count": 28,
   "metadata": {},
   "outputs": [],
   "source": [
    "df['url'] = df['url'].map(lambda x : x.replace('#','%23'))"
   ]
  },
  {
   "cell_type": "code",
   "execution_count": null,
   "metadata": {},
   "outputs": [],
   "source": [
    "! pip install botok"
   ]
  },
  {
   "cell_type": "code",
   "execution_count": 29,
   "metadata": {},
   "outputs": [],
   "source": [
    "from botok import WordTokenizer"
   ]
  },
  {
   "cell_type": "code",
   "execution_count": 30,
   "metadata": {},
   "outputs": [],
   "source": [
    "def process_transcript(text, tokenizer):\n",
    "    tokens = tokenizer.tokenize(text)\n",
    "    non_word_count = sum(1 for token in tokens if token.pos == 'NON_WORD' and not token.skrt)\n",
    "    total_tokens = len(tokens)\n",
    "\n",
    "    non_bo_word_count = 0\n",
    "    for token in tokens:\n",
    "        if token.chunk_type in [\"LATIN\", \"CJK\", \"OTHER\"] and (\n",
    "            token.chunk_type != \"OTHER\" or not token.skrt\n",
    "        ):\n",
    "            non_bo_word_count += 1\n",
    "    \n",
    "    return non_word_count, non_bo_word_count, total_tokens"
   ]
  },
  {
   "cell_type": "code",
   "execution_count": 36,
   "metadata": {},
   "outputs": [
    {
     "name": "stdout",
     "output_type": "stream",
     "text": [
      "Loading Trie... (1s.)\n"
     ]
    },
    {
     "name": "stderr",
     "output_type": "stream",
     "text": [
      "/home/monlamai/Documents/GitHub/stt-combine-datasets/.env/lib/python3.10/site-packages/botok/textunits/bostring.py:82: UserWarning: Beware of unexpected results: input string contains the non-expanded char \"བྷ\", found in \"བྷང\".\n",
      "  warn(\n",
      "/home/monlamai/Documents/GitHub/stt-combine-datasets/.env/lib/python3.10/site-packages/botok/textunits/bostring.py:82: UserWarning: Beware of unexpected results: input string contains the non-expanded char \"བྷ\", found in \"\".\n",
      "  warn(\n",
      "/home/monlamai/Documents/GitHub/stt-combine-datasets/.env/lib/python3.10/site-packages/botok/textunits/bostring.py:82: UserWarning: Beware of unexpected results: input string contains the non-expanded char \"བྷ\", found in \"བྷེ་ལ་ཀ\".\n",
      "  warn(\n",
      "/home/monlamai/Documents/GitHub/stt-combine-datasets/.env/lib/python3.10/site-packages/botok/textunits/bostring.py:82: UserWarning: Beware of unexpected results: input string contains the non-expanded char \"གྷ\", found in \"\".\n",
      "  warn(\n",
      "/home/monlamai/Documents/GitHub/stt-combine-datasets/.env/lib/python3.10/site-packages/botok/textunits/bostring.py:82: UserWarning: Beware of unexpected results: input string contains the non-expanded char \"དྷ\", found in \"\".\n",
      "  warn(\n",
      "/home/monlamai/Documents/GitHub/stt-combine-datasets/.env/lib/python3.10/site-packages/botok/textunits/bostring.py:82: UserWarning: Beware of unexpected results: input string contains the non-expanded char \"གྷ\", found in \"གྷོལ་བཅུ་གཅ\".\n",
      "  warn(\n",
      "/home/monlamai/Documents/GitHub/stt-combine-datasets/.env/lib/python3.10/site-packages/botok/textunits/bostring.py:82: UserWarning: Beware of unexpected results: input string contains the non-expanded char \"གྷ\", found in \"གྷྀརཱསྀ་\".\n",
      "  warn(\n",
      "/home/monlamai/Documents/GitHub/stt-combine-datasets/.env/lib/python3.10/site-packages/botok/textunits/bostring.py:82: UserWarning: Beware of unexpected results: input string contains the non-expanded char \"ཛྷ\", found in \"\".\n",
      "  warn(\n",
      "/home/monlamai/Documents/GitHub/stt-combine-datasets/.env/lib/python3.10/site-packages/botok/textunits/bostring.py:82: UserWarning: Beware of unexpected results: input string contains the non-expanded char \"བྷ\", found in \"བྷི་ཋི་ཨེསྀ\".\n",
      "  warn(\n",
      "/home/monlamai/Documents/GitHub/stt-combine-datasets/.env/lib/python3.10/site-packages/botok/textunits/bostring.py:82: UserWarning: Beware of unexpected results: input string contains the non-expanded char \"གྷ\", found in \"གྷྀ་གཞན་\".\n",
      "  warn(\n",
      "/home/monlamai/Documents/GitHub/stt-combine-datasets/.env/lib/python3.10/site-packages/botok/textunits/bostring.py:82: UserWarning: Beware of unexpected results: input string contains the non-expanded char \"བྷ\", found in \"བྷ་སྀཁའེཋྀ་\".\n",
      "  warn(\n",
      "/home/monlamai/Documents/GitHub/stt-combine-datasets/.env/lib/python3.10/site-packages/botok/textunits/bostring.py:82: UserWarning: Beware of unexpected results: input string contains the non-expanded char \"གྷ\", found in \"གྷི་དེ་\".\n",
      "  warn(\n",
      "/home/monlamai/Documents/GitHub/stt-combine-datasets/.env/lib/python3.10/site-packages/botok/textunits/bostring.py:82: UserWarning: Beware of unexpected results: input string contains the non-expanded char \"བྷ\", found in \"བྷ་སེ་ནང་ལ་\".\n",
      "  warn(\n",
      "/home/monlamai/Documents/GitHub/stt-combine-datasets/.env/lib/python3.10/site-packages/botok/textunits/bostring.py:82: UserWarning: Beware of unexpected results: input string contains the non-expanded char \"བྷ\", found in \"བྷེལ་ཀོབ་ལ་\".\n",
      "  warn(\n",
      "/home/monlamai/Documents/GitHub/stt-combine-datasets/.env/lib/python3.10/site-packages/botok/textunits/bostring.py:82: UserWarning: Beware of unexpected results: input string contains the non-expanded char \"བྷ\", found in \"བྷ་སྀཁའེཋ\".\n",
      "  warn(\n",
      "/home/monlamai/Documents/GitHub/stt-combine-datasets/.env/lib/python3.10/site-packages/botok/textunits/bostring.py:82: UserWarning: Beware of unexpected results: input string contains the non-expanded char \"བྷ\", found in \"བྷི་ཁཱ\".\n",
      "  warn(\n",
      "/home/monlamai/Documents/GitHub/stt-combine-datasets/.env/lib/python3.10/site-packages/botok/textunits/bostring.py:82: UserWarning: Beware of unexpected results: input string contains the non-expanded char \"གྷ\", found in \"གྷྀ་ར\".\n",
      "  warn(\n",
      "/home/monlamai/Documents/GitHub/stt-combine-datasets/.env/lib/python3.10/site-packages/botok/textunits/bostring.py:82: UserWarning: Beware of unexpected results: input string contains the non-expanded char \"བྷ\", found in \"བྷིས\".\n",
      "  warn(\n",
      "/home/monlamai/Documents/GitHub/stt-combine-datasets/.env/lib/python3.10/site-packages/botok/textunits/bostring.py:82: UserWarning: Beware of unexpected results: input string contains the non-expanded char \"བྷ\", found in \"བྷང་ལོར་དེ་\".\n",
      "  warn(\n",
      "/home/monlamai/Documents/GitHub/stt-combine-datasets/.env/lib/python3.10/site-packages/botok/textunits/bostring.py:82: UserWarning: Beware of unexpected results: input string contains the non-expanded char \"བྷ\", found in \"བྷི་ཨེ་བར་ད\".\n",
      "  warn(\n",
      "/home/monlamai/Documents/GitHub/stt-combine-datasets/.env/lib/python3.10/site-packages/botok/textunits/bostring.py:82: UserWarning: Beware of unexpected results: input string contains the non-expanded char \"བྷ\", found in \"བྷའེ་ཋན་\".\n",
      "  warn(\n",
      "/home/monlamai/Documents/GitHub/stt-combine-datasets/.env/lib/python3.10/site-packages/botok/textunits/bostring.py:82: UserWarning: Beware of unexpected results: input string contains the non-expanded char \"གྷ\", found in \"གྷའེསྀ་ཡོད་\".\n",
      "  warn(\n",
      "/home/monlamai/Documents/GitHub/stt-combine-datasets/.env/lib/python3.10/site-packages/botok/textunits/bostring.py:82: UserWarning: Beware of unexpected results: input string contains the non-expanded char \"བྷ\", found in \"བྷང་ལོར\".\n",
      "  warn(\n",
      "/home/monlamai/Documents/GitHub/stt-combine-datasets/.env/lib/python3.10/site-packages/botok/textunits/bostring.py:82: UserWarning: Beware of unexpected results: input string contains the non-expanded char \"གྷ\", found in \"གྷོའུ་གྷེལ་ཕ\".\n",
      "  warn(\n",
      "/home/monlamai/Documents/GitHub/stt-combine-datasets/.env/lib/python3.10/site-packages/botok/textunits/bostring.py:82: UserWarning: Beware of unexpected results: input string contains the non-expanded char \"གྷ\", found in \"གྷེལ་ཕ\".\n",
      "  warn(\n",
      "/home/monlamai/Documents/GitHub/stt-combine-datasets/.env/lib/python3.10/site-packages/botok/textunits/bostring.py:82: UserWarning: Beware of unexpected results: input string contains the non-expanded char \"བྷ\", found in \"བྷི་ཨེ\".\n",
      "  warn(\n",
      "/home/monlamai/Documents/GitHub/stt-combine-datasets/.env/lib/python3.10/site-packages/botok/textunits/bostring.py:82: UserWarning: Beware of unexpected results: input string contains the non-expanded char \"བྷ\", found in \"བྷ་ནཱ་ནཱ་ཁོ\".\n",
      "  warn(\n",
      "/home/monlamai/Documents/GitHub/stt-combine-datasets/.env/lib/python3.10/site-packages/botok/textunits/bostring.py:82: UserWarning: Beware of unexpected results: input string contains the non-expanded char \"བྷ\", found in \"བྷྀརའེ\".\n",
      "  warn(\n",
      "/home/monlamai/Documents/GitHub/stt-combine-datasets/.env/lib/python3.10/site-packages/botok/textunits/bostring.py:82: UserWarning: Beware of unexpected results: input string contains the non-expanded char \"གྷ\", found in \"གྷན་དྷི། \".\n",
      "  warn(\n",
      "/home/monlamai/Documents/GitHub/stt-combine-datasets/.env/lib/python3.10/site-packages/botok/textunits/bostring.py:82: UserWarning: Beware of unexpected results: input string contains the non-expanded char \"དྷ\", found in \"དྷི། \".\n",
      "  warn(\n",
      "/home/monlamai/Documents/GitHub/stt-combine-datasets/.env/lib/python3.10/site-packages/botok/textunits/bostring.py:82: UserWarning: Beware of unexpected results: input string contains the non-expanded char \"དྷ\", found in \"དྷིསིཋྀ\".\n",
      "  warn(\n",
      "/home/monlamai/Documents/GitHub/stt-combine-datasets/.env/lib/python3.10/site-packages/botok/textunits/bostring.py:82: UserWarning: Beware of unexpected results: input string contains the non-expanded char \"བྷ\", found in \"བྷུརཐྀ་ཌཱའེ\".\n",
      "  warn(\n",
      "/home/monlamai/Documents/GitHub/stt-combine-datasets/.env/lib/python3.10/site-packages/botok/textunits/bostring.py:82: UserWarning: Beware of unexpected results: input string contains the non-expanded char \"གྷ\", found in \"གྷོལ་\".\n",
      "  warn(\n",
      "/home/monlamai/Documents/GitHub/stt-combine-datasets/.env/lib/python3.10/site-packages/botok/textunits/bostring.py:82: UserWarning: Beware of unexpected results: input string contains the non-expanded char \"གྷ\", found in \"གྷི་\".\n",
      "  warn(\n",
      "/home/monlamai/Documents/GitHub/stt-combine-datasets/.env/lib/python3.10/site-packages/botok/textunits/bostring.py:82: UserWarning: Beware of unexpected results: input string contains the non-expanded char \"དྷ\", found in \"དྷཱུ་\".\n",
      "  warn(\n",
      "/home/monlamai/Documents/GitHub/stt-combine-datasets/.env/lib/python3.10/site-packages/botok/textunits/bostring.py:82: UserWarning: Beware of unexpected results: input string contains the non-expanded char \"བྷ\", found in \"བྷེགྷྀ་ལ\".\n",
      "  warn(\n",
      "/home/monlamai/Documents/GitHub/stt-combine-datasets/.env/lib/python3.10/site-packages/botok/textunits/bostring.py:82: UserWarning: Beware of unexpected results: input string contains the non-expanded char \"གྷ\", found in \"གྷྀ་ལ\".\n",
      "  warn(\n",
      "/home/monlamai/Documents/GitHub/stt-combine-datasets/.env/lib/python3.10/site-packages/botok/textunits/bostring.py:82: UserWarning: Beware of unexpected results: input string contains the non-expanded char \"ཱུ\", found in \"\".\n",
      "  warn(\n",
      "/home/monlamai/Documents/GitHub/stt-combine-datasets/.env/lib/python3.10/site-packages/botok/textunits/bostring.py:82: UserWarning: Beware of unexpected results: input string contains the non-expanded char \"ཀྵ\", found in \"\".\n",
      "  warn(\n",
      "/home/monlamai/Documents/GitHub/stt-combine-datasets/.env/lib/python3.10/site-packages/botok/textunits/bostring.py:82: UserWarning: Beware of unexpected results: input string contains the non-expanded char \"བྷ\", found in \"བྷིསྀ་ཁའིཋྀ\".\n",
      "  warn(\n",
      "/home/monlamai/Documents/GitHub/stt-combine-datasets/.env/lib/python3.10/site-packages/botok/textunits/bostring.py:82: UserWarning: Beware of unexpected results: input string contains the non-expanded char \"བྷ\", found in \"བྷེ་ལ་ཀོབ\".\n",
      "  warn(\n",
      "/home/monlamai/Documents/GitHub/stt-combine-datasets/.env/lib/python3.10/site-packages/botok/textunits/bostring.py:82: UserWarning: Beware of unexpected results: input string contains the non-expanded char \"དྷ\", found in \"དྷི་སི་\".\n",
      "  warn(\n",
      "/home/monlamai/Documents/GitHub/stt-combine-datasets/.env/lib/python3.10/site-packages/botok/textunits/bostring.py:82: UserWarning: Beware of unexpected results: input string contains the non-expanded char \"བྷ\", found in \"བྷེགྷྀ་\".\n",
      "  warn(\n",
      "/home/monlamai/Documents/GitHub/stt-combine-datasets/.env/lib/python3.10/site-packages/botok/textunits/bostring.py:82: UserWarning: Beware of unexpected results: input string contains the non-expanded char \"གྷ\", found in \"གྷྀ་\".\n",
      "  warn(\n",
      "/home/monlamai/Documents/GitHub/stt-combine-datasets/.env/lib/python3.10/site-packages/botok/textunits/bostring.py:82: UserWarning: Beware of unexpected results: input string contains the non-expanded char \"བྷ\", found in \"བྷེ་ཡངཌྀ་ཪེ\".\n",
      "  warn(\n",
      "/home/monlamai/Documents/GitHub/stt-combine-datasets/.env/lib/python3.10/site-packages/botok/textunits/bostring.py:82: UserWarning: Beware of unexpected results: input string contains the non-expanded char \"བྷ\", found in \"བྷ\".\n",
      "  warn(\n",
      "/home/monlamai/Documents/GitHub/stt-combine-datasets/.env/lib/python3.10/site-packages/botok/textunits/bostring.py:82: UserWarning: Beware of unexpected results: input string contains the non-expanded char \"བྷ\", found in \"བྷའེཌྀ་ཤའེཋ\".\n",
      "  warn(\n",
      "/home/monlamai/Documents/GitHub/stt-combine-datasets/.env/lib/python3.10/site-packages/botok/textunits/bostring.py:82: UserWarning: Beware of unexpected results: input string contains the non-expanded char \"བྷ\", found in \"བྷ་ཊ་ལའེསྀ་\".\n",
      "  warn(\n",
      "/home/monlamai/Documents/GitHub/stt-combine-datasets/.env/lib/python3.10/site-packages/botok/textunits/bostring.py:82: UserWarning: Beware of unexpected results: input string contains the non-expanded char \"བྷ\", found in \"བྷོར\".\n",
      "  warn(\n",
      "/home/monlamai/Documents/GitHub/stt-combine-datasets/.env/lib/python3.10/site-packages/botok/textunits/bostring.py:82: UserWarning: Beware of unexpected results: input string contains the non-expanded char \"བྷ\", found in \"བྷིཡུ་ཋི་\".\n",
      "  warn(\n",
      "/home/monlamai/Documents/GitHub/stt-combine-datasets/.env/lib/python3.10/site-packages/botok/textunits/bostring.py:82: UserWarning: Beware of unexpected results: input string contains the non-expanded char \"བྷ\", found in \"བྷུརཐྀ\".\n",
      "  warn(\n",
      "/home/monlamai/Documents/GitHub/stt-combine-datasets/.env/lib/python3.10/site-packages/botok/textunits/bostring.py:82: UserWarning: Beware of unexpected results: input string contains the non-expanded char \"བྷ\", found in \"བྷེ་\".\n",
      "  warn(\n",
      "/home/monlamai/Documents/GitHub/stt-combine-datasets/.env/lib/python3.10/site-packages/botok/textunits/bostring.py:82: UserWarning: Beware of unexpected results: input string contains the non-expanded char \"བྷ\", found in \"བྷིགྀ་བ་སྀ་\".\n",
      "  warn(\n",
      "/home/monlamai/Documents/GitHub/stt-combine-datasets/.env/lib/python3.10/site-packages/botok/textunits/bostring.py:82: UserWarning: Beware of unexpected results: input string contains the non-expanded char \"གྷ\", found in \"གྷར་ཌེན\".\n",
      "  warn(\n",
      "/home/monlamai/Documents/GitHub/stt-combine-datasets/.env/lib/python3.10/site-packages/botok/textunits/bostring.py:82: UserWarning: Beware of unexpected results: input string contains the non-expanded char \"གྷ\", found in \"གྷྀར་གས\".\n",
      "  warn(\n",
      "/home/monlamai/Documents/GitHub/stt-combine-datasets/.env/lib/python3.10/site-packages/botok/textunits/bostring.py:82: UserWarning: Beware of unexpected results: input string contains the non-expanded char \"བྷ\", found in \"བྷ་\".\n",
      "  warn(\n",
      "/home/monlamai/Documents/GitHub/stt-combine-datasets/.env/lib/python3.10/site-packages/botok/textunits/bostring.py:82: UserWarning: Beware of unexpected results: input string contains the non-expanded char \"བྷ\", found in \"བྷྀརའེཌ\".\n",
      "  warn(\n",
      "/home/monlamai/Documents/GitHub/stt-combine-datasets/.env/lib/python3.10/site-packages/botok/textunits/bostring.py:82: UserWarning: Beware of unexpected results: input string contains the non-expanded char \"བྷ\", found in \"བྷོའིཁྀམཱོའ\".\n",
      "  warn(\n",
      "/home/monlamai/Documents/GitHub/stt-combine-datasets/.env/lib/python3.10/site-packages/botok/textunits/bostring.py:82: UserWarning: Beware of unexpected results: input string contains the non-expanded char \"དྷ\", found in \"དྷཱུ་ཏ\".\n",
      "  warn(\n",
      "/home/monlamai/Documents/GitHub/stt-combine-datasets/.env/lib/python3.10/site-packages/botok/textunits/bostring.py:82: UserWarning: Beware of unexpected results: input string contains the non-expanded char \"བྷ\", found in \"བྷིན\".\n",
      "  warn(\n",
      "/home/monlamai/Documents/GitHub/stt-combine-datasets/.env/lib/python3.10/site-packages/botok/textunits/bostring.py:82: UserWarning: Beware of unexpected results: input string contains the non-expanded char \"བྷ\", found in \"བྷ་ལ\".\n",
      "  warn(\n",
      "/home/monlamai/Documents/GitHub/stt-combine-datasets/.env/lib/python3.10/site-packages/botok/textunits/bostring.py:82: UserWarning: Beware of unexpected results: input string contains the non-expanded char \"དྷ\", found in \"དྷཱུ་ཏཱིའི་\".\n",
      "  warn(\n",
      "/home/monlamai/Documents/GitHub/stt-combine-datasets/.env/lib/python3.10/site-packages/botok/textunits/bostring.py:82: UserWarning: Beware of unexpected results: input string contains the non-expanded char \"ༀ\", found in \"ༀ་སྭ་\".\n",
      "  warn(\n",
      "/home/monlamai/Documents/GitHub/stt-combine-datasets/.env/lib/python3.10/site-packages/botok/textunits/bostring.py:82: UserWarning: Beware of unexpected results: input string contains the non-expanded char \"བྷ\", found in \"བྷེགྷྀ་འཁྱེར\".\n",
      "  warn(\n",
      "/home/monlamai/Documents/GitHub/stt-combine-datasets/.env/lib/python3.10/site-packages/botok/textunits/bostring.py:82: UserWarning: Beware of unexpected results: input string contains the non-expanded char \"གྷ\", found in \"གྷྀ་འཁྱེར\".\n",
      "  warn(\n",
      "/home/monlamai/Documents/GitHub/stt-combine-datasets/.env/lib/python3.10/site-packages/botok/textunits/bostring.py:82: UserWarning: Beware of unexpected results: input string contains the non-expanded char \"བྷ\", found in \"བྷཡེ་བྷ\".\n",
      "  warn(\n",
      "/home/monlamai/Documents/GitHub/stt-combine-datasets/.env/lib/python3.10/site-packages/botok/textunits/bostring.py:82: UserWarning: Beware of unexpected results: input string contains the non-expanded char \"གྷ\", found in \"གྷྀ་གང་ས\".\n",
      "  warn(\n",
      "/home/monlamai/Documents/GitHub/stt-combine-datasets/.env/lib/python3.10/site-packages/botok/textunits/bostring.py:82: UserWarning: Beware of unexpected results: input string contains the non-expanded char \"བྷ\", found in \"བྷེ། བ\".\n",
      "  warn(\n",
      "/home/monlamai/Documents/GitHub/stt-combine-datasets/.env/lib/python3.10/site-packages/botok/textunits/bostring.py:82: UserWarning: Beware of unexpected results: input string contains the non-expanded char \"བྷ\", found in \"བྷེགྷྀ་དེ་ག་\".\n",
      "  warn(\n",
      "/home/monlamai/Documents/GitHub/stt-combine-datasets/.env/lib/python3.10/site-packages/botok/textunits/bostring.py:82: UserWarning: Beware of unexpected results: input string contains the non-expanded char \"གྷ\", found in \"གྷྀ་དེ་ག་\".\n",
      "  warn(\n",
      "/home/monlamai/Documents/GitHub/stt-combine-datasets/.env/lib/python3.10/site-packages/botok/textunits/bostring.py:82: UserWarning: Beware of unexpected results: input string contains the non-expanded char \"གྷ\", found in \"གྷོཌ\".\n",
      "  warn(\n",
      "/home/monlamai/Documents/GitHub/stt-combine-datasets/.env/lib/python3.10/site-packages/botok/textunits/bostring.py:82: UserWarning: Beware of unexpected results: input string contains the non-expanded char \"བྷ\", found in \"བྷུ\".\n",
      "  warn(\n",
      "/home/monlamai/Documents/GitHub/stt-combine-datasets/.env/lib/python3.10/site-packages/botok/textunits/bostring.py:82: UserWarning: Beware of unexpected results: input string contains the non-expanded char \"བྷ\", found in \"བྷྀར\".\n",
      "  warn(\n",
      "/home/monlamai/Documents/GitHub/stt-combine-datasets/.env/lib/python3.10/site-packages/botok/textunits/bostring.py:82: UserWarning: Beware of unexpected results: input string contains the non-expanded char \"དྷ\", found in \"དྷ\".\n",
      "  warn(\n",
      "/home/monlamai/Documents/GitHub/stt-combine-datasets/.env/lib/python3.10/site-packages/botok/textunits/bostring.py:82: UserWarning: Beware of unexpected results: input string contains the non-expanded char \"ༀ\", found in \"\".\n",
      "  warn(\n",
      "/home/monlamai/Documents/GitHub/stt-combine-datasets/.env/lib/python3.10/site-packages/botok/textunits/bostring.py:82: UserWarning: Beware of unexpected results: input string contains the non-expanded char \"བྷ\", found in \"བྷེལ་ཌིང་འད\".\n",
      "  warn(\n",
      "/home/monlamai/Documents/GitHub/stt-combine-datasets/.env/lib/python3.10/site-packages/botok/textunits/bostring.py:82: UserWarning: Beware of unexpected results: input string contains the non-expanded char \"གྷ\", found in \"གྷྀ\".\n",
      "  warn(\n",
      "/home/monlamai/Documents/GitHub/stt-combine-datasets/.env/lib/python3.10/site-packages/botok/textunits/bostring.py:82: UserWarning: Beware of unexpected results: input string contains the non-expanded char \"བྷ\", found in \"བྷྀརའེཁྀ་\".\n",
      "  warn(\n",
      "/home/monlamai/Documents/GitHub/stt-combine-datasets/.env/lib/python3.10/site-packages/botok/textunits/bostring.py:82: UserWarning: Beware of unexpected results: input string contains the non-expanded char \"བྷ\", found in \"བྷྀར་སའ\".\n",
      "  warn(\n",
      "/home/monlamai/Documents/GitHub/stt-combine-datasets/.env/lib/python3.10/site-packages/botok/textunits/bostring.py:82: UserWarning: Beware of unexpected results: input string contains the non-expanded char \"བྷ\", found in \"བྷ་སྀཁ\".\n",
      "  warn(\n",
      "/home/monlamai/Documents/GitHub/stt-combine-datasets/.env/lib/python3.10/site-packages/botok/textunits/bostring.py:82: UserWarning: Beware of unexpected results: input string contains the non-expanded char \"གྷ\", found in \"གྷོ\".\n",
      "  warn(\n",
      "/home/monlamai/Documents/GitHub/stt-combine-datasets/.env/lib/python3.10/site-packages/botok/textunits/bostring.py:82: UserWarning: Beware of unexpected results: input string contains the non-expanded char \"དྷ\", found in \"དྷི\".\n",
      "  warn(\n",
      "/home/monlamai/Documents/GitHub/stt-combine-datasets/.env/lib/python3.10/site-packages/botok/textunits/bostring.py:82: UserWarning: Beware of unexpected results: input string contains the non-expanded char \"བྷ\", found in \"བྷོལ\".\n",
      "  warn(\n",
      "/home/monlamai/Documents/GitHub/stt-combine-datasets/.env/lib/python3.10/site-packages/botok/textunits/bostring.py:82: UserWarning: Beware of unexpected results: input string contains the non-expanded char \"བྷ\", found in \"བྷལ་ཌིང་འདི\".\n",
      "  warn(\n",
      "/home/monlamai/Documents/GitHub/stt-combine-datasets/.env/lib/python3.10/site-packages/botok/textunits/bostring.py:82: UserWarning: Beware of unexpected results: input string contains the non-expanded char \"བྷ\", found in \"བྷྀ\".\n",
      "  warn(\n",
      "/home/monlamai/Documents/GitHub/stt-combine-datasets/.env/lib/python3.10/site-packages/botok/textunits/bostring.py:82: UserWarning: Beware of unexpected results: input string contains the non-expanded char \"བྷ\", found in \"བྷེ་ལ་ཀོབ་པ\".\n",
      "  warn(\n",
      "/home/monlamai/Documents/GitHub/stt-combine-datasets/.env/lib/python3.10/site-packages/botok/textunits/bostring.py:82: UserWarning: Beware of unexpected results: input string contains the non-expanded char \"བྷ\", found in \"བྷྀར་བཅ\".\n",
      "  warn(\n",
      "/home/monlamai/Documents/GitHub/stt-combine-datasets/.env/lib/python3.10/site-packages/botok/textunits/bostring.py:82: UserWarning: Beware of unexpected results: input string contains the non-expanded char \"བྷ\", found in \"བྷྀར་བཞ\".\n",
      "  warn(\n",
      "/home/monlamai/Documents/GitHub/stt-combine-datasets/.env/lib/python3.10/site-packages/botok/textunits/bostring.py:82: UserWarning: Beware of unexpected results: input string contains the non-expanded char \"བྷ\", found in \"བྷེལ་ཀོབ་ཀི\".\n",
      "  warn(\n",
      "/home/monlamai/Documents/GitHub/stt-combine-datasets/.env/lib/python3.10/site-packages/botok/textunits/bostring.py:82: UserWarning: Beware of unexpected results: input string contains the non-expanded char \"བྷ\", found in \"བྷེང་\".\n",
      "  warn(\n",
      "/home/monlamai/Documents/GitHub/stt-combine-datasets/.env/lib/python3.10/site-packages/botok/textunits/bostring.py:82: UserWarning: Beware of unexpected results: input string contains the non-expanded char \"བྷ\", found in \"བྷྀར་དག\".\n",
      "  warn(\n",
      "/home/monlamai/Documents/GitHub/stt-combine-datasets/.env/lib/python3.10/site-packages/botok/textunits/bostring.py:82: UserWarning: Beware of unexpected results: input string contains the non-expanded char \"བྷ\", found in \"བྷ་སྀཁའེཋྀ།\".\n",
      "  warn(\n",
      "/home/monlamai/Documents/GitHub/stt-combine-datasets/.env/lib/python3.10/site-packages/botok/textunits/bostring.py:82: UserWarning: Beware of unexpected results: input string contains the non-expanded char \"བྷ\", found in \"བྷི་ཨར་མང\".\n",
      "  warn(\n",
      "/home/monlamai/Documents/GitHub/stt-combine-datasets/.env/lib/python3.10/site-packages/botok/textunits/bostring.py:82: UserWarning: Beware of unexpected results: input string contains the non-expanded char \"དྷ\", found in \"དྷུ་ཆོས\".\n",
      "  warn(\n",
      "/home/monlamai/Documents/GitHub/stt-combine-datasets/.env/lib/python3.10/site-packages/botok/textunits/bostring.py:82: UserWarning: Beware of unexpected results: input string contains the non-expanded char \"བྷ\", found in \"བྷ་ས\".\n",
      "  warn(\n",
      "/home/monlamai/Documents/GitHub/stt-combine-datasets/.env/lib/python3.10/site-packages/botok/textunits/bostring.py:82: UserWarning: Beware of unexpected results: input string contains the non-expanded char \"གྷ\", found in \"གྷེ\".\n",
      "  warn(\n",
      "/home/monlamai/Documents/GitHub/stt-combine-datasets/.env/lib/python3.10/site-packages/botok/textunits/bostring.py:82: UserWarning: Beware of unexpected results: input string contains the non-expanded char \"བྷ\", found in \"བྷོལ་ད\".\n",
      "  warn(\n",
      "/home/monlamai/Documents/GitHub/stt-combine-datasets/.env/lib/python3.10/site-packages/botok/textunits/bostring.py:82: UserWarning: Beware of unexpected results: input string contains the non-expanded char \"བྷ\", found in \"བྷེགྷྀ་སྤྲད་\".\n",
      "  warn(\n",
      "/home/monlamai/Documents/GitHub/stt-combine-datasets/.env/lib/python3.10/site-packages/botok/textunits/bostring.py:82: UserWarning: Beware of unexpected results: input string contains the non-expanded char \"གྷ\", found in \"གྷྀ་སྤྲད་\".\n",
      "  warn(\n",
      "/home/monlamai/Documents/GitHub/stt-combine-datasets/.env/lib/python3.10/site-packages/botok/textunits/bostring.py:82: UserWarning: Beware of unexpected results: input string contains the non-expanded char \"གྷ\", found in \"གྷིརལ\".\n",
      "  warn(\n",
      "/home/monlamai/Documents/GitHub/stt-combine-datasets/.env/lib/python3.10/site-packages/botok/textunits/bostring.py:82: UserWarning: Beware of unexpected results: input string contains the non-expanded char \"དྷ\", found in \"དྷིསིཋྀ་ལ\".\n",
      "  warn(\n",
      "/home/monlamai/Documents/GitHub/stt-combine-datasets/.env/lib/python3.10/site-packages/botok/textunits/bostring.py:82: UserWarning: Beware of unexpected results: input string contains the non-expanded char \"བྷ\", found in \"བྷཱ་ཡ། གལ་ཡ\".\n",
      "  warn(\n",
      "/home/monlamai/Documents/GitHub/stt-combine-datasets/.env/lib/python3.10/site-packages/botok/textunits/bostring.py:82: UserWarning: Beware of unexpected results: input string contains the non-expanded char \"གྷ\", found in \"གྷོ་བ་ལ་པེ་\".\n",
      "  warn(\n",
      "/home/monlamai/Documents/GitHub/stt-combine-datasets/.env/lib/python3.10/site-packages/botok/textunits/bostring.py:82: UserWarning: Beware of unexpected results: input string contains the non-expanded char \"བྷ\", found in \"བྷེགྷྀ་ཉོས་ན\".\n",
      "  warn(\n",
      "/home/monlamai/Documents/GitHub/stt-combine-datasets/.env/lib/python3.10/site-packages/botok/textunits/bostring.py:82: UserWarning: Beware of unexpected results: input string contains the non-expanded char \"གྷ\", found in \"གྷྀ་ཉོས་ན\".\n",
      "  warn(\n",
      "/home/monlamai/Documents/GitHub/stt-combine-datasets/.env/lib/python3.10/site-packages/botok/textunits/bostring.py:82: UserWarning: Beware of unexpected results: input string contains the non-expanded char \"བྷ\", found in \"བྷ་རེས\".\n",
      "  warn(\n",
      "/home/monlamai/Documents/GitHub/stt-combine-datasets/.env/lib/python3.10/site-packages/botok/textunits/bostring.py:82: UserWarning: Beware of unexpected results: input string contains the non-expanded char \"བྷ\", found in \"བྷོཋྀ\".\n",
      "  warn(\n",
      "/home/monlamai/Documents/GitHub/stt-combine-datasets/.env/lib/python3.10/site-packages/botok/textunits/bostring.py:82: UserWarning: Beware of unexpected results: input string contains the non-expanded char \"གྷ\", found in \"གྷྀརཱན་ཧའོས\".\n",
      "  warn(\n",
      "/home/monlamai/Documents/GitHub/stt-combine-datasets/.env/lib/python3.10/site-packages/botok/textunits/bostring.py:82: UserWarning: Beware of unexpected results: input string contains the non-expanded char \"བྷ\", found in \"བྷེགྷྀ་གཅིག་\".\n",
      "  warn(\n",
      "/home/monlamai/Documents/GitHub/stt-combine-datasets/.env/lib/python3.10/site-packages/botok/textunits/bostring.py:82: UserWarning: Beware of unexpected results: input string contains the non-expanded char \"གྷ\", found in \"གྷྀ་གཅིག་\".\n",
      "  warn(\n",
      "/home/monlamai/Documents/GitHub/stt-combine-datasets/.env/lib/python3.10/site-packages/botok/textunits/bostring.py:82: UserWarning: Beware of unexpected results: input string contains the non-expanded char \"བྷ\", found in \"བྷི་ཇ\".\n",
      "  warn(\n",
      "/home/monlamai/Documents/GitHub/stt-combine-datasets/.env/lib/python3.10/site-packages/botok/textunits/bostring.py:82: UserWarning: Beware of unexpected results: input string contains the non-expanded char \"གྷ\", found in \"གྷོཌྀ་གིས་བ\".\n",
      "  warn(\n",
      "/home/monlamai/Documents/GitHub/stt-combine-datasets/.env/lib/python3.10/site-packages/botok/textunits/bostring.py:82: UserWarning: Beware of unexpected results: input string contains the non-expanded char \"བྷ\", found in \"བྷོ་སེར\".\n",
      "  warn(\n",
      "/home/monlamai/Documents/GitHub/stt-combine-datasets/.env/lib/python3.10/site-packages/botok/textunits/bostring.py:82: UserWarning: Beware of unexpected results: input string contains the non-expanded char \"བྷ\", found in \"བྷེལ་སྐ\".\n",
      "  warn(\n",
      "/home/monlamai/Documents/GitHub/stt-combine-datasets/.env/lib/python3.10/site-packages/botok/textunits/bostring.py:82: UserWarning: Beware of unexpected results: input string contains the non-expanded char \"བྷ\", found in \"བྷྀར་ལབ\".\n",
      "  warn(\n",
      "/home/monlamai/Documents/GitHub/stt-combine-datasets/.env/lib/python3.10/site-packages/botok/textunits/bostring.py:82: UserWarning: Beware of unexpected results: input string contains the non-expanded char \"གྷ\", found in \"གྷ\".\n",
      "  warn(\n",
      "/home/monlamai/Documents/GitHub/stt-combine-datasets/.env/lib/python3.10/site-packages/botok/textunits/bostring.py:82: UserWarning: Beware of unexpected results: input string contains the non-expanded char \"བྷ\", found in \"བྷཱ་ཝ་ཤུ\".\n",
      "  warn(\n",
      "/home/monlamai/Documents/GitHub/stt-combine-datasets/.env/lib/python3.10/site-packages/botok/textunits/bostring.py:82: UserWarning: Beware of unexpected results: input string contains the non-expanded char \"བྷ\", found in \"བྷསྀ་དེ་འདྲ\".\n",
      "  warn(\n",
      "/home/monlamai/Documents/GitHub/stt-combine-datasets/.env/lib/python3.10/site-packages/botok/textunits/bostring.py:82: UserWarning: Beware of unexpected results: input string contains the non-expanded char \"བྷ\", found in \"བྷའེསྀཋ\".\n",
      "  warn(\n",
      "/home/monlamai/Documents/GitHub/stt-combine-datasets/.env/lib/python3.10/site-packages/botok/textunits/bostring.py:82: UserWarning: Beware of unexpected results: input string contains the non-expanded char \"གྷ\", found in \"གྷྀ་དེ་བ\".\n",
      "  warn(\n",
      "/home/monlamai/Documents/GitHub/stt-combine-datasets/.env/lib/python3.10/site-packages/botok/textunits/bostring.py:82: UserWarning: Beware of unexpected results: input string contains the non-expanded char \"གྷ\", found in \"གྷོཌྀ་གིས་ད\".\n",
      "  warn(\n",
      "/home/monlamai/Documents/GitHub/stt-combine-datasets/.env/lib/python3.10/site-packages/botok/textunits/bostring.py:82: UserWarning: Beware of unexpected results: input string contains the non-expanded char \"བྷ\", found in \"བྷྀརྀ\".\n",
      "  warn(\n",
      "/home/monlamai/Documents/GitHub/stt-combine-datasets/.env/lib/python3.10/site-packages/botok/textunits/bostring.py:82: UserWarning: Beware of unexpected results: input string contains the non-expanded char \"བྷ\", found in \"བྷང་ལོར་རྒྱ\".\n",
      "  warn(\n",
      "/home/monlamai/Documents/GitHub/stt-combine-datasets/.env/lib/python3.10/site-packages/botok/textunits/bostring.py:82: UserWarning: Beware of unexpected results: input string contains the non-expanded char \"བྷ\", found in \"བྷའེཌྀ་ཆཱཋྀ\".\n",
      "  warn(\n",
      "/home/monlamai/Documents/GitHub/stt-combine-datasets/.env/lib/python3.10/site-packages/botok/textunits/bostring.py:82: UserWarning: Beware of unexpected results: input string contains the non-expanded char \"བྷ\", found in \"བྷ་ཊྀ་འདྲ་བ\".\n",
      "  warn(\n",
      "/home/monlamai/Documents/GitHub/stt-combine-datasets/.env/lib/python3.10/site-packages/botok/textunits/bostring.py:82: UserWarning: Beware of unexpected results: input string contains the non-expanded char \"བྷ\", found in \"བྷུར\".\n",
      "  warn(\n",
      "/home/monlamai/Documents/GitHub/stt-combine-datasets/.env/lib/python3.10/site-packages/botok/textunits/bostring.py:82: UserWarning: Beware of unexpected results: input string contains the non-expanded char \"བྷ\", found in \"བྷའེཌྀ་མེ་ན\".\n",
      "  warn(\n",
      "/home/monlamai/Documents/GitHub/stt-combine-datasets/.env/lib/python3.10/site-packages/botok/textunits/bostring.py:82: UserWarning: Beware of unexpected results: input string contains the non-expanded char \"གྷ\", found in \"གྷོལ་བ\".\n",
      "  warn(\n",
      "/home/monlamai/Documents/GitHub/stt-combine-datasets/.env/lib/python3.10/site-packages/botok/textunits/bostring.py:82: UserWarning: Beware of unexpected results: input string contains the non-expanded char \"བྷ\", found in \"བྷསྀ་ལ་\".\n",
      "  warn(\n",
      "/home/monlamai/Documents/GitHub/stt-combine-datasets/.env/lib/python3.10/site-packages/botok/textunits/bostring.py:82: UserWarning: Beware of unexpected results: input string contains the non-expanded char \"གྷ\", found in \"གྷྀལོ་བྷལ་ཝར\".\n",
      "  warn(\n",
      "/home/monlamai/Documents/GitHub/stt-combine-datasets/.env/lib/python3.10/site-packages/botok/textunits/bostring.py:82: UserWarning: Beware of unexpected results: input string contains the non-expanded char \"བྷ\", found in \"བྷལ་ཝར\".\n",
      "  warn(\n",
      "/home/monlamai/Documents/GitHub/stt-combine-datasets/.env/lib/python3.10/site-packages/botok/textunits/bostring.py:82: UserWarning: Beware of unexpected results: input string contains the non-expanded char \"བྷ\", found in \"བྷིལཱཁྀ་གྷོ\".\n",
      "  warn(\n",
      "/home/monlamai/Documents/GitHub/stt-combine-datasets/.env/lib/python3.10/site-packages/botok/textunits/bostring.py:82: UserWarning: Beware of unexpected results: input string contains the non-expanded char \"བྷ\", found in \"བྷའེསྀཋྀ། བ\".\n",
      "  warn(\n",
      "/home/monlamai/Documents/GitHub/stt-combine-datasets/.env/lib/python3.10/site-packages/botok/textunits/bostring.py:82: UserWarning: Beware of unexpected results: input string contains the non-expanded char \"བྷ\", found in \"བྷེསཋྀ་ང་རང\".\n",
      "  warn(\n",
      "/home/monlamai/Documents/GitHub/stt-combine-datasets/.env/lib/python3.10/site-packages/botok/textunits/bostring.py:82: UserWarning: Beware of unexpected results: input string contains the non-expanded char \"བྷ\", found in \"བྷི་ཋ\".\n",
      "  warn(\n",
      "/home/monlamai/Documents/GitHub/stt-combine-datasets/.env/lib/python3.10/site-packages/botok/textunits/bostring.py:82: UserWarning: Beware of unexpected results: input string contains the non-expanded char \"བྷ\", found in \"བྷྀརའ\".\n",
      "  warn(\n",
      "/home/monlamai/Documents/GitHub/stt-combine-datasets/.env/lib/python3.10/site-packages/botok/textunits/bostring.py:82: UserWarning: Beware of unexpected results: input string contains the non-expanded char \"བྷ\", found in \"བྷིལ\".\n",
      "  warn(\n",
      "/home/monlamai/Documents/GitHub/stt-combine-datasets/.env/lib/python3.10/site-packages/botok/textunits/bostring.py:82: UserWarning: Beware of unexpected results: input string contains the non-expanded char \"བྷ\", found in \"བྷོའིཁྀ་ཤོབ\".\n",
      "  warn(\n",
      "/home/monlamai/Documents/GitHub/stt-combine-datasets/.env/lib/python3.10/site-packages/botok/textunits/bostring.py:82: UserWarning: Beware of unexpected results: input string contains the non-expanded char \"བྷ\", found in \"བྷེགྷྀ་ལཱ་ཏོ\".\n",
      "  warn(\n",
      "/home/monlamai/Documents/GitHub/stt-combine-datasets/.env/lib/python3.10/site-packages/botok/textunits/bostring.py:82: UserWarning: Beware of unexpected results: input string contains the non-expanded char \"གྷ\", found in \"གྷྀ་ལཱ་ཏོ\".\n",
      "  warn(\n",
      "/home/monlamai/Documents/GitHub/stt-combine-datasets/.env/lib/python3.10/site-packages/botok/textunits/bostring.py:82: UserWarning: Beware of unexpected results: input string contains the non-expanded char \"གྷ\", found in \"གྷོ་མན་གྷ\".\n",
      "  warn(\n",
      "/home/monlamai/Documents/GitHub/stt-combine-datasets/.env/lib/python3.10/site-packages/botok/textunits/bostring.py:82: UserWarning: Beware of unexpected results: input string contains the non-expanded char \"བྷ\", found in \"བྷྀརའེཁྀ། ལ\".\n",
      "  warn(\n",
      "/home/monlamai/Documents/GitHub/stt-combine-datasets/.env/lib/python3.10/site-packages/botok/textunits/bostring.py:82: UserWarning: Beware of unexpected results: input string contains the non-expanded char \"བྷ\", found in \"བྷུལ་ལྀ། ཁྱ\".\n",
      "  warn(\n",
      "/home/monlamai/Documents/GitHub/stt-combine-datasets/.env/lib/python3.10/site-packages/botok/textunits/bostring.py:82: UserWarning: Beware of unexpected results: input string contains the non-expanded char \"བྷ\", found in \"བྷའེ\".\n",
      "  warn(\n",
      "/home/monlamai/Documents/GitHub/stt-combine-datasets/.env/lib/python3.10/site-packages/botok/textunits/bostring.py:82: UserWarning: Beware of unexpected results: input string contains the non-expanded char \"བྷ\", found in \"བྷྀལཱ\".\n",
      "  warn(\n",
      "/home/monlamai/Documents/GitHub/stt-combine-datasets/.env/lib/python3.10/site-packages/botok/textunits/bostring.py:82: UserWarning: Beware of unexpected results: input string contains the non-expanded char \"བྷ\", found in \"བྷྀརའེཁྀ་དག\".\n",
      "  warn(\n",
      "/home/monlamai/Documents/GitHub/stt-combine-datasets/.env/lib/python3.10/site-packages/botok/textunits/bostring.py:82: UserWarning: Beware of unexpected results: input string contains the non-expanded char \"བྷ\", found in \"བྷན\".\n",
      "  warn(\n",
      "/home/monlamai/Documents/GitHub/stt-combine-datasets/.env/lib/python3.10/site-packages/botok/textunits/bostring.py:82: UserWarning: Beware of unexpected results: input string contains the non-expanded char \"བྷ\", found in \"བྷྀརའེཁྀ\".\n",
      "  warn(\n",
      "/home/monlamai/Documents/GitHub/stt-combine-datasets/.env/lib/python3.10/site-packages/botok/textunits/bostring.py:82: UserWarning: Beware of unexpected results: input string contains the non-expanded char \"བྷ\", found in \"བྷོའིཁྀསྀ། \".\n",
      "  warn(\n",
      "/home/monlamai/Documents/GitHub/stt-combine-datasets/.env/lib/python3.10/site-packages/botok/textunits/bostring.py:82: UserWarning: Beware of unexpected results: input string contains the non-expanded char \"བྷ\", found in \"བྷིགྀ་དགོས་\".\n",
      "  warn(\n",
      "/home/monlamai/Documents/GitHub/stt-combine-datasets/.env/lib/python3.10/site-packages/botok/textunits/bostring.py:82: UserWarning: Beware of unexpected results: input string contains the non-expanded char \"གྷ\", found in \"གྷྀ་བཅག \".\n",
      "  warn(\n",
      "/home/monlamai/Documents/GitHub/stt-combine-datasets/.env/lib/python3.10/site-packages/botok/textunits/bostring.py:82: UserWarning: Beware of unexpected results: input string contains the non-expanded char \"བྷ\", found in \"བྷེགྷྀ་བཙོང་\".\n",
      "  warn(\n",
      "/home/monlamai/Documents/GitHub/stt-combine-datasets/.env/lib/python3.10/site-packages/botok/textunits/bostring.py:82: UserWarning: Beware of unexpected results: input string contains the non-expanded char \"གྷ\", found in \"གྷྀ་བཙོང་\".\n",
      "  warn(\n",
      "/home/monlamai/Documents/GitHub/stt-combine-datasets/.env/lib/python3.10/site-packages/botok/textunits/bostring.py:82: UserWarning: Beware of unexpected results: input string contains the non-expanded char \"བྷ\", found in \"བྷེལ་སྒ\".\n",
      "  warn(\n",
      "/home/monlamai/Documents/GitHub/stt-combine-datasets/.env/lib/python3.10/site-packages/botok/textunits/bostring.py:82: UserWarning: Beware of unexpected results: input string contains the non-expanded char \"བྷ\", found in \"བྷེགྷྀ་ལཀ་མེ\".\n",
      "  warn(\n",
      "/home/monlamai/Documents/GitHub/stt-combine-datasets/.env/lib/python3.10/site-packages/botok/textunits/bostring.py:82: UserWarning: Beware of unexpected results: input string contains the non-expanded char \"གྷ\", found in \"གྷྀ་ལཀ་མེ\".\n",
      "  warn(\n",
      "/home/monlamai/Documents/GitHub/stt-combine-datasets/.env/lib/python3.10/site-packages/botok/textunits/bostring.py:82: UserWarning: Beware of unexpected results: input string contains the non-expanded char \"བྷ\", found in \"བྷསྀ\".\n",
      "  warn(\n",
      "/home/monlamai/Documents/GitHub/stt-combine-datasets/.env/lib/python3.10/site-packages/botok/textunits/bostring.py:82: UserWarning: Beware of unexpected results: input string contains the non-expanded char \"བྷ\", found in \"བྷོཀསྀ་ལ་ལའ\".\n",
      "  warn(\n",
      "/home/monlamai/Documents/GitHub/stt-combine-datasets/.env/lib/python3.10/site-packages/botok/textunits/bostring.py:82: UserWarning: Beware of unexpected results: input string contains the non-expanded char \"གྷ\", found in \"གྷའེས\".\n",
      "  warn(\n",
      "/home/monlamai/Documents/GitHub/stt-combine-datasets/.env/lib/python3.10/site-packages/botok/textunits/bostring.py:82: UserWarning: Beware of unexpected results: input string contains the non-expanded char \"གྷ\", found in \"གྷྀརལསྀ་ཌཱའ\".\n",
      "  warn(\n",
      "/home/monlamai/Documents/GitHub/stt-combine-datasets/.env/lib/python3.10/site-packages/botok/textunits/bostring.py:82: UserWarning: Beware of unexpected results: input string contains the non-expanded char \"བྷ\", found in \"བྷིལ་ག་ཚོད་\".\n",
      "  warn(\n",
      "/home/monlamai/Documents/GitHub/stt-combine-datasets/.env/lib/python3.10/site-packages/botok/textunits/bostring.py:82: UserWarning: Beware of unexpected results: input string contains the non-expanded char \"བྷ\", found in \"བྷོཀས\".\n",
      "  warn(\n",
      "/home/monlamai/Documents/GitHub/stt-combine-datasets/.env/lib/python3.10/site-packages/botok/textunits/bostring.py:82: UserWarning: Beware of unexpected results: input string contains the non-expanded char \"བྷ\", found in \"བྷེགྷྀ་ལ་རྐུ\".\n",
      "  warn(\n",
      "/home/monlamai/Documents/GitHub/stt-combine-datasets/.env/lib/python3.10/site-packages/botok/textunits/bostring.py:82: UserWarning: Beware of unexpected results: input string contains the non-expanded char \"གྷ\", found in \"གྷྀ་ལ་རྐུ\".\n",
      "  warn(\n",
      "/home/monlamai/Documents/GitHub/stt-combine-datasets/.env/lib/python3.10/site-packages/botok/textunits/bostring.py:82: UserWarning: Beware of unexpected results: input string contains the non-expanded char \"བྷ\", found in \"བྷེགྷ\".\n",
      "  warn(\n",
      "/home/monlamai/Documents/GitHub/stt-combine-datasets/.env/lib/python3.10/site-packages/botok/textunits/bostring.py:82: UserWarning: Beware of unexpected results: input string contains the non-expanded char \"གྷ\", found in \"གྷི་ཉོ་\".\n",
      "  warn(\n",
      "/home/monlamai/Documents/GitHub/stt-combine-datasets/.env/lib/python3.10/site-packages/botok/textunits/bostring.py:82: UserWarning: Beware of unexpected results: input string contains the non-expanded char \"བྷ\", found in \"བྷྀརའེཁྀ་ལ་\".\n",
      "  warn(\n",
      "/home/monlamai/Documents/GitHub/stt-combine-datasets/.env/lib/python3.10/site-packages/botok/textunits/bostring.py:82: UserWarning: Beware of unexpected results: input string contains the non-expanded char \"བྷ\", found in \"བྷེགྷྀ་ག་འདྲ\".\n",
      "  warn(\n",
      "/home/monlamai/Documents/GitHub/stt-combine-datasets/.env/lib/python3.10/site-packages/botok/textunits/bostring.py:82: UserWarning: Beware of unexpected results: input string contains the non-expanded char \"གྷ\", found in \"གྷྀ་ག་འདྲ\".\n",
      "  warn(\n",
      "/home/monlamai/Documents/GitHub/stt-combine-datasets/.env/lib/python3.10/site-packages/botok/textunits/bostring.py:82: UserWarning: Beware of unexpected results: input string contains the non-expanded char \"བྷ\", found in \"བྷྀལོཁྀསྀ། \".\n",
      "  warn(\n",
      "/home/monlamai/Documents/GitHub/stt-combine-datasets/.env/lib/python3.10/site-packages/botok/textunits/bostring.py:82: UserWarning: Beware of unexpected results: input string contains the non-expanded char \"དྷ\", found in \"དྷིསིམ་\".\n",
      "  warn(\n",
      "/home/monlamai/Documents/GitHub/stt-combine-datasets/.env/lib/python3.10/site-packages/botok/textunits/bostring.py:82: UserWarning: Beware of unexpected results: input string contains the non-expanded char \"བྷ\", found in \"བྷིགྷྀ་བྷང་ཟེ\".\n",
      "  warn(\n",
      "/home/monlamai/Documents/GitHub/stt-combine-datasets/.env/lib/python3.10/site-packages/botok/textunits/bostring.py:82: UserWarning: Beware of unexpected results: input string contains the non-expanded char \"གྷ\", found in \"གྷྀ་བྷང་ཟེ\".\n",
      "  warn(\n",
      "/home/monlamai/Documents/GitHub/stt-combine-datasets/.env/lib/python3.10/site-packages/botok/textunits/bostring.py:82: UserWarning: Beware of unexpected results: input string contains the non-expanded char \"བྷ\", found in \"བྷང་ཟེ\".\n",
      "  warn(\n",
      "/home/monlamai/Documents/GitHub/stt-combine-datasets/.env/lib/python3.10/site-packages/botok/textunits/bostring.py:82: UserWarning: Beware of unexpected results: input string contains the non-expanded char \"ༀ\", found in \"ༀ་བཛྲ་གནྡྷ\".\n",
      "  warn(\n",
      "/home/monlamai/Documents/GitHub/stt-combine-datasets/.env/lib/python3.10/site-packages/botok/textunits/bostring.py:82: UserWarning: Beware of unexpected results: input string contains the non-expanded char \"ༀ\", found in \"ༀ་བཛྲ་པུཥྤ\".\n",
      "  warn(\n",
      "/home/monlamai/Documents/GitHub/stt-combine-datasets/.env/lib/python3.10/site-packages/botok/textunits/bostring.py:82: UserWarning: Beware of unexpected results: input string contains the non-expanded char \"ༀ\", found in \"ༀ་བཛྲ་ཨཱ་ལ\".\n",
      "  warn(\n",
      "/home/monlamai/Documents/GitHub/stt-combine-datasets/.env/lib/python3.10/site-packages/botok/textunits/bostring.py:82: UserWarning: Beware of unexpected results: input string contains the non-expanded char \"ༀ\", found in \"ༀ་སརྦ་ཏ་ཐཱ\".\n",
      "  warn(\n",
      "/home/monlamai/Documents/GitHub/stt-combine-datasets/.env/lib/python3.10/site-packages/botok/textunits/bostring.py:82: UserWarning: Beware of unexpected results: input string contains the non-expanded char \"ༀ\", found in \"ༀ་མ་ཎི་པདྨ\".\n",
      "  warn(\n",
      "/home/monlamai/Documents/GitHub/stt-combine-datasets/.env/lib/python3.10/site-packages/botok/textunits/bostring.py:82: UserWarning: Beware of unexpected results: input string contains the non-expanded char \"ཱུ\", found in \"ཱུྃ་ཧཱུྃ་ཡི\".\n",
      "  warn(\n",
      "/home/monlamai/Documents/GitHub/stt-combine-datasets/.env/lib/python3.10/site-packages/botok/textunits/bostring.py:82: UserWarning: Beware of unexpected results: input string contains the non-expanded char \"ཱུ\", found in \"ཱུྃ་ཡི\".\n",
      "  warn(\n",
      "/home/monlamai/Documents/GitHub/stt-combine-datasets/.env/lib/python3.10/site-packages/botok/textunits/bostring.py:82: UserWarning: Beware of unexpected results: input string contains the non-expanded char \"ྡྷ\", found in \"\".\n",
      "  warn(\n",
      "/home/monlamai/Documents/GitHub/stt-combine-datasets/.env/lib/python3.10/site-packages/botok/textunits/bostring.py:82: UserWarning: Beware of unexpected results: input string contains the non-expanded char \"གྷ\", found in \"གྷྀལཱསྀ\".\n",
      "  warn(\n",
      "/home/monlamai/Documents/GitHub/stt-combine-datasets/.env/lib/python3.10/site-packages/botok/textunits/bostring.py:82: UserWarning: Beware of unexpected results: input string contains the non-expanded char \"བྷ\", found in \"བྷསྀ་དེར\".\n",
      "  warn(\n",
      "/home/monlamai/Documents/GitHub/stt-combine-datasets/.env/lib/python3.10/site-packages/botok/textunits/bostring.py:82: UserWarning: Beware of unexpected results: input string contains the non-expanded char \"བྷ\", found in \"བྷསྀ་སྒོ བྷས\".\n",
      "  warn(\n",
      "/home/monlamai/Documents/GitHub/stt-combine-datasets/.env/lib/python3.10/site-packages/botok/textunits/bostring.py:82: UserWarning: Beware of unexpected results: input string contains the non-expanded char \"བྷ\", found in \"བྷས\".\n",
      "  warn(\n",
      "/home/monlamai/Documents/GitHub/stt-combine-datasets/.env/lib/python3.10/site-packages/botok/textunits/bostring.py:82: UserWarning: Beware of unexpected results: input string contains the non-expanded char \"བྷ\", found in \"བྷོརཌྀ་\".\n",
      "  warn(\n",
      "/home/monlamai/Documents/GitHub/stt-combine-datasets/.env/lib/python3.10/site-packages/botok/textunits/bostring.py:82: UserWarning: Beware of unexpected results: input string contains the non-expanded char \"གྷ\", found in \"གྷྀལཱསྀ་བཅག\".\n",
      "  warn(\n",
      "/home/monlamai/Documents/GitHub/stt-combine-datasets/.env/lib/python3.10/site-packages/botok/textunits/bostring.py:82: UserWarning: Beware of unexpected results: input string contains the non-expanded char \"བྷ\", found in \"བྷྀལུ། བྷྀལུ\".\n",
      "  warn(\n",
      "/home/monlamai/Documents/GitHub/stt-combine-datasets/.env/lib/python3.10/site-packages/botok/textunits/bostring.py:82: UserWarning: Beware of unexpected results: input string contains the non-expanded char \"བྷ\", found in \"བྷྀལུ\".\n",
      "  warn(\n",
      "/home/monlamai/Documents/GitHub/stt-combine-datasets/.env/lib/python3.10/site-packages/botok/textunits/bostring.py:82: UserWarning: Beware of unexpected results: input string contains the non-expanded char \"བྷ\", found in \"བྷིསྀ་\".\n",
      "  warn(\n",
      "/home/monlamai/Documents/GitHub/stt-combine-datasets/.env/lib/python3.10/site-packages/botok/textunits/bostring.py:82: UserWarning: Beware of unexpected results: input string contains the non-expanded char \"བྷ\", found in \"བྷུརཐྀ་ཌའེ།\".\n",
      "  warn(\n",
      "/home/monlamai/Documents/GitHub/stt-combine-datasets/.env/lib/python3.10/site-packages/botok/textunits/bostring.py:82: UserWarning: Beware of unexpected results: input string contains the non-expanded char \"བྷ\", found in \"བྷྀརའོཤི་\".\n",
      "  warn(\n",
      "/home/monlamai/Documents/GitHub/stt-combine-datasets/.env/lib/python3.10/site-packages/botok/textunits/bostring.py:82: UserWarning: Beware of unexpected results: input string contains the non-expanded char \"བྷ\", found in \"བྷེལ་\".\n",
      "  warn(\n",
      "/home/monlamai/Documents/GitHub/stt-combine-datasets/.env/lib/python3.10/site-packages/botok/textunits/bostring.py:82: UserWarning: Beware of unexpected results: input string contains the non-expanded char \"གྷ\", found in \"གྷི\".\n",
      "  warn(\n",
      "/home/monlamai/Documents/GitHub/stt-combine-datasets/.env/lib/python3.10/site-packages/botok/textunits/bostring.py:82: UserWarning: Beware of unexpected results: input string contains the non-expanded char \"བྷ\", found in \"བྷདགྷྀ་ལཱ་དང\".\n",
      "  warn(\n",
      "/home/monlamai/Documents/GitHub/stt-combine-datasets/.env/lib/python3.10/site-packages/botok/textunits/bostring.py:82: UserWarning: Beware of unexpected results: input string contains the non-expanded char \"གྷ\", found in \"གྷྀ་ལཱ་དང\".\n",
      "  warn(\n",
      "/home/monlamai/Documents/GitHub/stt-combine-datasets/.env/lib/python3.10/site-packages/botok/textunits/bostring.py:82: UserWarning: Beware of unexpected results: input string contains the non-expanded char \"བྷ\", found in \"བྷེལ་ཌིང་ཐོ\".\n",
      "  warn(\n",
      "/home/monlamai/Documents/GitHub/stt-combine-datasets/.env/lib/python3.10/site-packages/botok/textunits/bostring.py:82: UserWarning: Beware of unexpected results: input string contains the non-expanded char \"བྷ\", found in \"བྷྀརཱན་ཇ\".\n",
      "  warn(\n",
      "/home/monlamai/Documents/GitHub/stt-combine-datasets/.env/lib/python3.10/site-packages/botok/textunits/bostring.py:82: UserWarning: Beware of unexpected results: input string contains the non-expanded char \"གྷ\", found in \"གྷོའུ་གྷེལ་འ\".\n",
      "  warn(\n",
      "/home/monlamai/Documents/GitHub/stt-combine-datasets/.env/lib/python3.10/site-packages/botok/textunits/bostring.py:82: UserWarning: Beware of unexpected results: input string contains the non-expanded char \"གྷ\", found in \"གྷེལ་འ\".\n",
      "  warn(\n",
      "/home/monlamai/Documents/GitHub/stt-combine-datasets/.env/lib/python3.10/site-packages/botok/textunits/bostring.py:82: UserWarning: Beware of unexpected results: input string contains the non-expanded char \"དྷ\", found in \"དྷན་སཱ་\".\n",
      "  warn(\n",
      "/home/monlamai/Documents/GitHub/stt-combine-datasets/.env/lib/python3.10/site-packages/botok/textunits/bostring.py:82: UserWarning: Beware of unexpected results: input string contains the non-expanded char \"བྷ\", found in \"བྷྀརའེཁྀ་དེ\".\n",
      "  warn(\n",
      "/home/monlamai/Documents/GitHub/stt-combine-datasets/.env/lib/python3.10/site-packages/botok/textunits/bostring.py:82: UserWarning: Beware of unexpected results: input string contains the non-expanded char \"ཌྷ\", found in \"\".\n",
      "  warn(\n",
      "/home/monlamai/Documents/GitHub/stt-combine-datasets/.env/lib/python3.10/site-packages/botok/textunits/bostring.py:82: UserWarning: Beware of unexpected results: input string contains the non-expanded char \"གྷ\", found in \"གྷྀ་དེ་འ\".\n",
      "  warn(\n",
      "/home/monlamai/Documents/GitHub/stt-combine-datasets/.env/lib/python3.10/site-packages/botok/textunits/bostring.py:82: UserWarning: Beware of unexpected results: input string contains the non-expanded char \"ཱི\", found in \"\".\n",
      "  warn(\n",
      "/home/monlamai/Documents/GitHub/stt-combine-datasets/.env/lib/python3.10/site-packages/botok/textunits/bostring.py:82: UserWarning: Beware of unexpected results: input string contains the non-expanded char \"བྷ\", found in \"བྷོཡེ་ཧོ་སྀ\".\n",
      "  warn(\n",
      "/home/monlamai/Documents/GitHub/stt-combine-datasets/.env/lib/python3.10/site-packages/botok/textunits/bostring.py:82: UserWarning: Beware of unexpected results: input string contains the non-expanded char \"གྷ\", found in \"གྷྀར། ཚ\".\n",
      "  warn(\n",
      "/home/monlamai/Documents/GitHub/stt-combine-datasets/.env/lib/python3.10/site-packages/botok/textunits/bostring.py:82: UserWarning: Beware of unexpected results: input string contains the non-expanded char \"བྷ\", found in \"བྷའེཌྀ་ཧྀབྷ\".\n",
      "  warn(\n",
      "/home/monlamai/Documents/GitHub/stt-combine-datasets/.env/lib/python3.10/site-packages/botok/textunits/bostring.py:82: UserWarning: Beware of unexpected results: input string contains the non-expanded char \"ཱྀ\", found in \"\".\n",
      "  warn(\n",
      "/home/monlamai/Documents/GitHub/stt-combine-datasets/.env/lib/python3.10/site-packages/botok/textunits/bostring.py:82: UserWarning: Beware of unexpected results: input string contains the non-expanded char \"བྷ\", found in \"བྷཐྀ་རཱོམ\".\n",
      "  warn(\n",
      "/home/monlamai/Documents/GitHub/stt-combine-datasets/.env/lib/python3.10/site-packages/botok/textunits/bostring.py:82: UserWarning: Beware of unexpected results: input string contains the non-expanded char \"གྷ\", found in \"གྷྀར་རའེ\".\n",
      "  warn(\n",
      "/home/monlamai/Documents/GitHub/stt-combine-datasets/.env/lib/python3.10/site-packages/botok/textunits/bostring.py:82: UserWarning: Beware of unexpected results: input string contains the non-expanded char \"བྷ\", found in \"བྷ་ཋྀར་ཕིལའ\".\n",
      "  warn(\n",
      "/home/monlamai/Documents/GitHub/stt-combine-datasets/.env/lib/python3.10/site-packages/botok/textunits/bostring.py:82: UserWarning: Beware of unexpected results: input string contains the non-expanded char \"བྷ\", found in \"བྷཱམ་བ\".\n",
      "  warn(\n",
      "/home/monlamai/Documents/GitHub/stt-combine-datasets/.env/lib/python3.10/site-packages/botok/textunits/bostring.py:82: UserWarning: Beware of unexpected results: input string contains the non-expanded char \"བྷ\", found in \"བྷན་ཌའེར\".\n",
      "  warn(\n",
      "/home/monlamai/Documents/GitHub/stt-combine-datasets/.env/lib/python3.10/site-packages/botok/textunits/bostring.py:82: UserWarning: Beware of unexpected results: input string contains the non-expanded char \"བྷ\", found in \"བྷུརཐྀ་\".\n",
      "  warn(\n",
      "/home/monlamai/Documents/GitHub/stt-combine-datasets/.env/lib/python3.10/site-packages/botok/textunits/bostring.py:82: UserWarning: Beware of unexpected results: input string contains the non-expanded char \"བྷ\", found in \"བྷིཆྀ། འདྲ་\".\n",
      "  warn(\n",
      "/home/monlamai/Documents/GitHub/stt-combine-datasets/.env/lib/python3.10/site-packages/botok/textunits/bostring.py:82: UserWarning: Beware of unexpected results: input string contains the non-expanded char \"བྷ\", found in \"བྷེ་ཋྀ་རའེ་\".\n",
      "  warn(\n",
      "/home/monlamai/Documents/GitHub/stt-combine-datasets/.env/lib/python3.10/site-packages/botok/textunits/bostring.py:82: UserWarning: Beware of unexpected results: input string contains the non-expanded char \"བྷ\", found in \"བྷའེསྀཋྀ\".\n",
      "  warn(\n",
      "/home/monlamai/Documents/GitHub/stt-combine-datasets/.env/lib/python3.10/site-packages/botok/textunits/bostring.py:82: UserWarning: Beware of unexpected results: input string contains the non-expanded char \"བྷ\", found in \"བྷུལ་ལའེཋྀ་\".\n",
      "  warn(\n",
      "/home/monlamai/Documents/GitHub/stt-combine-datasets/.env/lib/python3.10/site-packages/botok/textunits/bostring.py:82: UserWarning: Beware of unexpected results: input string contains the non-expanded char \"བྷ\", found in \"བྷྀརའེཁྀ་ད་\".\n",
      "  warn(\n",
      "/home/monlamai/Documents/GitHub/stt-combine-datasets/.env/lib/python3.10/site-packages/botok/textunits/bostring.py:82: UserWarning: Beware of unexpected results: input string contains the non-expanded char \"བྷ\", found in \"བྷཋྀམཱན། བྷཋ\".\n",
      "  warn(\n",
      "/home/monlamai/Documents/GitHub/stt-combine-datasets/.env/lib/python3.10/site-packages/botok/textunits/bostring.py:82: UserWarning: Beware of unexpected results: input string contains the non-expanded char \"བྷ\", found in \"བྷཋ\".\n",
      "  warn(\n",
      "/home/monlamai/Documents/GitHub/stt-combine-datasets/.env/lib/python3.10/site-packages/botok/textunits/bostring.py:82: UserWarning: Beware of unexpected results: input string contains the non-expanded char \"བྷ\", found in \"བྷེགྷྀ\".\n",
      "  warn(\n",
      "/home/monlamai/Documents/GitHub/stt-combine-datasets/.env/lib/python3.10/site-packages/botok/textunits/bostring.py:82: UserWarning: Beware of unexpected results: input string contains the non-expanded char \"བྷ\", found in \"བྷྀར་དྲ\".\n",
      "  warn(\n",
      "/home/monlamai/Documents/GitHub/stt-combine-datasets/.env/lib/python3.10/site-packages/botok/textunits/bostring.py:82: UserWarning: Beware of unexpected results: input string contains the non-expanded char \"བྷ\", found in \"བྷེ་ལ་\".\n",
      "  warn(\n",
      "/home/monlamai/Documents/GitHub/stt-combine-datasets/.env/lib/python3.10/site-packages/botok/textunits/bostring.py:82: UserWarning: Beware of unexpected results: input string contains the non-expanded char \"བྷ\", found in \"བྷྀལཱཁྀ་བྷེའ\".\n",
      "  warn(\n",
      "/home/monlamai/Documents/GitHub/stt-combine-datasets/.env/lib/python3.10/site-packages/botok/textunits/bostring.py:82: UserWarning: Beware of unexpected results: input string contains the non-expanded char \"བྷ\", found in \"བྷེའ\".\n",
      "  warn(\n",
      "/home/monlamai/Documents/GitHub/stt-combine-datasets/.env/lib/python3.10/site-packages/botok/textunits/bostring.py:82: UserWarning: Beware of unexpected results: input string contains the non-expanded char \"བྷ\", found in \"བྷྀརའེཌྀ། འ\".\n",
      "  warn(\n",
      "/home/monlamai/Documents/GitHub/stt-combine-datasets/.env/lib/python3.10/site-packages/botok/textunits/bostring.py:82: UserWarning: Beware of unexpected results: input string contains the non-expanded char \"བྷ\", found in \"བྷྀར་ག་\".\n",
      "  warn(\n",
      "/home/monlamai/Documents/GitHub/stt-combine-datasets/.env/lib/python3.10/site-packages/botok/textunits/bostring.py:82: UserWarning: Beware of unexpected results: input string contains the non-expanded char \"གྷ\", found in \"གྷི་ཋཱར་བཏང\".\n",
      "  warn(\n",
      "/home/monlamai/Documents/GitHub/stt-combine-datasets/.env/lib/python3.10/site-packages/botok/textunits/bostring.py:82: UserWarning: Beware of unexpected results: input string contains the non-expanded char \"བྷ\", found in \"བྷ་ཋྀར་ཧྥིལ\".\n",
      "  warn(\n",
      "/home/monlamai/Documents/GitHub/stt-combine-datasets/.env/lib/python3.10/site-packages/botok/textunits/bostring.py:82: UserWarning: Beware of unexpected results: input string contains the non-expanded char \"བྷ\", found in \"བྷེགྷྀ་ལ་ཡོད\".\n",
      "  warn(\n",
      "/home/monlamai/Documents/GitHub/stt-combine-datasets/.env/lib/python3.10/site-packages/botok/textunits/bostring.py:82: UserWarning: Beware of unexpected results: input string contains the non-expanded char \"གྷ\", found in \"གྷྀ་ལ་ཡོད\".\n",
      "  warn(\n",
      "/home/monlamai/Documents/GitHub/stt-combine-datasets/.env/lib/python3.10/site-packages/botok/textunits/bostring.py:82: UserWarning: Beware of unexpected results: input string contains the non-expanded char \"གྷ\", found in \"གྷི་ས\".\n",
      "  warn(\n",
      "/home/monlamai/Documents/GitHub/stt-combine-datasets/.env/lib/python3.10/site-packages/botok/textunits/bostring.py:82: UserWarning: Beware of unexpected results: input string contains the non-expanded char \"གྷ\", found in \"གྷྀར་བས\".\n",
      "  warn(\n",
      "/home/monlamai/Documents/GitHub/stt-combine-datasets/.env/lib/python3.10/site-packages/botok/textunits/bostring.py:82: UserWarning: Beware of unexpected results: input string contains the non-expanded char \"གྷ\", found in \"གྷྀར་དེ\".\n",
      "  warn(\n",
      "/home/monlamai/Documents/GitHub/stt-combine-datasets/.env/lib/python3.10/site-packages/botok/textunits/bostring.py:82: UserWarning: Beware of unexpected results: input string contains the non-expanded char \"བྷ\", found in \"བྷེ\".\n",
      "  warn(\n",
      "/home/monlamai/Documents/GitHub/stt-combine-datasets/.env/lib/python3.10/site-packages/botok/textunits/bostring.py:82: UserWarning: Beware of unexpected results: input string contains the non-expanded char \"བྷ\", found in \"བྷེ་རྒ\".\n",
      "  warn(\n",
      "/home/monlamai/Documents/GitHub/stt-combine-datasets/.env/lib/python3.10/site-packages/botok/textunits/bostring.py:82: UserWarning: Beware of unexpected results: input string contains the non-expanded char \"བྷ\", found in \"བྷིག\".\n",
      "  warn(\n",
      "/home/monlamai/Documents/GitHub/stt-combine-datasets/.env/lib/python3.10/site-packages/botok/textunits/bostring.py:82: UserWarning: Beware of unexpected results: input string contains the non-expanded char \"ྦྷ\", found in \"ྦྷ་ན\".\n",
      "  warn(\n",
      "/home/monlamai/Documents/GitHub/stt-combine-datasets/.env/lib/python3.10/site-packages/botok/textunits/bostring.py:82: UserWarning: Beware of unexpected results: input string contains the non-expanded char \"ྦྷ\", found in \"\".\n",
      "  warn(\n",
      "/home/monlamai/Documents/GitHub/stt-combine-datasets/.env/lib/python3.10/site-packages/botok/textunits/bostring.py:82: UserWarning: Beware of unexpected results: input string contains the non-expanded char \"བྷ\", found in \"བྷ་ཝ་\".\n",
      "  warn(\n",
      "/home/monlamai/Documents/GitHub/stt-combine-datasets/.env/lib/python3.10/site-packages/botok/textunits/bostring.py:82: UserWarning: Beware of unexpected results: input string contains the non-expanded char \"བྷ\", found in \"བྷུད་ཡ་ར་ཛ་\".\n",
      "  warn(\n",
      "/home/monlamai/Documents/GitHub/stt-combine-datasets/.env/lib/python3.10/site-packages/botok/textunits/bostring.py:82: UserWarning: Beware of unexpected results: input string contains the non-expanded char \"དྷ\", found in \"དྷེ་སུ་དྷེ་\".\n",
      "  warn(\n",
      "/home/monlamai/Documents/GitHub/stt-combine-datasets/.env/lib/python3.10/site-packages/botok/textunits/bostring.py:82: UserWarning: Beware of unexpected results: input string contains the non-expanded char \"ཷ\", found in \"ཷ་ཡ་ཨུ་པ་\".\n",
      "  warn(\n",
      "/home/monlamai/Documents/GitHub/stt-combine-datasets/.env/lib/python3.10/site-packages/botok/textunits/bostring.py:82: UserWarning: Beware of unexpected results: input string contains the non-expanded char \"ཱུ\", found in \"ཱུ། ཁོང་ཤ་\".\n",
      "  warn(\n",
      "/home/monlamai/Documents/GitHub/stt-combine-datasets/.env/lib/python3.10/site-packages/botok/textunits/bostring.py:82: UserWarning: Beware of unexpected results: input string contains the non-expanded char \"གྷ\", found in \"གྷི་རེ་སི་ག\".\n",
      "  warn(\n",
      "/home/monlamai/Documents/GitHub/stt-combine-datasets/.env/lib/python3.10/site-packages/botok/textunits/bostring.py:82: UserWarning: Beware of unexpected results: input string contains the non-expanded char \"བྷ\", found in \"བྷར་ཧ་མ་བེད\".\n",
      "  warn(\n",
      "/home/monlamai/Documents/GitHub/stt-combine-datasets/.env/lib/python3.10/site-packages/botok/textunits/bostring.py:82: UserWarning: Beware of unexpected results: input string contains the non-expanded char \"གྷ\", found in \"གྷ་\".\n",
      "  warn(\n",
      "/home/monlamai/Documents/GitHub/stt-combine-datasets/.env/lib/python3.10/site-packages/botok/textunits/bostring.py:82: UserWarning: Beware of unexpected results: input string contains the non-expanded char \"གྷ\", found in \"གྷ་ད་ར་བ་ན་\".\n",
      "  warn(\n",
      "/home/monlamai/Documents/GitHub/stt-combine-datasets/.env/lib/python3.10/site-packages/botok/textunits/bostring.py:82: UserWarning: Beware of unexpected results: input string contains the non-expanded char \"གྷ\", found in \"གྷི་རི\".\n",
      "  warn(\n",
      "/home/monlamai/Documents/GitHub/stt-combine-datasets/.env/lib/python3.10/site-packages/botok/textunits/bostring.py:82: UserWarning: Beware of unexpected results: input string contains the non-expanded char \"ༀ\", found in \"ༀ་མུ་ནེ་མུ\".\n",
      "  warn(\n",
      "/home/monlamai/Documents/GitHub/stt-combine-datasets/.env/lib/python3.10/site-packages/botok/textunits/bostring.py:82: UserWarning: Beware of unexpected results: input string contains the non-expanded char \"ༀ\", found in \"ༀ་སྭ་བྷཱ་\".\n",
      "  warn(\n",
      "/home/monlamai/Documents/GitHub/stt-combine-datasets/.env/lib/python3.10/site-packages/botok/textunits/bostring.py:82: UserWarning: Beware of unexpected results: input string contains the non-expanded char \"ༀ\", found in \"ༀ་བཛྲ་བྷུ་\".\n",
      "  warn(\n",
      "/home/monlamai/Documents/GitHub/stt-combine-datasets/.env/lib/python3.10/site-packages/botok/textunits/bostring.py:82: UserWarning: Beware of unexpected results: input string contains the non-expanded char \"བྷ\", found in \"བྷོལ་གཉིས་ག\".\n",
      "  warn(\n",
      "/home/monlamai/Documents/GitHub/stt-combine-datasets/.env/lib/python3.10/site-packages/botok/textunits/bostring.py:82: UserWarning: Beware of unexpected results: input string contains the non-expanded char \"བྷ\", found in \"བྷསྀ་ནང་ལོག\".\n",
      "  warn(\n",
      "/home/monlamai/Documents/GitHub/stt-combine-datasets/.env/lib/python3.10/site-packages/botok/textunits/bostring.py:82: UserWarning: Beware of unexpected results: input string contains the non-expanded char \"བྷ\", found in \"བྷྀར་གཅ\".\n",
      "  warn(\n",
      "/home/monlamai/Documents/GitHub/stt-combine-datasets/.env/lib/python3.10/site-packages/botok/textunits/bostring.py:82: UserWarning: Beware of unexpected results: input string contains the non-expanded char \"གྷ\", found in \"གྷྀ་རྗཱསྀ\".\n",
      "  warn(\n",
      "/home/monlamai/Documents/GitHub/stt-combine-datasets/.env/lib/python3.10/site-packages/botok/textunits/bostring.py:82: UserWarning: Beware of unexpected results: input string contains the non-expanded char \"གྷ\", found in \"གྷའེསྀ་ཉུང་\".\n",
      "  warn(\n",
      "/home/monlamai/Documents/GitHub/stt-combine-datasets/.env/lib/python3.10/site-packages/botok/textunits/bostring.py:82: UserWarning: Beware of unexpected results: input string contains the non-expanded char \"བྷ\", found in \"བྷུ་ཏི་བཞིན\".\n",
      "  warn(\n",
      "/home/monlamai/Documents/GitHub/stt-combine-datasets/.env/lib/python3.10/site-packages/botok/textunits/bostring.py:82: UserWarning: Beware of unexpected results: input string contains the non-expanded char \"བྷ\", found in \"བྷ་ནུཀྵའི་ཡ\".\n",
      "  warn(\n",
      "/home/monlamai/Documents/GitHub/stt-combine-datasets/.env/lib/python3.10/site-packages/botok/textunits/bostring.py:82: UserWarning: Beware of unexpected results: input string contains the non-expanded char \"བྷ\", found in \"བྷུརཐ\".\n",
      "  warn(\n",
      "/home/monlamai/Documents/GitHub/stt-combine-datasets/.env/lib/python3.10/site-packages/botok/textunits/bostring.py:82: UserWarning: Beware of unexpected results: input string contains the non-expanded char \"བྷ\", found in \"བྷོལ་\".\n",
      "  warn(\n",
      "/home/monlamai/Documents/GitHub/stt-combine-datasets/.env/lib/python3.10/site-packages/botok/textunits/bostring.py:82: UserWarning: Beware of unexpected results: input string contains the non-expanded char \"བྷ\", found in \"བྷདགྷྀ་\".\n",
      "  warn(\n",
      "/home/monlamai/Documents/GitHub/stt-combine-datasets/.env/lib/python3.10/site-packages/botok/textunits/bostring.py:82: UserWarning: Beware of unexpected results: input string contains the non-expanded char \"བྷ\", found in \"བྷོཡེ\".\n",
      "  warn(\n",
      "/home/monlamai/Documents/GitHub/stt-combine-datasets/.env/lib/python3.10/site-packages/botok/textunits/bostring.py:82: UserWarning: Beware of unexpected results: input string contains the non-expanded char \"གྷ\", found in \"གྷྀརེན་བྷོའི\".\n",
      "  warn(\n",
      "/home/monlamai/Documents/GitHub/stt-combine-datasets/.env/lib/python3.10/site-packages/botok/textunits/bostring.py:82: UserWarning: Beware of unexpected results: input string contains the non-expanded char \"བྷ\", found in \"བྷོའི\".\n",
      "  warn(\n",
      "/home/monlamai/Documents/GitHub/stt-combine-datasets/.env/lib/python3.10/site-packages/botok/textunits/bostring.py:82: UserWarning: Beware of unexpected results: input string contains the non-expanded char \"གྷ\", found in \"གྷམ་ག\".\n",
      "  warn(\n",
      "/home/monlamai/Documents/GitHub/stt-combine-datasets/.env/lib/python3.10/site-packages/botok/textunits/bostring.py:82: UserWarning: Beware of unexpected results: input string contains the non-expanded char \"བྷ\", found in \"བྷའེསྀ་བྷོལ་\".\n",
      "  warn(\n",
      "/home/monlamai/Documents/GitHub/stt-combine-datasets/.env/lib/python3.10/site-packages/botok/textunits/bostring.py:82: UserWarning: Beware of unexpected results: input string contains the non-expanded char \"བྷ\", found in \"བྷྀརའེཌྀ་ཟ་\".\n",
      "  warn(\n",
      "/home/monlamai/Documents/GitHub/stt-combine-datasets/.env/lib/python3.10/site-packages/botok/textunits/bostring.py:82: UserWarning: Beware of unexpected results: input string contains the non-expanded char \"བྷ\", found in \"བྷུརཐྀ་ཌཱ\".\n",
      "  warn(\n",
      "/home/monlamai/Documents/GitHub/stt-combine-datasets/.env/lib/python3.10/site-packages/botok/textunits/bostring.py:82: UserWarning: Beware of unexpected results: input string contains the non-expanded char \"བྷ\", found in \"བྷི་ཡོད་\".\n",
      "  warn(\n",
      "/home/monlamai/Documents/GitHub/stt-combine-datasets/.env/lib/python3.10/site-packages/botok/textunits/bostring.py:82: UserWarning: Beware of unexpected results: input string contains the non-expanded char \"བྷ\", found in \"བྷྀརའེཌྀ་ཨོ\".\n",
      "  warn(\n",
      "/home/monlamai/Documents/GitHub/stt-combine-datasets/.env/lib/python3.10/site-packages/botok/textunits/bostring.py:82: UserWarning: Beware of unexpected results: input string contains the non-expanded char \"བྷ\", found in \"བྷུར་གྷྀ\".\n",
      "  warn(\n",
      "/home/monlamai/Documents/GitHub/stt-combine-datasets/.env/lib/python3.10/site-packages/botok/textunits/bostring.py:82: UserWarning: Beware of unexpected results: input string contains the non-expanded char \"བྷ\", found in \"བྷྀརའེཌྀ་ཨེ\".\n",
      "  warn(\n",
      "/home/monlamai/Documents/GitHub/stt-combine-datasets/.env/lib/python3.10/site-packages/botok/textunits/bostring.py:82: UserWarning: Beware of unexpected results: input string contains the non-expanded char \"བྷ\", found in \"བྷྀརའེཌྀ་དེ\".\n",
      "  warn(\n",
      "/home/monlamai/Documents/GitHub/stt-combine-datasets/.env/lib/python3.10/site-packages/botok/textunits/bostring.py:82: UserWarning: Beware of unexpected results: input string contains the non-expanded char \"བྷ\", found in \"བྷུར་གྷྀར\".\n",
      "  warn(\n",
      "/home/monlamai/Documents/GitHub/stt-combine-datasets/.env/lib/python3.10/site-packages/botok/textunits/bostring.py:82: UserWarning: Beware of unexpected results: input string contains the non-expanded char \"གྷ\", found in \"གྷྀར\".\n",
      "  warn(\n",
      "/home/monlamai/Documents/GitHub/stt-combine-datasets/.env/lib/python3.10/site-packages/botok/textunits/bostring.py:82: UserWarning: Beware of unexpected results: input string contains the non-expanded char \"བྷ\", found in \"བྷུར་གྷྀར་\".\n",
      "  warn(\n",
      "/home/monlamai/Documents/GitHub/stt-combine-datasets/.env/lib/python3.10/site-packages/botok/textunits/bostring.py:82: UserWarning: Beware of unexpected results: input string contains the non-expanded char \"གྷ\", found in \"གྷྀར་\".\n",
      "  warn(\n",
      "/home/monlamai/Documents/GitHub/stt-combine-datasets/.env/lib/python3.10/site-packages/botok/textunits/bostring.py:82: UserWarning: Beware of unexpected results: input string contains the non-expanded char \"བྷ\", found in \"བྷ་སྀཁའེ་བླ\".\n",
      "  warn(\n",
      "/home/monlamai/Documents/GitHub/stt-combine-datasets/.env/lib/python3.10/site-packages/botok/textunits/bostring.py:82: UserWarning: Beware of unexpected results: input string contains the non-expanded char \"བྷ\", found in \"བྷ་སྀཁའེ་དེ\".\n",
      "  warn(\n",
      "/home/monlamai/Documents/GitHub/stt-combine-datasets/.env/lib/python3.10/site-packages/botok/textunits/bostring.py:82: UserWarning: Beware of unexpected results: input string contains the non-expanded char \"བྷ\", found in \"བྷུར་གྷྀར་ཚ་\".\n",
      "  warn(\n",
      "/home/monlamai/Documents/GitHub/stt-combine-datasets/.env/lib/python3.10/site-packages/botok/textunits/bostring.py:82: UserWarning: Beware of unexpected results: input string contains the non-expanded char \"གྷ\", found in \"གྷྀར་ཚ་\".\n",
      "  warn(\n",
      "/home/monlamai/Documents/GitHub/stt-combine-datasets/.env/lib/python3.10/site-packages/botok/textunits/bostring.py:82: UserWarning: Beware of unexpected results: input string contains the non-expanded char \"གྷ\", found in \"གྷེལ་ལི\".\n",
      "  warn(\n",
      "/home/monlamai/Documents/GitHub/stt-combine-datasets/.env/lib/python3.10/site-packages/botok/textunits/bostring.py:82: UserWarning: Beware of unexpected results: input string contains the non-expanded char \"བྷ\", found in \"བྷེར་མ\".\n",
      "  warn(\n",
      "/home/monlamai/Documents/GitHub/stt-combine-datasets/.env/lib/python3.10/site-packages/botok/textunits/bostring.py:82: UserWarning: Beware of unexpected results: input string contains the non-expanded char \"བྷ\", found in \"བྷྀལཱཁྀ་བྷེ\".\n",
      "  warn(\n",
      "/home/monlamai/Documents/GitHub/stt-combine-datasets/.env/lib/python3.10/site-packages/botok/textunits/bostring.py:82: UserWarning: Beware of unexpected results: input string contains the non-expanded char \"གྷ\", found in \"གྷོ་ཧྥྀལའེཋ\".\n",
      "  warn(\n",
      "/home/monlamai/Documents/GitHub/stt-combine-datasets/.env/lib/python3.10/site-packages/botok/textunits/bostring.py:82: UserWarning: Beware of unexpected results: input string contains the non-expanded char \"བྷ\", found in \"བྷེརཋྀ་ག\".\n",
      "  warn(\n",
      "/home/monlamai/Documents/GitHub/stt-combine-datasets/.env/lib/python3.10/site-packages/botok/textunits/bostring.py:82: UserWarning: Beware of unexpected results: input string contains the non-expanded char \"གྷ\", found in \"གྷཱ་\".\n",
      "  warn(\n",
      "/home/monlamai/Documents/GitHub/stt-combine-datasets/.env/lib/python3.10/site-packages/botok/textunits/bostring.py:82: UserWarning: Beware of unexpected results: input string contains the non-expanded char \"བྷ\", found in \"བྷྀལཱཁྀ་\".\n",
      "  warn(\n",
      "/home/monlamai/Documents/GitHub/stt-combine-datasets/.env/lib/python3.10/site-packages/botok/textunits/bostring.py:82: UserWarning: Beware of unexpected results: input string contains the non-expanded char \"བྷ\", found in \"བྷཡེ་ལབ་རེད\".\n",
      "  warn(\n",
      "/home/monlamai/Documents/GitHub/stt-combine-datasets/.env/lib/python3.10/site-packages/botok/textunits/bostring.py:82: UserWarning: Beware of unexpected results: input string contains the non-expanded char \"བྷ\", found in \"བྷུརཐྀ་ཌའེ་\".\n",
      "  warn(\n",
      "/home/monlamai/Documents/GitHub/stt-combine-datasets/.env/lib/python3.10/site-packages/botok/textunits/bostring.py:82: UserWarning: Beware of unexpected results: input string contains the non-expanded char \"བྷ\", found in \"བྷལ་ཌིང་ནང་\".\n",
      "  warn(\n",
      "/home/monlamai/Documents/GitHub/stt-combine-datasets/.env/lib/python3.10/site-packages/botok/textunits/bostring.py:82: UserWarning: Beware of unexpected results: input string contains the non-expanded char \"དྷ\", found in \"དྷི་ཀ་ཅ\".\n",
      "  warn(\n",
      "/home/monlamai/Documents/GitHub/stt-combine-datasets/.env/lib/python3.10/site-packages/botok/textunits/bostring.py:82: UserWarning: Beware of unexpected results: input string contains the non-expanded char \"དྷ\", found in \"དྷི་གཅི\".\n",
      "  warn(\n",
      "/home/monlamai/Documents/GitHub/stt-combine-datasets/.env/lib/python3.10/site-packages/botok/textunits/bostring.py:82: UserWarning: Beware of unexpected results: input string contains the non-expanded char \"བྷ\", found in \"བྷྀརའེཁ\".\n",
      "  warn(\n",
      "/home/monlamai/Documents/GitHub/stt-combine-datasets/.env/lib/python3.10/site-packages/botok/textunits/bostring.py:82: UserWarning: Beware of unexpected results: input string contains the non-expanded char \"བྷ\", found in \"བྷེའུ་ཁ\".\n",
      "  warn(\n",
      "/home/monlamai/Documents/GitHub/stt-combine-datasets/.env/lib/python3.10/site-packages/botok/textunits/bostring.py:82: UserWarning: Beware of unexpected results: input string contains the non-expanded char \"གྷ\", found in \"གྷོ་\".\n",
      "  warn(\n",
      "/home/monlamai/Documents/GitHub/stt-combine-datasets/.env/lib/python3.10/site-packages/botok/textunits/bostring.py:82: UserWarning: Beware of unexpected results: input string contains the non-expanded char \"བྷ\", found in \"བྷྀར་ནོ\".\n",
      "  warn(\n",
      "/home/monlamai/Documents/GitHub/stt-combine-datasets/.env/lib/python3.10/site-packages/botok/textunits/bostring.py:82: UserWarning: Beware of unexpected results: input string contains the non-expanded char \"བྷ\", found in \"བྷེ་ཏ་ཧྤས་ང\".\n",
      "  warn(\n",
      "/home/monlamai/Documents/GitHub/stt-combine-datasets/.env/lib/python3.10/site-packages/botok/textunits/bostring.py:82: UserWarning: Beware of unexpected results: input string contains the non-expanded char \"གྷ\", found in \"གྷང་ཝཱའོ་ཇི\".\n",
      "  warn(\n",
      "/home/monlamai/Documents/GitHub/stt-combine-datasets/.env/lib/python3.10/site-packages/botok/textunits/bostring.py:82: UserWarning: Beware of unexpected results: input string contains the non-expanded char \"གྷ\", found in \"གྷོས\".\n",
      "  warn(\n",
      "/home/monlamai/Documents/GitHub/stt-combine-datasets/.env/lib/python3.10/site-packages/botok/textunits/bostring.py:82: UserWarning: Beware of unexpected results: input string contains the non-expanded char \"ཱྀ\", found in \"ཱྀན་\".\n",
      "  warn(\n",
      "/home/monlamai/Documents/GitHub/stt-combine-datasets/.env/lib/python3.10/site-packages/botok/textunits/bostring.py:82: UserWarning: Beware of unexpected results: input string contains the non-expanded char \"བྷ\", found in \"བྷེ་མ་གྲོང་\".\n",
      "  warn(\n",
      "/home/monlamai/Documents/GitHub/stt-combine-datasets/.env/lib/python3.10/site-packages/botok/textunits/bostring.py:82: UserWarning: Beware of unexpected results: input string contains the non-expanded char \"བྷ\", found in \"བྷག ཨ\".\n",
      "  warn(\n",
      "/home/monlamai/Documents/GitHub/stt-combine-datasets/.env/lib/python3.10/site-packages/botok/textunits/bostring.py:82: UserWarning: Beware of unexpected results: input string contains the non-expanded char \"བྷ\", found in \"བྷེའི་མན་\".\n",
      "  warn(\n",
      "/home/monlamai/Documents/GitHub/stt-combine-datasets/.env/lib/python3.10/site-packages/botok/textunits/bostring.py:82: UserWarning: Beware of unexpected results: input string contains the non-expanded char \"བྷ\", found in \"བྷེའུ་ཁྲོང་\".\n",
      "  warn(\n",
      "/home/monlamai/Documents/GitHub/stt-combine-datasets/.env/lib/python3.10/site-packages/botok/textunits/bostring.py:82: UserWarning: Beware of unexpected results: input string contains the non-expanded char \"བྷ\", found in \"བྷོ་ཤོས། ཉི\".\n",
      "  warn(\n",
      "/home/monlamai/Documents/GitHub/stt-combine-datasets/.env/lib/python3.10/site-packages/botok/textunits/bostring.py:82: UserWarning: Beware of unexpected results: input string contains the non-expanded char \"བྷ\", found in \"བྷག་པ་བུ་མོ\".\n",
      "  warn(\n",
      "/home/monlamai/Documents/GitHub/stt-combine-datasets/.env/lib/python3.10/site-packages/botok/textunits/bostring.py:82: UserWarning: Beware of unexpected results: input string contains the non-expanded char \"བྷ\", found in \"བྷག་རྒན་\".\n",
      "  warn(\n",
      "/home/monlamai/Documents/GitHub/stt-combine-datasets/.env/lib/python3.10/site-packages/botok/textunits/bostring.py:82: UserWarning: Beware of unexpected results: input string contains the non-expanded char \"ཱུ\", found in \"ཱུ་ཨར\".\n",
      "  warn(\n",
      "/home/monlamai/Documents/GitHub/stt-combine-datasets/.env/lib/python3.10/site-packages/botok/textunits/bostring.py:82: UserWarning: Beware of unexpected results: input string contains the non-expanded char \"བྷ\", found in \"བྷེ་ཀྲི་ཧྤོ\".\n",
      "  warn(\n",
      "/home/monlamai/Documents/GitHub/stt-combine-datasets/.env/lib/python3.10/site-packages/botok/textunits/bostring.py:82: UserWarning: Beware of unexpected results: input string contains the non-expanded char \"བྷ\", found in \"བྷྀཁཱཤཱུན་ཕ\".\n",
      "  warn(\n",
      "/home/monlamai/Documents/GitHub/stt-combine-datasets/.env/lib/python3.10/site-packages/botok/textunits/bostring.py:82: UserWarning: Beware of unexpected results: input string contains the non-expanded char \"བྷ\", found in \"བྷེ་ཏེ་ཧྤོས\".\n",
      "  warn(\n",
      "/home/monlamai/Documents/GitHub/stt-combine-datasets/.env/lib/python3.10/site-packages/botok/textunits/bostring.py:82: UserWarning: Beware of unexpected results: input string contains the non-expanded char \"གྷ\", found in \"གྷརཱམ\".\n",
      "  warn(\n",
      "/home/monlamai/Documents/GitHub/stt-combine-datasets/.env/lib/python3.10/site-packages/botok/textunits/bostring.py:82: UserWarning: Beware of unexpected results: input string contains the non-expanded char \"བྷ\", found in \"བྷ་ཌེད་\".\n",
      "  warn(\n",
      "/home/monlamai/Documents/GitHub/stt-combine-datasets/.env/lib/python3.10/site-packages/botok/textunits/bostring.py:82: UserWarning: Beware of unexpected results: input string contains the non-expanded char \"ཛྷ\", found in \"ཛྷི་ཨཱལ་ཨཱལ\".\n",
      "  warn(\n",
      "/home/monlamai/Documents/GitHub/stt-combine-datasets/.env/lib/python3.10/site-packages/botok/textunits/bostring.py:82: UserWarning: Beware of unexpected results: input string contains the non-expanded char \"བྷ\", found in \"བྷེ་ཏ་ཧྤོས།\".\n",
      "  warn(\n",
      "/home/monlamai/Documents/GitHub/stt-combine-datasets/.env/lib/python3.10/site-packages/botok/textunits/bostring.py:82: UserWarning: Beware of unexpected results: input string contains the non-expanded char \"བྷ\", found in \"བྷ་ལོང་ཁྲེ་\".\n",
      "  warn(\n",
      "/home/monlamai/Documents/GitHub/stt-combine-datasets/.env/lib/python3.10/site-packages/botok/textunits/bostring.py:82: UserWarning: Beware of unexpected results: input string contains the non-expanded char \"བྷ\", found in \"བྷེ་མ་ག\".\n",
      "  warn(\n",
      "/home/monlamai/Documents/GitHub/stt-combine-datasets/.env/lib/python3.10/site-packages/botok/textunits/bostring.py:82: UserWarning: Beware of unexpected results: input string contains the non-expanded char \"བྷ\", found in \"བྷསྀ་སྀཋའེཤ\".\n",
      "  warn(\n",
      "/home/monlamai/Documents/GitHub/stt-combine-datasets/.env/lib/python3.10/site-packages/botok/textunits/bostring.py:82: UserWarning: Beware of unexpected results: input string contains the non-expanded char \"བྷ\", found in \"བྷེ་བྷེ\".\n",
      "  warn(\n",
      "/home/monlamai/Documents/GitHub/stt-combine-datasets/.env/lib/python3.10/site-packages/botok/textunits/bostring.py:82: UserWarning: Beware of unexpected results: input string contains the non-expanded char \"བྷ\", found in \"བྷེ་ཅེས་ཧྲང\".\n",
      "  warn(\n",
      "/home/monlamai/Documents/GitHub/stt-combine-datasets/.env/lib/python3.10/site-packages/botok/textunits/bostring.py:82: UserWarning: Beware of unexpected results: input string contains the non-expanded char \"གྷ\", found in \"གྷི་རཱན་ཇི་\".\n",
      "  warn(\n",
      "/home/monlamai/Documents/GitHub/stt-combine-datasets/.env/lib/python3.10/site-packages/botok/textunits/bostring.py:82: UserWarning: Beware of unexpected results: input string contains the non-expanded char \"བྷ\", found in \"བྷོ་ཅེས་ཀྱི\".\n",
      "  warn(\n",
      "/home/monlamai/Documents/GitHub/stt-combine-datasets/.env/lib/python3.10/site-packages/botok/textunits/bostring.py:82: UserWarning: Beware of unexpected results: input string contains the non-expanded char \"གྷ\", found in \"གྷི་རཱན\".\n",
      "  warn(\n",
      "/home/monlamai/Documents/GitHub/stt-combine-datasets/.env/lib/python3.10/site-packages/botok/textunits/bostring.py:82: UserWarning: Beware of unexpected results: input string contains the non-expanded char \"བྷ\", found in \"བྷེང་ལ\".\n",
      "  warn(\n",
      "/home/monlamai/Documents/GitHub/stt-combine-datasets/.env/lib/python3.10/site-packages/botok/textunits/bostring.py:82: UserWarning: Beware of unexpected results: input string contains the non-expanded char \"བྷ\", found in \"བྷོས་ཧྲེས་ས\".\n",
      "  warn(\n",
      "/home/monlamai/Documents/GitHub/stt-combine-datasets/.env/lib/python3.10/site-packages/botok/textunits/bostring.py:82: UserWarning: Beware of unexpected results: input string contains the non-expanded char \"བྷ\", found in \"བྷེ་ཁཱ་ཧམ་མ\".\n",
      "  warn(\n",
      "/home/monlamai/Documents/GitHub/stt-combine-datasets/.env/lib/python3.10/site-packages/botok/textunits/bostring.py:82: UserWarning: Beware of unexpected results: input string contains the non-expanded char \"བྷ\", found in \"བྷེ། ཧ\".\n",
      "  warn(\n",
      "/home/monlamai/Documents/GitHub/stt-combine-datasets/.env/lib/python3.10/site-packages/botok/textunits/bostring.py:82: UserWarning: Beware of unexpected results: input string contains the non-expanded char \"གྷ\", found in \"གྷོཌྀ།\".\n",
      "  warn(\n",
      "/home/monlamai/Documents/GitHub/stt-combine-datasets/.env/lib/python3.10/site-packages/botok/textunits/bostring.py:82: UserWarning: Beware of unexpected results: input string contains the non-expanded char \"བྷ\", found in \"བྷོའ\".\n",
      "  warn(\n",
      "/home/monlamai/Documents/GitHub/stt-combine-datasets/.env/lib/python3.10/site-packages/botok/textunits/bostring.py:82: UserWarning: Beware of unexpected results: input string contains the non-expanded char \"བྷ\", found in \"བྷ་ལེ\".\n",
      "  warn(\n",
      "/home/monlamai/Documents/GitHub/stt-combine-datasets/.env/lib/python3.10/site-packages/botok/textunits/bostring.py:82: UserWarning: Beware of unexpected results: input string contains the non-expanded char \"བྷ\", found in \"བྷོ་ཆན། རང་\".\n",
      "  warn(\n",
      "/home/monlamai/Documents/GitHub/stt-combine-datasets/.env/lib/python3.10/site-packages/botok/textunits/bostring.py:82: UserWarning: Beware of unexpected results: input string contains the non-expanded char \"བྷ\", found in \"བྷེ་མ\".\n",
      "  warn(\n",
      "/home/monlamai/Documents/GitHub/stt-combine-datasets/.env/lib/python3.10/site-packages/botok/textunits/bostring.py:82: UserWarning: Beware of unexpected results: input string contains the non-expanded char \"གྷ\", found in \"གྷོཤ\".\n",
      "  warn(\n",
      "/home/monlamai/Documents/GitHub/stt-combine-datasets/.env/lib/python3.10/site-packages/botok/textunits/bostring.py:82: UserWarning: Beware of unexpected results: input string contains the non-expanded char \"བྷ\", found in \"བྷེ་ཏེ་ཧློས\".\n",
      "  warn(\n",
      "/home/monlamai/Documents/GitHub/stt-combine-datasets/.env/lib/python3.10/site-packages/botok/textunits/bostring.py:82: UserWarning: Beware of unexpected results: input string contains the non-expanded char \"བྷ\", found in \"བྷོ་ཆན།\".\n",
      "  warn(\n",
      "/home/monlamai/Documents/GitHub/stt-combine-datasets/.env/lib/python3.10/site-packages/botok/textunits/bostring.py:82: UserWarning: Beware of unexpected results: input string contains the non-expanded char \"གྷ\", found in \"གྷོའུ་\".\n",
      "  warn(\n",
      "/home/monlamai/Documents/GitHub/stt-combine-datasets/.env/lib/python3.10/site-packages/botok/textunits/bostring.py:82: UserWarning: Beware of unexpected results: input string contains the non-expanded char \"བྷ\", found in \"བྷེ་ཏེ་ཧ\".\n",
      "  warn(\n",
      "/home/monlamai/Documents/GitHub/stt-combine-datasets/.env/lib/python3.10/site-packages/botok/textunits/bostring.py:82: UserWarning: Beware of unexpected results: input string contains the non-expanded char \"བྷ\", found in \"བྷེའི་ཁྲོས་\".\n",
      "  warn(\n",
      "/home/monlamai/Documents/GitHub/stt-combine-datasets/.env/lib/python3.10/site-packages/botok/textunits/bostring.py:82: UserWarning: Beware of unexpected results: input string contains the non-expanded char \"གྷ\", found in \"གྷི་རན་ཇིས་\".\n",
      "  warn(\n",
      "/home/monlamai/Documents/GitHub/stt-combine-datasets/.env/lib/python3.10/site-packages/botok/textunits/bostring.py:82: UserWarning: Beware of unexpected results: input string contains the non-expanded char \"བྷ\", found in \"བྷ་ལེང་ལེས་\".\n",
      "  warn(\n",
      "/home/monlamai/Documents/GitHub/stt-combine-datasets/.env/lib/python3.10/site-packages/botok/textunits/bostring.py:82: UserWarning: Beware of unexpected results: input string contains the non-expanded char \"བྷ\", found in \"བྷེའུ་ཏོ་ཧྥ\".\n",
      "  warn(\n",
      "/home/monlamai/Documents/GitHub/stt-combine-datasets/.env/lib/python3.10/site-packages/botok/textunits/bostring.py:82: UserWarning: Beware of unexpected results: input string contains the non-expanded char \"ཌྷ\", found in \"ཌྷ\".\n",
      "  warn(\n",
      "/home/monlamai/Documents/GitHub/stt-combine-datasets/.env/lib/python3.10/site-packages/botok/textunits/bostring.py:82: UserWarning: Beware of unexpected results: input string contains the non-expanded char \"བྷ\", found in \"བྷག\".\n",
      "  warn(\n",
      "/home/monlamai/Documents/GitHub/stt-combine-datasets/.env/lib/python3.10/site-packages/botok/textunits/bostring.py:82: UserWarning: Beware of unexpected results: input string contains the non-expanded char \"ཌྷ\", found in \"ཌྷཔ་\".\n",
      "  warn(\n"
     ]
    }
   ],
   "source": [
    "tokenizer = WordTokenizer()\n",
    "\n",
    "df['non_word_count'], df['non_bo_word_count'], df['total_tokens'] = zip(*df['uni'].apply(lambda text: process_transcript(text, tokenizer)))"
   ]
  },
  {
   "cell_type": "code",
   "execution_count": 37,
   "metadata": {},
   "outputs": [],
   "source": [
    "df.to_csv('04_combine_all.tsv', sep='\\t', index=False)"
   ]
  },
  {
   "cell_type": "code",
   "execution_count": 47,
   "metadata": {},
   "outputs": [
    {
     "data": {
      "text/plain": [
       "(31144, 8)"
      ]
     },
     "execution_count": 47,
     "metadata": {},
     "output_type": "execute_result"
    }
   ],
   "source": [
    "df[ df['non_word_count'] > 1].shape[0], df[ df['non_bo_word_count'] > 1].shape[0]"
   ]
  },
  {
   "cell_type": "code",
   "execution_count": 59,
   "metadata": {},
   "outputs": [
    {
     "data": {
      "text/plain": [
       "(811562, 11)"
      ]
     },
     "execution_count": 59,
     "metadata": {},
     "output_type": "execute_result"
    }
   ],
   "source": [
    "df.shape"
   ]
  },
  {
   "cell_type": "code",
   "execution_count": 60,
   "metadata": {},
   "outputs": [
    {
     "data": {
      "text/plain": [
       "count    811562.000000\n",
       "mean          0.188514\n",
       "std           0.577201\n",
       "min           0.000000\n",
       "25%           0.000000\n",
       "50%           0.000000\n",
       "75%           0.000000\n",
       "max          15.000000\n",
       "Name: non_word_count, dtype: float64"
      ]
     },
     "execution_count": 60,
     "metadata": {},
     "output_type": "execute_result"
    }
   ],
   "source": [
    "df['non_word_count'].describe()"
   ]
  },
  {
   "cell_type": "code",
   "execution_count": 58,
   "metadata": {},
   "outputs": [
    {
     "data": {
      "text/html": [
       "<div>\n",
       "<style scoped>\n",
       "    .dataframe tbody tr th:only-of-type {\n",
       "        vertical-align: middle;\n",
       "    }\n",
       "\n",
       "    .dataframe tbody tr th {\n",
       "        vertical-align: top;\n",
       "    }\n",
       "\n",
       "    .dataframe thead th {\n",
       "        text-align: right;\n",
       "    }\n",
       "</style>\n",
       "<table border=\"1\" class=\"dataframe\">\n",
       "  <thead>\n",
       "    <tr style=\"text-align: right;\">\n",
       "      <th></th>\n",
       "      <th>file_name</th>\n",
       "      <th>uni</th>\n",
       "    </tr>\n",
       "  </thead>\n",
       "  <tbody>\n",
       "    <tr>\n",
       "      <th>82553</th>\n",
       "      <td>STT_NS_M0051_0032_254517_to_261435.mp3</td>\n",
       "      <td>ཨོ་དེ་བསྐོར་ར་རྒྱག་ནས་འགྲོ་དགོས། ཨེ་ནས་ག་ཡིན་ན...</td>\n",
       "    </tr>\n",
       "    <tr>\n",
       "      <th>111566</th>\n",
       "      <td>STT_AB00233_0141_1710742_to_1723267</td>\n",
       "      <td>ད་ནི་རྒྱལ་རབས་དངོས་ལ་འཇུག་པར་བྱ་སྟེ། དེ་ཡང་འོག...</td>\n",
       "    </tr>\n",
       "    <tr>\n",
       "      <th>111600</th>\n",
       "      <td>STT_AB00233_0191_2287534_to_2300203</td>\n",
       "      <td>དེར་ཤིང་སྡོང་འཛུགས་ཤིང་། ལོ་རེ་བཞིན་དུ་མཆོད་པ་...</td>\n",
       "    </tr>\n",
       "    <tr>\n",
       "      <th>117952</th>\n",
       "      <td>STT_AB00233_0146_1763355_to_1776212</td>\n",
       "      <td>མང་ཙམ་ཞིག་པེ་ཅིང་དུ་ཡང་འཁྱེར་ཞེས་ཟེར།╚ག╗རྟགས་ཅ...</td>\n",
       "    </tr>\n",
       "    <tr>\n",
       "      <th>122807</th>\n",
       "      <td>STT_AB00233_0163_1979549_to_1991977</td>\n",
       "      <td>སྙམ་དུ་བསམས་སོ། བོད་ཀྱི་གནའ་སྲོལ་དང་རུས་ཁུངས་ས...</td>\n",
       "    </tr>\n",
       "    <tr>\n",
       "      <th>123698</th>\n",
       "      <td>STT_AB00233_0287_3486053_to_3498400</td>\n",
       "      <td>སོགས། ╚དཀྱུས╗་དེ་ལྟར་གནམ་རི་སྲོང་བཙན་དུས་ཀྱི་བ...</td>\n",
       "    </tr>\n",
       "    <tr>\n",
       "      <th>462420</th>\n",
       "      <td>STT_NS0013_0178_1399114_to_1406151</td>\n",
       "      <td>ང་ཚོ་ལས་ལ་ས་ཡོད་རེད་བ། ནམ་རྒྱུན་ང་ཚོ་ཕར་ལ་ཡ་ཆོ...</td>\n",
       "    </tr>\n",
       "    <tr>\n",
       "      <th>568222</th>\n",
       "      <td>STT_AB00221_0059_691510_to_703319</td>\n",
       "      <td>རྒྱ་སྐད་ཀྱི་སྒྲ་གདངས་ཐོག་ནས་བཤད། ད་ལྟ་གཡང་འཛོམ...</td>\n",
       "    </tr>\n",
       "  </tbody>\n",
       "</table>\n",
       "</div>"
      ],
      "text/plain": [
       "                                     file_name  \\\n",
       "82553   STT_NS_M0051_0032_254517_to_261435.mp3   \n",
       "111566     STT_AB00233_0141_1710742_to_1723267   \n",
       "111600     STT_AB00233_0191_2287534_to_2300203   \n",
       "117952     STT_AB00233_0146_1763355_to_1776212   \n",
       "122807     STT_AB00233_0163_1979549_to_1991977   \n",
       "123698     STT_AB00233_0287_3486053_to_3498400   \n",
       "462420      STT_NS0013_0178_1399114_to_1406151   \n",
       "568222       STT_AB00221_0059_691510_to_703319   \n",
       "\n",
       "                                                      uni  \n",
       "82553   ཨོ་དེ་བསྐོར་ར་རྒྱག་ནས་འགྲོ་དགོས། ཨེ་ནས་ག་ཡིན་ན...  \n",
       "111566  ད་ནི་རྒྱལ་རབས་དངོས་ལ་འཇུག་པར་བྱ་སྟེ། དེ་ཡང་འོག...  \n",
       "111600  དེར་ཤིང་སྡོང་འཛུགས་ཤིང་། ལོ་རེ་བཞིན་དུ་མཆོད་པ་...  \n",
       "117952  མང་ཙམ་ཞིག་པེ་ཅིང་དུ་ཡང་འཁྱེར་ཞེས་ཟེར།╚ག╗རྟགས་ཅ...  \n",
       "122807  སྙམ་དུ་བསམས་སོ། བོད་ཀྱི་གནའ་སྲོལ་དང་རུས་ཁུངས་ས...  \n",
       "123698  སོགས། ╚དཀྱུས╗་དེ་ལྟར་གནམ་རི་སྲོང་བཙན་དུས་ཀྱི་བ...  \n",
       "462420  ང་ཚོ་ལས་ལ་ས་ཡོད་རེད་བ། ནམ་རྒྱུན་ང་ཚོ་ཕར་ལ་ཡ་ཆོ...  \n",
       "568222  རྒྱ་སྐད་ཀྱི་སྒྲ་གདངས་ཐོག་ནས་བཤད། ད་ལྟ་གཡང་འཛོམ...  "
      ]
     },
     "execution_count": 58,
     "metadata": {},
     "output_type": "execute_result"
    }
   ],
   "source": [
    "df[ df['non_bo_word_count'] > 1 ].loc[:, ('file_name', 'uni')]"
   ]
  },
  {
   "cell_type": "code",
   "execution_count": null,
   "metadata": {},
   "outputs": [],
   "source": [
    "df['non_word_percentage'] = (df['non_word_count'] / df['total_tokens']) * 100\n",
    "# df.fillna(0, inplace=True)  # Replace NaN values with 0 in case of division by zero"
   ]
  },
  {
   "cell_type": "code",
   "execution_count": 61,
   "metadata": {},
   "outputs": [],
   "source": [
    "df.to_csv('04_combine_all.tsv', sep='\\t', index=False)"
   ]
  },
  {
   "cell_type": "code",
   "execution_count": 62,
   "metadata": {},
   "outputs": [
    {
     "data": {
      "text/html": [
       "<div>\n",
       "<style scoped>\n",
       "    .dataframe tbody tr th:only-of-type {\n",
       "        vertical-align: middle;\n",
       "    }\n",
       "\n",
       "    .dataframe tbody tr th {\n",
       "        vertical-align: top;\n",
       "    }\n",
       "\n",
       "    .dataframe thead th {\n",
       "        text-align: right;\n",
       "    }\n",
       "</style>\n",
       "<table border=\"1\" class=\"dataframe\">\n",
       "  <thead>\n",
       "    <tr style=\"text-align: right;\">\n",
       "      <th></th>\n",
       "      <th>file_name</th>\n",
       "      <th>uni</th>\n",
       "      <th>url</th>\n",
       "      <th>dept</th>\n",
       "      <th>grade</th>\n",
       "      <th>wylie</th>\n",
       "      <th>char_len</th>\n",
       "      <th>audio_len</th>\n",
       "      <th>non_word_count</th>\n",
       "      <th>non_bo_word_count</th>\n",
       "      <th>total_tokens</th>\n",
       "    </tr>\n",
       "  </thead>\n",
       "  <tbody>\n",
       "    <tr>\n",
       "      <th>0</th>\n",
       "      <td>STT_AB00237_0190_1711732_to_1723319</td>\n",
       "      <td>ཉི་མ་རིང་ཐུང་ལའང་མ་འདོད་པ་བྱས་ཀྱི་ཡོད་ན་ངས་ཚེ་...</td>\n",
       "      <td>https://huggingface.co/datasets/openpecha/STT_...</td>\n",
       "      <td>STT_AB</td>\n",
       "      <td>2</td>\n",
       "      <td>nyi ma ring thung la'ang ma 'dod pa byas kyi y...</td>\n",
       "      <td>177</td>\n",
       "      <td>11.587</td>\n",
       "      <td>0</td>\n",
       "      <td>0</td>\n",
       "      <td>46</td>\n",
       "    </tr>\n",
       "    <tr>\n",
       "      <th>1</th>\n",
       "      <td>STT_AB00237_0197_1767500_to_1776441</td>\n",
       "      <td>ད་ཆ་ཁྱིམ་ཚང་འདི་ལ་འགྲིག་མཐུན་གྱི་ཆ་རྐྱེན་གནས་ཡ...</td>\n",
       "      <td>https://huggingface.co/datasets/openpecha/STT_...</td>\n",
       "      <td>STT_AB</td>\n",
       "      <td>2</td>\n",
       "      <td>da cha khyim tshang 'di la 'grig mthun gyi cha...</td>\n",
       "      <td>131</td>\n",
       "      <td>8.941</td>\n",
       "      <td>0</td>\n",
       "      <td>0</td>\n",
       "      <td>32</td>\n",
       "    </tr>\n",
       "    <tr>\n",
       "      <th>2</th>\n",
       "      <td>STT_AB00238_0005_30554_to_39889</td>\n",
       "      <td>དྒྱེ་ནས་ཕ་དོན་གྲུབ་ཀྱི་བསམ་བློའི་ནང་དེ་ནི་ཕལ་ཆ...</td>\n",
       "      <td>https://huggingface.co/datasets/openpecha/STT_...</td>\n",
       "      <td>STT_AB</td>\n",
       "      <td>2</td>\n",
       "      <td>d+g+ye nas pha don grub kyi bsam blo'i nang de...</td>\n",
       "      <td>138</td>\n",
       "      <td>9.335</td>\n",
       "      <td>0</td>\n",
       "      <td>0</td>\n",
       "      <td>32</td>\n",
       "    </tr>\n",
       "    <tr>\n",
       "      <th>3</th>\n",
       "      <td>STT_AB00238_0006_41271_to_46288</td>\n",
       "      <td>དེ་ཉིན་གང་ལྟར་དོན་གྲུབ་ཁྱིམ་དུ་སླེབས་མ་ཐག་རང་ག...</td>\n",
       "      <td>https://huggingface.co/datasets/openpecha/STT_...</td>\n",
       "      <td>STT_AB</td>\n",
       "      <td>2</td>\n",
       "      <td>de nyin gang ltar don grub khyim du slebs ma t...</td>\n",
       "      <td>89</td>\n",
       "      <td>5.017</td>\n",
       "      <td>0</td>\n",
       "      <td>0</td>\n",
       "      <td>19</td>\n",
       "    </tr>\n",
       "    <tr>\n",
       "      <th>4</th>\n",
       "      <td>STT_AB00238_0007_47056_to_49957</td>\n",
       "      <td>དོན་གྲུབ་རང་སྐྱེས་པ་ཁྱོ་ག་ཞིག་ཡིན་པས་</td>\n",
       "      <td>https://huggingface.co/datasets/openpecha/STT_...</td>\n",
       "      <td>STT_AB</td>\n",
       "      <td>2</td>\n",
       "      <td>don grub rang skyes pa khyo ga zhig yin pas _</td>\n",
       "      <td>38</td>\n",
       "      <td>2.901</td>\n",
       "      <td>0</td>\n",
       "      <td>0</td>\n",
       "      <td>6</td>\n",
       "    </tr>\n",
       "  </tbody>\n",
       "</table>\n",
       "</div>"
      ],
      "text/plain": [
       "                             file_name  \\\n",
       "0  STT_AB00237_0190_1711732_to_1723319   \n",
       "1  STT_AB00237_0197_1767500_to_1776441   \n",
       "2      STT_AB00238_0005_30554_to_39889   \n",
       "3      STT_AB00238_0006_41271_to_46288   \n",
       "4      STT_AB00238_0007_47056_to_49957   \n",
       "\n",
       "                                                 uni  \\\n",
       "0  ཉི་མ་རིང་ཐུང་ལའང་མ་འདོད་པ་བྱས་ཀྱི་ཡོད་ན་ངས་ཚེ་...   \n",
       "1  ད་ཆ་ཁྱིམ་ཚང་འདི་ལ་འགྲིག་མཐུན་གྱི་ཆ་རྐྱེན་གནས་ཡ...   \n",
       "2  དྒྱེ་ནས་ཕ་དོན་གྲུབ་ཀྱི་བསམ་བློའི་ནང་དེ་ནི་ཕལ་ཆ...   \n",
       "3  དེ་ཉིན་གང་ལྟར་དོན་གྲུབ་ཁྱིམ་དུ་སླེབས་མ་ཐག་རང་ག...   \n",
       "4             དོན་གྲུབ་རང་སྐྱེས་པ་ཁྱོ་ག་ཞིག་ཡིན་པས་    \n",
       "\n",
       "                                                 url    dept  grade  \\\n",
       "0  https://huggingface.co/datasets/openpecha/STT_...  STT_AB      2   \n",
       "1  https://huggingface.co/datasets/openpecha/STT_...  STT_AB      2   \n",
       "2  https://huggingface.co/datasets/openpecha/STT_...  STT_AB      2   \n",
       "3  https://huggingface.co/datasets/openpecha/STT_...  STT_AB      2   \n",
       "4  https://huggingface.co/datasets/openpecha/STT_...  STT_AB      2   \n",
       "\n",
       "                                               wylie  char_len  audio_len  \\\n",
       "0  nyi ma ring thung la'ang ma 'dod pa byas kyi y...       177     11.587   \n",
       "1  da cha khyim tshang 'di la 'grig mthun gyi cha...       131      8.941   \n",
       "2  d+g+ye nas pha don grub kyi bsam blo'i nang de...       138      9.335   \n",
       "3  de nyin gang ltar don grub khyim du slebs ma t...        89      5.017   \n",
       "4      don grub rang skyes pa khyo ga zhig yin pas _        38      2.901   \n",
       "\n",
       "   non_word_count  non_bo_word_count  total_tokens  \n",
       "0               0                  0            46  \n",
       "1               0                  0            32  \n",
       "2               0                  0            32  \n",
       "3               0                  0            19  \n",
       "4               0                  0             6  "
      ]
     },
     "execution_count": 62,
     "metadata": {},
     "output_type": "execute_result"
    }
   ],
   "source": [
    "df.head()"
   ]
  },
  {
   "cell_type": "code",
   "execution_count": 68,
   "metadata": {},
   "outputs": [
    {
     "data": {
      "text/plain": [
       "811562"
      ]
     },
     "execution_count": 68,
     "metadata": {},
     "output_type": "execute_result"
    }
   ],
   "source": [
    "df.shape[0]"
   ]
  },
  {
   "cell_type": "code",
   "execution_count": 69,
   "metadata": {},
   "outputs": [
    {
     "data": {
      "text/plain": [
       "3.837537982310655"
      ]
     },
     "execution_count": 69,
     "metadata": {},
     "output_type": "execute_result"
    }
   ],
   "source": [
    "df[df['non_word_count'] > 1].shape[0] / df.shape[0] * 100"
   ]
  },
  {
   "cell_type": "code",
   "execution_count": 70,
   "metadata": {},
   "outputs": [],
   "source": [
    "df_non_word = df[df['non_word_count'] > 1]"
   ]
  },
  {
   "cell_type": "code",
   "execution_count": 80,
   "metadata": {},
   "outputs": [
    {
     "data": {
      "text/plain": [
       "grade\n",
       "2    18596\n",
       "3    12548\n",
       "dtype: int64"
      ]
     },
     "execution_count": 80,
     "metadata": {},
     "output_type": "execute_result"
    }
   ],
   "source": [
    "df_non_word.groupby('grade').size()"
   ]
  },
  {
   "cell_type": "code",
   "execution_count": 88,
   "metadata": {},
   "outputs": [
    {
     "data": {
      "text/plain": [
       "dept\n",
       "STT_AB      561\n",
       "STT_CS     3069\n",
       "STT_MV    15947\n",
       "STT_NS     9997\n",
       "STT_TT     1570\n",
       "dtype: int64"
      ]
     },
     "execution_count": 88,
     "metadata": {},
     "output_type": "execute_result"
    }
   ],
   "source": [
    "df_non_word.groupby('dept').size()"
   ]
  },
  {
   "cell_type": "code",
   "execution_count": 89,
   "metadata": {},
   "outputs": [
    {
     "data": {
      "text/plain": [
       "dept\n",
       "STT_AB      5181.794\n",
       "STT_CS     22756.901\n",
       "STT_MV    118465.606\n",
       "STT_NS     74982.277\n",
       "STT_TT      6560.834\n",
       "Name: audio_len, dtype: float64"
      ]
     },
     "execution_count": 89,
     "metadata": {},
     "output_type": "execute_result"
    }
   ],
   "source": [
    "df_non_word.groupby('dept').sum('audio_len')['audio_len']"
   ]
  },
  {
   "cell_type": "code",
   "execution_count": 77,
   "metadata": {},
   "outputs": [
    {
     "data": {
      "text/plain": [
       "dept\n",
       "STT_AB     0.725143\n",
       "STT_CS     6.807142\n",
       "STT_MV     6.591058\n",
       "STT_NS    13.459441\n",
       "STT_TT     0.421037\n",
       "dtype: float64"
      ]
     },
     "execution_count": 77,
     "metadata": {},
     "output_type": "execute_result"
    }
   ],
   "source": [
    "df_non_word.groupby('dept').size() / df.groupby('dept').size() * 100"
   ]
  },
  {
   "cell_type": "code",
   "execution_count": 79,
   "metadata": {},
   "outputs": [
    {
     "data": {
      "text/plain": [
       "dept\n",
       "STT_AB     9.532728\n",
       "STT_CS     5.555336\n",
       "STT_MV    29.812756\n",
       "STT_NS     9.152104\n",
       "STT_TT    45.947075\n",
       "dtype: float64"
      ]
     },
     "execution_count": 79,
     "metadata": {},
     "output_type": "execute_result"
    }
   ],
   "source": [
    "df.groupby('dept').size() / df.shape[0] * 100"
   ]
  },
  {
   "cell_type": "code",
   "execution_count": 91,
   "metadata": {},
   "outputs": [],
   "source": [
    "df_non_word = df_non_word.sort_values(by='non_word_count', ascending=False)"
   ]
  },
  {
   "cell_type": "code",
   "execution_count": null,
   "metadata": {},
   "outputs": [],
   "source": [
    "df_non_word.to_csv('04_non_word_count.tsv', sep='\\t', index=False)"
   ]
  },
  {
   "cell_type": "code",
   "execution_count": null,
   "metadata": {},
   "outputs": [],
   "source": [
    "# len(train), len(val), len(test), len(train)+len(val)+len(test), len(df)"
   ]
  },
  {
   "cell_type": "code",
   "execution_count": null,
   "metadata": {},
   "outputs": [],
   "source": [
    "# train.to_csv('train.tsv', sep='\\t', index=False)\n",
    "# val.to_csv(  'val.tsv', sep='\\t', index=False)\n",
    "# test.to_csv( 'test.tsv', sep='\\t', index=False)"
   ]
  },
  {
   "cell_type": "code",
   "execution_count": null,
   "metadata": {},
   "outputs": [],
   "source": [
    "df['uni'].str.contains('ཧཧཧ').value_counts()"
   ]
  },
  {
   "cell_type": "code",
   "execution_count": null,
   "metadata": {},
   "outputs": [],
   "source": [
    "import pandas as pd\n",
    "\n",
    "df = pd.read_csv('04_combine_all.tsv', sep='\\t')"
   ]
  },
  {
   "cell_type": "code",
   "execution_count": null,
   "metadata": {},
   "outputs": [],
   "source": [
    "df.head()"
   ]
  },
  {
   "cell_type": "code",
   "execution_count": null,
   "metadata": {},
   "outputs": [],
   "source": [
    "df.groupby('dept')['audio_len'].sum()/60/60"
   ]
  },
  {
   "cell_type": "code",
   "execution_count": null,
   "metadata": {},
   "outputs": [],
   "source": [
    "df['audio_len'].sum()/60/60"
   ]
  },
  {
   "cell_type": "code",
   "execution_count": null,
   "metadata": {},
   "outputs": [],
   "source": [
    "# df.sort_values(by='audio_len', ascending=False, inplace=True)\n",
    "df = df.sample(frac = 1)"
   ]
  },
  {
   "cell_type": "code",
   "execution_count": null,
   "metadata": {},
   "outputs": [],
   "source": [
    "df.iloc[0:100,[0, 1, 3, 5]].to_csv(\"04_random_100.tsv\", index=False, sep='\\t')\n",
    "df.iloc[0:100,[0, 1, 3, 5]].head()"
   ]
  },
  {
   "cell_type": "code",
   "execution_count": null,
   "metadata": {},
   "outputs": [],
   "source": [
    "df[df['grade'] == 3].groupby('dept').size()"
   ]
  }
 ],
 "metadata": {
  "kernelspec": {
   "display_name": ".env",
   "language": "python",
   "name": "python3"
  },
  "language_info": {
   "codemirror_mode": {
    "name": "ipython",
    "version": 3
   },
   "file_extension": ".py",
   "mimetype": "text/x-python",
   "name": "python",
   "nbconvert_exporter": "python",
   "pygments_lexer": "ipython3",
   "version": "3.10.12"
  }
 },
 "nbformat": 4,
 "nbformat_minor": 2
}
