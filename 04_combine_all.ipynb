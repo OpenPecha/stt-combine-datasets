{
 "cells": [
  {
   "cell_type": "markdown",
   "metadata": {},
   "source": [
    "# Combine all the data into once dataset\n",
    "\n",
    "Once you've run the following notebooks,\n",
    "- 01_stt_pecha_tools.ipynb\n",
    "- 02_prodigy.ipynb\n",
    "\n",
    "You get the following tsv files\n",
    "- 01_stt_pecha_tools.tsv\n",
    "- 02_prodigy.tsv\n",
    "\n",
    "Concatenate the tsv files and clean the data"
   ]
  },
  {
   "cell_type": "code",
   "execution_count": 22,
   "metadata": {},
   "outputs": [],
   "source": [
    "stt_pecha_tools = \"01_stt_pecha_tools.csv\"\n",
    "prodigy =         \"02_prodigy_finalised.csv\""
   ]
  },
  {
   "cell_type": "code",
   "execution_count": 27,
   "metadata": {},
   "outputs": [],
   "source": [
    "import pandas as pd\n",
    "pecha_tools_df = pd.read_csv(stt_pecha_tools)\n",
    "prodigy_df = pd.read_csv(prodigy)"
   ]
  },
  {
   "cell_type": "code",
   "execution_count": 28,
   "metadata": {},
   "outputs": [
    {
     "data": {
      "text/html": [
       "<div>\n",
       "<style scoped>\n",
       "    .dataframe tbody tr th:only-of-type {\n",
       "        vertical-align: middle;\n",
       "    }\n",
       "\n",
       "    .dataframe tbody tr th {\n",
       "        vertical-align: top;\n",
       "    }\n",
       "\n",
       "    .dataframe thead th {\n",
       "        text-align: right;\n",
       "    }\n",
       "</style>\n",
       "<table border=\"1\" class=\"dataframe\">\n",
       "  <thead>\n",
       "    <tr style=\"text-align: right;\">\n",
       "      <th></th>\n",
       "      <th>file_name</th>\n",
       "      <th>uni</th>\n",
       "      <th>url</th>\n",
       "      <th>dept</th>\n",
       "      <th>grade</th>\n",
       "    </tr>\n",
       "  </thead>\n",
       "  <tbody>\n",
       "    <tr>\n",
       "      <th>0</th>\n",
       "      <td>STT_AB00565_0410_1675759_to_1682175</td>\n",
       "      <td>དེ་ལ་བརྟེན་ནས་མེ་དང་བུད་ཤིང་ལ་རང་བཞིན་མེད་དོ་ས...</td>\n",
       "      <td>https://d38pmlk0v88drf.cloudfront.net/wav16k/S...</td>\n",
       "      <td>STT_AB</td>\n",
       "      <td>2</td>\n",
       "    </tr>\n",
       "    <tr>\n",
       "      <th>1</th>\n",
       "      <td>STT_AB00565_0412_1692363_to_1693165</td>\n",
       "      <td>ཐལ་འགྱུར་ནི་</td>\n",
       "      <td>https://d38pmlk0v88drf.cloudfront.net/wav16k/S...</td>\n",
       "      <td>STT_AB</td>\n",
       "      <td>2</td>\n",
       "    </tr>\n",
       "    <tr>\n",
       "      <th>2</th>\n",
       "      <td>STT_AB00565_0415_1709513_to_1713421</td>\n",
       "      <td>ཕ་རོལ་པོ་ལ་མི་འདོད་པ་འཕེན་པ་འདི་འདྲ་རྣམས་ཡིན་པས་</td>\n",
       "      <td>https://d38pmlk0v88drf.cloudfront.net/wav16k/S...</td>\n",
       "      <td>STT_AB</td>\n",
       "      <td>2</td>\n",
       "    </tr>\n",
       "    <tr>\n",
       "      <th>3</th>\n",
       "      <td>STT_AB00565_0416_1714087_to_1717790</td>\n",
       "      <td>དེས་མཚོན་ནས་ཐལ་བ་གཞན་རྣམས་ཀྱང་རྟོགས་པར་བྱའོ། །</td>\n",
       "      <td>https://d38pmlk0v88drf.cloudfront.net/wav16k/S...</td>\n",
       "      <td>STT_AB</td>\n",
       "      <td>2</td>\n",
       "    </tr>\n",
       "    <tr>\n",
       "      <th>4</th>\n",
       "      <td>STT_AB00565_0424_1767704_to_1769104</td>\n",
       "      <td>དཔང་པོ་རྒོལ་བ་དང་</td>\n",
       "      <td>https://d38pmlk0v88drf.cloudfront.net/wav16k/S...</td>\n",
       "      <td>STT_AB</td>\n",
       "      <td>2</td>\n",
       "    </tr>\n",
       "  </tbody>\n",
       "</table>\n",
       "</div>"
      ],
      "text/plain": [
       "                             file_name  \\\n",
       "0  STT_AB00565_0410_1675759_to_1682175   \n",
       "1  STT_AB00565_0412_1692363_to_1693165   \n",
       "2  STT_AB00565_0415_1709513_to_1713421   \n",
       "3  STT_AB00565_0416_1714087_to_1717790   \n",
       "4  STT_AB00565_0424_1767704_to_1769104   \n",
       "\n",
       "                                                 uni  \\\n",
       "0  དེ་ལ་བརྟེན་ནས་མེ་དང་བུད་ཤིང་ལ་རང་བཞིན་མེད་དོ་ས...   \n",
       "1                                       ཐལ་འགྱུར་ནི་   \n",
       "2   ཕ་རོལ་པོ་ལ་མི་འདོད་པ་འཕེན་པ་འདི་འདྲ་རྣམས་ཡིན་པས་   \n",
       "3     དེས་མཚོན་ནས་ཐལ་བ་གཞན་རྣམས་ཀྱང་རྟོགས་པར་བྱའོ། །   \n",
       "4                                  དཔང་པོ་རྒོལ་བ་དང་   \n",
       "\n",
       "                                                 url    dept  grade  \n",
       "0  https://d38pmlk0v88drf.cloudfront.net/wav16k/S...  STT_AB      2  \n",
       "1  https://d38pmlk0v88drf.cloudfront.net/wav16k/S...  STT_AB      2  \n",
       "2  https://d38pmlk0v88drf.cloudfront.net/wav16k/S...  STT_AB      2  \n",
       "3  https://d38pmlk0v88drf.cloudfront.net/wav16k/S...  STT_AB      2  \n",
       "4  https://d38pmlk0v88drf.cloudfront.net/wav16k/S...  STT_AB      2  "
      ]
     },
     "execution_count": 28,
     "metadata": {},
     "output_type": "execute_result"
    }
   ],
   "source": [
    "pecha_tools_df.head()"
   ]
  },
  {
   "cell_type": "code",
   "execution_count": 29,
   "metadata": {},
   "outputs": [],
   "source": [
    "prodigy_df = prodigy_df.rename(columns={'id': 'file_name', 'transcript':'uni'})\n",
    "prodigy_df['grade'] = 3\n",
    "prodigy_df['url'] = prodigy_df['file_name'].apply(lambda x: f\"https://d38pmlk0v88drf.cloudfront.net/wav16k/{x}.wav\")"
   ]
  },
  {
   "cell_type": "code",
   "execution_count": 30,
   "metadata": {},
   "outputs": [],
   "source": [
    "prodigy_df = prodigy_df[['file_name', 'uni', 'url', 'dept','grade']]"
   ]
  },
  {
   "cell_type": "code",
   "execution_count": 31,
   "metadata": {},
   "outputs": [],
   "source": [
    "df = pd.concat([pecha_tools_df, prodigy_df], ignore_index=True)"
   ]
  },
  {
   "cell_type": "code",
   "execution_count": 33,
   "metadata": {},
   "outputs": [],
   "source": [
    "bad_apples = pd.read_csv('04_bad_apples.csv')"
   ]
  },
  {
   "cell_type": "code",
   "execution_count": 34,
   "metadata": {},
   "outputs": [],
   "source": [
    "df = df[~df['file_name'].isin(bad_apples['file_name'])]"
   ]
  },
  {
   "cell_type": "markdown",
   "metadata": {},
   "source": [
    "Drop duplicates, duplicates were introduced from prodigy annotation tool. One of the reason we had to move away from it."
   ]
  },
  {
   "cell_type": "code",
   "execution_count": 35,
   "metadata": {},
   "outputs": [],
   "source": [
    "df.drop_duplicates(subset='file_name', keep=\"first\", inplace=True)"
   ]
  },
  {
   "cell_type": "markdown",
   "metadata": {},
   "source": [
    "### clean the combined tsv\n",
    "\n",
    "Remove unwanted characters and remove transcriptions with english characters"
   ]
  },
  {
   "cell_type": "code",
   "execution_count": 36,
   "metadata": {},
   "outputs": [
    {
     "name": "stdout",
     "output_type": "stream",
     "text": [
      "ཧིཧོ་ཧོ་ཧོ་ ཧ་ ཧ་ཧ་། འ་འ་འ་གྲོ། ཚ ར་སོང་ངེ་།  \n"
     ]
    }
   ],
   "source": [
    "import re\n",
    "def clean_transcription(text):\n",
    "    text = text.replace('\\n', ' ')\n",
    "    text = text.replace('\\t', ' ')\n",
    "    text = text.strip()\n",
    "    \n",
    "    text = re.sub(\"༌\", \"་\",text) # there are two type of 'tsak' let's normalize 0xf0b to 0xf0c\n",
    "    \n",
    "    text = re.sub(\"༎\", \"།\",text) # normalize double 'shae' 0xf0e to 0xf0d\n",
    "    text = re.sub(\"༔\", \"།\",text)\n",
    "    text = re.sub(\"༏\", \"།\",text)\n",
    "    text = re.sub(\"༐\", \"།\",text)\n",
    "\n",
    "    text = re.sub(\"ཽ\", \"ོ\",text) # normalize\n",
    "    text = re.sub(\"ཻ\", \"ེ\",text) # normalize \"᫥\"\n",
    "    \n",
    "    text = re.sub(r\"\\s+།\", \"།\", text)\n",
    "    text = re.sub(r\"།+\", \"།\", text)\n",
    "    text = re.sub(r\"།\", \"། \", text)\n",
    "    text = re.sub(r\"\\s+་\", \"་\", text)\n",
    "    text = re.sub(r\"་+\", \"་\", text)\n",
    "    text = re.sub(r\"\\s+\", \" \", text)\n",
    "    \n",
    "    text = re.sub(r\"ཧཧཧ+\", \"ཧཧཧ\", text)\n",
    "    text = re.sub(r'ཧི་ཧི་(ཧི་)+', r'ཧི་ཧི་ཧི་', text)\n",
    "    text = re.sub(r'ཧེ་ཧེ་(ཧེ་)+', r'ཧེ་ཧེ་ཧེ་', text)\n",
    "    text = re.sub(r'ཧ་ཧ་(ཧ་)+', r'ཧ་ཧ་ཧ་', text)\n",
    "    text = re.sub(r'ཧོ་ཧོ་(ཧོ་)+', r'ཧོ་ཧོ་ཧོ་', text)\n",
    "    text = re.sub(r'ཨོ་ཨོ་(ཨོ་)+', r'ཨོ་ཨོ་ཨོ་', text)\n",
    "\n",
    "    chars_to_ignore_regex = \"[\\,\\?\\.\\!\\-\\;\\:\\\"\\“\\%\\‘\\”\\�\\/\\{\\}\\(\\)༽》༼《༄༅༈༑༠'|·×༆༸༾ཿ྄྅྆྇ྋ࿒ᨵ​’„╗᩺╚༿᫥ྂ༊\u0001ྈ༁༂༃༇༈༉༒༷༺༻࿐࿑࿓࿔࿙࿚༴࿊]\"\n",
    "    text = re.sub(chars_to_ignore_regex, '', text)+\" \"\n",
    "    return text\n",
    "\n",
    "def check_if_regex(text):\n",
    "    text = str(text)\n",
    "    regex = re.compile(r'[a-zA-Z]+')\n",
    "    match = re.search(regex, text)\n",
    "    \n",
    "    return bool(match)\n",
    "    \n",
    "print(clean_transcription('ཧིཧོ་ཧོ་ཧོ་ཧོ་ཧོ་ཧོ་  ཧ་ ཧ་ཧ་། །  འ་༽འ་××འ༌༌༌༌༌༌༌གྲོ།ཚ ར་སོང་ངེ་། '))"
   ]
  },
  {
   "cell_type": "code",
   "execution_count": 37,
   "metadata": {},
   "outputs": [],
   "source": [
    "df = df[df['uni'].str.len() > 0]"
   ]
  },
  {
   "cell_type": "code",
   "execution_count": 38,
   "metadata": {},
   "outputs": [],
   "source": [
    "df = df[~df['uni'].apply(check_if_regex)]"
   ]
  },
  {
   "cell_type": "code",
   "execution_count": 39,
   "metadata": {},
   "outputs": [],
   "source": [
    "df['uni'] = df['uni'].map(clean_transcription)"
   ]
  },
  {
   "cell_type": "code",
   "execution_count": 40,
   "metadata": {},
   "outputs": [],
   "source": [
    "from datasets import Dataset\n",
    "common_voice_train = Dataset.from_pandas(df)"
   ]
  },
  {
   "cell_type": "code",
   "execution_count": 41,
   "metadata": {},
   "outputs": [],
   "source": [
    "def extract_all_chars(batch):\n",
    "    all_text = \" \".join(batch[\"uni\"])\n",
    "    vocab = list(set(all_text))\n",
    "    return {\"vocab\": [vocab], \"all_text\": [all_text]}"
   ]
  },
  {
   "cell_type": "code",
   "execution_count": 42,
   "metadata": {},
   "outputs": [
    {
     "data": {
      "application/vnd.jupyter.widget-view+json": {
       "model_id": "fbbbb1648e7e4e58a52d268f9d52c2f8",
       "version_major": 2,
       "version_minor": 0
      },
      "text/plain": [
       "Map:   0%|          | 0/938874 [00:00<?, ? examples/s]"
      ]
     },
     "metadata": {},
     "output_type": "display_data"
    }
   ],
   "source": [
    "vocab_train = common_voice_train.map(extract_all_chars, batched=True, batch_size=-1, keep_in_memory=True, remove_columns=common_voice_train.column_names)"
   ]
  },
  {
   "cell_type": "code",
   "execution_count": 43,
   "metadata": {},
   "outputs": [],
   "source": [
    "vocab_list = list(set(vocab_train[\"vocab\"][0]))"
   ]
  },
  {
   "cell_type": "code",
   "execution_count": 44,
   "metadata": {},
   "outputs": [],
   "source": [
    "vocab_dict = {v: k for k, v in enumerate(vocab_list)}"
   ]
  },
  {
   "cell_type": "code",
   "execution_count": 45,
   "metadata": {},
   "outputs": [],
   "source": [
    "all = ''\n",
    "for c in vocab_dict:\n",
    "    all += c"
   ]
  },
  {
   "cell_type": "code",
   "execution_count": 46,
   "metadata": {},
   "outputs": [
    {
     "name": "stdout",
     "output_type": "stream",
     "text": [
      "num of unique chars: 113\n",
      "  0 1 2 3 4 5 6 7 8 9 ༀ ་ ། ༡ ༢ ༣ ༤ ༥ ༦ ༧ ༨ ༩ ཀ ཁ ག གྷ ང ཅ ཆ ཇ ཉ ཊ ཋ ཌ ཌྷ ཎ ཏ ཐ ད དྷ ན པ ཕ བ བྷ མ ཙ ཚ ཛ ཝ ཞ ཟ འ ཡ ར ལ ཤ ཥ ས ཧ ཨ ཀྵ ཪ ཱ ི ཱི ུ ཱུ ཷ ེ ོ ཾ ྀ ཱྀ ྃ ྐ ྑ ྒ ྔ ྕ ྖ ྗ ྙ ྚ ྛ ྜ ྞ ྟ ྠ ྡ ྡྷ ྣ ྤ ྥ ྦ ྦྷ ྨ ྩ ྪ ྫ ྭ ྰ ྱ ྲ ླ ྴ ྵ ྶ ྷ ྸ ྻ ྼ\n",
      "\n",
      " ཨ0ཨ1ཨ2ཨ3ཨ4ཨ5ཨ6ཨ7ཨ8ཨ9ཨༀཨ་ཨ།ཨ༡ཨ༢ཨ༣ཨ༤ཨ༥ཨ༦ཨ༧ཨ༨ཨ༩ཨཀཨཁཨགཨགྷཨངཨཅཨཆཨཇཨཉཨཊཨཋཨཌཨཌྷཨཎཨཏཨཐཨདཨདྷཨནཨཔཨཕཨབཨབྷཨམཨཙཨཚཨཛཨཝཨཞཨཟཨའཨཡཨརཨལཨཤཨཥཨསཨཧཨཨཨཀྵཨཪཨཱཨིཨཱིཨུཨཱུཨཷཨེཨོཨཾཨྀཨཱྀཨྃཨྐཨྑཨྒཨྔཨྕཨྖཨྗཨྙཨྚཨྛཨྜཨྞཨྟཨྠཨྡཨྡྷཨྣཨྤཨྥཨྦཨྦྷཨྨཨྩཨྪཨྫཨྭཨྰཨྱཨྲཨླཨྴཨྵཨྶཨྷཨྸཨྻཨྼ\n"
     ]
    }
   ],
   "source": [
    "sorted(all)\n",
    "print(\"num of unique chars:\", len(all))\n",
    "x=\" \".join([str(i) for i in sorted(all)])\n",
    "print(x)\n",
    "\n",
    "print()\n",
    "\n",
    "x=\"ཨ\".join([str(i) for i in sorted(all)])\n",
    "print(x)"
   ]
  },
  {
   "cell_type": "code",
   "execution_count": 47,
   "metadata": {},
   "outputs": [
    {
     "name": "stdout",
     "output_type": "stream",
     "text": [
      "Requirement already satisfied: pyewts in ./.env/lib/python3.10/site-packages (0.2.0)\n"
     ]
    }
   ],
   "source": [
    "! pip install pyewts"
   ]
  },
  {
   "cell_type": "markdown",
   "metadata": {},
   "source": [
    "### Convert unicode tibetan characters into wylie format"
   ]
  },
  {
   "cell_type": "code",
   "execution_count": 48,
   "metadata": {},
   "outputs": [],
   "source": [
    "import pyewts\n",
    "\n",
    "converter = pyewts.pyewts()\n",
    "\n",
    "df['wylie'] = df['uni'].apply(converter.toWylie)"
   ]
  },
  {
   "cell_type": "code",
   "execution_count": 49,
   "metadata": {},
   "outputs": [],
   "source": [
    "df['char_len'] = df['uni'].str.len()"
   ]
  },
  {
   "cell_type": "code",
   "execution_count": 50,
   "metadata": {},
   "outputs": [
    {
     "name": "stdout",
     "output_type": "stream",
     "text": [
      "Requirement already satisfied: matplotlib in ./.env/lib/python3.10/site-packages (3.8.2)\n",
      "Requirement already satisfied: pyparsing>=2.3.1 in ./.env/lib/python3.10/site-packages (from matplotlib) (3.1.1)\n",
      "Requirement already satisfied: numpy<2,>=1.21 in ./.env/lib/python3.10/site-packages (from matplotlib) (1.26.3)\n",
      "Requirement already satisfied: cycler>=0.10 in ./.env/lib/python3.10/site-packages (from matplotlib) (0.12.1)\n",
      "Requirement already satisfied: packaging>=20.0 in ./.env/lib/python3.10/site-packages (from matplotlib) (23.2)\n",
      "Requirement already satisfied: contourpy>=1.0.1 in ./.env/lib/python3.10/site-packages (from matplotlib) (1.2.0)\n",
      "Requirement already satisfied: fonttools>=4.22.0 in ./.env/lib/python3.10/site-packages (from matplotlib) (4.47.0)\n",
      "Requirement already satisfied: kiwisolver>=1.3.1 in ./.env/lib/python3.10/site-packages (from matplotlib) (1.4.5)\n",
      "Requirement already satisfied: python-dateutil>=2.7 in ./.env/lib/python3.10/site-packages (from matplotlib) (2.8.2)\n",
      "Requirement already satisfied: pillow>=8 in ./.env/lib/python3.10/site-packages (from matplotlib) (10.2.0)\n",
      "Requirement already satisfied: six>=1.5 in ./.env/lib/python3.10/site-packages (from python-dateutil>=2.7->matplotlib) (1.16.0)\n"
     ]
    }
   ],
   "source": [
    "! pip install matplotlib"
   ]
  },
  {
   "cell_type": "code",
   "execution_count": 51,
   "metadata": {},
   "outputs": [
    {
     "data": {
      "text/plain": [
       "<Axes: >"
      ]
     },
     "execution_count": 51,
     "metadata": {},
     "output_type": "execute_result"
    },
    {
     "data": {
      "image/png": "[encoded data removed]",
      "text/plain": [
       "<Figure size 640x480 with 1 Axes>"
      ]
     },
     "metadata": {},
     "output_type": "display_data"
    }
   ],
   "source": [
    "df['char_len'].hist(bins=100, range=(0, 300))"
   ]
  },
  {
   "cell_type": "code",
   "execution_count": 52,
   "metadata": {},
   "outputs": [
    {
     "data": {
      "text/plain": [
       "count    938874.000000\n",
       "mean         69.354987\n",
       "std          47.410640\n",
       "min           1.000000\n",
       "25%          34.000000\n",
       "50%          58.000000\n",
       "75%          94.000000\n",
       "max         394.000000\n",
       "Name: char_len, dtype: float64"
      ]
     },
     "execution_count": 52,
     "metadata": {},
     "output_type": "execute_result"
    }
   ],
   "source": [
    "df['char_len'].describe()"
   ]
  },
  {
   "cell_type": "code",
   "execution_count": 53,
   "metadata": {},
   "outputs": [
    {
     "data": {
      "text/plain": [
       "938874"
      ]
     },
     "execution_count": 53,
     "metadata": {},
     "output_type": "execute_result"
    }
   ],
   "source": [
    "df.shape[0]"
   ]
  },
  {
   "cell_type": "code",
   "execution_count": 54,
   "metadata": {},
   "outputs": [],
   "source": [
    "upper_cutoff = 400\n",
    "lower_cutoff = 5"
   ]
  },
  {
   "cell_type": "code",
   "execution_count": 55,
   "metadata": {},
   "outputs": [
    {
     "data": {
      "text/plain": [
       "(0, 3867)"
      ]
     },
     "execution_count": 55,
     "metadata": {},
     "output_type": "execute_result"
    }
   ],
   "source": [
    "df[df['char_len'] > upper_cutoff].shape[0], df[df['char_len'] < lower_cutoff].shape[0]"
   ]
  },
  {
   "cell_type": "code",
   "execution_count": 56,
   "metadata": {},
   "outputs": [],
   "source": [
    "df[df['char_len'] > upper_cutoff][['uni', 'url', 'char_len']].sort_values(by='char_len').to_csv('04_longer_than_upper_cutoff.csv', index=False)"
   ]
  },
  {
   "cell_type": "code",
   "execution_count": 57,
   "metadata": {},
   "outputs": [],
   "source": [
    "df[df['char_len'] < lower_cutoff][['uni', 'url', 'char_len']].sort_values(by='char_len').to_csv('04_shorter_than_lower_cutoff.csv', index=False)"
   ]
  },
  {
   "cell_type": "code",
   "execution_count": 58,
   "metadata": {},
   "outputs": [],
   "source": [
    "df = df[(df['char_len'] < upper_cutoff) & (df['char_len'] > lower_cutoff)]"
   ]
  },
  {
   "cell_type": "code",
   "execution_count": 59,
   "metadata": {},
   "outputs": [
    {
     "data": {
      "text/plain": [
       "931778"
      ]
     },
     "execution_count": 59,
     "metadata": {},
     "output_type": "execute_result"
    }
   ],
   "source": [
    "df.shape[0]"
   ]
  },
  {
   "cell_type": "markdown",
   "metadata": {},
   "source": [
    "### Get the audio time duration from the file name. \n",
    "\n",
    "There is to format for encoding the time span. We use the one with \\_to\\_ now. The difference came from the using a different library to do the Voice Activity Detection and splitting the audio for Tibetan Teachings. We have since started using pyannote-audio for all departments now."
   ]
  },
  {
   "cell_type": "code",
   "execution_count": 60,
   "metadata": {},
   "outputs": [
    {
     "data": {
      "text/plain": [
       "5.5900000000001455"
      ]
     },
     "execution_count": 60,
     "metadata": {},
     "output_type": "execute_result"
    }
   ],
   "source": [
    "def getTimeSpan(filename):\n",
    "\n",
    "    filename = filename.replace(\".wav\", \"\")\n",
    "    filename = filename.replace(\".WAV\", \"\")\n",
    "    filename = filename.replace(\".mp3\", \"\")\n",
    "    filename = filename.replace(\".MP3\", \"\")\n",
    "    try:\n",
    "        if \"_to_\" in filename:\n",
    "            start, end = filename.split(\"_to_\")\n",
    "            start = start.split(\"_\")[-1]\n",
    "            end = end.split(\"_\")[0]\n",
    "            end = float(end)\n",
    "            start = float(start)\n",
    "            return abs(end - start)/1000\n",
    "        else:\n",
    "            start, end = filename.split(\"-\")\n",
    "            start = start.split(\"_\")[-1]\n",
    "            end = end.split(\"_\")[0]\n",
    "            end =   float(end)\n",
    "            start = float(start)\n",
    "            return abs(end - start)\n",
    "    except Exception as err:\n",
    "        print(f\"filename is:'{filename}'. Could not parse to get time span.\")\n",
    "        return 0\n",
    "    \n",
    "\n",
    "getTimeSpan(\"STT_TT00031_03471.850-03477.44\")"
   ]
  },
  {
   "cell_type": "code",
   "execution_count": 61,
   "metadata": {},
   "outputs": [],
   "source": [
    "df['audio_len'] = df['file_name'].apply(getTimeSpan)"
   ]
  },
  {
   "cell_type": "code",
   "execution_count": 62,
   "metadata": {},
   "outputs": [
    {
     "data": {
      "text/plain": [
       "count    931778.000000\n",
       "mean          3.887354\n",
       "std           2.744716\n",
       "min           0.200000\n",
       "25%           1.850000\n",
       "50%           2.950000\n",
       "75%           5.598000\n",
       "max          13.650000\n",
       "Name: audio_len, dtype: float64"
      ]
     },
     "execution_count": 62,
     "metadata": {},
     "output_type": "execute_result"
    }
   ],
   "source": [
    "df['audio_len'].describe()"
   ]
  },
  {
   "cell_type": "code",
   "execution_count": 63,
   "metadata": {},
   "outputs": [
    {
     "data": {
      "text/plain": [
       "<Axes: >"
      ]
     },
     "execution_count": 63,
     "metadata": {},
     "output_type": "execute_result"
    },
    {
     "data": {
      "image/png": "[encoded data removed]",
      "text/plain": [
       "<Figure size 640x480 with 1 Axes>"
      ]
     },
     "metadata": {},
     "output_type": "display_data"
    }
   ],
   "source": [
    "df['audio_len'].hist(bins=100, range=(0, 15))"
   ]
  },
  {
   "cell_type": "code",
   "execution_count": 64,
   "metadata": {},
   "outputs": [],
   "source": [
    "df['url'] = 'https://d38pmlk0v88drf.cloudfront.net/wav16k/' + df['file_name'] + '.wav'"
   ]
  },
  {
   "cell_type": "code",
   "execution_count": 65,
   "metadata": {},
   "outputs": [],
   "source": [
    "df['url'] = df['url'].map(lambda x : x.replace('#','%23'))"
   ]
  },
  {
   "cell_type": "code",
   "execution_count": 66,
   "metadata": {},
   "outputs": [],
   "source": [
    "df = df[['file_name','uni', 'wylie', 'url', 'dept', 'grade', 'char_len',  'audio_len']]"
   ]
  },
  {
   "cell_type": "code",
   "execution_count": 67,
   "metadata": {},
   "outputs": [
    {
     "data": {
      "text/html": [
       "<div>\n",
       "<style scoped>\n",
       "    .dataframe tbody tr th:only-of-type {\n",
       "        vertical-align: middle;\n",
       "    }\n",
       "\n",
       "    .dataframe tbody tr th {\n",
       "        vertical-align: top;\n",
       "    }\n",
       "\n",
       "    .dataframe thead th {\n",
       "        text-align: right;\n",
       "    }\n",
       "</style>\n",
       "<table border=\"1\" class=\"dataframe\">\n",
       "  <thead>\n",
       "    <tr style=\"text-align: right;\">\n",
       "      <th></th>\n",
       "      <th>file_name</th>\n",
       "      <th>uni</th>\n",
       "      <th>wylie</th>\n",
       "      <th>url</th>\n",
       "      <th>dept</th>\n",
       "      <th>grade</th>\n",
       "      <th>char_len</th>\n",
       "      <th>audio_len</th>\n",
       "    </tr>\n",
       "  </thead>\n",
       "  <tbody>\n",
       "    <tr>\n",
       "      <th>0</th>\n",
       "      <td>STT_AB00565_0410_1675759_to_1682175</td>\n",
       "      <td>དེ་ལ་བརྟེན་ནས་མེ་དང་བུད་ཤིང་ལ་རང་བཞིན་མེད་དོ་ས...</td>\n",
       "      <td>de la brten nas me dang bud shing la rang bzhi...</td>\n",
       "      <td>https://d38pmlk0v88drf.cloudfront.net/wav16k/S...</td>\n",
       "      <td>STT_AB</td>\n",
       "      <td>2</td>\n",
       "      <td>75</td>\n",
       "      <td>6.416</td>\n",
       "    </tr>\n",
       "    <tr>\n",
       "      <th>1</th>\n",
       "      <td>STT_AB00565_0412_1692363_to_1693165</td>\n",
       "      <td>ཐལ་འགྱུར་ནི་</td>\n",
       "      <td>thal 'gyur ni _</td>\n",
       "      <td>https://d38pmlk0v88drf.cloudfront.net/wav16k/S...</td>\n",
       "      <td>STT_AB</td>\n",
       "      <td>2</td>\n",
       "      <td>13</td>\n",
       "      <td>0.802</td>\n",
       "    </tr>\n",
       "    <tr>\n",
       "      <th>2</th>\n",
       "      <td>STT_AB00565_0415_1709513_to_1713421</td>\n",
       "      <td>ཕ་རོལ་པོ་ལ་མི་འདོད་པ་འཕེན་པ་འདི་འདྲ་རྣམས་ཡིན་པས་</td>\n",
       "      <td>pha rol po la mi 'dod pa 'phen pa 'di 'dra rna...</td>\n",
       "      <td>https://d38pmlk0v88drf.cloudfront.net/wav16k/S...</td>\n",
       "      <td>STT_AB</td>\n",
       "      <td>2</td>\n",
       "      <td>49</td>\n",
       "      <td>3.908</td>\n",
       "    </tr>\n",
       "    <tr>\n",
       "      <th>3</th>\n",
       "      <td>STT_AB00565_0416_1714087_to_1717790</td>\n",
       "      <td>དེས་མཚོན་ནས་ཐལ་བ་གཞན་རྣམས་ཀྱང་རྟོགས་པར་བྱའོ།</td>\n",
       "      <td>des mtshon nas thal ba gzhan rnams kyang rtogs...</td>\n",
       "      <td>https://d38pmlk0v88drf.cloudfront.net/wav16k/S...</td>\n",
       "      <td>STT_AB</td>\n",
       "      <td>2</td>\n",
       "      <td>46</td>\n",
       "      <td>3.703</td>\n",
       "    </tr>\n",
       "    <tr>\n",
       "      <th>4</th>\n",
       "      <td>STT_AB00565_0424_1767704_to_1769104</td>\n",
       "      <td>དཔང་པོ་རྒོལ་བ་དང་</td>\n",
       "      <td>dpang po rgol ba dang _</td>\n",
       "      <td>https://d38pmlk0v88drf.cloudfront.net/wav16k/S...</td>\n",
       "      <td>STT_AB</td>\n",
       "      <td>2</td>\n",
       "      <td>18</td>\n",
       "      <td>1.400</td>\n",
       "    </tr>\n",
       "  </tbody>\n",
       "</table>\n",
       "</div>"
      ],
      "text/plain": [
       "                             file_name  \\\n",
       "0  STT_AB00565_0410_1675759_to_1682175   \n",
       "1  STT_AB00565_0412_1692363_to_1693165   \n",
       "2  STT_AB00565_0415_1709513_to_1713421   \n",
       "3  STT_AB00565_0416_1714087_to_1717790   \n",
       "4  STT_AB00565_0424_1767704_to_1769104   \n",
       "\n",
       "                                                 uni  \\\n",
       "0  དེ་ལ་བརྟེན་ནས་མེ་དང་བུད་ཤིང་ལ་རང་བཞིན་མེད་དོ་ས...   \n",
       "1                                      ཐལ་འགྱུར་ནི་    \n",
       "2  ཕ་རོལ་པོ་ལ་མི་འདོད་པ་འཕེན་པ་འདི་འདྲ་རྣམས་ཡིན་པས་    \n",
       "3     དེས་མཚོན་ནས་ཐལ་བ་གཞན་རྣམས་ཀྱང་རྟོགས་པར་བྱའོ།     \n",
       "4                                 དཔང་པོ་རྒོལ་བ་དང་    \n",
       "\n",
       "                                               wylie  \\\n",
       "0  de la brten nas me dang bud shing la rang bzhi...   \n",
       "1                                    thal 'gyur ni _   \n",
       "2  pha rol po la mi 'dod pa 'phen pa 'di 'dra rna...   \n",
       "3  des mtshon nas thal ba gzhan rnams kyang rtogs...   \n",
       "4                            dpang po rgol ba dang _   \n",
       "\n",
       "                                                 url    dept  grade  char_len  \\\n",
       "0  https://d38pmlk0v88drf.cloudfront.net/wav16k/S...  STT_AB      2        75   \n",
       "1  https://d38pmlk0v88drf.cloudfront.net/wav16k/S...  STT_AB      2        13   \n",
       "2  https://d38pmlk0v88drf.cloudfront.net/wav16k/S...  STT_AB      2        49   \n",
       "3  https://d38pmlk0v88drf.cloudfront.net/wav16k/S...  STT_AB      2        46   \n",
       "4  https://d38pmlk0v88drf.cloudfront.net/wav16k/S...  STT_AB      2        18   \n",
       "\n",
       "   audio_len  \n",
       "0      6.416  \n",
       "1      0.802  \n",
       "2      3.908  \n",
       "3      3.703  \n",
       "4      1.400  "
      ]
     },
     "execution_count": 67,
     "metadata": {},
     "output_type": "execute_result"
    }
   ],
   "source": [
    "df.head()"
   ]
  },
  {
   "cell_type": "code",
   "execution_count": 68,
   "metadata": {},
   "outputs": [],
   "source": [
    "df.to_csv('04_combine_all.csv', index=False)"
   ]
  },
  {
   "cell_type": "code",
   "execution_count": 69,
   "metadata": {},
   "outputs": [
    {
     "name": "stdout",
     "output_type": "stream",
     "text": [
      "upload: ./04_combine_all.csv to s3://monlam.ai.stt/tsv/04_combine_all.csv\n"
     ]
    }
   ],
   "source": [
    "! aws s3 cp 04_combine_all.csv s3://monlam.ai.stt/tsv/04_combine_all.csv"
   ]
  },
  {
   "cell_type": "code",
   "execution_count": 42,
   "metadata": {},
   "outputs": [
    {
     "name": "stdout",
     "output_type": "stream",
     "text": [
      "upload: ./04_bad_apples.csv to s3://monlam.ai.stt/tsv/04_bad_apples.csv\n"
     ]
    }
   ],
   "source": [
    "! aws s3 cp 04_bad_apples.csv s3://monlam.ai.stt/tsv/04_bad_apples.csv"
   ]
  },
  {
   "cell_type": "code",
   "execution_count": 70,
   "metadata": {},
   "outputs": [
    {
     "data": {
      "text/plain": [
       "uni\n",
       "False    931512\n",
       "True        266\n",
       "Name: count, dtype: int64"
      ]
     },
     "execution_count": 70,
     "metadata": {},
     "output_type": "execute_result"
    }
   ],
   "source": [
    "df['uni'].str.contains('ཧཧཧ').value_counts()"
   ]
  },
  {
   "cell_type": "code",
   "execution_count": 2,
   "metadata": {},
   "outputs": [],
   "source": [
    "import pandas as pd\n",
    "\n",
    "df = pd.read_csv('04_combine_all.csv')"
   ]
  },
  {
   "cell_type": "markdown",
   "metadata": {},
   "source": [
    "#### Hours in each department"
   ]
  },
  {
   "cell_type": "code",
   "execution_count": 3,
   "metadata": {},
   "outputs": [
    {
     "data": {
      "text/plain": [
       "931778"
      ]
     },
     "execution_count": 3,
     "metadata": {},
     "output_type": "execute_result"
    }
   ],
   "source": [
    "len(df)"
   ]
  },
  {
   "cell_type": "code",
   "execution_count": 72,
   "metadata": {},
   "outputs": [
    {
     "data": {
      "text/plain": [
       "dept\n",
       "STT_AB    114741\n",
       "STT_CS     77101\n",
       "STT_HS      1822\n",
       "STT_MV     94931\n",
       "STT_NS    143316\n",
       "STT_NW     19766\n",
       "STT_PC     33350\n",
       "STT_TT    446751\n",
       "Name: file_name, dtype: int64"
      ]
     },
     "execution_count": 72,
     "metadata": {},
     "output_type": "execute_result"
    }
   ],
   "source": [
    "df.groupby('dept')['file_name'].count()"
   ]
  },
  {
   "cell_type": "code",
   "execution_count": 73,
   "metadata": {},
   "outputs": [
    {
     "data": {
      "text/plain": [
       "dept\n",
       "STT_AB    145.645170\n",
       "STT_CS    123.581195\n",
       "STT_HS      2.354211\n",
       "STT_MV    162.835781\n",
       "STT_NS    203.442304\n",
       "STT_NW     34.788784\n",
       "STT_PC     33.256663\n",
       "STT_TT    300.248855\n",
       "Name: audio_len, dtype: float64"
      ]
     },
     "execution_count": 73,
     "metadata": {},
     "output_type": "execute_result"
    }
   ],
   "source": [
    "df.groupby('dept')['audio_len'].sum()/60/60"
   ]
  },
  {
   "cell_type": "markdown",
   "metadata": {},
   "source": [
    "#### Total hours"
   ]
  },
  {
   "cell_type": "code",
   "execution_count": 74,
   "metadata": {},
   "outputs": [
    {
     "data": {
      "text/plain": [
       "1006.1529627777776"
      ]
     },
     "execution_count": 74,
     "metadata": {},
     "output_type": "execute_result"
    }
   ],
   "source": [
    "df['audio_len'].sum()/60/60"
   ]
  },
  {
   "cell_type": "code",
   "execution_count": 57,
   "metadata": {},
   "outputs": [],
   "source": [
    "# df.sort_values(by='audio_len', ascending=False, inplace=True)\n",
    "df = df.sample(frac = 1)"
   ]
  },
  {
   "cell_type": "code",
   "execution_count": 58,
   "metadata": {},
   "outputs": [
    {
     "data": {
      "text/html": [
       "<div>\n",
       "<style scoped>\n",
       "    .dataframe tbody tr th:only-of-type {\n",
       "        vertical-align: middle;\n",
       "    }\n",
       "\n",
       "    .dataframe tbody tr th {\n",
       "        vertical-align: top;\n",
       "    }\n",
       "\n",
       "    .dataframe thead th {\n",
       "        text-align: right;\n",
       "    }\n",
       "</style>\n",
       "<table border=\"1\" class=\"dataframe\">\n",
       "  <thead>\n",
       "    <tr style=\"text-align: right;\">\n",
       "      <th></th>\n",
       "      <th>file_name</th>\n",
       "      <th>uni</th>\n",
       "      <th>url</th>\n",
       "      <th>grade</th>\n",
       "    </tr>\n",
       "  </thead>\n",
       "  <tbody>\n",
       "    <tr>\n",
       "      <th>520082</th>\n",
       "      <td>STT_CS-D-2019-M-D-B02-0-R-02_0031_208542_to_21...</td>\n",
       "      <td>གཅིག་བལྟ་ཡ་ཡིན་བེ། འགྲོ་དང་ང་ཚོ་གཉིས་རྩེད་མོ་ར...</td>\n",
       "      <td>https://d38pmlk0v88drf.cloudfront.net/wav16k/S...</td>\n",
       "      <td>3.0</td>\n",
       "    </tr>\n",
       "    <tr>\n",
       "      <th>936632</th>\n",
       "      <td>STT_TT00364_0068_360213_to_364117</td>\n",
       "      <td>དཔེ་ཆ་བལྟས། ཡག་པོ་བྱས་བསྡད་བཞག་དུས། དྭ་དཔེ་ཆ་ཐ...</td>\n",
       "      <td>https://d38pmlk0v88drf.cloudfront.net/wav16k/S...</td>\n",
       "      <td>NaN</td>\n",
       "    </tr>\n",
       "    <tr>\n",
       "      <th>287848</th>\n",
       "      <td>STT_TT00238_00301.900-00303.950</td>\n",
       "      <td>སང་ཉིན་ཞོགས་ཉལ་ཟེར་དུས། འདམ་པ་འདྲ་ཞིག་རྒྱག་ཨ་བ...</td>\n",
       "      <td>https://d38pmlk0v88drf.cloudfront.net/wav16k/S...</td>\n",
       "      <td>3.0</td>\n",
       "    </tr>\n",
       "    <tr>\n",
       "      <th>344811</th>\n",
       "      <td>STT_TT00311_907.400-909.200</td>\n",
       "      <td>པ་བས་ཆང་འདྲ་ཅིག་བཏུང་། ཨ་མས་ཆང་འདྲ་ཅིག་བཏུང་།</td>\n",
       "      <td>https://d38pmlk0v88drf.cloudfront.net/wav16k/S...</td>\n",
       "      <td>3.0</td>\n",
       "    </tr>\n",
       "    <tr>\n",
       "      <th>816691</th>\n",
       "      <td>STT_CS-D-2011-M-D-B08-5-R-02a_0026_204010_to_2...</td>\n",
       "      <td>ངའི་མིང་ནི་ག་རེ་ལབ་རེད་དོན་འགྲུབ་རེད། ཨེ་ནས་ཧི...</td>\n",
       "      <td>https://d38pmlk0v88drf.cloudfront.net/wav16k/S...</td>\n",
       "      <td>NaN</td>\n",
       "    </tr>\n",
       "  </tbody>\n",
       "</table>\n",
       "</div>"
      ],
      "text/plain": [
       "                                                file_name  \\\n",
       "520082  STT_CS-D-2019-M-D-B02-0-R-02_0031_208542_to_21...   \n",
       "936632                  STT_TT00364_0068_360213_to_364117   \n",
       "287848                    STT_TT00238_00301.900-00303.950   \n",
       "344811                        STT_TT00311_907.400-909.200   \n",
       "816691  STT_CS-D-2011-M-D-B08-5-R-02a_0026_204010_to_2...   \n",
       "\n",
       "                                                      uni  \\\n",
       "520082  གཅིག་བལྟ་ཡ་ཡིན་བེ། འགྲོ་དང་ང་ཚོ་གཉིས་རྩེད་མོ་ར...   \n",
       "936632  དཔེ་ཆ་བལྟས། ཡག་པོ་བྱས་བསྡད་བཞག་དུས། དྭ་དཔེ་ཆ་ཐ...   \n",
       "287848  སང་ཉིན་ཞོགས་ཉལ་ཟེར་དུས། འདམ་པ་འདྲ་ཞིག་རྒྱག་ཨ་བ...   \n",
       "344811    པ་བས་ཆང་འདྲ་ཅིག་བཏུང་། ཨ་མས་ཆང་འདྲ་ཅིག་བཏུང་།     \n",
       "816691  ངའི་མིང་ནི་ག་རེ་ལབ་རེད་དོན་འགྲུབ་རེད། ཨེ་ནས་ཧི...   \n",
       "\n",
       "                                                      url  grade  \n",
       "520082  https://d38pmlk0v88drf.cloudfront.net/wav16k/S...    3.0  \n",
       "936632  https://d38pmlk0v88drf.cloudfront.net/wav16k/S...    NaN  \n",
       "287848  https://d38pmlk0v88drf.cloudfront.net/wav16k/S...    3.0  \n",
       "344811  https://d38pmlk0v88drf.cloudfront.net/wav16k/S...    3.0  \n",
       "816691  https://d38pmlk0v88drf.cloudfront.net/wav16k/S...    NaN  "
      ]
     },
     "execution_count": 58,
     "metadata": {},
     "output_type": "execute_result"
    }
   ],
   "source": [
    "df.iloc[0:100,[0, 1, 3, 5]].to_csv(\"04_random_100.csv\", index=False)\n",
    "df.iloc[0:100,[0, 1, 3, 5]].head()"
   ]
  },
  {
   "cell_type": "code",
   "execution_count": 56,
   "metadata": {},
   "outputs": [
    {
     "data": {
      "text/plain": [
       "dept\n",
       "STT_AB     38459\n",
       "STT_CS     41644\n",
       "STT_MV     59732\n",
       "STT_NS    105580\n",
       "STT_PC     32363\n",
       "STT_TT    142476\n",
       "dtype: int64"
      ]
     },
     "execution_count": 56,
     "metadata": {},
     "output_type": "execute_result"
    }
   ],
   "source": [
    "df[df['grade'] == 3].groupby('dept').size()"
   ]
  },
  {
   "cell_type": "code",
   "execution_count": 75,
   "metadata": {},
   "outputs": [
    {
     "data": {
      "text/plain": [
       "791.6778944444444"
      ]
     },
     "execution_count": 75,
     "metadata": {},
     "output_type": "execute_result"
    }
   ],
   "source": [
    "df[df['grade'] == 3]['audio_len'].sum()/60/60"
   ]
  }
 ],
 "metadata": {
  "kernelspec": {
   "display_name": ".env",
   "language": "python",
   "name": "python3"
  },
  "language_info": {
   "codemirror_mode": {
    "name": "ipython",
    "version": 3
   },
   "file_extension": ".py",
   "mimetype": "text/x-python",
   "name": "python",
   "nbconvert_exporter": "python",
   "pygments_lexer": "ipython3",
   "version": "3.10.12"
  }
 },
 "nbformat": 4,
 "nbformat_minor": 2
}
