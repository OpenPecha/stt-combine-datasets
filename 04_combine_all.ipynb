{
 "cells": [
  {
   "cell_type": "markdown",
   "metadata": {},
   "source": [
    "# Combine all the data into once dataset\n",
    "\n",
    "Once you've run the following notebooks,\n",
    "- 01_stt_pecha_tools.ipynb\n",
    "- 02_prodigy.ipynb\n",
    "- 03_mv_saymore.ipynb\n",
    "\n",
    "You get the following tsv files\n",
    "- 01_stt_pecha_tools.tsv\n",
    "- 02_prodigy.tsv\n",
    "- 03_mv_saymore.tsv\n",
    "\n",
    "Concatenate the tsv files and clean the data"
   ]
  },
  {
   "cell_type": "code",
   "execution_count": 1,
   "metadata": {},
   "outputs": [],
   "source": [
    "stt_pecha_tools = \"01_stt_pecha_tools.csv\"\n",
    "prodigy =         \"02_prodigy_finalised.csv\""
   ]
  },
  {
   "cell_type": "code",
   "execution_count": 2,
   "metadata": {},
   "outputs": [],
   "source": [
    "import pandas as pd\n",
    "pecha_tools_df = pd.read_csv(stt_pecha_tools)\n",
    "prodigy_df = pd.read_csv(prodigy)"
   ]
  },
  {
   "cell_type": "code",
   "execution_count": 3,
   "metadata": {},
   "outputs": [],
   "source": [
    "prodigy_df = prodigy_df.rename(columns={'id': 'file_name', 'transcript':'uni'})"
   ]
  },
  {
   "cell_type": "code",
   "execution_count": 4,
   "metadata": {},
   "outputs": [],
   "source": [
    "df = pd.concat([pecha_tools_df, prodigy_df], ignore_index=True)"
   ]
  },
  {
   "cell_type": "code",
   "execution_count": 5,
   "metadata": {},
   "outputs": [],
   "source": [
    "bad_apples = pd.read_csv('04_bad_apples.csv')"
   ]
  },
  {
   "cell_type": "code",
   "execution_count": 6,
   "metadata": {},
   "outputs": [],
   "source": [
    "df = df[~df['file_name'].isin(bad_apples['file_name'])]"
   ]
  },
  {
   "cell_type": "markdown",
   "metadata": {},
   "source": [
    "Drop duplicates, duplicates were introduced from prodigy annotation tool. One of the reason we had to move away from it."
   ]
  },
  {
   "cell_type": "code",
   "execution_count": 7,
   "metadata": {},
   "outputs": [],
   "source": [
    "df.drop_duplicates(subset='file_name', keep=\"first\", inplace=True)"
   ]
  },
  {
   "cell_type": "markdown",
   "metadata": {},
   "source": [
    "### clean the combined tsv\n",
    "\n",
    "Remove unwanted characters and remove transcriptions with english characters"
   ]
  },
  {
   "cell_type": "code",
   "execution_count": 8,
   "metadata": {},
   "outputs": [
    {
     "name": "stdout",
     "output_type": "stream",
     "text": [
      "False\n",
      "True\n"
     ]
    }
   ],
   "source": [
    "import re\n",
    "def clean_transcription(text):\n",
    "    text = text.replace('\\n', ' ')\n",
    "    text = text.replace('\\t', ' ')\n",
    "    text = text.strip()\n",
    "    \n",
    "    text = re.sub(\"༌\", \"་\",text) # there are two type of 'tsak' let's normalize 0xf0b to 0xf0c\n",
    "    text = re.sub(\"༎\", \"།\",text) # normalize double 'shae' 0xf0e to 0xf0d\n",
    "    \n",
    "    text = re.sub(\"ཽ\", \"ོ\",text) # normalize\n",
    "    text = re.sub(\"ཻ\", \"ེ\",text) # normalize \"᫥\"\n",
    "    \n",
    "    text = re.sub(r\"\\s+།\", \"།\", text)\n",
    "    text = re.sub(r\"།+\", \"།\", text)\n",
    "    text = re.sub(r\"།\", \"། \", text)\n",
    "    text = re.sub(r\"\\s+་\", \"་\", text)\n",
    "    text = re.sub(r\"་+\", \"་\", text)\n",
    "    text = re.sub(r\"\\s+\", \" \", text)\n",
    "    \n",
    "    text = re.sub(r\"ཧཧཧ+\", \"ཧཧཧ\", text)\n",
    "    # text = re.sub(r'འེ་འེ་(འེ་)+', r'འེ་འེ་འེ་', text)\n",
    "    text = re.sub(r'ཧ་ཧ་(ཧ་)+', r'ཧ་ཧ་ཧ་', text)\n",
    "\n",
    "    chars_to_ignore_regex = \"[\\,\\?\\.\\!\\-\\;\\:\\\"\\“\\%\\‘\\”\\�\\/\\{\\}\\(\\)༽》༼《༅༄༈༑༠'|·×༆༔༷༸༾ཿ྄྅྆྇ྋ࿒ᨵ​’„╗╚᫥ྂ]\"\n",
    "    text = re.sub(chars_to_ignore_regex, '', text)+\" \"\n",
    "    return text\n",
    "\n",
    "def check_if_regex(text):\n",
    "    text = str(text)\n",
    "    regex = re.compile(r'[a-zA-Z]+')\n",
    "    match = re.search(regex, text)\n",
    "    \n",
    "    return bool(match)\n",
    "    \n",
    "print(clean_transcription('ཧཧཧཧ་  ཧ་ ཧ་ཧ་།   འ་༽འ་××འ༌༌༌༌༌༌༌གྲོ།ཚ ར་སོང་ངེ་། '))"
   ]
  },
  {
   "cell_type": "code",
   "execution_count": 9,
   "metadata": {},
   "outputs": [],
   "source": [
    "df = df[df['uni'].str.len() > 0]"
   ]
  },
  {
   "cell_type": "code",
   "execution_count": 10,
   "metadata": {},
   "outputs": [],
   "source": [
    "df = df[~df['uni'].apply(check_if_regex)]"
   ]
  },
  {
   "cell_type": "code",
   "execution_count": 11,
   "metadata": {},
   "outputs": [],
   "source": [
    "df['uni'] = df['uni'].map(clean_transcription)"
   ]
  },
  {
   "cell_type": "code",
   "execution_count": 12,
   "metadata": {},
   "outputs": [],
   "source": [
    "from datasets import Dataset\n",
    "common_voice_train = Dataset.from_pandas(df)"
   ]
  },
  {
   "cell_type": "code",
   "execution_count": 13,
   "metadata": {},
   "outputs": [],
   "source": [
    "def extract_all_chars(batch):\n",
    "    all_text = \" \".join(batch[\"uni\"])\n",
    "    vocab = list(set(all_text))\n",
    "    return {\"vocab\": [vocab], \"all_text\": [all_text]}"
   ]
  },
  {
   "cell_type": "code",
   "execution_count": 14,
   "metadata": {},
   "outputs": [
    {
     "data": {
      "application/vnd.jupyter.widget-view+json": {
       "model_id": "8f74973fadee43d1bbcb3b6878450026",
       "version_major": 2,
       "version_minor": 0
      },
      "text/plain": [
       "Map:   0%|          | 0/721058 [00:00<?, ? examples/s]"
      ]
     },
     "metadata": {},
     "output_type": "display_data"
    }
   ],
   "source": [
    "vocab_train = common_voice_train.map(extract_all_chars, batched=True, batch_size=-1, keep_in_memory=True, remove_columns=common_voice_train.column_names)"
   ]
  },
  {
   "cell_type": "code",
   "execution_count": 15,
   "metadata": {},
   "outputs": [],
   "source": [
    "vocab_list = list(set(vocab_train[\"vocab\"][0]))"
   ]
  },
  {
   "cell_type": "code",
   "execution_count": 16,
   "metadata": {},
   "outputs": [],
   "source": [
    "vocab_dict = {v: k for k, v in enumerate(vocab_list)}"
   ]
  },
  {
   "cell_type": "code",
   "execution_count": 17,
   "metadata": {},
   "outputs": [],
   "source": [
    "all = ''\n",
    "for c in vocab_dict:\n",
    "    all += c"
   ]
  },
  {
   "cell_type": "code",
   "execution_count": 19,
   "metadata": {},
   "outputs": [
    {
     "name": "stdout",
     "output_type": "stream",
     "text": [
      "num of unique chars: 103\n",
      "   ༀ  ་  །  ༡  ༢  ༣  ༤  ༥  ༦  ༧  ༨  ༩  ཀ  ཁ  ག  གྷ  ང  ཅ  ཆ  ཇ  ཉ  ཊ  ཋ  ཌ  ཌྷ  ཎ  ཏ  ཐ  ད  དྷ  ན  པ  ཕ  བ  བྷ  མ  ཙ  ཚ  ཛ  ཝ  ཞ  ཟ  འ  ཡ  ར  ལ  ཤ  ཥ  ས  ཧ  ཨ  ཀྵ  ཪ  ཱ  ི  ཱི  ུ  ཱུ  ཷ  ེ  ོ  ཾ  ྀ  ཱྀ  ྃ  ྐ  ྑ  ྒ  ྔ  ྕ  ྖ  ྗ  ྙ  ྚ  ྛ  ྜ  ྞ  ྟ  ྠ  ྡ  ྡྷ  ྣ  ྤ  ྥ  ྦ  ྦྷ  ྨ  ྩ  ྪ  ྫ  ྭ  ྰ  ྱ  ྲ  ླ  ྴ  ྵ  ྶ  ྷ  ྸ  ྻ  ྼ\n",
      "\n",
      " ཨༀཨ་ཨ།ཨ༡ཨ༢ཨ༣ཨ༤ཨ༥ཨ༦ཨ༧ཨ༨ཨ༩ཨཀཨཁཨགཨགྷཨངཨཅཨཆཨཇཨཉཨཊཨཋཨཌཨཌྷཨཎཨཏཨཐཨདཨདྷཨནཨཔཨཕཨབཨབྷཨམཨཙཨཚཨཛཨཝཨཞཨཟཨའཨཡཨརཨལཨཤཨཥཨསཨཧཨཨཨཀྵཨཪཨཱཨིཨཱིཨུཨཱུཨཷཨེཨོཨཾཨྀཨཱྀཨྃཨྐཨྑཨྒཨྔཨྕཨྖཨྗཨྙཨྚཨྛཨྜཨྞཨྟཨྠཨྡཨྡྷཨྣཨྤཨྥཨྦཨྦྷཨྨཨྩཨྪཨྫཨྭཨྰཨྱཨྲཨླཨྴཨྵཨྶཨྷཨྸཨྻཨྼ\n"
     ]
    }
   ],
   "source": [
    "sorted(all)\n",
    "print(\"num of unique chars:\", len(all))\n",
    "x=\"  \".join([str(i) for i in sorted(all)])\n",
    "print(x)\n",
    "\n",
    "print()\n",
    "\n",
    "x=\"ཨ\".join([str(i) for i in sorted(all)])\n",
    "print(x)"
   ]
  },
  {
   "cell_type": "code",
   "execution_count": null,
   "metadata": {},
   "outputs": [],
   "source": [
    "! pip install pyewts"
   ]
  },
  {
   "cell_type": "markdown",
   "metadata": {},
   "source": [
    "### Convert unicode tibetan characters into wylie format"
   ]
  },
  {
   "cell_type": "code",
   "execution_count": 20,
   "metadata": {},
   "outputs": [],
   "source": [
    "import pyewts\n",
    "\n",
    "converter = pyewts.pyewts()\n",
    "\n",
    "df['wylie'] = df['uni'].apply(converter.toWylie)"
   ]
  },
  {
   "cell_type": "code",
   "execution_count": 21,
   "metadata": {},
   "outputs": [],
   "source": [
    "df['char_len'] = df['uni'].str.len()"
   ]
  },
  {
   "cell_type": "code",
   "execution_count": null,
   "metadata": {},
   "outputs": [],
   "source": [
    "! pip install matplotlib"
   ]
  },
  {
   "cell_type": "code",
   "execution_count": 22,
   "metadata": {},
   "outputs": [
    {
     "data": {
      "text/plain": [
       "<Axes: >"
      ]
     },
     "execution_count": 22,
     "metadata": {},
     "output_type": "execute_result"
    },
    {
     "data": {
      "image/png": "[encoded data removed]",
      "text/plain": [
       "<Figure size 640x480 with 1 Axes>"
      ]
     },
     "metadata": {},
     "output_type": "display_data"
    }
   ],
   "source": [
    "df['char_len'].hist(bins=100, range=(0, 300))"
   ]
  },
  {
   "cell_type": "code",
   "execution_count": 23,
   "metadata": {},
   "outputs": [
    {
     "data": {
      "text/plain": [
       "count    721058.000000\n",
       "mean         63.667956\n",
       "std          46.416247\n",
       "min           1.000000\n",
       "25%          29.000000\n",
       "50%          52.000000\n",
       "75%          85.000000\n",
       "max         385.000000\n",
       "Name: char_len, dtype: float64"
      ]
     },
     "execution_count": 23,
     "metadata": {},
     "output_type": "execute_result"
    }
   ],
   "source": [
    "df['char_len'].describe()"
   ]
  },
  {
   "cell_type": "code",
   "execution_count": 24,
   "metadata": {},
   "outputs": [
    {
     "data": {
      "text/plain": [
       "721058"
      ]
     },
     "execution_count": 24,
     "metadata": {},
     "output_type": "execute_result"
    }
   ],
   "source": [
    "df.shape[0]"
   ]
  },
  {
   "cell_type": "code",
   "execution_count": 25,
   "metadata": {},
   "outputs": [],
   "source": [
    "upper_cutoff = 400\n",
    "lower_cutoff = 5"
   ]
  },
  {
   "cell_type": "code",
   "execution_count": 26,
   "metadata": {},
   "outputs": [
    {
     "data": {
      "text/plain": [
       "(0, 6032)"
      ]
     },
     "execution_count": 26,
     "metadata": {},
     "output_type": "execute_result"
    }
   ],
   "source": [
    "df[df['char_len'] > upper_cutoff].shape[0], df[df['char_len'] < lower_cutoff].shape[0]"
   ]
  },
  {
   "cell_type": "code",
   "execution_count": 28,
   "metadata": {},
   "outputs": [],
   "source": [
    "df[df['char_len'] > upper_cutoff][['uni', 'url', 'char_len']].sort_values(by='char_len').to_csv('04_longer_than_upper_cutoff.csv', index=False)"
   ]
  },
  {
   "cell_type": "code",
   "execution_count": 29,
   "metadata": {},
   "outputs": [],
   "source": [
    "df[df['char_len'] < lower_cutoff][['uni', 'url', 'char_len']].sort_values(by='char_len').to_csv('04_shorter_than_lower_cutoff.csv', index=False)"
   ]
  },
  {
   "cell_type": "code",
   "execution_count": 30,
   "metadata": {},
   "outputs": [],
   "source": [
    "df = df[(df['char_len'] < upper_cutoff) & (df['char_len'] > lower_cutoff)]"
   ]
  },
  {
   "cell_type": "code",
   "execution_count": 31,
   "metadata": {},
   "outputs": [
    {
     "data": {
      "text/plain": [
       "713118"
      ]
     },
     "execution_count": 31,
     "metadata": {},
     "output_type": "execute_result"
    }
   ],
   "source": [
    "df.shape[0]"
   ]
  },
  {
   "cell_type": "markdown",
   "metadata": {},
   "source": [
    "### Get the audio time duration from the file name. \n",
    "\n",
    "There is to format for encoding the time span. We use the one with \\_to\\_ now. The difference came from the using a different library to do the Voice Activity Detection and splitting the audio for Tibetan Teachings. We have since started using pyannote-audio for all departments now."
   ]
  },
  {
   "cell_type": "code",
   "execution_count": 32,
   "metadata": {},
   "outputs": [
    {
     "data": {
      "text/plain": [
       "5.5900000000001455"
      ]
     },
     "execution_count": 32,
     "metadata": {},
     "output_type": "execute_result"
    }
   ],
   "source": [
    "def getTimeSpan(filename):\n",
    "\n",
    "    filename = filename.replace(\".wav\", \"\")\n",
    "    filename = filename.replace(\".WAV\", \"\")\n",
    "    filename = filename.replace(\".mp3\", \"\")\n",
    "    filename = filename.replace(\".MP3\", \"\")\n",
    "    try:\n",
    "        if \"_to_\" in filename:\n",
    "            start, end = filename.split(\"_to_\")\n",
    "            start = start.split(\"_\")[-1]\n",
    "            end = end.split(\"_\")[0]\n",
    "            end = float(end)\n",
    "            start = float(start)\n",
    "            return abs(end - start)/1000\n",
    "        else:\n",
    "            start, end = filename.split(\"-\")\n",
    "            start = start.split(\"_\")[-1]\n",
    "            end = end.split(\"_\")[0]\n",
    "            end =   float(end)\n",
    "            start = float(start)\n",
    "            return abs(end - start)\n",
    "    except Exception as err:\n",
    "        print(f\"filename is:'{filename}'. Could not parse to get time span.\")\n",
    "        return 0\n",
    "    \n",
    "\n",
    "getTimeSpan(\"STT_TT00031_03471.850-03477.44\")"
   ]
  },
  {
   "cell_type": "code",
   "execution_count": 33,
   "metadata": {},
   "outputs": [],
   "source": [
    "df['audio_len'] = df['file_name'].apply(getTimeSpan)"
   ]
  },
  {
   "cell_type": "code",
   "execution_count": 34,
   "metadata": {},
   "outputs": [
    {
     "data": {
      "text/plain": [
       "count    713118.000000\n",
       "mean          3.451421\n",
       "std           2.631261\n",
       "min           0.200000\n",
       "25%           1.500000\n",
       "50%           2.560000\n",
       "75%           4.625000\n",
       "max          13.650000\n",
       "Name: audio_len, dtype: float64"
      ]
     },
     "execution_count": 34,
     "metadata": {},
     "output_type": "execute_result"
    }
   ],
   "source": [
    "df['audio_len'].describe()"
   ]
  },
  {
   "cell_type": "code",
   "execution_count": 35,
   "metadata": {},
   "outputs": [
    {
     "data": {
      "text/plain": [
       "<Axes: >"
      ]
     },
     "execution_count": 35,
     "metadata": {},
     "output_type": "execute_result"
    },
    {
     "data": {
      "image/png": "[encoded data removed]",
      "text/plain": [
       "<Figure size 640x480 with 1 Axes>"
      ]
     },
     "metadata": {},
     "output_type": "display_data"
    }
   ],
   "source": [
    "df['audio_len'].hist(bins=100, range=(0, 15))"
   ]
  },
  {
   "cell_type": "code",
   "execution_count": 36,
   "metadata": {},
   "outputs": [],
   "source": [
    "df['url'] = 'https://d38pmlk0v88drf.cloudfront.net/wav16k/' + df['file_name'] + '.wav'"
   ]
  },
  {
   "cell_type": "code",
   "execution_count": 37,
   "metadata": {},
   "outputs": [],
   "source": [
    "df['url'] = df['url'].map(lambda x : x.replace('#','%23'))"
   ]
  },
  {
   "cell_type": "code",
   "execution_count": 38,
   "metadata": {},
   "outputs": [],
   "source": [
    "df = df[['file_name','uni', 'wylie', 'url', 'dept', 'grade', 'char_len',  'audio_len']]"
   ]
  },
  {
   "cell_type": "code",
   "execution_count": 39,
   "metadata": {},
   "outputs": [
    {
     "data": {
      "text/html": [
       "<div>\n",
       "<style scoped>\n",
       "    .dataframe tbody tr th:only-of-type {\n",
       "        vertical-align: middle;\n",
       "    }\n",
       "\n",
       "    .dataframe tbody tr th {\n",
       "        vertical-align: top;\n",
       "    }\n",
       "\n",
       "    .dataframe thead th {\n",
       "        text-align: right;\n",
       "    }\n",
       "</style>\n",
       "<table border=\"1\" class=\"dataframe\">\n",
       "  <thead>\n",
       "    <tr style=\"text-align: right;\">\n",
       "      <th></th>\n",
       "      <th>file_name</th>\n",
       "      <th>uni</th>\n",
       "      <th>wylie</th>\n",
       "      <th>url</th>\n",
       "      <th>dept</th>\n",
       "      <th>grade</th>\n",
       "      <th>char_len</th>\n",
       "      <th>audio_len</th>\n",
       "    </tr>\n",
       "  </thead>\n",
       "  <tbody>\n",
       "    <tr>\n",
       "      <th>0</th>\n",
       "      <td>STT_NS_M0321_0472_3336783_to_3340138</td>\n",
       "      <td>སྔོན་འགོག་མ་བྱས་བ་ཡིན་ན་ལབ་དགོས་རཱ།ད་སྔོན་ནས་ཁ...</td>\n",
       "      <td>sngon 'gog ma byas ba yin na lab dgos rA/da sn...</td>\n",
       "      <td>https://d38pmlk0v88drf.cloudfront.net/wav16k/S...</td>\n",
       "      <td>STT_NS</td>\n",
       "      <td>3.0</td>\n",
       "      <td>86</td>\n",
       "      <td>3.355</td>\n",
       "    </tr>\n",
       "    <tr>\n",
       "      <th>1</th>\n",
       "      <td>STT_NS_M0321_0482_3402953_to_3405182</td>\n",
       "      <td>འབེལ་འབེལ་ལྷུག་ལྷུག་ཡོད་རཱ།སོ་སོ་ག་རེ་བཟའ་ན་ཡང...</td>\n",
       "      <td>'bel 'bel lhug lhug yod rA/so so ga re bza' na...</td>\n",
       "      <td>https://d38pmlk0v88drf.cloudfront.net/wav16k/S...</td>\n",
       "      <td>STT_NS</td>\n",
       "      <td>3.0</td>\n",
       "      <td>65</td>\n",
       "      <td>2.229</td>\n",
       "    </tr>\n",
       "    <tr>\n",
       "      <th>2</th>\n",
       "      <td>STT_NS_M0068_0003_15600_to_21102</td>\n",
       "      <td>དྲི་བ་འདི་ཡོད་བ་ཏོག་ཙི་དཀའ་ལས་ཁག་པོ་འདྲ་བོ་ཞིག...</td>\n",
       "      <td>dri ba 'di yod ba tog tsi dka' las khag po 'dr...</td>\n",
       "      <td>https://d38pmlk0v88drf.cloudfront.net/wav16k/S...</td>\n",
       "      <td>STT_NS</td>\n",
       "      <td>2.0</td>\n",
       "      <td>106</td>\n",
       "      <td>5.502</td>\n",
       "    </tr>\n",
       "    <tr>\n",
       "      <th>3</th>\n",
       "      <td>STT_NS_M0311_0108_714701_to_719069</td>\n",
       "      <td>ད་ང་རང་ཡང་མོ་ཡག་པོ་ཡོད་རེད།མོ་ལག་པ་ཤང་པོ་ཡོད་ར...</td>\n",
       "      <td>da nga rang yang mo yag po yod red/mo lag pa s...</td>\n",
       "      <td>https://d38pmlk0v88drf.cloudfront.net/wav16k/S...</td>\n",
       "      <td>STT_NS</td>\n",
       "      <td>3.0</td>\n",
       "      <td>89</td>\n",
       "      <td>4.368</td>\n",
       "    </tr>\n",
       "    <tr>\n",
       "      <th>4</th>\n",
       "      <td>STT_NS_M0311_0120_793916_to_797602</td>\n",
       "      <td>ཨེ་ནས་ཨ་རག་དང་ཨེ་འདྲའི་འདྲ་བོ་ལོངས་སྤྱོད་འདྲ་བ...</td>\n",
       "      <td>e nas a rag dang e 'dra'i 'dra bo longs spyod ...</td>\n",
       "      <td>https://d38pmlk0v88drf.cloudfront.net/wav16k/S...</td>\n",
       "      <td>STT_NS</td>\n",
       "      <td>3.0</td>\n",
       "      <td>61</td>\n",
       "      <td>3.686</td>\n",
       "    </tr>\n",
       "  </tbody>\n",
       "</table>\n",
       "</div>"
      ],
      "text/plain": [
       "                              file_name  \\\n",
       "0  STT_NS_M0321_0472_3336783_to_3340138   \n",
       "1  STT_NS_M0321_0482_3402953_to_3405182   \n",
       "2      STT_NS_M0068_0003_15600_to_21102   \n",
       "3    STT_NS_M0311_0108_714701_to_719069   \n",
       "4    STT_NS_M0311_0120_793916_to_797602   \n",
       "\n",
       "                                                 uni  \\\n",
       "0  སྔོན་འགོག་མ་བྱས་བ་ཡིན་ན་ལབ་དགོས་རཱ།ད་སྔོན་ནས་ཁ...   \n",
       "1  འབེལ་འབེལ་ལྷུག་ལྷུག་ཡོད་རཱ།སོ་སོ་ག་རེ་བཟའ་ན་ཡང...   \n",
       "2  དྲི་བ་འདི་ཡོད་བ་ཏོག་ཙི་དཀའ་ལས་ཁག་པོ་འདྲ་བོ་ཞིག...   \n",
       "3  ད་ང་རང་ཡང་མོ་ཡག་པོ་ཡོད་རེད།མོ་ལག་པ་ཤང་པོ་ཡོད་ར...   \n",
       "4  ཨེ་ནས་ཨ་རག་དང་ཨེ་འདྲའི་འདྲ་བོ་ལོངས་སྤྱོད་འདྲ་བ...   \n",
       "\n",
       "                                               wylie  \\\n",
       "0  sngon 'gog ma byas ba yin na lab dgos rA/da sn...   \n",
       "1  'bel 'bel lhug lhug yod rA/so so ga re bza' na...   \n",
       "2  dri ba 'di yod ba tog tsi dka' las khag po 'dr...   \n",
       "3  da nga rang yang mo yag po yod red/mo lag pa s...   \n",
       "4  e nas a rag dang e 'dra'i 'dra bo longs spyod ...   \n",
       "\n",
       "                                                 url    dept  grade  char_len  \\\n",
       "0  https://d38pmlk0v88drf.cloudfront.net/wav16k/S...  STT_NS    3.0        86   \n",
       "1  https://d38pmlk0v88drf.cloudfront.net/wav16k/S...  STT_NS    3.0        65   \n",
       "2  https://d38pmlk0v88drf.cloudfront.net/wav16k/S...  STT_NS    2.0       106   \n",
       "3  https://d38pmlk0v88drf.cloudfront.net/wav16k/S...  STT_NS    3.0        89   \n",
       "4  https://d38pmlk0v88drf.cloudfront.net/wav16k/S...  STT_NS    3.0        61   \n",
       "\n",
       "   audio_len  \n",
       "0      3.355  \n",
       "1      2.229  \n",
       "2      5.502  \n",
       "3      4.368  \n",
       "4      3.686  "
      ]
     },
     "execution_count": 39,
     "metadata": {},
     "output_type": "execute_result"
    }
   ],
   "source": [
    "df.head()"
   ]
  },
  {
   "cell_type": "code",
   "execution_count": 40,
   "metadata": {},
   "outputs": [],
   "source": [
    "df.to_csv('04_combine_all.csv', index=False)"
   ]
  },
  {
   "cell_type": "code",
   "execution_count": 41,
   "metadata": {},
   "outputs": [
    {
     "name": "stdout",
     "output_type": "stream",
     "text": [
      "upload: ./04_combine_all.csv to s3://monlam.ai.stt/tsv/04_combine_all.csv\n"
     ]
    }
   ],
   "source": [
    "! aws s3 cp 04_combine_all.csv s3://monlam.ai.stt/tsv/04_combine_all.csv"
   ]
  },
  {
   "cell_type": "code",
   "execution_count": 42,
   "metadata": {},
   "outputs": [
    {
     "name": "stdout",
     "output_type": "stream",
     "text": [
      "upload: ./04_bad_apples.csv to s3://monlam.ai.stt/tsv/04_bad_apples.csv\n"
     ]
    }
   ],
   "source": [
    "! aws s3 cp 04_bad_apples.csv s3://monlam.ai.stt/tsv/04_bad_apples.csv"
   ]
  },
  {
   "cell_type": "code",
   "execution_count": 40,
   "metadata": {},
   "outputs": [
    {
     "data": {
      "text/plain": [
       "uni\n",
       "False    713014\n",
       "True        104\n",
       "Name: count, dtype: int64"
      ]
     },
     "execution_count": 40,
     "metadata": {},
     "output_type": "execute_result"
    }
   ],
   "source": [
    "df['uni'].str.contains('ཧཧཧ').value_counts()"
   ]
  },
  {
   "cell_type": "code",
   "execution_count": 139,
   "metadata": {},
   "outputs": [],
   "source": [
    "import pandas as pd\n",
    "\n",
    "df = pd.read_csv('04_combine_all.csv')"
   ]
  },
  {
   "cell_type": "markdown",
   "metadata": {},
   "source": [
    "#### Hours in each department"
   ]
  },
  {
   "cell_type": "code",
   "execution_count": 41,
   "metadata": {},
   "outputs": [
    {
     "data": {
      "text/plain": [
       "dept\n",
       "STT_AB    113.049924\n",
       "STT_CS     98.375647\n",
       "STT_MV      8.113259\n",
       "STT_NS    173.804951\n",
       "STT_PC     15.606155\n",
       "STT_TT    274.736280\n",
       "Name: audio_len, dtype: float64"
      ]
     },
     "execution_count": 41,
     "metadata": {},
     "output_type": "execute_result"
    }
   ],
   "source": [
    "df.groupby('dept')['audio_len'].sum()/60/60"
   ]
  },
  {
   "cell_type": "markdown",
   "metadata": {},
   "source": [
    "#### Total hours"
   ]
  },
  {
   "cell_type": "code",
   "execution_count": 42,
   "metadata": {},
   "outputs": [
    {
     "data": {
      "text/plain": [
       "683.6862161111112"
      ]
     },
     "execution_count": 42,
     "metadata": {},
     "output_type": "execute_result"
    }
   ],
   "source": [
    "df['audio_len'].sum()/60/60"
   ]
  },
  {
   "cell_type": "code",
   "execution_count": 143,
   "metadata": {},
   "outputs": [],
   "source": [
    "# df.sort_values(by='audio_len', ascending=False, inplace=True)\n",
    "df = df.sample(frac = 1)"
   ]
  },
  {
   "cell_type": "code",
   "execution_count": 44,
   "metadata": {},
   "outputs": [
    {
     "data": {
      "text/html": [
       "<div>\n",
       "<style scoped>\n",
       "    .dataframe tbody tr th:only-of-type {\n",
       "        vertical-align: middle;\n",
       "    }\n",
       "\n",
       "    .dataframe tbody tr th {\n",
       "        vertical-align: top;\n",
       "    }\n",
       "\n",
       "    .dataframe thead th {\n",
       "        text-align: right;\n",
       "    }\n",
       "</style>\n",
       "<table border=\"1\" class=\"dataframe\">\n",
       "  <thead>\n",
       "    <tr style=\"text-align: right;\">\n",
       "      <th></th>\n",
       "      <th>file_name</th>\n",
       "      <th>uni</th>\n",
       "      <th>url</th>\n",
       "      <th>grade</th>\n",
       "    </tr>\n",
       "  </thead>\n",
       "  <tbody>\n",
       "    <tr>\n",
       "      <th>0</th>\n",
       "      <td>STT_NS_M0321_0472_3336783_to_3340138</td>\n",
       "      <td>སྔོན་འགོག་མ་བྱས་བ་ཡིན་ན་ལབ་དགོས་རཱ།ད་སྔོན་ནས་ཁ...</td>\n",
       "      <td>https://d38pmlk0v88drf.cloudfront.net/wav16k/S...</td>\n",
       "      <td>3.0</td>\n",
       "    </tr>\n",
       "    <tr>\n",
       "      <th>1</th>\n",
       "      <td>STT_NS_M0321_0482_3402953_to_3405182</td>\n",
       "      <td>འབེལ་འབེལ་ལྷུག་ལྷུག་ཡོད་རཱ།སོ་སོ་ག་རེ་བཟའ་ན་ཡང...</td>\n",
       "      <td>https://d38pmlk0v88drf.cloudfront.net/wav16k/S...</td>\n",
       "      <td>3.0</td>\n",
       "    </tr>\n",
       "    <tr>\n",
       "      <th>2</th>\n",
       "      <td>STT_NS_M0068_0003_15600_to_21102</td>\n",
       "      <td>དྲི་བ་འདི་ཡོད་བ་ཏོག་ཙི་དཀའ་ལས་ཁག་པོ་འདྲ་བོ་ཞིག...</td>\n",
       "      <td>https://d38pmlk0v88drf.cloudfront.net/wav16k/S...</td>\n",
       "      <td>2.0</td>\n",
       "    </tr>\n",
       "    <tr>\n",
       "      <th>3</th>\n",
       "      <td>STT_NS_M0311_0108_714701_to_719069</td>\n",
       "      <td>ད་ང་རང་ཡང་མོ་ཡག་པོ་ཡོད་རེད།མོ་ལག་པ་ཤང་པོ་ཡོད་ར...</td>\n",
       "      <td>https://d38pmlk0v88drf.cloudfront.net/wav16k/S...</td>\n",
       "      <td>3.0</td>\n",
       "    </tr>\n",
       "    <tr>\n",
       "      <th>4</th>\n",
       "      <td>STT_NS_M0311_0120_793916_to_797602</td>\n",
       "      <td>ཨེ་ནས་ཨ་རག་དང་ཨེ་འདྲའི་འདྲ་བོ་ལོངས་སྤྱོད་འདྲ་བ...</td>\n",
       "      <td>https://d38pmlk0v88drf.cloudfront.net/wav16k/S...</td>\n",
       "      <td>3.0</td>\n",
       "    </tr>\n",
       "  </tbody>\n",
       "</table>\n",
       "</div>"
      ],
      "text/plain": [
       "                              file_name  \\\n",
       "0  STT_NS_M0321_0472_3336783_to_3340138   \n",
       "1  STT_NS_M0321_0482_3402953_to_3405182   \n",
       "2      STT_NS_M0068_0003_15600_to_21102   \n",
       "3    STT_NS_M0311_0108_714701_to_719069   \n",
       "4    STT_NS_M0311_0120_793916_to_797602   \n",
       "\n",
       "                                                 uni  \\\n",
       "0  སྔོན་འགོག་མ་བྱས་བ་ཡིན་ན་ལབ་དགོས་རཱ།ད་སྔོན་ནས་ཁ...   \n",
       "1  འབེལ་འབེལ་ལྷུག་ལྷུག་ཡོད་རཱ།སོ་སོ་ག་རེ་བཟའ་ན་ཡང...   \n",
       "2  དྲི་བ་འདི་ཡོད་བ་ཏོག་ཙི་དཀའ་ལས་ཁག་པོ་འདྲ་བོ་ཞིག...   \n",
       "3  ད་ང་རང་ཡང་མོ་ཡག་པོ་ཡོད་རེད།མོ་ལག་པ་ཤང་པོ་ཡོད་ར...   \n",
       "4  ཨེ་ནས་ཨ་རག་དང་ཨེ་འདྲའི་འདྲ་བོ་ལོངས་སྤྱོད་འདྲ་བ...   \n",
       "\n",
       "                                                 url  grade  \n",
       "0  https://d38pmlk0v88drf.cloudfront.net/wav16k/S...    3.0  \n",
       "1  https://d38pmlk0v88drf.cloudfront.net/wav16k/S...    3.0  \n",
       "2  https://d38pmlk0v88drf.cloudfront.net/wav16k/S...    2.0  \n",
       "3  https://d38pmlk0v88drf.cloudfront.net/wav16k/S...    3.0  \n",
       "4  https://d38pmlk0v88drf.cloudfront.net/wav16k/S...    3.0  "
      ]
     },
     "execution_count": 44,
     "metadata": {},
     "output_type": "execute_result"
    }
   ],
   "source": [
    "df.iloc[0:100,[0, 1, 3, 5]].to_csv(\"04_random_100.csv\", index=False)\n",
    "df.iloc[0:100,[0, 1, 3, 5]].head()"
   ]
  },
  {
   "cell_type": "code",
   "execution_count": 45,
   "metadata": {},
   "outputs": [
    {
     "data": {
      "text/plain": [
       "dept\n",
       "STT_AB     26132\n",
       "STT_CS     22699\n",
       "STT_NS     78979\n",
       "STT_PC      6036\n",
       "STT_TT    129288\n",
       "dtype: int64"
      ]
     },
     "execution_count": 45,
     "metadata": {},
     "output_type": "execute_result"
    }
   ],
   "source": [
    "df[df['grade'] == 3].groupby('dept').size()"
   ]
  }
 ],
 "metadata": {
  "kernelspec": {
   "display_name": ".env",
   "language": "python",
   "name": "python3"
  },
  "language_info": {
   "codemirror_mode": {
    "name": "ipython",
    "version": 3
   },
   "file_extension": ".py",
   "mimetype": "text/x-python",
   "name": "python",
   "nbconvert_exporter": "python",
   "pygments_lexer": "ipython3",
   "version": "3.10.12"
  }
 },
 "nbformat": 4,
 "nbformat_minor": 2
}
