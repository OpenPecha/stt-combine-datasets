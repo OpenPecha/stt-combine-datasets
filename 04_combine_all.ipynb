{
 "cells": [
  {
   "cell_type": "markdown",
   "metadata": {},
   "source": [
    "# Combine all the data into once dataset\n",
    "\n",
    "Once you've run the following notebooks,\n",
    "- 01_stt_pecha_tools.ipynb\n",
    "- 02_prodigy.ipynb\n",
    "- 03_mv_saymore.ipynb\n",
    "\n",
    "You get the following tsv files\n",
    "- 01_stt_pecha_tools.tsv\n",
    "- 02_prodigy.tsv\n",
    "- 03_mv_saymore.tsv\n",
    "\n",
    "Concatenate the tsv files and clean the data"
   ]
  },
  {
   "cell_type": "code",
   "execution_count": 1,
   "metadata": {},
   "outputs": [],
   "source": [
    "stt_pecha_tools = \"01_stt_pecha_tools.csv\"\n",
    "prodigy =         \"02_prodigy_finalised.csv\""
   ]
  },
  {
   "cell_type": "code",
   "execution_count": 2,
   "metadata": {},
   "outputs": [],
   "source": [
    "import pandas as pd\n",
    "pecha_tools_df = pd.read_csv(stt_pecha_tools)\n",
    "prodigy_df = pd.read_csv(prodigy)"
   ]
  },
  {
   "cell_type": "code",
   "execution_count": 3,
   "metadata": {},
   "outputs": [
    {
     "data": {
      "text/html": [
       "<div>\n",
       "<style scoped>\n",
       "    .dataframe tbody tr th:only-of-type {\n",
       "        vertical-align: middle;\n",
       "    }\n",
       "\n",
       "    .dataframe tbody tr th {\n",
       "        vertical-align: top;\n",
       "    }\n",
       "\n",
       "    .dataframe thead th {\n",
       "        text-align: right;\n",
       "    }\n",
       "</style>\n",
       "<table border=\"1\" class=\"dataframe\">\n",
       "  <thead>\n",
       "    <tr style=\"text-align: right;\">\n",
       "      <th></th>\n",
       "      <th>id</th>\n",
       "      <th>transcript</th>\n",
       "      <th>len</th>\n",
       "      <th>dept</th>\n",
       "    </tr>\n",
       "  </thead>\n",
       "  <tbody>\n",
       "    <tr>\n",
       "      <th>0</th>\n",
       "      <td>STT_TT00001_00233.450-00233.950</td>\n",
       "      <td>དེ་འདྲ་ཡིན་དུས་</td>\n",
       "      <td>15</td>\n",
       "      <td>STT_TT</td>\n",
       "    </tr>\n",
       "    <tr>\n",
       "      <th>1</th>\n",
       "      <td>STT_TT00001_00328.100-00329.300</td>\n",
       "      <td>ཨེ། དཔལ་མགོན་འཕགས་པ་ཀླུ་སྒྲུབ་ཀི་</td>\n",
       "      <td>33</td>\n",
       "      <td>STT_TT</td>\n",
       "    </tr>\n",
       "    <tr>\n",
       "      <th>2</th>\n",
       "      <td>STT_TT00001_00083.000-00083.750</td>\n",
       "      <td>ཉིན་རེ་ཉིན་རེའི།</td>\n",
       "      <td>16</td>\n",
       "      <td>STT_TT</td>\n",
       "    </tr>\n",
       "    <tr>\n",
       "      <th>3</th>\n",
       "      <td>STT_TT00001_00240.650-00241.550</td>\n",
       "      <td>འདིའི་གོང་ལ།</td>\n",
       "      <td>12</td>\n",
       "      <td>STT_TT</td>\n",
       "    </tr>\n",
       "    <tr>\n",
       "      <th>4</th>\n",
       "      <td>STT_TT00001_00102.350-00103.700</td>\n",
       "      <td>ཨེ་ནས་ཅིག་སེམས་འཁྲུགས་བསྡད་ཡ།</td>\n",
       "      <td>29</td>\n",
       "      <td>STT_TT</td>\n",
       "    </tr>\n",
       "  </tbody>\n",
       "</table>\n",
       "</div>"
      ],
      "text/plain": [
       "                                id                         transcript  len  \\\n",
       "0  STT_TT00001_00233.450-00233.950                    དེ་འདྲ་ཡིན་དུས་   15   \n",
       "1  STT_TT00001_00328.100-00329.300  ཨེ། དཔལ་མགོན་འཕགས་པ་ཀླུ་སྒྲུབ་ཀི་   33   \n",
       "2  STT_TT00001_00083.000-00083.750                   ཉིན་རེ་ཉིན་རེའི།   16   \n",
       "3  STT_TT00001_00240.650-00241.550                       འདིའི་གོང་ལ།   12   \n",
       "4  STT_TT00001_00102.350-00103.700      ཨེ་ནས་ཅིག་སེམས་འཁྲུགས་བསྡད་ཡ།   29   \n",
       "\n",
       "     dept  \n",
       "0  STT_TT  \n",
       "1  STT_TT  \n",
       "2  STT_TT  \n",
       "3  STT_TT  \n",
       "4  STT_TT  "
      ]
     },
     "execution_count": 3,
     "metadata": {},
     "output_type": "execute_result"
    }
   ],
   "source": [
    "prodigy_df.head()"
   ]
  },
  {
   "cell_type": "code",
   "execution_count": 4,
   "metadata": {},
   "outputs": [
    {
     "data": {
      "text/html": [
       "<div>\n",
       "<style scoped>\n",
       "    .dataframe tbody tr th:only-of-type {\n",
       "        vertical-align: middle;\n",
       "    }\n",
       "\n",
       "    .dataframe tbody tr th {\n",
       "        vertical-align: top;\n",
       "    }\n",
       "\n",
       "    .dataframe thead th {\n",
       "        text-align: right;\n",
       "    }\n",
       "</style>\n",
       "<table border=\"1\" class=\"dataframe\">\n",
       "  <thead>\n",
       "    <tr style=\"text-align: right;\">\n",
       "      <th></th>\n",
       "      <th>file_name</th>\n",
       "      <th>uni</th>\n",
       "      <th>len</th>\n",
       "      <th>dept</th>\n",
       "    </tr>\n",
       "  </thead>\n",
       "  <tbody>\n",
       "    <tr>\n",
       "      <th>0</th>\n",
       "      <td>STT_TT00001_00233.450-00233.950</td>\n",
       "      <td>དེ་འདྲ་ཡིན་དུས་</td>\n",
       "      <td>15</td>\n",
       "      <td>STT_TT</td>\n",
       "    </tr>\n",
       "    <tr>\n",
       "      <th>1</th>\n",
       "      <td>STT_TT00001_00328.100-00329.300</td>\n",
       "      <td>ཨེ། དཔལ་མགོན་འཕགས་པ་ཀླུ་སྒྲུབ་ཀི་</td>\n",
       "      <td>33</td>\n",
       "      <td>STT_TT</td>\n",
       "    </tr>\n",
       "    <tr>\n",
       "      <th>2</th>\n",
       "      <td>STT_TT00001_00083.000-00083.750</td>\n",
       "      <td>ཉིན་རེ་ཉིན་རེའི།</td>\n",
       "      <td>16</td>\n",
       "      <td>STT_TT</td>\n",
       "    </tr>\n",
       "    <tr>\n",
       "      <th>3</th>\n",
       "      <td>STT_TT00001_00240.650-00241.550</td>\n",
       "      <td>འདིའི་གོང་ལ།</td>\n",
       "      <td>12</td>\n",
       "      <td>STT_TT</td>\n",
       "    </tr>\n",
       "    <tr>\n",
       "      <th>4</th>\n",
       "      <td>STT_TT00001_00102.350-00103.700</td>\n",
       "      <td>ཨེ་ནས་ཅིག་སེམས་འཁྲུགས་བསྡད་ཡ།</td>\n",
       "      <td>29</td>\n",
       "      <td>STT_TT</td>\n",
       "    </tr>\n",
       "  </tbody>\n",
       "</table>\n",
       "</div>"
      ],
      "text/plain": [
       "                         file_name                                uni  len  \\\n",
       "0  STT_TT00001_00233.450-00233.950                    དེ་འདྲ་ཡིན་དུས་   15   \n",
       "1  STT_TT00001_00328.100-00329.300  ཨེ། དཔལ་མགོན་འཕགས་པ་ཀླུ་སྒྲུབ་ཀི་   33   \n",
       "2  STT_TT00001_00083.000-00083.750                   ཉིན་རེ་ཉིན་རེའི།   16   \n",
       "3  STT_TT00001_00240.650-00241.550                       འདིའི་གོང་ལ།   12   \n",
       "4  STT_TT00001_00102.350-00103.700      ཨེ་ནས་ཅིག་སེམས་འཁྲུགས་བསྡད་ཡ།   29   \n",
       "\n",
       "     dept  \n",
       "0  STT_TT  \n",
       "1  STT_TT  \n",
       "2  STT_TT  \n",
       "3  STT_TT  \n",
       "4  STT_TT  "
      ]
     },
     "execution_count": 4,
     "metadata": {},
     "output_type": "execute_result"
    }
   ],
   "source": [
    "prodigy_df = prodigy_df.rename(columns={'id': 'file_name', 'transcript':'uni'})\n",
    "prodigy_df.head()"
   ]
  },
  {
   "cell_type": "code",
   "execution_count": 5,
   "metadata": {},
   "outputs": [],
   "source": [
    "df = pd.concat([pecha_tools_df, prodigy_df], ignore_index=True)"
   ]
  },
  {
   "cell_type": "code",
   "execution_count": 6,
   "metadata": {},
   "outputs": [],
   "source": [
    "bad_apples = pd.read_csv('04_bad_apples.csv')"
   ]
  },
  {
   "cell_type": "code",
   "execution_count": 7,
   "metadata": {},
   "outputs": [],
   "source": [
    "df = df[~df['file_name'].isin(bad_apples['file_name'])]"
   ]
  },
  {
   "cell_type": "markdown",
   "metadata": {},
   "source": [
    "Drop duplicates, duplicates were introduced from prodigy annotation tool. One of the reason we had to move away from it."
   ]
  },
  {
   "cell_type": "code",
   "execution_count": 8,
   "metadata": {},
   "outputs": [],
   "source": [
    "df.drop_duplicates(subset='file_name', keep=\"first\", inplace=True)"
   ]
  },
  {
   "cell_type": "markdown",
   "metadata": {},
   "source": [
    "### clean the combined tsv\n",
    "\n",
    "Remove unwanted characters and remove transcriptions with english characters"
   ]
  },
  {
   "cell_type": "code",
   "execution_count": 9,
   "metadata": {},
   "outputs": [
    {
     "name": "stdout",
     "output_type": "stream",
     "text": [
      "False\n",
      "True\n"
     ]
    }
   ],
   "source": [
    "import re\n",
    "def clean_transcription(text):\n",
    "    text = text.replace('\\n', ' ')\n",
    "    text = text.replace('\\t', ' ')\n",
    "    text = text.strip()\n",
    "\n",
    "    text = re.sub(\"༌\", \"་\",text) # there are two type of 'tsak' let's normalize 0xf0b to 0xf0c\n",
    "    text = re.sub(\"༎\", \"།\",text) # normalize double 'shae' 0xf0e to 0xf0d\n",
    "\n",
    "    text = re.sub(\"ཽ\", \"ོ\",text) # normalize\n",
    "    text = re.sub(\"ཻ\", \"ེ\",text) # normalize\n",
    "\n",
    "    text = re.sub(r\"་+\", \"་\", text)\n",
    "    text = re.sub(r\"།+\", \"།\", text)\n",
    "    text = re.sub(r\"\\s+\", \" \", text)\n",
    "    text = re.sub(r\"\\s+།\", \"།\", text)\n",
    "\n",
    "    text = re.sub(r\"ཧཧཧ+\", \"ཧཧཧ\", text)\n",
    "    text = re.sub(r'འེ་འེ་(འེ་)+', r'འེ་འེ་འེ་', text)\n",
    "    text = re.sub(r'ཧ་ཧ་(ཧ་)+', r'ཧ་ཧ་ཧ་', text)\n",
    "\n",
    "    chars_to_ignore_regex = '[\\,\\?\\.\\!\\-\\;\\:\\\"\\“\\%\\‘\\”\\�\\/\\{\\}\\(\\)\\༽\\》\\༼\\《\\༅\\༄\\༈\\༑\\༠\\\u0001\\'\\|\\·\\×\\༆\\༌\\༎\\༔\\༷\\༸\\༾\\ཿ\\྄\\྅\\྆\\྇\\ྋ\\࿒\\ᨵ\\​\\’\\„\\╗\\╚]'\n",
    "    \n",
    "    text = re.sub(chars_to_ignore_regex, '', text)+\" \"\n",
    "    return text\n",
    "\n",
    "def check_if_regex(text):\n",
    "    text = str(text)\n",
    "    regex = re.compile(r'[0-9a-zA-Z]+')\n",
    "    match = re.search(regex, text)\n",
    "    \n",
    "    return bool(match)\n",
    "    \n",
    "print(check_if_regex('ཧཧ'))\n",
    "print(check_if_regex('some text'))"
   ]
  },
  {
   "cell_type": "code",
   "execution_count": 10,
   "metadata": {},
   "outputs": [],
   "source": [
    "df = df[df['uni'].str.len() > 0]"
   ]
  },
  {
   "cell_type": "code",
   "execution_count": 11,
   "metadata": {},
   "outputs": [],
   "source": [
    "df = df[~df['uni'].apply(check_if_regex)]"
   ]
  },
  {
   "cell_type": "code",
   "execution_count": 12,
   "metadata": {},
   "outputs": [],
   "source": [
    "df['uni'] = df['uni'].map(clean_transcription)"
   ]
  },
  {
   "cell_type": "code",
   "execution_count": 13,
   "metadata": {},
   "outputs": [],
   "source": [
    "def extract_all_chars(text):\n",
    "    all_text = \" \".join(text)\n",
    "    vocab = list(set(all_text))\n",
    "    return {\"vocab\": [vocab], \"all_text\": [all_text]}"
   ]
  },
  {
   "cell_type": "code",
   "execution_count": 15,
   "metadata": {},
   "outputs": [
    {
     "name": "stdout",
     "output_type": "stream",
     "text": [
      "Collecting datasets\n",
      "  Using cached datasets-2.18.0-py3-none-any.whl (510 kB)\n",
      "Collecting fsspec[http]<=2024.2.0,>=2023.1.0\n",
      "  Using cached fsspec-2024.2.0-py3-none-any.whl (170 kB)\n",
      "Collecting pyarrow>=12.0.0\n",
      "  Using cached pyarrow-15.0.2-cp310-cp310-manylinux_2_28_x86_64.whl (38.3 MB)\n",
      "Collecting multiprocess\n",
      "  Using cached multiprocess-0.70.16-py310-none-any.whl (134 kB)\n",
      "Requirement already satisfied: requests>=2.19.0 in ./.env/lib/python3.10/site-packages (from datasets) (2.31.0)\n",
      "Requirement already satisfied: tqdm>=4.62.1 in ./.env/lib/python3.10/site-packages (from datasets) (4.66.1)\n",
      "Collecting xxhash\n",
      "  Using cached xxhash-3.4.1-cp310-cp310-manylinux_2_17_x86_64.manylinux2014_x86_64.whl (194 kB)\n",
      "Collecting filelock\n",
      "  Using cached filelock-3.13.3-py3-none-any.whl (11 kB)\n",
      "Collecting dill<0.3.9,>=0.3.0\n",
      "  Using cached dill-0.3.8-py3-none-any.whl (116 kB)\n",
      "Requirement already satisfied: pandas in ./.env/lib/python3.10/site-packages (from datasets) (2.1.4)\n",
      "Collecting huggingface-hub>=0.19.4\n",
      "  Using cached huggingface_hub-0.22.2-py3-none-any.whl (388 kB)\n",
      "Requirement already satisfied: pyyaml>=5.1 in ./.env/lib/python3.10/site-packages (from datasets) (6.0.1)\n",
      "Collecting pyarrow-hotfix\n",
      "  Using cached pyarrow_hotfix-0.6-py3-none-any.whl (7.9 kB)\n",
      "Requirement already satisfied: packaging in ./.env/lib/python3.10/site-packages (from datasets) (23.2)\n",
      "Collecting aiohttp\n",
      "  Using cached aiohttp-3.9.3-cp310-cp310-manylinux_2_17_x86_64.manylinux2014_x86_64.whl (1.2 MB)\n",
      "Requirement already satisfied: numpy>=1.17 in ./.env/lib/python3.10/site-packages (from datasets) (1.26.3)\n",
      "Collecting multidict<7.0,>=4.5\n",
      "  Using cached multidict-6.0.5-cp310-cp310-manylinux_2_17_x86_64.manylinux2014_x86_64.whl (124 kB)\n",
      "Collecting aiosignal>=1.1.2\n",
      "  Using cached aiosignal-1.3.1-py3-none-any.whl (7.6 kB)\n",
      "Collecting async-timeout<5.0,>=4.0\n",
      "  Using cached async_timeout-4.0.3-py3-none-any.whl (5.7 kB)\n",
      "Collecting yarl<2.0,>=1.0\n",
      "  Using cached yarl-1.9.4-cp310-cp310-manylinux_2_17_x86_64.manylinux2014_x86_64.whl (301 kB)\n",
      "Collecting frozenlist>=1.1.1\n",
      "  Using cached frozenlist-1.4.1-cp310-cp310-manylinux_2_5_x86_64.manylinux1_x86_64.manylinux_2_17_x86_64.manylinux2014_x86_64.whl (239 kB)\n",
      "Collecting attrs>=17.3.0\n",
      "  Using cached attrs-23.2.0-py3-none-any.whl (60 kB)\n",
      "Collecting typing-extensions>=3.7.4.3\n",
      "  Using cached typing_extensions-4.10.0-py3-none-any.whl (33 kB)\n",
      "Requirement already satisfied: certifi>=2017.4.17 in ./.env/lib/python3.10/site-packages (from requests>=2.19.0->datasets) (2023.11.17)\n",
      "Requirement already satisfied: urllib3<3,>=1.21.1 in ./.env/lib/python3.10/site-packages (from requests>=2.19.0->datasets) (2.1.0)\n",
      "Requirement already satisfied: idna<4,>=2.5 in ./.env/lib/python3.10/site-packages (from requests>=2.19.0->datasets) (3.6)\n",
      "Requirement already satisfied: charset-normalizer<4,>=2 in ./.env/lib/python3.10/site-packages (from requests>=2.19.0->datasets) (3.3.2)\n",
      "Requirement already satisfied: pytz>=2020.1 in ./.env/lib/python3.10/site-packages (from pandas->datasets) (2023.3.post1)\n",
      "Requirement already satisfied: tzdata>=2022.1 in ./.env/lib/python3.10/site-packages (from pandas->datasets) (2023.4)\n",
      "Requirement already satisfied: python-dateutil>=2.8.2 in ./.env/lib/python3.10/site-packages (from pandas->datasets) (2.8.2)\n",
      "Requirement already satisfied: six>=1.5 in ./.env/lib/python3.10/site-packages (from python-dateutil>=2.8.2->pandas->datasets) (1.16.0)\n",
      "Installing collected packages: xxhash, typing-extensions, pyarrow-hotfix, pyarrow, multidict, fsspec, frozenlist, filelock, dill, attrs, async-timeout, yarl, multiprocess, huggingface-hub, aiosignal, aiohttp, datasets\n",
      "Successfully installed aiohttp-3.9.3 aiosignal-1.3.1 async-timeout-4.0.3 attrs-23.2.0 datasets-2.18.0 dill-0.3.8 filelock-3.13.3 frozenlist-1.4.1 fsspec-2024.2.0 huggingface-hub-0.22.2 multidict-6.0.5 multiprocess-0.70.16 pyarrow-15.0.2 pyarrow-hotfix-0.6 typing-extensions-4.10.0 xxhash-3.4.1 yarl-1.9.4\n"
     ]
    }
   ],
   "source": [
    "! pip install datasets"
   ]
  },
  {
   "cell_type": "code",
   "execution_count": 16,
   "metadata": {},
   "outputs": [],
   "source": [
    "from datasets import Dataset\n",
    "common_voice_train = Dataset.from_pandas(df)"
   ]
  },
  {
   "cell_type": "code",
   "execution_count": 17,
   "metadata": {},
   "outputs": [],
   "source": [
    "def extract_all_chars(batch):\n",
    "    all_text = \" \".join(batch[\"uni\"])\n",
    "    vocab = list(set(all_text))\n",
    "    return {\"vocab\": [vocab], \"all_text\": [all_text]}"
   ]
  },
  {
   "cell_type": "code",
   "execution_count": 18,
   "metadata": {},
   "outputs": [
    {
     "data": {
      "application/vnd.jupyter.widget-view+json": {
       "model_id": "1e6aa546112947078122d693a2ab3360",
       "version_major": 2,
       "version_minor": 0
      },
      "text/plain": [
       "Map:   0%|          | 0/705906 [00:00<?, ? examples/s]"
      ]
     },
     "metadata": {},
     "output_type": "display_data"
    }
   ],
   "source": [
    "vocab_train = common_voice_train.map(extract_all_chars, batched=True, batch_size=-1, keep_in_memory=True, remove_columns=common_voice_train.column_names)"
   ]
  },
  {
   "cell_type": "code",
   "execution_count": 19,
   "metadata": {},
   "outputs": [],
   "source": [
    "vocab_list = list(set(vocab_train[\"vocab\"][0]))"
   ]
  },
  {
   "cell_type": "code",
   "execution_count": 20,
   "metadata": {},
   "outputs": [
    {
     "data": {
      "text/plain": [
       "{'ྜ': 0,\n",
       " 'ི': 1,\n",
       " 'ྰ': 2,\n",
       " 'ཤ': 3,\n",
       " 'ྴ': 4,\n",
       " '༥': 5,\n",
       " 'ྂ': 6,\n",
       " 'ཞ': 7,\n",
       " 'ྫ': 8,\n",
       " 'ྒ': 9,\n",
       " 'ལ': 10,\n",
       " 'འ': 11,\n",
       " '༡': 12,\n",
       " 'ༀ': 13,\n",
       " 'ཪ': 14,\n",
       " 'ླ': 15,\n",
       " 'ཛ': 16,\n",
       " 'ཙ': 17,\n",
       " 'ྡྷ': 18,\n",
       " 'ཕ': 19,\n",
       " '།': 20,\n",
       " 'ཨ': 21,\n",
       " 'ཊ': 22,\n",
       " 'ཱྀ': 23,\n",
       " 'ྼ': 24,\n",
       " 'ྞ': 25,\n",
       " 'ཅ': 26,\n",
       " '༧': 27,\n",
       " 'ུ': 28,\n",
       " 'ཱུ': 29,\n",
       " 'ཥ': 30,\n",
       " 'པ': 31,\n",
       " 'མ': 32,\n",
       " 'བྷ': 33,\n",
       " 'ཆ': 34,\n",
       " 'ྪ': 35,\n",
       " 'ད': 36,\n",
       " 'ཉ': 37,\n",
       " 'ཚ': 38,\n",
       " 'ོ': 39,\n",
       " 'ཟ': 40,\n",
       " 'ྐ': 41,\n",
       " '༩': 42,\n",
       " 'ྟ': 43,\n",
       " 'ཇ': 44,\n",
       " '༤': 45,\n",
       " 'ཀྵ': 46,\n",
       " 'ྖ': 47,\n",
       " 'ྚ': 48,\n",
       " 'ར': 49,\n",
       " 'ག': 50,\n",
       " 'ྔ': 51,\n",
       " 'ཎ': 52,\n",
       " '༨': 53,\n",
       " 'ྑ': 54,\n",
       " 'ཁ': 55,\n",
       " 'བ': 56,\n",
       " 'ཏ': 57,\n",
       " '༦': 58,\n",
       " 'ས': 59,\n",
       " 'ཝ': 60,\n",
       " 'ྤ': 61,\n",
       " 'ཋ': 62,\n",
       " 'ྸ': 63,\n",
       " 'ྀ': 64,\n",
       " 'ྡ': 65,\n",
       " 'ྠ': 66,\n",
       " 'ཱ': 67,\n",
       " '༢': 68,\n",
       " 'ཀ': 69,\n",
       " 'ྥ': 70,\n",
       " 'ྗ': 71,\n",
       " 'ཧ': 72,\n",
       " 'ྕ': 73,\n",
       " 'དྷ': 74,\n",
       " 'ན': 75,\n",
       " 'ཾ': 76,\n",
       " '༣': 77,\n",
       " 'ྩ': 78,\n",
       " 'གྷ': 79,\n",
       " 'ྣ': 80,\n",
       " 'ྲ': 81,\n",
       " 'ྵ': 82,\n",
       " '་': 83,\n",
       " 'ྛ': 84,\n",
       " 'ཷ': 85,\n",
       " 'ེ': 86,\n",
       " 'ྃ': 87,\n",
       " 'ྨ': 88,\n",
       " 'ཌྷ': 89,\n",
       " 'ྱ': 90,\n",
       " 'ྦ': 91,\n",
       " 'ྙ': 92,\n",
       " 'ང': 93,\n",
       " 'ྦྷ': 94,\n",
       " ' ': 95,\n",
       " 'ཡ': 96,\n",
       " 'ྻ': 97,\n",
       " 'ཱི': 98,\n",
       " 'ྷ': 99,\n",
       " 'ཐ': 100,\n",
       " 'ྭ': 101,\n",
       " 'ྶ': 102,\n",
       " 'ཌ': 103}"
      ]
     },
     "execution_count": 20,
     "metadata": {},
     "output_type": "execute_result"
    }
   ],
   "source": [
    "vocab_dict = {v: k for k, v in enumerate(vocab_list)}\n",
    "vocab_dict"
   ]
  },
  {
   "cell_type": "code",
   "execution_count": 25,
   "metadata": {},
   "outputs": [],
   "source": [
    "all = ''\n",
    "for c in vocab_dict:\n",
    "    all += c"
   ]
  },
  {
   "cell_type": "code",
   "execution_count": 39,
   "metadata": {},
   "outputs": [
    {
     "name": "stdout",
     "output_type": "stream",
     "text": [
      "num of unique chars: 104\n",
      " ༀ་།༡༢༣༤༥༦༧༨༩ཀཁགགྷངཅཆཇཉཊཋཌཌྷཎཏཐདདྷནཔཕབབྷམཙཚཛཝཞཟའཡརལཤཥསཧཨཀྵཪཱཱཱིིུུཷེོཾཱྀྀྂྃྐྑྒྔྕྖྗྙྚྛྜྞྟྠྡྡྷྣྤྥྦྦྷྨྩྪྫྭྰྱྲླྴྵྶྷྸྻྼ\n",
      "\n",
      " ཨༀཨ་ཨ།ཨ༡ཨ༢ཨ༣ཨ༤ཨ༥ཨ༦ཨ༧ཨ༨ཨ༩ཨཀཨཁཨགཨགྷཨངཨཅཨཆཨཇཨཉཨཊཨཋཨཌཨཌྷཨཎཨཏཨཐཨདཨདྷཨནཨཔཨཕཨབཨབྷཨམཨཙཨཚཨཛཨཝཨཞཨཟཨའཨཡཨརཨལཨཤཨཥཨསཨཧཨཨཨཀྵཨཪཨཱཨིཨཱིཨུཨཱུཨཷཨེཨོཨཾཨྀཨཱྀཨྂཨྃཨྐཨྑཨྒཨྔཨྕཨྖཨྗཨྙཨྚཨྛཨྜཨྞཨྟཨྠཨྡཨྡྷཨྣཨྤཨྥཨྦཨྦྷཨྨཨྩཨྪཨྫཨྭཨྰཨྱཨྲཨླཨྴཨྵཨྶཨྷཨྸཨྻཨྼ\n"
     ]
    }
   ],
   "source": [
    "sorted(all)\n",
    "print(\"num of unique chars:\", len(all))\n",
    "x=\"\".join([str(i) for i in sorted(all)])\n",
    "print(x)\n",
    "\n",
    "print()\n",
    "\n",
    "x=\"ཨ\".join([str(i) for i in sorted(all)])\n",
    "print(x)"
   ]
  },
  {
   "cell_type": "code",
   "execution_count": null,
   "metadata": {},
   "outputs": [],
   "source": []
  },
  {
   "cell_type": "code",
   "execution_count": null,
   "metadata": {},
   "outputs": [],
   "source": [
    "! pip install pyewts"
   ]
  },
  {
   "cell_type": "markdown",
   "metadata": {},
   "source": [
    "### Convert unicode tibetan characters into wylie format"
   ]
  },
  {
   "cell_type": "code",
   "execution_count": 55,
   "metadata": {},
   "outputs": [],
   "source": [
    "import pyewts\n",
    "\n",
    "converter = pyewts.pyewts()\n",
    "\n",
    "df['wylie'] = df['uni'].apply(converter.toWylie)"
   ]
  },
  {
   "cell_type": "code",
   "execution_count": 56,
   "metadata": {},
   "outputs": [],
   "source": [
    "df['char_len'] = df['uni'].str.len()"
   ]
  },
  {
   "cell_type": "code",
   "execution_count": null,
   "metadata": {},
   "outputs": [],
   "source": [
    "! pip install matplotlib"
   ]
  },
  {
   "cell_type": "code",
   "execution_count": 57,
   "metadata": {},
   "outputs": [
    {
     "data": {
      "text/plain": [
       "<Axes: >"
      ]
     },
     "execution_count": 57,
     "metadata": {},
     "output_type": "execute_result"
    },
    {
     "data": {
      "image/png": "[encoded data removed]",
      "text/plain": [
       "<Figure size 640x480 with 1 Axes>"
      ]
     },
     "metadata": {},
     "output_type": "display_data"
    }
   ],
   "source": [
    "df['char_len'].hist(bins=100, range=(0, 300))"
   ]
  },
  {
   "cell_type": "code",
   "execution_count": 58,
   "metadata": {},
   "outputs": [
    {
     "data": {
      "text/plain": [
       "count    705929.000000\n",
       "mean         64.414722\n",
       "std          47.495571\n",
       "min           1.000000\n",
       "25%          29.000000\n",
       "50%          52.000000\n",
       "75%          86.000000\n",
       "max         393.000000\n",
       "Name: char_len, dtype: float64"
      ]
     },
     "execution_count": 58,
     "metadata": {},
     "output_type": "execute_result"
    }
   ],
   "source": [
    "df['char_len'].describe()"
   ]
  },
  {
   "cell_type": "code",
   "execution_count": 59,
   "metadata": {},
   "outputs": [
    {
     "data": {
      "text/plain": [
       "705929"
      ]
     },
     "execution_count": 59,
     "metadata": {},
     "output_type": "execute_result"
    }
   ],
   "source": [
    "df.shape[0]"
   ]
  },
  {
   "cell_type": "code",
   "execution_count": 60,
   "metadata": {},
   "outputs": [],
   "source": [
    "upper_cutoff = 400\n",
    "lower_cutoff = 5"
   ]
  },
  {
   "cell_type": "code",
   "execution_count": 61,
   "metadata": {},
   "outputs": [
    {
     "data": {
      "text/plain": [
       "(0, 6008)"
      ]
     },
     "execution_count": 61,
     "metadata": {},
     "output_type": "execute_result"
    }
   ],
   "source": [
    "df[df['char_len'] > upper_cutoff].shape[0], df[df['char_len'] < lower_cutoff].shape[0]"
   ]
  },
  {
   "cell_type": "code",
   "execution_count": 62,
   "metadata": {},
   "outputs": [],
   "source": [
    "df[df['char_len'] > upper_cutoff][['uni', 'url', 'char_len']].sort_values(by='char_len').to_csv('04_longer_than_upper_cutoff.tsv', sep='\\t', index=False)"
   ]
  },
  {
   "cell_type": "code",
   "execution_count": 63,
   "metadata": {},
   "outputs": [],
   "source": [
    "df[df['char_len'] < lower_cutoff][['uni', 'url', 'char_len']].sort_values(by='char_len').to_csv('04_shorter_than_lower_cutoff.tsv', sep='\\t', index=False)"
   ]
  },
  {
   "cell_type": "code",
   "execution_count": 64,
   "metadata": {},
   "outputs": [],
   "source": [
    "df = df[(df['char_len'] < upper_cutoff) & (df['char_len'] > lower_cutoff)]"
   ]
  },
  {
   "cell_type": "code",
   "execution_count": 65,
   "metadata": {},
   "outputs": [
    {
     "data": {
      "text/plain": [
       "698056"
      ]
     },
     "execution_count": 65,
     "metadata": {},
     "output_type": "execute_result"
    }
   ],
   "source": [
    "df.shape[0]"
   ]
  },
  {
   "cell_type": "markdown",
   "metadata": {},
   "source": [
    "### Get the audio time duration from the file name. \n",
    "\n",
    "There is to format for encoding the time span. We use the one with \\_to\\_ now. The difference came from the using a different library to do the Voice Activity Detection and splitting the audio for Tibetan Teachings. We have since started using pyannote-audio for all departments now."
   ]
  },
  {
   "cell_type": "code",
   "execution_count": 66,
   "metadata": {},
   "outputs": [
    {
     "data": {
      "text/plain": [
       "5.5900000000001455"
      ]
     },
     "execution_count": 66,
     "metadata": {},
     "output_type": "execute_result"
    }
   ],
   "source": [
    "def getTimeSpan(filename):\n",
    "\n",
    "    filename = filename.replace(\".wav\", \"\")\n",
    "    filename = filename.replace(\".WAV\", \"\")\n",
    "    filename = filename.replace(\".mp3\", \"\")\n",
    "    filename = filename.replace(\".MP3\", \"\")\n",
    "    try:\n",
    "        if \"_to_\" in filename:\n",
    "            start, end = filename.split(\"_to_\")\n",
    "            start = start.split(\"_\")[-1]\n",
    "            end = end.split(\"_\")[0]\n",
    "            end = float(end)\n",
    "            start = float(start)\n",
    "            return abs(end - start)/1000\n",
    "        else:\n",
    "            start, end = filename.split(\"-\")\n",
    "            start = start.split(\"_\")[-1]\n",
    "            end = end.split(\"_\")[0]\n",
    "            end =   float(end)\n",
    "            start = float(start)\n",
    "            return abs(end - start)\n",
    "    except Exception as err:\n",
    "        print(f\"filename is:'{filename}'. Could not parse to get time span.\")\n",
    "        return 0\n",
    "    \n",
    "\n",
    "getTimeSpan(\"STT_TT00031_03471.850-03477.44\")"
   ]
  },
  {
   "cell_type": "code",
   "execution_count": 67,
   "metadata": {},
   "outputs": [],
   "source": [
    "df['audio_len'] = df['file_name'].apply(getTimeSpan)"
   ]
  },
  {
   "cell_type": "code",
   "execution_count": 68,
   "metadata": {},
   "outputs": [
    {
     "data": {
      "text/plain": [
       "count    698056.000000\n",
       "mean          3.414205\n",
       "std           2.616168\n",
       "min           0.200000\n",
       "25%           1.450000\n",
       "50%           2.550000\n",
       "75%           4.544000\n",
       "max          13.650000\n",
       "Name: audio_len, dtype: float64"
      ]
     },
     "execution_count": 68,
     "metadata": {},
     "output_type": "execute_result"
    }
   ],
   "source": [
    "df['audio_len'].describe()"
   ]
  },
  {
   "cell_type": "code",
   "execution_count": 69,
   "metadata": {},
   "outputs": [
    {
     "data": {
      "text/plain": [
       "<Axes: >"
      ]
     },
     "execution_count": 69,
     "metadata": {},
     "output_type": "execute_result"
    },
    {
     "data": {
      "image/png": "[encoded data removed]",
      "text/plain": [
       "<Figure size 640x480 with 1 Axes>"
      ]
     },
     "metadata": {},
     "output_type": "display_data"
    }
   ],
   "source": [
    "df['audio_len'].hist(bins=100, range=(0, 15))"
   ]
  },
  {
   "cell_type": "code",
   "execution_count": 73,
   "metadata": {},
   "outputs": [],
   "source": [
    "df['url'] = 'https://d38pmlk0v88drf.cloudfront.net/wav16k/' + df['file_name'] + '.wav'"
   ]
  },
  {
   "cell_type": "code",
   "execution_count": 74,
   "metadata": {},
   "outputs": [],
   "source": [
    "df['url'] = df['url'].map(lambda x : x.replace('#','%23'))"
   ]
  },
  {
   "cell_type": "code",
   "execution_count": 75,
   "metadata": {},
   "outputs": [],
   "source": [
    "df = df[['file_name','uni', 'wylie', 'url', 'dept', 'grade', 'char_len',  'audio_len']]"
   ]
  },
  {
   "cell_type": "code",
   "execution_count": 76,
   "metadata": {},
   "outputs": [
    {
     "data": {
      "text/html": [
       "<div>\n",
       "<style scoped>\n",
       "    .dataframe tbody tr th:only-of-type {\n",
       "        vertical-align: middle;\n",
       "    }\n",
       "\n",
       "    .dataframe tbody tr th {\n",
       "        vertical-align: top;\n",
       "    }\n",
       "\n",
       "    .dataframe thead th {\n",
       "        text-align: right;\n",
       "    }\n",
       "</style>\n",
       "<table border=\"1\" class=\"dataframe\">\n",
       "  <thead>\n",
       "    <tr style=\"text-align: right;\">\n",
       "      <th></th>\n",
       "      <th>file_name</th>\n",
       "      <th>uni</th>\n",
       "      <th>wylie</th>\n",
       "      <th>url</th>\n",
       "      <th>dept</th>\n",
       "      <th>grade</th>\n",
       "      <th>char_len</th>\n",
       "      <th>audio_len</th>\n",
       "    </tr>\n",
       "  </thead>\n",
       "  <tbody>\n",
       "    <tr>\n",
       "      <th>0</th>\n",
       "      <td>STT_NS_M0310_0558_3487414_to_3495844</td>\n",
       "      <td>ཡར་ལངས་ལྦ་ཡེ་ག་རེ་བྱས་ཡོད། ཡི་གེ་སྦྱང། ཡི་གེ་བ...</td>\n",
       "      <td>yar langs lba ye ga re byas yod/_yi ge sbyang/...</td>\n",
       "      <td>https://d38pmlk0v88drf.cloudfront.net/wav16k/S...</td>\n",
       "      <td>STT_NS</td>\n",
       "      <td>3.0</td>\n",
       "      <td>149</td>\n",
       "      <td>8.430</td>\n",
       "    </tr>\n",
       "    <tr>\n",
       "      <th>1</th>\n",
       "      <td>STT_NS_M0310_0677_4317792_to_4319824</td>\n",
       "      <td>རྒྱལ་ཡོངས་ག་བ་ལ་ཁྱེད་རང་ང་ཨཱ་ཡེ།</td>\n",
       "      <td>rgyal yongs ga ba la khyed rang nga A ye/_</td>\n",
       "      <td>https://d38pmlk0v88drf.cloudfront.net/wav16k/S...</td>\n",
       "      <td>STT_NS</td>\n",
       "      <td>3.0</td>\n",
       "      <td>33</td>\n",
       "      <td>2.032</td>\n",
       "    </tr>\n",
       "    <tr>\n",
       "      <th>2</th>\n",
       "      <td>STT_NS_M0310_0666_4270034_to_4272460</td>\n",
       "      <td>རྒྱ་གར་མི་དེ་ཚོ་ང་འཛིང་རྒྱོ་དེ་འདྲའི་དམིགས་བསལ...</td>\n",
       "      <td>rgya gar mi de tsho nga 'dzing rgyo de 'dra'i ...</td>\n",
       "      <td>https://d38pmlk0v88drf.cloudfront.net/wav16k/S...</td>\n",
       "      <td>STT_NS</td>\n",
       "      <td>3.0</td>\n",
       "      <td>62</td>\n",
       "      <td>2.426</td>\n",
       "    </tr>\n",
       "    <tr>\n",
       "      <th>3</th>\n",
       "      <td>STT_NS_M0310_0684_4361257_to_4363498</td>\n",
       "      <td>དངོས་གནས་སེམས་པ་བཟང་པོ་དང་དེ་འདྲའི་བརྩི་འགྲོ་ག...</td>\n",
       "      <td>dngos gnas sems pa bzang po dang de 'dra'i brt...</td>\n",
       "      <td>https://d38pmlk0v88drf.cloudfront.net/wav16k/S...</td>\n",
       "      <td>STT_NS</td>\n",
       "      <td>3.0</td>\n",
       "      <td>55</td>\n",
       "      <td>2.241</td>\n",
       "    </tr>\n",
       "    <tr>\n",
       "      <th>4</th>\n",
       "      <td>STT_NS_M0310_0659_4232255_to_4234484</td>\n",
       "      <td>རྒྱལ་ཁབ་གི་ཆེད་དུ་ཡང་མིན་ན་མི་རིགས་ཀི་ཆེད་དུ་རཱ།</td>\n",
       "      <td>rgyal khab gi ched du yang min na mi rigs ki c...</td>\n",
       "      <td>https://d38pmlk0v88drf.cloudfront.net/wav16k/S...</td>\n",
       "      <td>STT_NS</td>\n",
       "      <td>3.0</td>\n",
       "      <td>49</td>\n",
       "      <td>2.229</td>\n",
       "    </tr>\n",
       "  </tbody>\n",
       "</table>\n",
       "</div>"
      ],
      "text/plain": [
       "                              file_name  \\\n",
       "0  STT_NS_M0310_0558_3487414_to_3495844   \n",
       "1  STT_NS_M0310_0677_4317792_to_4319824   \n",
       "2  STT_NS_M0310_0666_4270034_to_4272460   \n",
       "3  STT_NS_M0310_0684_4361257_to_4363498   \n",
       "4  STT_NS_M0310_0659_4232255_to_4234484   \n",
       "\n",
       "                                                 uni  \\\n",
       "0  ཡར་ལངས་ལྦ་ཡེ་ག་རེ་བྱས་ཡོད། ཡི་གེ་སྦྱང། ཡི་གེ་བ...   \n",
       "1                  རྒྱལ་ཡོངས་ག་བ་ལ་ཁྱེད་རང་ང་ཨཱ་ཡེ།    \n",
       "2  རྒྱ་གར་མི་དེ་ཚོ་ང་འཛིང་རྒྱོ་དེ་འདྲའི་དམིགས་བསལ...   \n",
       "3  དངོས་གནས་སེམས་པ་བཟང་པོ་དང་དེ་འདྲའི་བརྩི་འགྲོ་ག...   \n",
       "4  རྒྱལ་ཁབ་གི་ཆེད་དུ་ཡང་མིན་ན་མི་རིགས་ཀི་ཆེད་དུ་རཱ།    \n",
       "\n",
       "                                               wylie  \\\n",
       "0  yar langs lba ye ga re byas yod/_yi ge sbyang/...   \n",
       "1         rgyal yongs ga ba la khyed rang nga A ye/_   \n",
       "2  rgya gar mi de tsho nga 'dzing rgyo de 'dra'i ...   \n",
       "3  dngos gnas sems pa bzang po dang de 'dra'i brt...   \n",
       "4  rgyal khab gi ched du yang min na mi rigs ki c...   \n",
       "\n",
       "                                                 url    dept  grade  char_len  \\\n",
       "0  https://d38pmlk0v88drf.cloudfront.net/wav16k/S...  STT_NS    3.0       149   \n",
       "1  https://d38pmlk0v88drf.cloudfront.net/wav16k/S...  STT_NS    3.0        33   \n",
       "2  https://d38pmlk0v88drf.cloudfront.net/wav16k/S...  STT_NS    3.0        62   \n",
       "3  https://d38pmlk0v88drf.cloudfront.net/wav16k/S...  STT_NS    3.0        55   \n",
       "4  https://d38pmlk0v88drf.cloudfront.net/wav16k/S...  STT_NS    3.0        49   \n",
       "\n",
       "   audio_len  \n",
       "0      8.430  \n",
       "1      2.032  \n",
       "2      2.426  \n",
       "3      2.241  \n",
       "4      2.229  "
      ]
     },
     "execution_count": 76,
     "metadata": {},
     "output_type": "execute_result"
    }
   ],
   "source": [
    "df.head()"
   ]
  },
  {
   "cell_type": "code",
   "execution_count": 77,
   "metadata": {},
   "outputs": [],
   "source": [
    "df.to_csv('04_combine_all.tsv', sep='\\t', index=False)"
   ]
  },
  {
   "cell_type": "code",
   "execution_count": 80,
   "metadata": {},
   "outputs": [
    {
     "data": {
      "text/plain": [
       "uni\n",
       "False    697983\n",
       "True         73\n",
       "Name: count, dtype: int64"
      ]
     },
     "execution_count": 80,
     "metadata": {},
     "output_type": "execute_result"
    }
   ],
   "source": [
    "df['uni'].str.contains('ཧཧཧ').value_counts()"
   ]
  },
  {
   "cell_type": "code",
   "execution_count": 2,
   "metadata": {},
   "outputs": [],
   "source": [
    "import pandas as pd\n",
    "\n",
    "df = pd.read_csv('04_combine_all.tsv', sep='\\t')"
   ]
  },
  {
   "cell_type": "code",
   "execution_count": 2,
   "metadata": {},
   "outputs": [
    {
     "data": {
      "text/html": [
       "<div>\n",
       "<style scoped>\n",
       "    .dataframe tbody tr th:only-of-type {\n",
       "        vertical-align: middle;\n",
       "    }\n",
       "\n",
       "    .dataframe tbody tr th {\n",
       "        vertical-align: top;\n",
       "    }\n",
       "\n",
       "    .dataframe thead th {\n",
       "        text-align: right;\n",
       "    }\n",
       "</style>\n",
       "<table border=\"1\" class=\"dataframe\">\n",
       "  <thead>\n",
       "    <tr style=\"text-align: right;\">\n",
       "      <th></th>\n",
       "      <th>file_name</th>\n",
       "      <th>uni</th>\n",
       "      <th>wylie</th>\n",
       "      <th>url</th>\n",
       "      <th>dept</th>\n",
       "      <th>grade</th>\n",
       "      <th>char_len</th>\n",
       "      <th>audio_len</th>\n",
       "    </tr>\n",
       "  </thead>\n",
       "  <tbody>\n",
       "    <tr>\n",
       "      <th>0</th>\n",
       "      <td>STT_NS_M0310_0558_3487414_to_3495844</td>\n",
       "      <td>ཡར་ལངས་ལྦ་ཡེ་ག་རེ་བྱས་ཡོད། ཡི་གེ་སྦྱང། ཡི་གེ་བ...</td>\n",
       "      <td>yar langs lba ye ga re byas yod/_yi ge sbyang/...</td>\n",
       "      <td>https://d38pmlk0v88drf.cloudfront.net/wav16k/S...</td>\n",
       "      <td>STT_NS</td>\n",
       "      <td>3.0</td>\n",
       "      <td>149</td>\n",
       "      <td>8.430</td>\n",
       "    </tr>\n",
       "    <tr>\n",
       "      <th>1</th>\n",
       "      <td>STT_NS_M0310_0677_4317792_to_4319824</td>\n",
       "      <td>རྒྱལ་ཡོངས་ག་བ་ལ་ཁྱེད་རང་ང་ཨཱ་ཡེ།</td>\n",
       "      <td>rgyal yongs ga ba la khyed rang nga A ye/_</td>\n",
       "      <td>https://d38pmlk0v88drf.cloudfront.net/wav16k/S...</td>\n",
       "      <td>STT_NS</td>\n",
       "      <td>3.0</td>\n",
       "      <td>33</td>\n",
       "      <td>2.032</td>\n",
       "    </tr>\n",
       "    <tr>\n",
       "      <th>2</th>\n",
       "      <td>STT_NS_M0310_0666_4270034_to_4272460</td>\n",
       "      <td>རྒྱ་གར་མི་དེ་ཚོ་ང་འཛིང་རྒྱོ་དེ་འདྲའི་དམིགས་བསལ...</td>\n",
       "      <td>rgya gar mi de tsho nga 'dzing rgyo de 'dra'i ...</td>\n",
       "      <td>https://d38pmlk0v88drf.cloudfront.net/wav16k/S...</td>\n",
       "      <td>STT_NS</td>\n",
       "      <td>3.0</td>\n",
       "      <td>62</td>\n",
       "      <td>2.426</td>\n",
       "    </tr>\n",
       "    <tr>\n",
       "      <th>3</th>\n",
       "      <td>STT_NS_M0310_0684_4361257_to_4363498</td>\n",
       "      <td>དངོས་གནས་སེམས་པ་བཟང་པོ་དང་དེ་འདྲའི་བརྩི་འགྲོ་ག...</td>\n",
       "      <td>dngos gnas sems pa bzang po dang de 'dra'i brt...</td>\n",
       "      <td>https://d38pmlk0v88drf.cloudfront.net/wav16k/S...</td>\n",
       "      <td>STT_NS</td>\n",
       "      <td>3.0</td>\n",
       "      <td>55</td>\n",
       "      <td>2.241</td>\n",
       "    </tr>\n",
       "    <tr>\n",
       "      <th>4</th>\n",
       "      <td>STT_NS_M0310_0659_4232255_to_4234484</td>\n",
       "      <td>རྒྱལ་ཁབ་གི་ཆེད་དུ་ཡང་མིན་ན་མི་རིགས་ཀི་ཆེད་དུ་རཱ།</td>\n",
       "      <td>rgyal khab gi ched du yang min na mi rigs ki c...</td>\n",
       "      <td>https://d38pmlk0v88drf.cloudfront.net/wav16k/S...</td>\n",
       "      <td>STT_NS</td>\n",
       "      <td>3.0</td>\n",
       "      <td>49</td>\n",
       "      <td>2.229</td>\n",
       "    </tr>\n",
       "  </tbody>\n",
       "</table>\n",
       "</div>"
      ],
      "text/plain": [
       "                              file_name  \\\n",
       "0  STT_NS_M0310_0558_3487414_to_3495844   \n",
       "1  STT_NS_M0310_0677_4317792_to_4319824   \n",
       "2  STT_NS_M0310_0666_4270034_to_4272460   \n",
       "3  STT_NS_M0310_0684_4361257_to_4363498   \n",
       "4  STT_NS_M0310_0659_4232255_to_4234484   \n",
       "\n",
       "                                                 uni  \\\n",
       "0  ཡར་ལངས་ལྦ་ཡེ་ག་རེ་བྱས་ཡོད། ཡི་གེ་སྦྱང། ཡི་གེ་བ...   \n",
       "1                  རྒྱལ་ཡོངས་ག་བ་ལ་ཁྱེད་རང་ང་ཨཱ་ཡེ།    \n",
       "2  རྒྱ་གར་མི་དེ་ཚོ་ང་འཛིང་རྒྱོ་དེ་འདྲའི་དམིགས་བསལ...   \n",
       "3  དངོས་གནས་སེམས་པ་བཟང་པོ་དང་དེ་འདྲའི་བརྩི་འགྲོ་ག...   \n",
       "4  རྒྱལ་ཁབ་གི་ཆེད་དུ་ཡང་མིན་ན་མི་རིགས་ཀི་ཆེད་དུ་རཱ།    \n",
       "\n",
       "                                               wylie  \\\n",
       "0  yar langs lba ye ga re byas yod/_yi ge sbyang/...   \n",
       "1         rgyal yongs ga ba la khyed rang nga A ye/_   \n",
       "2  rgya gar mi de tsho nga 'dzing rgyo de 'dra'i ...   \n",
       "3  dngos gnas sems pa bzang po dang de 'dra'i brt...   \n",
       "4  rgyal khab gi ched du yang min na mi rigs ki c...   \n",
       "\n",
       "                                                 url    dept  grade  char_len  \\\n",
       "0  https://d38pmlk0v88drf.cloudfront.net/wav16k/S...  STT_NS    3.0       149   \n",
       "1  https://d38pmlk0v88drf.cloudfront.net/wav16k/S...  STT_NS    3.0        33   \n",
       "2  https://d38pmlk0v88drf.cloudfront.net/wav16k/S...  STT_NS    3.0        62   \n",
       "3  https://d38pmlk0v88drf.cloudfront.net/wav16k/S...  STT_NS    3.0        55   \n",
       "4  https://d38pmlk0v88drf.cloudfront.net/wav16k/S...  STT_NS    3.0        49   \n",
       "\n",
       "   audio_len  \n",
       "0      8.430  \n",
       "1      2.032  \n",
       "2      2.426  \n",
       "3      2.241  \n",
       "4      2.229  "
      ]
     },
     "execution_count": 2,
     "metadata": {},
     "output_type": "execute_result"
    }
   ],
   "source": [
    "df.head()"
   ]
  },
  {
   "cell_type": "code",
   "execution_count": null,
   "metadata": {},
   "outputs": [],
   "source": []
  },
  {
   "cell_type": "code",
   "execution_count": 79,
   "metadata": {},
   "outputs": [
    {
     "data": {
      "text/plain": [
       "dept\n",
       "STT_AB    105.184844\n",
       "STT_CS     96.809728\n",
       "STT_MV      1.652947\n",
       "STT_NS    169.568870\n",
       "STT_PC     14.791548\n",
       "STT_TT    274.021529\n",
       "Name: audio_len, dtype: float64"
      ]
     },
     "execution_count": 79,
     "metadata": {},
     "output_type": "execute_result"
    }
   ],
   "source": [
    "df.groupby('dept')['audio_len'].sum()/60/60"
   ]
  },
  {
   "cell_type": "code",
   "execution_count": 78,
   "metadata": {},
   "outputs": [
    {
     "data": {
      "text/plain": [
       "662.0294658333335"
      ]
     },
     "execution_count": 78,
     "metadata": {},
     "output_type": "execute_result"
    }
   ],
   "source": [
    "df['audio_len'].sum()/60/60"
   ]
  },
  {
   "cell_type": "code",
   "execution_count": 11,
   "metadata": {},
   "outputs": [],
   "source": [
    "# df.sort_values(by='audio_len', ascending=False, inplace=True)\n",
    "df = df.sample(frac = 1)"
   ]
  },
  {
   "cell_type": "code",
   "execution_count": 12,
   "metadata": {},
   "outputs": [
    {
     "data": {
      "text/html": [
       "<div>\n",
       "<style scoped>\n",
       "    .dataframe tbody tr th:only-of-type {\n",
       "        vertical-align: middle;\n",
       "    }\n",
       "\n",
       "    .dataframe tbody tr th {\n",
       "        vertical-align: top;\n",
       "    }\n",
       "\n",
       "    .dataframe thead th {\n",
       "        text-align: right;\n",
       "    }\n",
       "</style>\n",
       "<table border=\"1\" class=\"dataframe\">\n",
       "  <thead>\n",
       "    <tr style=\"text-align: right;\">\n",
       "      <th></th>\n",
       "      <th>file_name</th>\n",
       "      <th>uni</th>\n",
       "      <th>url</th>\n",
       "      <th>grade</th>\n",
       "    </tr>\n",
       "  </thead>\n",
       "  <tbody>\n",
       "    <tr>\n",
       "      <th>418812</th>\n",
       "      <td>STT_CS-X2019_X2019-M_P-D_D-02##_02##-0_0-Y_Y-0...</td>\n",
       "      <td>སྦོས་ཧ་ཧ་ཧ། སྦོ།</td>\n",
       "      <td>https://d38pmlk0v88drf.cloudfront.net/wav16k/S...</td>\n",
       "      <td>NaN</td>\n",
       "    </tr>\n",
       "    <tr>\n",
       "      <th>181925</th>\n",
       "      <td>STT_TT00544_0298_2079537_to_2082321</td>\n",
       "      <td>རེད་ཡང་རེད་བ། དེ་ནས་གྲུབ་ཆེན་དྲིལ་བུ་པ་དང་དེ་ཚ...</td>\n",
       "      <td>https://d38pmlk0v88drf.cloudfront.net/wav16k/S...</td>\n",
       "      <td>3.0</td>\n",
       "    </tr>\n",
       "    <tr>\n",
       "      <th>336274</th>\n",
       "      <td>STT_NS_M0246_0037_239701_to_247465</td>\n",
       "      <td>ཨ་ནས་རྨོ་མོ་མཉམ་དུ་སྐད་ཆ་བཤད་ཨེ་འདྲ་བྱས་ནས་ཡང་...</td>\n",
       "      <td>https://d38pmlk0v88drf.cloudfront.net/wav16k/S...</td>\n",
       "      <td>3.0</td>\n",
       "    </tr>\n",
       "    <tr>\n",
       "      <th>391653</th>\n",
       "      <td>STT_TT00030_00194.700-00196.350</td>\n",
       "      <td>ཨ། ཡུལ་གཅིག་ལ།</td>\n",
       "      <td>https://d38pmlk0v88drf.cloudfront.net/wav16k/S...</td>\n",
       "      <td>NaN</td>\n",
       "    </tr>\n",
       "    <tr>\n",
       "      <th>684506</th>\n",
       "      <td>STT_TT00367_0008_50110_to_52278</td>\n",
       "      <td>དགེ་རྒན་དེས་གསུངས་བཞག་རྒྱོ་དེ། རེད་འདུག་རེད་མི...</td>\n",
       "      <td>https://d38pmlk0v88drf.cloudfront.net/wav16k/S...</td>\n",
       "      <td>NaN</td>\n",
       "    </tr>\n",
       "  </tbody>\n",
       "</table>\n",
       "</div>"
      ],
      "text/plain": [
       "                                                file_name  \\\n",
       "418812  STT_CS-X2019_X2019-M_P-D_D-02##_02##-0_0-Y_Y-0...   \n",
       "181925                STT_TT00544_0298_2079537_to_2082321   \n",
       "336274                 STT_NS_M0246_0037_239701_to_247465   \n",
       "391653                    STT_TT00030_00194.700-00196.350   \n",
       "684506                    STT_TT00367_0008_50110_to_52278   \n",
       "\n",
       "                                                      uni  \\\n",
       "418812                                  སྦོས་ཧ་ཧ་ཧ། སྦོ།    \n",
       "181925  རེད་ཡང་རེད་བ། དེ་ནས་གྲུབ་ཆེན་དྲིལ་བུ་པ་དང་དེ་ཚ...   \n",
       "336274  ཨ་ནས་རྨོ་མོ་མཉམ་དུ་སྐད་ཆ་བཤད་ཨེ་འདྲ་བྱས་ནས་ཡང་...   \n",
       "391653                                    ཨ། ཡུལ་གཅིག་ལ།    \n",
       "684506  དགེ་རྒན་དེས་གསུངས་བཞག་རྒྱོ་དེ། རེད་འདུག་རེད་མི...   \n",
       "\n",
       "                                                      url  grade  \n",
       "418812  https://d38pmlk0v88drf.cloudfront.net/wav16k/S...    NaN  \n",
       "181925  https://d38pmlk0v88drf.cloudfront.net/wav16k/S...    3.0  \n",
       "336274  https://d38pmlk0v88drf.cloudfront.net/wav16k/S...    3.0  \n",
       "391653  https://d38pmlk0v88drf.cloudfront.net/wav16k/S...    NaN  \n",
       "684506  https://d38pmlk0v88drf.cloudfront.net/wav16k/S...    NaN  "
      ]
     },
     "execution_count": 12,
     "metadata": {},
     "output_type": "execute_result"
    }
   ],
   "source": [
    "df.iloc[0:100,[0, 1, 3, 5]].to_csv(\"04_random_100.tsv\", index=False, sep='\\t')\n",
    "df.iloc[0:100,[0, 1, 3, 5]].head()"
   ]
  },
  {
   "cell_type": "code",
   "execution_count": 83,
   "metadata": {},
   "outputs": [
    {
     "data": {
      "text/plain": [
       "dept\n",
       "STT_AB      5711\n",
       "STT_CS     17982\n",
       "STT_NS     72325\n",
       "STT_PC      1300\n",
       "STT_TT    129288\n",
       "dtype: int64"
      ]
     },
     "execution_count": 83,
     "metadata": {},
     "output_type": "execute_result"
    }
   ],
   "source": [
    "df[df['grade'] == 3].groupby('dept').size()"
   ]
  },
  {
   "cell_type": "code",
   "execution_count": 84,
   "metadata": {},
   "outputs": [
    {
     "data": {
      "text/plain": [
       "dept\n",
       "STT_AB    105.184844\n",
       "STT_CS     96.809728\n",
       "STT_MV      1.652947\n",
       "STT_NS    169.568870\n",
       "STT_PC     14.791548\n",
       "STT_TT    274.021529\n",
       "Name: audio_len, dtype: float64"
      ]
     },
     "execution_count": 84,
     "metadata": {},
     "output_type": "execute_result"
    }
   ],
   "source": [
    "df.groupby('dept').sum('audio_len')['audio_len']/60/60"
   ]
  },
  {
   "cell_type": "code",
   "execution_count": 85,
   "metadata": {},
   "outputs": [
    {
     "data": {
      "text/plain": [
       "662.0294658333333"
      ]
     },
     "execution_count": 85,
     "metadata": {},
     "output_type": "execute_result"
    }
   ],
   "source": [
    "df['audio_len'].sum()/60/60"
   ]
  },
  {
   "cell_type": "code",
   "execution_count": null,
   "metadata": {},
   "outputs": [],
   "source": []
  }
 ],
 "metadata": {
  "kernelspec": {
   "display_name": ".env",
   "language": "python",
   "name": "python3"
  },
  "language_info": {
   "codemirror_mode": {
    "name": "ipython",
    "version": 3
   },
   "file_extension": ".py",
   "mimetype": "text/x-python",
   "name": "python",
   "nbconvert_exporter": "python",
   "pygments_lexer": "ipython3",
   "version": "3.10.12"
  }
 },
 "nbformat": 4,
 "nbformat_minor": 2
}
