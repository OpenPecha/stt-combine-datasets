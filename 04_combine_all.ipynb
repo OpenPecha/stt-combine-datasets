{
 "cells": [
  {
   "cell_type": "markdown",
   "metadata": {},
   "source": [
    "# Combine all the data into once dataset\n",
    "\n",
    "Once you've run the following notebooks,\n",
    "- 01_stt_pecha_tools.ipynb\n",
    "- 02_prodigy.ipynb\n",
    "- 03_mv_saymore.ipynb\n",
    "\n",
    "You get the following tsv files\n",
    "- 01_stt_pecha_tools.tsv\n",
    "- 02_prodigy.tsv\n",
    "- 03_mv_saymore.tsv\n",
    "\n",
    "Concatenate the tsv files and clean the data"
   ]
  },
  {
   "cell_type": "code",
   "execution_count": 99,
   "metadata": {},
   "outputs": [],
   "source": [
    "stt_pecha_tools = \"01_stt_pecha_tools.csv\"\n",
    "prodigy =         \"02_prodigy_finalised.csv\""
   ]
  },
  {
   "cell_type": "code",
   "execution_count": 100,
   "metadata": {},
   "outputs": [],
   "source": [
    "import pandas as pd\n",
    "pecha_tools_df = pd.read_csv(stt_pecha_tools)\n",
    "prodigy_df = pd.read_csv(prodigy)"
   ]
  },
  {
   "cell_type": "code",
   "execution_count": 101,
   "metadata": {},
   "outputs": [],
   "source": [
    "prodigy_df = prodigy_df.rename(columns={'id': 'file_name', 'transcript':'uni'})"
   ]
  },
  {
   "cell_type": "code",
   "execution_count": 102,
   "metadata": {},
   "outputs": [],
   "source": [
    "df = pd.concat([pecha_tools_df, prodigy_df], ignore_index=True)"
   ]
  },
  {
   "cell_type": "code",
   "execution_count": 103,
   "metadata": {},
   "outputs": [],
   "source": [
    "bad_apples = pd.read_csv('04_bad_apples.csv')"
   ]
  },
  {
   "cell_type": "code",
   "execution_count": 104,
   "metadata": {},
   "outputs": [],
   "source": [
    "df = df[~df['file_name'].isin(bad_apples['file_name'])]"
   ]
  },
  {
   "cell_type": "markdown",
   "metadata": {},
   "source": [
    "Drop duplicates, duplicates were introduced from prodigy annotation tool. One of the reason we had to move away from it."
   ]
  },
  {
   "cell_type": "code",
   "execution_count": 105,
   "metadata": {},
   "outputs": [],
   "source": [
    "df.drop_duplicates(subset='file_name', keep=\"first\", inplace=True)"
   ]
  },
  {
   "cell_type": "markdown",
   "metadata": {},
   "source": [
    "### clean the combined tsv\n",
    "\n",
    "Remove unwanted characters and remove transcriptions with english characters"
   ]
  },
  {
   "cell_type": "code",
   "execution_count": 106,
   "metadata": {},
   "outputs": [
    {
     "name": "stdout",
     "output_type": "stream",
     "text": [
      "False\n",
      "True\n"
     ]
    }
   ],
   "source": [
    "import re\n",
    "def clean_transcription(text):\n",
    "    text = text.replace('\\n', ' ')\n",
    "    text = text.replace('\\t', ' ')\n",
    "    text = text.strip()\n",
    "\n",
    "    text = re.sub(\"༌\", \"་\",text) # there are two type of 'tsak' let's normalize 0xf0b to 0xf0c\n",
    "    text = re.sub(\"༎\", \"།\",text) # normalize double 'shae' 0xf0e to 0xf0d\n",
    "\n",
    "    text = re.sub(\"ཽ\", \"ོ\",text) # normalize\n",
    "    text = re.sub(\"ཻ\", \"ེ\",text) # normalize\n",
    "\n",
    "    text = re.sub(r\"་+\", \"་\", text)\n",
    "    text = re.sub(r\"།+\", \"།\", text)\n",
    "    text = re.sub(r\"\\s+\", \" \", text)\n",
    "    text = re.sub(r\"\\s+།\", \"།\", text)\n",
    "\n",
    "    text = re.sub(r\"ཧཧཧ+\", \"ཧཧཧ\", text)\n",
    "    text = re.sub(r'འེ་འེ་(འེ་)+', r'འེ་འེ་འེ་', text)\n",
    "    text = re.sub(r'ཧ་ཧ་(ཧ་)+', r'ཧ་ཧ་ཧ་', text)\n",
    "\n",
    "    chars_to_ignore_regex = '[\\,\\?\\.\\!\\-\\;\\:\\\"\\“\\%\\‘\\”\\�\\/\\{\\}\\(\\)\\༽\\》\\༼\\《\\༅\\༄\\༈\\༑\\༠\\\u0001\\'\\|\\·\\×\\༆\\༌\\༎\\༔\\༷\\༸\\༾\\ཿ\\྄\\྅\\྆\\྇\\ྋ\\࿒\\ᨵ\\​\\’\\„\\╗\\╚\\ ྂ]'\n",
    "    \n",
    "    text = re.sub(chars_to_ignore_regex, '', text)+\" \"\n",
    "    return text\n",
    "\n",
    "def check_if_regex(text):\n",
    "    text = str(text)\n",
    "    regex = re.compile(r'[0-9a-zA-Z]+')\n",
    "    match = re.search(regex, text)\n",
    "    \n",
    "    return bool(match)\n",
    "    \n",
    "print(check_if_regex('ཧཧ'))\n",
    "print(check_if_regex('some text'))"
   ]
  },
  {
   "cell_type": "code",
   "execution_count": 107,
   "metadata": {},
   "outputs": [],
   "source": [
    "df = df[df['uni'].str.len() > 0]"
   ]
  },
  {
   "cell_type": "code",
   "execution_count": 108,
   "metadata": {},
   "outputs": [],
   "source": [
    "df = df[~df['uni'].apply(check_if_regex)]"
   ]
  },
  {
   "cell_type": "code",
   "execution_count": 109,
   "metadata": {},
   "outputs": [],
   "source": [
    "df['uni'] = df['uni'].map(clean_transcription)"
   ]
  },
  {
   "cell_type": "code",
   "execution_count": 110,
   "metadata": {},
   "outputs": [],
   "source": [
    "from datasets import Dataset\n",
    "common_voice_train = Dataset.from_pandas(df)"
   ]
  },
  {
   "cell_type": "code",
   "execution_count": 111,
   "metadata": {},
   "outputs": [],
   "source": [
    "def extract_all_chars(batch):\n",
    "    all_text = \" \".join(batch[\"uni\"])\n",
    "    vocab = list(set(all_text))\n",
    "    return {\"vocab\": [vocab], \"all_text\": [all_text]}"
   ]
  },
  {
   "cell_type": "code",
   "execution_count": 112,
   "metadata": {},
   "outputs": [
    {
     "data": {
      "application/vnd.jupyter.widget-view+json": {
       "model_id": "6699125bf66542c1949a19cda984278d",
       "version_major": 2,
       "version_minor": 0
      },
      "text/plain": [
       "Map:   0%|          | 0/719402 [00:00<?, ? examples/s]"
      ]
     },
     "metadata": {},
     "output_type": "display_data"
    }
   ],
   "source": [
    "vocab_train = common_voice_train.map(extract_all_chars, batched=True, batch_size=-1, keep_in_memory=True, remove_columns=common_voice_train.column_names)"
   ]
  },
  {
   "cell_type": "code",
   "execution_count": 113,
   "metadata": {},
   "outputs": [],
   "source": [
    "vocab_list = list(set(vocab_train[\"vocab\"][0]))"
   ]
  },
  {
   "cell_type": "code",
   "execution_count": 114,
   "metadata": {},
   "outputs": [],
   "source": [
    "vocab_dict = {v: k for k, v in enumerate(vocab_list)}"
   ]
  },
  {
   "cell_type": "code",
   "execution_count": 115,
   "metadata": {},
   "outputs": [],
   "source": [
    "all = ''\n",
    "for c in vocab_dict:\n",
    "    all += c"
   ]
  },
  {
   "cell_type": "code",
   "execution_count": 78,
   "metadata": {},
   "outputs": [
    {
     "name": "stdout",
     "output_type": "stream",
     "text": [
      "this\n"
     ]
    }
   ],
   "source": [
    "# def show_if_has(text, ch):\n",
    "#     if ch in text:\n",
    "#         print(text)\n",
    "# for text in df['uni']:\n",
    "    # show_if_has(text, 'ཨྂ')"
   ]
  },
  {
   "cell_type": "code",
   "execution_count": 116,
   "metadata": {},
   "outputs": [
    {
     "name": "stdout",
     "output_type": "stream",
     "text": [
      "num of unique chars: 104\n",
      "   ༀ  ་  །  ༡  ༢  ༣  ༤  ༥  ༦  ༧  ༨  ༩  ཀ  ཁ  ག  གྷ  ང  ཅ  ཆ  ཇ  ཉ  ཊ  ཋ  ཌ  ཌྷ  ཎ  ཏ  ཐ  ད  དྷ  ན  པ  ཕ  བ  བྷ  མ  ཙ  ཚ  ཛ  ཝ  ཞ  ཟ  འ  ཡ  ར  ལ  ཤ  ཥ  ས  ཧ  ཨ  ཀྵ  ཪ  ཱ  ི  ཱི  ུ  ཱུ  ཷ  ེ  ོ  ཾ  ྀ  ཱྀ  ྃ  ྐ  ྑ  ྒ  ྔ  ྕ  ྖ  ྗ  ྙ  ྚ  ྛ  ྜ  ྞ  ྟ  ྠ  ྡ  ྡྷ  ྣ  ྤ  ྥ  ྦ  ྦྷ  ྨ  ྩ  ྪ  ྫ  ྭ  ྰ  ྱ  ྲ  ླ  ྴ  ྵ  ྶ  ྷ  ྸ  ྻ  ྼ  ᫥\n",
      "\n",
      " ཨༀཨ་ཨ།ཨ༡ཨ༢ཨ༣ཨ༤ཨ༥ཨ༦ཨ༧ཨ༨ཨ༩ཨཀཨཁཨགཨགྷཨངཨཅཨཆཨཇཨཉཨཊཨཋཨཌཨཌྷཨཎཨཏཨཐཨདཨདྷཨནཨཔཨཕཨབཨབྷཨམཨཙཨཚཨཛཨཝཨཞཨཟཨའཨཡཨརཨལཨཤཨཥཨསཨཧཨཨཨཀྵཨཪཨཱཨིཨཱིཨུཨཱུཨཷཨེཨོཨཾཨྀཨཱྀཨྃཨྐཨྑཨྒཨྔཨྕཨྖཨྗཨྙཨྚཨྛཨྜཨྞཨྟཨྠཨྡཨྡྷཨྣཨྤཨྥཨྦཨྦྷཨྨཨྩཨྪཨྫཨྭཨྰཨྱཨྲཨླཨྴཨྵཨྶཨྷཨྸཨྻཨྼཨ᫥\n"
     ]
    }
   ],
   "source": [
    "sorted(all)\n",
    "print(\"num of unique chars:\", len(all))\n",
    "x=\"  \".join([str(i) for i in sorted(all)])\n",
    "print(x)\n",
    "\n",
    "print()\n",
    "\n",
    "x=\"ཨ\".join([str(i) for i in sorted(all)])\n",
    "print(x)"
   ]
  },
  {
   "cell_type": "code",
   "execution_count": null,
   "metadata": {},
   "outputs": [],
   "source": [
    "! pip install pyewts"
   ]
  },
  {
   "cell_type": "markdown",
   "metadata": {},
   "source": [
    "### Convert unicode tibetan characters into wylie format"
   ]
  },
  {
   "cell_type": "code",
   "execution_count": 117,
   "metadata": {},
   "outputs": [],
   "source": [
    "import pyewts\n",
    "\n",
    "converter = pyewts.pyewts()\n",
    "\n",
    "df['wylie'] = df['uni'].apply(converter.toWylie)"
   ]
  },
  {
   "cell_type": "code",
   "execution_count": 118,
   "metadata": {},
   "outputs": [],
   "source": [
    "df['char_len'] = df['uni'].str.len()"
   ]
  },
  {
   "cell_type": "code",
   "execution_count": null,
   "metadata": {},
   "outputs": [],
   "source": [
    "! pip install matplotlib"
   ]
  },
  {
   "cell_type": "code",
   "execution_count": 119,
   "metadata": {},
   "outputs": [
    {
     "data": {
      "text/plain": [
       "<Axes: >"
      ]
     },
     "execution_count": 119,
     "metadata": {},
     "output_type": "execute_result"
    },
    {
     "data": {
      "image/png": "[encoded data removed]",
      "text/plain": [
       "<Figure size 640x480 with 1 Axes>"
      ]
     },
     "metadata": {},
     "output_type": "display_data"
    }
   ],
   "source": [
    "df['char_len'].hist(bins=100, range=(0, 300))"
   ]
  },
  {
   "cell_type": "code",
   "execution_count": 120,
   "metadata": {},
   "outputs": [
    {
     "data": {
      "text/plain": [
       "count    719402.000000\n",
       "mean         63.639995\n",
       "std          46.423306\n",
       "min           1.000000\n",
       "25%          29.000000\n",
       "50%          52.000000\n",
       "75%          85.000000\n",
       "max         385.000000\n",
       "Name: char_len, dtype: float64"
      ]
     },
     "execution_count": 120,
     "metadata": {},
     "output_type": "execute_result"
    }
   ],
   "source": [
    "df['char_len'].describe()"
   ]
  },
  {
   "cell_type": "code",
   "execution_count": 121,
   "metadata": {},
   "outputs": [
    {
     "data": {
      "text/plain": [
       "719402"
      ]
     },
     "execution_count": 121,
     "metadata": {},
     "output_type": "execute_result"
    }
   ],
   "source": [
    "df.shape[0]"
   ]
  },
  {
   "cell_type": "code",
   "execution_count": 122,
   "metadata": {},
   "outputs": [],
   "source": [
    "upper_cutoff = 400\n",
    "lower_cutoff = 5"
   ]
  },
  {
   "cell_type": "code",
   "execution_count": 123,
   "metadata": {},
   "outputs": [
    {
     "data": {
      "text/plain": [
       "(0, 6030)"
      ]
     },
     "execution_count": 123,
     "metadata": {},
     "output_type": "execute_result"
    }
   ],
   "source": [
    "df[df['char_len'] > upper_cutoff].shape[0], df[df['char_len'] < lower_cutoff].shape[0]"
   ]
  },
  {
   "cell_type": "code",
   "execution_count": 124,
   "metadata": {},
   "outputs": [],
   "source": [
    "df[df['char_len'] > upper_cutoff][['uni', 'url', 'char_len']].sort_values(by='char_len').to_csv('04_longer_than_upper_cutoff.tsv', sep='\\t', index=False)"
   ]
  },
  {
   "cell_type": "code",
   "execution_count": 125,
   "metadata": {},
   "outputs": [],
   "source": [
    "df[df['char_len'] < lower_cutoff][['uni', 'url', 'char_len']].sort_values(by='char_len').to_csv('04_shorter_than_lower_cutoff.tsv', sep='\\t', index=False)"
   ]
  },
  {
   "cell_type": "code",
   "execution_count": 126,
   "metadata": {},
   "outputs": [],
   "source": [
    "df = df[(df['char_len'] < upper_cutoff) & (df['char_len'] > lower_cutoff)]"
   ]
  },
  {
   "cell_type": "code",
   "execution_count": 127,
   "metadata": {},
   "outputs": [
    {
     "data": {
      "text/plain": [
       "711469"
      ]
     },
     "execution_count": 127,
     "metadata": {},
     "output_type": "execute_result"
    }
   ],
   "source": [
    "df.shape[0]"
   ]
  },
  {
   "cell_type": "markdown",
   "metadata": {},
   "source": [
    "### Get the audio time duration from the file name. \n",
    "\n",
    "There is to format for encoding the time span. We use the one with \\_to\\_ now. The difference came from the using a different library to do the Voice Activity Detection and splitting the audio for Tibetan Teachings. We have since started using pyannote-audio for all departments now."
   ]
  },
  {
   "cell_type": "code",
   "execution_count": 128,
   "metadata": {},
   "outputs": [
    {
     "data": {
      "text/plain": [
       "5.5900000000001455"
      ]
     },
     "execution_count": 128,
     "metadata": {},
     "output_type": "execute_result"
    }
   ],
   "source": [
    "def getTimeSpan(filename):\n",
    "\n",
    "    filename = filename.replace(\".wav\", \"\")\n",
    "    filename = filename.replace(\".WAV\", \"\")\n",
    "    filename = filename.replace(\".mp3\", \"\")\n",
    "    filename = filename.replace(\".MP3\", \"\")\n",
    "    try:\n",
    "        if \"_to_\" in filename:\n",
    "            start, end = filename.split(\"_to_\")\n",
    "            start = start.split(\"_\")[-1]\n",
    "            end = end.split(\"_\")[0]\n",
    "            end = float(end)\n",
    "            start = float(start)\n",
    "            return abs(end - start)/1000\n",
    "        else:\n",
    "            start, end = filename.split(\"-\")\n",
    "            start = start.split(\"_\")[-1]\n",
    "            end = end.split(\"_\")[0]\n",
    "            end =   float(end)\n",
    "            start = float(start)\n",
    "            return abs(end - start)\n",
    "    except Exception as err:\n",
    "        print(f\"filename is:'{filename}'. Could not parse to get time span.\")\n",
    "        return 0\n",
    "    \n",
    "\n",
    "getTimeSpan(\"STT_TT00031_03471.850-03477.44\")"
   ]
  },
  {
   "cell_type": "code",
   "execution_count": 129,
   "metadata": {},
   "outputs": [],
   "source": [
    "df['audio_len'] = df['file_name'].apply(getTimeSpan)"
   ]
  },
  {
   "cell_type": "code",
   "execution_count": 130,
   "metadata": {},
   "outputs": [
    {
     "data": {
      "text/plain": [
       "count    711469.000000\n",
       "mean          3.445852\n",
       "std           2.628525\n",
       "min           0.200000\n",
       "25%           1.500000\n",
       "50%           2.560000\n",
       "75%           4.608000\n",
       "max          13.650000\n",
       "Name: audio_len, dtype: float64"
      ]
     },
     "execution_count": 130,
     "metadata": {},
     "output_type": "execute_result"
    }
   ],
   "source": [
    "df['audio_len'].describe()"
   ]
  },
  {
   "cell_type": "code",
   "execution_count": 131,
   "metadata": {},
   "outputs": [
    {
     "data": {
      "text/plain": [
       "<Axes: >"
      ]
     },
     "execution_count": 131,
     "metadata": {},
     "output_type": "execute_result"
    },
    {
     "data": {
      "image/png": "[encoded data removed]",
      "text/plain": [
       "<Figure size 640x480 with 1 Axes>"
      ]
     },
     "metadata": {},
     "output_type": "display_data"
    }
   ],
   "source": [
    "df['audio_len'].hist(bins=100, range=(0, 15))"
   ]
  },
  {
   "cell_type": "code",
   "execution_count": 132,
   "metadata": {},
   "outputs": [],
   "source": [
    "df['url'] = 'https://d38pmlk0v88drf.cloudfront.net/wav16k/' + df['file_name'] + '.wav'"
   ]
  },
  {
   "cell_type": "code",
   "execution_count": 133,
   "metadata": {},
   "outputs": [],
   "source": [
    "df['url'] = df['url'].map(lambda x : x.replace('#','%23'))"
   ]
  },
  {
   "cell_type": "code",
   "execution_count": 134,
   "metadata": {},
   "outputs": [],
   "source": [
    "df = df[['file_name','uni', 'wylie', 'url', 'dept', 'grade', 'char_len',  'audio_len']]"
   ]
  },
  {
   "cell_type": "code",
   "execution_count": 135,
   "metadata": {},
   "outputs": [
    {
     "data": {
      "text/html": [
       "<div>\n",
       "<style scoped>\n",
       "    .dataframe tbody tr th:only-of-type {\n",
       "        vertical-align: middle;\n",
       "    }\n",
       "\n",
       "    .dataframe tbody tr th {\n",
       "        vertical-align: top;\n",
       "    }\n",
       "\n",
       "    .dataframe thead th {\n",
       "        text-align: right;\n",
       "    }\n",
       "</style>\n",
       "<table border=\"1\" class=\"dataframe\">\n",
       "  <thead>\n",
       "    <tr style=\"text-align: right;\">\n",
       "      <th></th>\n",
       "      <th>file_name</th>\n",
       "      <th>uni</th>\n",
       "      <th>wylie</th>\n",
       "      <th>url</th>\n",
       "      <th>dept</th>\n",
       "      <th>grade</th>\n",
       "      <th>char_len</th>\n",
       "      <th>audio_len</th>\n",
       "    </tr>\n",
       "  </thead>\n",
       "  <tbody>\n",
       "    <tr>\n",
       "      <th>0</th>\n",
       "      <td>STT_TT00694_0486_3161147_to_3166811</td>\n",
       "      <td>ཁྱོད་ཀྱིས་ང་ཡི་བུ་སློབ་རྣམས་སྐྱོངས་ཟེ་ད།རྗེ་བཙ...</td>\n",
       "      <td>khyod kyis nga yi bu slob rnams skyongs ze da/...</td>\n",
       "      <td>https://d38pmlk0v88drf.cloudfront.net/wav16k/S...</td>\n",
       "      <td>STT_TT</td>\n",
       "      <td>3.0</td>\n",
       "      <td>136</td>\n",
       "      <td>5.664</td>\n",
       "    </tr>\n",
       "    <tr>\n",
       "      <th>1</th>\n",
       "      <td>STT_NS_M0321_0403_2828762_to_2830964</td>\n",
       "      <td>ཡང་ཨོ་དེ་ཉོས་ཡ་ཀ་ཅི་འདོད་པ་སླེབས་ཡ་ཅིག་ཡོད་བ།</td>\n",
       "      <td>yang o de nyos ya ka ci 'dod pa slebs ya cig y...</td>\n",
       "      <td>https://d38pmlk0v88drf.cloudfront.net/wav16k/S...</td>\n",
       "      <td>STT_NS</td>\n",
       "      <td>3.0</td>\n",
       "      <td>46</td>\n",
       "      <td>2.202</td>\n",
       "    </tr>\n",
       "    <tr>\n",
       "      <th>2</th>\n",
       "      <td>STT_TT00656_0340_3174820_to_3179343</td>\n",
       "      <td>འཛམ་བུ་གླིང་ལ་དཔེ་ཤག་ཡོད་ངེ་དེ་ཚོ་ཞེ་བོ་འཁྱམ་འ...</td>\n",
       "      <td>'dzam bu gling la dpe shag yod nge de tsho zhe...</td>\n",
       "      <td>https://d38pmlk0v88drf.cloudfront.net/wav16k/S...</td>\n",
       "      <td>STT_TT</td>\n",
       "      <td>3.0</td>\n",
       "      <td>95</td>\n",
       "      <td>4.523</td>\n",
       "    </tr>\n",
       "    <tr>\n",
       "      <th>3</th>\n",
       "      <td>STT_TT00656_0341_3182022_to_3185076</td>\n",
       "      <td>མཚན་ཚོགས་དེ་འདྲའི་ལ་འགྲོ་བསྡད་ཡ་འདྲ་བོ་དེ་འདྲའ...</td>\n",
       "      <td>mtshan tshogs de 'dra'i la 'gro bsdad ya 'dra ...</td>\n",
       "      <td>https://d38pmlk0v88drf.cloudfront.net/wav16k/S...</td>\n",
       "      <td>STT_TT</td>\n",
       "      <td>3.0</td>\n",
       "      <td>81</td>\n",
       "      <td>3.054</td>\n",
       "    </tr>\n",
       "    <tr>\n",
       "      <th>4</th>\n",
       "      <td>STT_TT00656_0344_3200868_to_3203268</td>\n",
       "      <td>སོ་སོ་གི་རེ་བ་དང་འདོད་པ་ཅིག་ཡོད་ཙང་འདི་འགྲུབ་ཡ...</td>\n",
       "      <td>so so gi re ba dang 'dod pa cig yod tsang 'di ...</td>\n",
       "      <td>https://d38pmlk0v88drf.cloudfront.net/wav16k/S...</td>\n",
       "      <td>STT_TT</td>\n",
       "      <td>3.0</td>\n",
       "      <td>54</td>\n",
       "      <td>2.400</td>\n",
       "    </tr>\n",
       "  </tbody>\n",
       "</table>\n",
       "</div>"
      ],
      "text/plain": [
       "                              file_name  \\\n",
       "0   STT_TT00694_0486_3161147_to_3166811   \n",
       "1  STT_NS_M0321_0403_2828762_to_2830964   \n",
       "2   STT_TT00656_0340_3174820_to_3179343   \n",
       "3   STT_TT00656_0341_3182022_to_3185076   \n",
       "4   STT_TT00656_0344_3200868_to_3203268   \n",
       "\n",
       "                                                 uni  \\\n",
       "0  ཁྱོད་ཀྱིས་ང་ཡི་བུ་སློབ་རྣམས་སྐྱོངས་ཟེ་ད།རྗེ་བཙ...   \n",
       "1     ཡང་ཨོ་དེ་ཉོས་ཡ་ཀ་ཅི་འདོད་པ་སླེབས་ཡ་ཅིག་ཡོད་བ།    \n",
       "2  འཛམ་བུ་གླིང་ལ་དཔེ་ཤག་ཡོད་ངེ་དེ་ཚོ་ཞེ་བོ་འཁྱམ་འ...   \n",
       "3  མཚན་ཚོགས་དེ་འདྲའི་ལ་འགྲོ་བསྡད་ཡ་འདྲ་བོ་དེ་འདྲའ...   \n",
       "4  སོ་སོ་གི་རེ་བ་དང་འདོད་པ་ཅིག་ཡོད་ཙང་འདི་འགྲུབ་ཡ...   \n",
       "\n",
       "                                               wylie  \\\n",
       "0  khyod kyis nga yi bu slob rnams skyongs ze da/...   \n",
       "1  yang o de nyos ya ka ci 'dod pa slebs ya cig y...   \n",
       "2  'dzam bu gling la dpe shag yod nge de tsho zhe...   \n",
       "3  mtshan tshogs de 'dra'i la 'gro bsdad ya 'dra ...   \n",
       "4  so so gi re ba dang 'dod pa cig yod tsang 'di ...   \n",
       "\n",
       "                                                 url    dept  grade  char_len  \\\n",
       "0  https://d38pmlk0v88drf.cloudfront.net/wav16k/S...  STT_TT    3.0       136   \n",
       "1  https://d38pmlk0v88drf.cloudfront.net/wav16k/S...  STT_NS    3.0        46   \n",
       "2  https://d38pmlk0v88drf.cloudfront.net/wav16k/S...  STT_TT    3.0        95   \n",
       "3  https://d38pmlk0v88drf.cloudfront.net/wav16k/S...  STT_TT    3.0        81   \n",
       "4  https://d38pmlk0v88drf.cloudfront.net/wav16k/S...  STT_TT    3.0        54   \n",
       "\n",
       "   audio_len  \n",
       "0      5.664  \n",
       "1      2.202  \n",
       "2      4.523  \n",
       "3      3.054  \n",
       "4      2.400  "
      ]
     },
     "execution_count": 135,
     "metadata": {},
     "output_type": "execute_result"
    }
   ],
   "source": [
    "df.head()"
   ]
  },
  {
   "cell_type": "code",
   "execution_count": 136,
   "metadata": {},
   "outputs": [],
   "source": [
    "df.to_csv('04_combine_all.tsv', sep='\\t', index=False)"
   ]
  },
  {
   "cell_type": "code",
   "execution_count": 138,
   "metadata": {},
   "outputs": [
    {
     "data": {
      "text/plain": [
       "uni\n",
       "False    711469\n",
       "Name: count, dtype: int64"
      ]
     },
     "execution_count": 138,
     "metadata": {},
     "output_type": "execute_result"
    }
   ],
   "source": [
    "df['uni'].str.contains('ཧཧཧ').value_counts()"
   ]
  },
  {
   "cell_type": "code",
   "execution_count": 139,
   "metadata": {},
   "outputs": [],
   "source": [
    "import pandas as pd\n",
    "\n",
    "df = pd.read_csv('04_combine_all.tsv', sep='\\t')"
   ]
  },
  {
   "cell_type": "code",
   "execution_count": 140,
   "metadata": {},
   "outputs": [
    {
     "data": {
      "text/html": [
       "<div>\n",
       "<style scoped>\n",
       "    .dataframe tbody tr th:only-of-type {\n",
       "        vertical-align: middle;\n",
       "    }\n",
       "\n",
       "    .dataframe tbody tr th {\n",
       "        vertical-align: top;\n",
       "    }\n",
       "\n",
       "    .dataframe thead th {\n",
       "        text-align: right;\n",
       "    }\n",
       "</style>\n",
       "<table border=\"1\" class=\"dataframe\">\n",
       "  <thead>\n",
       "    <tr style=\"text-align: right;\">\n",
       "      <th></th>\n",
       "      <th>file_name</th>\n",
       "      <th>uni</th>\n",
       "      <th>wylie</th>\n",
       "      <th>url</th>\n",
       "      <th>dept</th>\n",
       "      <th>grade</th>\n",
       "      <th>char_len</th>\n",
       "      <th>audio_len</th>\n",
       "    </tr>\n",
       "  </thead>\n",
       "  <tbody>\n",
       "    <tr>\n",
       "      <th>0</th>\n",
       "      <td>STT_TT00694_0486_3161147_to_3166811</td>\n",
       "      <td>ཁྱོད་ཀྱིས་ང་ཡི་བུ་སློབ་རྣམས་སྐྱོངས་ཟེ་ད།རྗེ་བཙ...</td>\n",
       "      <td>khyod kyis nga yi bu slob rnams skyongs ze da/...</td>\n",
       "      <td>https://d38pmlk0v88drf.cloudfront.net/wav16k/S...</td>\n",
       "      <td>STT_TT</td>\n",
       "      <td>3.0</td>\n",
       "      <td>136</td>\n",
       "      <td>5.664</td>\n",
       "    </tr>\n",
       "    <tr>\n",
       "      <th>1</th>\n",
       "      <td>STT_NS_M0321_0403_2828762_to_2830964</td>\n",
       "      <td>ཡང་ཨོ་དེ་ཉོས་ཡ་ཀ་ཅི་འདོད་པ་སླེབས་ཡ་ཅིག་ཡོད་བ།</td>\n",
       "      <td>yang o de nyos ya ka ci 'dod pa slebs ya cig y...</td>\n",
       "      <td>https://d38pmlk0v88drf.cloudfront.net/wav16k/S...</td>\n",
       "      <td>STT_NS</td>\n",
       "      <td>3.0</td>\n",
       "      <td>46</td>\n",
       "      <td>2.202</td>\n",
       "    </tr>\n",
       "    <tr>\n",
       "      <th>2</th>\n",
       "      <td>STT_TT00656_0340_3174820_to_3179343</td>\n",
       "      <td>འཛམ་བུ་གླིང་ལ་དཔེ་ཤག་ཡོད་ངེ་དེ་ཚོ་ཞེ་བོ་འཁྱམ་འ...</td>\n",
       "      <td>'dzam bu gling la dpe shag yod nge de tsho zhe...</td>\n",
       "      <td>https://d38pmlk0v88drf.cloudfront.net/wav16k/S...</td>\n",
       "      <td>STT_TT</td>\n",
       "      <td>3.0</td>\n",
       "      <td>95</td>\n",
       "      <td>4.523</td>\n",
       "    </tr>\n",
       "    <tr>\n",
       "      <th>3</th>\n",
       "      <td>STT_TT00656_0341_3182022_to_3185076</td>\n",
       "      <td>མཚན་ཚོགས་དེ་འདྲའི་ལ་འགྲོ་བསྡད་ཡ་འདྲ་བོ་དེ་འདྲའ...</td>\n",
       "      <td>mtshan tshogs de 'dra'i la 'gro bsdad ya 'dra ...</td>\n",
       "      <td>https://d38pmlk0v88drf.cloudfront.net/wav16k/S...</td>\n",
       "      <td>STT_TT</td>\n",
       "      <td>3.0</td>\n",
       "      <td>81</td>\n",
       "      <td>3.054</td>\n",
       "    </tr>\n",
       "    <tr>\n",
       "      <th>4</th>\n",
       "      <td>STT_TT00656_0344_3200868_to_3203268</td>\n",
       "      <td>སོ་སོ་གི་རེ་བ་དང་འདོད་པ་ཅིག་ཡོད་ཙང་འདི་འགྲུབ་ཡ...</td>\n",
       "      <td>so so gi re ba dang 'dod pa cig yod tsang 'di ...</td>\n",
       "      <td>https://d38pmlk0v88drf.cloudfront.net/wav16k/S...</td>\n",
       "      <td>STT_TT</td>\n",
       "      <td>3.0</td>\n",
       "      <td>54</td>\n",
       "      <td>2.400</td>\n",
       "    </tr>\n",
       "  </tbody>\n",
       "</table>\n",
       "</div>"
      ],
      "text/plain": [
       "                              file_name  \\\n",
       "0   STT_TT00694_0486_3161147_to_3166811   \n",
       "1  STT_NS_M0321_0403_2828762_to_2830964   \n",
       "2   STT_TT00656_0340_3174820_to_3179343   \n",
       "3   STT_TT00656_0341_3182022_to_3185076   \n",
       "4   STT_TT00656_0344_3200868_to_3203268   \n",
       "\n",
       "                                                 uni  \\\n",
       "0  ཁྱོད་ཀྱིས་ང་ཡི་བུ་སློབ་རྣམས་སྐྱོངས་ཟེ་ད།རྗེ་བཙ...   \n",
       "1     ཡང་ཨོ་དེ་ཉོས་ཡ་ཀ་ཅི་འདོད་པ་སླེབས་ཡ་ཅིག་ཡོད་བ།    \n",
       "2  འཛམ་བུ་གླིང་ལ་དཔེ་ཤག་ཡོད་ངེ་དེ་ཚོ་ཞེ་བོ་འཁྱམ་འ...   \n",
       "3  མཚན་ཚོགས་དེ་འདྲའི་ལ་འགྲོ་བསྡད་ཡ་འདྲ་བོ་དེ་འདྲའ...   \n",
       "4  སོ་སོ་གི་རེ་བ་དང་འདོད་པ་ཅིག་ཡོད་ཙང་འདི་འགྲུབ་ཡ...   \n",
       "\n",
       "                                               wylie  \\\n",
       "0  khyod kyis nga yi bu slob rnams skyongs ze da/...   \n",
       "1  yang o de nyos ya ka ci 'dod pa slebs ya cig y...   \n",
       "2  'dzam bu gling la dpe shag yod nge de tsho zhe...   \n",
       "3  mtshan tshogs de 'dra'i la 'gro bsdad ya 'dra ...   \n",
       "4  so so gi re ba dang 'dod pa cig yod tsang 'di ...   \n",
       "\n",
       "                                                 url    dept  grade  char_len  \\\n",
       "0  https://d38pmlk0v88drf.cloudfront.net/wav16k/S...  STT_TT    3.0       136   \n",
       "1  https://d38pmlk0v88drf.cloudfront.net/wav16k/S...  STT_NS    3.0        46   \n",
       "2  https://d38pmlk0v88drf.cloudfront.net/wav16k/S...  STT_TT    3.0        95   \n",
       "3  https://d38pmlk0v88drf.cloudfront.net/wav16k/S...  STT_TT    3.0        81   \n",
       "4  https://d38pmlk0v88drf.cloudfront.net/wav16k/S...  STT_TT    3.0        54   \n",
       "\n",
       "   audio_len  \n",
       "0      5.664  \n",
       "1      2.202  \n",
       "2      4.523  \n",
       "3      3.054  \n",
       "4      2.400  "
      ]
     },
     "execution_count": 140,
     "metadata": {},
     "output_type": "execute_result"
    }
   ],
   "source": [
    "df.head()"
   ]
  },
  {
   "cell_type": "markdown",
   "metadata": {},
   "source": [
    "#### Hours in each department"
   ]
  },
  {
   "cell_type": "code",
   "execution_count": 141,
   "metadata": {},
   "outputs": [
    {
     "data": {
      "text/plain": [
       "dept\n",
       "STT_AB    112.682608\n",
       "STT_CS     98.171318\n",
       "STT_MV      6.594986\n",
       "STT_NS    173.226921\n",
       "STT_PC     15.606155\n",
       "STT_TT    274.722774\n",
       "Name: audio_len, dtype: float64"
      ]
     },
     "execution_count": 141,
     "metadata": {},
     "output_type": "execute_result"
    }
   ],
   "source": [
    "df.groupby('dept')['audio_len'].sum()/60/60"
   ]
  },
  {
   "cell_type": "markdown",
   "metadata": {},
   "source": [
    "#### Total hours"
   ]
  },
  {
   "cell_type": "code",
   "execution_count": 142,
   "metadata": {},
   "outputs": [
    {
     "data": {
      "text/plain": [
       "681.0047608333332"
      ]
     },
     "execution_count": 142,
     "metadata": {},
     "output_type": "execute_result"
    }
   ],
   "source": [
    "df['audio_len'].sum()/60/60"
   ]
  },
  {
   "cell_type": "code",
   "execution_count": 143,
   "metadata": {},
   "outputs": [],
   "source": [
    "# df.sort_values(by='audio_len', ascending=False, inplace=True)\n",
    "df = df.sample(frac = 1)"
   ]
  },
  {
   "cell_type": "code",
   "execution_count": 144,
   "metadata": {},
   "outputs": [
    {
     "data": {
      "text/html": [
       "<div>\n",
       "<style scoped>\n",
       "    .dataframe tbody tr th:only-of-type {\n",
       "        vertical-align: middle;\n",
       "    }\n",
       "\n",
       "    .dataframe tbody tr th {\n",
       "        vertical-align: top;\n",
       "    }\n",
       "\n",
       "    .dataframe thead th {\n",
       "        text-align: right;\n",
       "    }\n",
       "</style>\n",
       "<table border=\"1\" class=\"dataframe\">\n",
       "  <thead>\n",
       "    <tr style=\"text-align: right;\">\n",
       "      <th></th>\n",
       "      <th>file_name</th>\n",
       "      <th>uni</th>\n",
       "      <th>url</th>\n",
       "      <th>grade</th>\n",
       "    </tr>\n",
       "  </thead>\n",
       "  <tbody>\n",
       "    <tr>\n",
       "      <th>150265</th>\n",
       "      <td>STT_TT00629_0095_551056_to_554640</td>\n",
       "      <td>བཅོམ་ལྡན་འདས་དང་ད།འཇིག་རྟེན་གི་ལྷ་གཅིག་གཉིས་བྱ...</td>\n",
       "      <td>https://d38pmlk0v88drf.cloudfront.net/wav16k/S...</td>\n",
       "      <td>3.0</td>\n",
       "    </tr>\n",
       "    <tr>\n",
       "      <th>553236</th>\n",
       "      <td>STT_TT00070_02547.500-02548.850</td>\n",
       "      <td>ལབ་བྱས།ཁོ།མགོ་གྲུང་པོ་འཁྲབ་བྱས།</td>\n",
       "      <td>https://d38pmlk0v88drf.cloudfront.net/wav16k/S...</td>\n",
       "      <td>NaN</td>\n",
       "    </tr>\n",
       "    <tr>\n",
       "      <th>316945</th>\n",
       "      <td>STT_TT00690_0046_301408_to_304448</td>\n",
       "      <td>དོན་དམ་བྱང་ཆུབ་ཀི་སེམས་སྒོམ་པའི་སྒོ་ནས།རྐྱེན་ང...</td>\n",
       "      <td>https://d38pmlk0v88drf.cloudfront.net/wav16k/S...</td>\n",
       "      <td>3.0</td>\n",
       "    </tr>\n",
       "    <tr>\n",
       "      <th>312269</th>\n",
       "      <td>STT_TT00534_0018_103101_to_107229</td>\n",
       "      <td>ཨུམ།ཀུན་མཁྱེན་ཕྱག་ན་པད་མོ་རྒྱལ་བའི་དབང་།བློ་བཟ...</td>\n",
       "      <td>https://d38pmlk0v88drf.cloudfront.net/wav16k/S...</td>\n",
       "      <td>3.0</td>\n",
       "    </tr>\n",
       "    <tr>\n",
       "      <th>230748</th>\n",
       "      <td>STT_AB00317_1579_5031049_to_5032209</td>\n",
       "      <td>་དཔེར་ན་སྒྲ་མངོན་གྱུར་ཡིན་པས་</td>\n",
       "      <td>https://d38pmlk0v88drf.cloudfront.net/wav16k/S...</td>\n",
       "      <td>2.0</td>\n",
       "    </tr>\n",
       "  </tbody>\n",
       "</table>\n",
       "</div>"
      ],
      "text/plain": [
       "                                  file_name  \\\n",
       "150265    STT_TT00629_0095_551056_to_554640   \n",
       "553236      STT_TT00070_02547.500-02548.850   \n",
       "316945    STT_TT00690_0046_301408_to_304448   \n",
       "312269    STT_TT00534_0018_103101_to_107229   \n",
       "230748  STT_AB00317_1579_5031049_to_5032209   \n",
       "\n",
       "                                                      uni  \\\n",
       "150265  བཅོམ་ལྡན་འདས་དང་ད།འཇིག་རྟེན་གི་ལྷ་གཅིག་གཉིས་བྱ...   \n",
       "553236                   ལབ་བྱས།ཁོ།མགོ་གྲུང་པོ་འཁྲབ་བྱས།    \n",
       "316945  དོན་དམ་བྱང་ཆུབ་ཀི་སེམས་སྒོམ་པའི་སྒོ་ནས།རྐྱེན་ང...   \n",
       "312269  ཨུམ།ཀུན་མཁྱེན་ཕྱག་ན་པད་མོ་རྒྱལ་བའི་དབང་།བློ་བཟ...   \n",
       "230748                     ་དཔེར་ན་སྒྲ་མངོན་གྱུར་ཡིན་པས་    \n",
       "\n",
       "                                                      url  grade  \n",
       "150265  https://d38pmlk0v88drf.cloudfront.net/wav16k/S...    3.0  \n",
       "553236  https://d38pmlk0v88drf.cloudfront.net/wav16k/S...    NaN  \n",
       "316945  https://d38pmlk0v88drf.cloudfront.net/wav16k/S...    3.0  \n",
       "312269  https://d38pmlk0v88drf.cloudfront.net/wav16k/S...    3.0  \n",
       "230748  https://d38pmlk0v88drf.cloudfront.net/wav16k/S...    2.0  "
      ]
     },
     "execution_count": 144,
     "metadata": {},
     "output_type": "execute_result"
    }
   ],
   "source": [
    "df.iloc[0:100,[0, 1, 3, 5]].to_csv(\"04_random_100.tsv\", index=False, sep='\\t')\n",
    "df.iloc[0:100,[0, 1, 3, 5]].head()"
   ]
  },
  {
   "cell_type": "code",
   "execution_count": 145,
   "metadata": {},
   "outputs": [
    {
     "data": {
      "text/plain": [
       "dept\n",
       "STT_AB     24617\n",
       "STT_CS     21804\n",
       "STT_NS     78562\n",
       "STT_PC      5400\n",
       "STT_TT    129288\n",
       "dtype: int64"
      ]
     },
     "execution_count": 145,
     "metadata": {},
     "output_type": "execute_result"
    }
   ],
   "source": [
    "df[df['grade'] == 3].groupby('dept').size()"
   ]
  }
 ],
 "metadata": {
  "kernelspec": {
   "display_name": ".env",
   "language": "python",
   "name": "python3"
  },
  "language_info": {
   "codemirror_mode": {
    "name": "ipython",
    "version": 3
   },
   "file_extension": ".py",
   "mimetype": "text/x-python",
   "name": "python",
   "nbconvert_exporter": "python",
   "pygments_lexer": "ipython3",
   "version": "3.10.12"
  }
 },
 "nbformat": 4,
 "nbformat_minor": 2
}
