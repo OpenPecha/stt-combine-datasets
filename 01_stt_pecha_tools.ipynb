{
 "cells": [
  {
   "cell_type": "markdown",
   "metadata": {},
   "source": [
    "# Data from stt.pecha.tools\n",
    "\n",
    "Connect to the postgres databse hosted on Render using dbeaver-ce and run the following query and export the result as a csv file. \n",
    "\n",
    "![export_csv](data/export_csv.png)\n",
    "\n",
    "\n",
    "### All transcribed data\n",
    "Use the following query when you want more data but willing to compromise one the quality of the transcription. Task in state 'submitted' means the task has been transcribed by the first transcriber and not yet been reviewed or done quality control on.\n",
    "```sql\n",
    "select t.transcript, t.reviewed_transcript, t.final_transcript, t.file_name, t.url \n",
    "from \"Task\" t \n",
    "where t.state in ('submitted', 'accepted', 'finalised');\n",
    "```\n",
    "\n",
    "### Reviewed only\n",
    "The following query selects only the task that has been reviewed by the team lead but may or may not have been reviewed by the quality control team.\n",
    "reviewed at least once\n",
    "```sql \n",
    "select t.reviewed_transcript, t.final_transcript, t.file_name, t.url \n",
    "from \"Task\" t \n",
    "where t.state in ('accepted', 'finalised');\n",
    "```"
   ]
  },
  {
   "cell_type": "markdown",
   "metadata": {},
   "source": [
    "Read the exported csv from stt.pecha.tools"
   ]
  },
  {
   "cell_type": "code",
   "execution_count": 13,
   "metadata": {},
   "outputs": [],
   "source": [
    "import pandas as pd\n",
    "\n",
    "csv_path = \"/home/monlamai/_Task__202401171255.csv\"\n",
    "df = pd.read_csv(csv_path)"
   ]
  },
  {
   "cell_type": "code",
   "execution_count": 14,
   "metadata": {},
   "outputs": [
    {
     "data": {
      "text/html": [
       "<div>\n",
       "<style scoped>\n",
       "    .dataframe tbody tr th:only-of-type {\n",
       "        vertical-align: middle;\n",
       "    }\n",
       "\n",
       "    .dataframe tbody tr th {\n",
       "        vertical-align: top;\n",
       "    }\n",
       "\n",
       "    .dataframe thead th {\n",
       "        text-align: right;\n",
       "    }\n",
       "</style>\n",
       "<table border=\"1\" class=\"dataframe\">\n",
       "  <thead>\n",
       "    <tr style=\"text-align: right;\">\n",
       "      <th></th>\n",
       "      <th>reviewed_transcript</th>\n",
       "      <th>final_transcript</th>\n",
       "      <th>file_name</th>\n",
       "      <th>url</th>\n",
       "    </tr>\n",
       "  </thead>\n",
       "  <tbody>\n",
       "    <tr>\n",
       "      <th>0</th>\n",
       "      <td>ཉི་མ་རིང་ཐུང་ལའང་མ་འདོད་པ་བྱས་ཀྱི་ཡོད་ན་ངས་ཚེ་...</td>\n",
       "      <td>NaN</td>\n",
       "      <td>STT_AB00237_0190_1711732_to_1723319</td>\n",
       "      <td>https://huggingface.co/datasets/openpecha/STT_...</td>\n",
       "    </tr>\n",
       "    <tr>\n",
       "      <th>1</th>\n",
       "      <td>ད་ཆ་ཁྱིམ་ཚང་འདི་ལ་འགྲིག་མཐུན་གྱི་ཆ་རྐྱེན་གནས་ཡ...</td>\n",
       "      <td>NaN</td>\n",
       "      <td>STT_AB00237_0197_1767500_to_1776441</td>\n",
       "      <td>https://huggingface.co/datasets/openpecha/STT_...</td>\n",
       "    </tr>\n",
       "    <tr>\n",
       "      <th>2</th>\n",
       "      <td>དྒྱེ་ནས་ཕ་དོན་གྲུབ་ཀྱི་བསམ་བློའི་ནང་དེ་ནི་ཕལ་ཆ...</td>\n",
       "      <td>NaN</td>\n",
       "      <td>STT_AB00238_0005_30554_to_39889</td>\n",
       "      <td>https://huggingface.co/datasets/openpecha/STT_...</td>\n",
       "    </tr>\n",
       "    <tr>\n",
       "      <th>3</th>\n",
       "      <td>དེ་ཉིན་གང་ལྟར་དོན་གྲུབ་ཁྱིམ་དུ་སླེབས་མ་ཐག་རང་ག...</td>\n",
       "      <td>NaN</td>\n",
       "      <td>STT_AB00238_0006_41271_to_46288</td>\n",
       "      <td>https://huggingface.co/datasets/openpecha/STT_...</td>\n",
       "    </tr>\n",
       "    <tr>\n",
       "      <th>4</th>\n",
       "      <td>དོན་གྲུབ་རང་སྐྱེས་པ་ཁྱོ་ག་ཞིག་ཡིན་པས་</td>\n",
       "      <td>NaN</td>\n",
       "      <td>STT_AB00238_0007_47056_to_49957</td>\n",
       "      <td>https://huggingface.co/datasets/openpecha/STT_...</td>\n",
       "    </tr>\n",
       "  </tbody>\n",
       "</table>\n",
       "</div>"
      ],
      "text/plain": [
       "                                 reviewed_transcript final_transcript  \\\n",
       "0  ཉི་མ་རིང་ཐུང་ལའང་མ་འདོད་པ་བྱས་ཀྱི་ཡོད་ན་ངས་ཚེ་...              NaN   \n",
       "1  ད་ཆ་ཁྱིམ་ཚང་འདི་ལ་འགྲིག་མཐུན་གྱི་ཆ་རྐྱེན་གནས་ཡ...              NaN   \n",
       "2  དྒྱེ་ནས་ཕ་དོན་གྲུབ་ཀྱི་བསམ་བློའི་ནང་དེ་ནི་ཕལ་ཆ...              NaN   \n",
       "3  དེ་ཉིན་གང་ལྟར་དོན་གྲུབ་ཁྱིམ་དུ་སླེབས་མ་ཐག་རང་ག...              NaN   \n",
       "4              དོན་གྲུབ་རང་སྐྱེས་པ་ཁྱོ་ག་ཞིག་ཡིན་པས་              NaN   \n",
       "\n",
       "                             file_name  \\\n",
       "0  STT_AB00237_0190_1711732_to_1723319   \n",
       "1  STT_AB00237_0197_1767500_to_1776441   \n",
       "2      STT_AB00238_0005_30554_to_39889   \n",
       "3      STT_AB00238_0006_41271_to_46288   \n",
       "4      STT_AB00238_0007_47056_to_49957   \n",
       "\n",
       "                                                 url  \n",
       "0  https://huggingface.co/datasets/openpecha/STT_...  \n",
       "1  https://huggingface.co/datasets/openpecha/STT_...  \n",
       "2  https://huggingface.co/datasets/openpecha/STT_...  \n",
       "3  https://huggingface.co/datasets/openpecha/STT_...  \n",
       "4  https://huggingface.co/datasets/openpecha/STT_...  "
      ]
     },
     "execution_count": 14,
     "metadata": {},
     "output_type": "execute_result"
    }
   ],
   "source": [
    "df.head()"
   ]
  },
  {
   "cell_type": "markdown",
   "metadata": {},
   "source": [
    "grade column is used to indicate if the quality of the transcription \n",
    "|grade|meaning|\n",
    "|-----|--------|\n",
    "| 1   | Transcribed only|\n",
    "| 2   | Reviewed by the team lead|\n",
    "| 3   | Reviewed by the quality control team|"
   ]
  },
  {
   "cell_type": "code",
   "execution_count": 15,
   "metadata": {},
   "outputs": [],
   "source": [
    "df['grade'] = 1 # by default all the task are transcibed"
   ]
  },
  {
   "cell_type": "code",
   "execution_count": 16,
   "metadata": {},
   "outputs": [],
   "source": [
    "df.loc[~df['reviewed_transcript'].isna(), 'grade'] = 2 # if the task has been reviewed, grade = 2"
   ]
  },
  {
   "cell_type": "code",
   "execution_count": 17,
   "metadata": {},
   "outputs": [],
   "source": [
    "df.loc[~df['final_transcript'].isna(), 'grade'] = 3 # if the task has been finalized, grade = 3"
   ]
  },
  {
   "cell_type": "code",
   "execution_count": 18,
   "metadata": {},
   "outputs": [],
   "source": [
    "df['final_transcript'].fillna(df['reviewed_transcript'], inplace=True)"
   ]
  },
  {
   "cell_type": "code",
   "execution_count": 19,
   "metadata": {},
   "outputs": [
    {
     "data": {
      "text/html": [
       "<div>\n",
       "<style scoped>\n",
       "    .dataframe tbody tr th:only-of-type {\n",
       "        vertical-align: middle;\n",
       "    }\n",
       "\n",
       "    .dataframe tbody tr th {\n",
       "        vertical-align: top;\n",
       "    }\n",
       "\n",
       "    .dataframe thead th {\n",
       "        text-align: right;\n",
       "    }\n",
       "</style>\n",
       "<table border=\"1\" class=\"dataframe\">\n",
       "  <thead>\n",
       "    <tr style=\"text-align: right;\">\n",
       "      <th></th>\n",
       "      <th>reviewed_transcript</th>\n",
       "      <th>final_transcript</th>\n",
       "      <th>file_name</th>\n",
       "      <th>url</th>\n",
       "      <th>grade</th>\n",
       "    </tr>\n",
       "  </thead>\n",
       "  <tbody>\n",
       "    <tr>\n",
       "      <th>0</th>\n",
       "      <td>ཉི་མ་རིང་ཐུང་ལའང་མ་འདོད་པ་བྱས་ཀྱི་ཡོད་ན་ངས་ཚེ་...</td>\n",
       "      <td>ཉི་མ་རིང་ཐུང་ལའང་མ་འདོད་པ་བྱས་ཀྱི་ཡོད་ན་ངས་ཚེ་...</td>\n",
       "      <td>STT_AB00237_0190_1711732_to_1723319</td>\n",
       "      <td>https://huggingface.co/datasets/openpecha/STT_...</td>\n",
       "      <td>2</td>\n",
       "    </tr>\n",
       "    <tr>\n",
       "      <th>1</th>\n",
       "      <td>ད་ཆ་ཁྱིམ་ཚང་འདི་ལ་འགྲིག་མཐུན་གྱི་ཆ་རྐྱེན་གནས་ཡ...</td>\n",
       "      <td>ད་ཆ་ཁྱིམ་ཚང་འདི་ལ་འགྲིག་མཐུན་གྱི་ཆ་རྐྱེན་གནས་ཡ...</td>\n",
       "      <td>STT_AB00237_0197_1767500_to_1776441</td>\n",
       "      <td>https://huggingface.co/datasets/openpecha/STT_...</td>\n",
       "      <td>2</td>\n",
       "    </tr>\n",
       "    <tr>\n",
       "      <th>2</th>\n",
       "      <td>དྒྱེ་ནས་ཕ་དོན་གྲུབ་ཀྱི་བསམ་བློའི་ནང་དེ་ནི་ཕལ་ཆ...</td>\n",
       "      <td>དྒྱེ་ནས་ཕ་དོན་གྲུབ་ཀྱི་བསམ་བློའི་ནང་དེ་ནི་ཕལ་ཆ...</td>\n",
       "      <td>STT_AB00238_0005_30554_to_39889</td>\n",
       "      <td>https://huggingface.co/datasets/openpecha/STT_...</td>\n",
       "      <td>2</td>\n",
       "    </tr>\n",
       "    <tr>\n",
       "      <th>3</th>\n",
       "      <td>དེ་ཉིན་གང་ལྟར་དོན་གྲུབ་ཁྱིམ་དུ་སླེབས་མ་ཐག་རང་ག...</td>\n",
       "      <td>དེ་ཉིན་གང་ལྟར་དོན་གྲུབ་ཁྱིམ་དུ་སླེབས་མ་ཐག་རང་ག...</td>\n",
       "      <td>STT_AB00238_0006_41271_to_46288</td>\n",
       "      <td>https://huggingface.co/datasets/openpecha/STT_...</td>\n",
       "      <td>2</td>\n",
       "    </tr>\n",
       "    <tr>\n",
       "      <th>4</th>\n",
       "      <td>དོན་གྲུབ་རང་སྐྱེས་པ་ཁྱོ་ག་ཞིག་ཡིན་པས་</td>\n",
       "      <td>དོན་གྲུབ་རང་སྐྱེས་པ་ཁྱོ་ག་ཞིག་ཡིན་པས་</td>\n",
       "      <td>STT_AB00238_0007_47056_to_49957</td>\n",
       "      <td>https://huggingface.co/datasets/openpecha/STT_...</td>\n",
       "      <td>2</td>\n",
       "    </tr>\n",
       "  </tbody>\n",
       "</table>\n",
       "</div>"
      ],
      "text/plain": [
       "                                 reviewed_transcript  \\\n",
       "0  ཉི་མ་རིང་ཐུང་ལའང་མ་འདོད་པ་བྱས་ཀྱི་ཡོད་ན་ངས་ཚེ་...   \n",
       "1  ད་ཆ་ཁྱིམ་ཚང་འདི་ལ་འགྲིག་མཐུན་གྱི་ཆ་རྐྱེན་གནས་ཡ...   \n",
       "2  དྒྱེ་ནས་ཕ་དོན་གྲུབ་ཀྱི་བསམ་བློའི་ནང་དེ་ནི་ཕལ་ཆ...   \n",
       "3  དེ་ཉིན་གང་ལྟར་དོན་གྲུབ་ཁྱིམ་དུ་སླེབས་མ་ཐག་རང་ག...   \n",
       "4              དོན་གྲུབ་རང་སྐྱེས་པ་ཁྱོ་ག་ཞིག་ཡིན་པས་   \n",
       "\n",
       "                                    final_transcript  \\\n",
       "0  ཉི་མ་རིང་ཐུང་ལའང་མ་འདོད་པ་བྱས་ཀྱི་ཡོད་ན་ངས་ཚེ་...   \n",
       "1  ད་ཆ་ཁྱིམ་ཚང་འདི་ལ་འགྲིག་མཐུན་གྱི་ཆ་རྐྱེན་གནས་ཡ...   \n",
       "2  དྒྱེ་ནས་ཕ་དོན་གྲུབ་ཀྱི་བསམ་བློའི་ནང་དེ་ནི་ཕལ་ཆ...   \n",
       "3  དེ་ཉིན་གང་ལྟར་དོན་གྲུབ་ཁྱིམ་དུ་སླེབས་མ་ཐག་རང་ག...   \n",
       "4              དོན་གྲུབ་རང་སྐྱེས་པ་ཁྱོ་ག་ཞིག་ཡིན་པས་   \n",
       "\n",
       "                             file_name  \\\n",
       "0  STT_AB00237_0190_1711732_to_1723319   \n",
       "1  STT_AB00237_0197_1767500_to_1776441   \n",
       "2      STT_AB00238_0005_30554_to_39889   \n",
       "3      STT_AB00238_0006_41271_to_46288   \n",
       "4      STT_AB00238_0007_47056_to_49957   \n",
       "\n",
       "                                                 url  grade  \n",
       "0  https://huggingface.co/datasets/openpecha/STT_...      2  \n",
       "1  https://huggingface.co/datasets/openpecha/STT_...      2  \n",
       "2  https://huggingface.co/datasets/openpecha/STT_...      2  \n",
       "3  https://huggingface.co/datasets/openpecha/STT_...      2  \n",
       "4  https://huggingface.co/datasets/openpecha/STT_...      2  "
      ]
     },
     "execution_count": 19,
     "metadata": {},
     "output_type": "execute_result"
    }
   ],
   "source": [
    "df.head()"
   ]
  },
  {
   "cell_type": "code",
   "execution_count": 20,
   "metadata": {},
   "outputs": [],
   "source": [
    "df = df[~df['final_transcript'].isnull()]"
   ]
  },
  {
   "cell_type": "code",
   "execution_count": 21,
   "metadata": {},
   "outputs": [],
   "source": [
    "df['dept'] = df['file_name'].str[:6] # extract department code from file name"
   ]
  },
  {
   "cell_type": "code",
   "execution_count": 22,
   "metadata": {},
   "outputs": [],
   "source": [
    "df = df[['file_name','final_transcript', 'url', 'dept', 'grade']]"
   ]
  },
  {
   "cell_type": "code",
   "execution_count": 23,
   "metadata": {},
   "outputs": [],
   "source": [
    "df.rename(columns={'final_transcript':'uni'}, inplace=True)"
   ]
  },
  {
   "cell_type": "code",
   "execution_count": 24,
   "metadata": {},
   "outputs": [
    {
     "data": {
      "text/html": [
       "<div>\n",
       "<style scoped>\n",
       "    .dataframe tbody tr th:only-of-type {\n",
       "        vertical-align: middle;\n",
       "    }\n",
       "\n",
       "    .dataframe tbody tr th {\n",
       "        vertical-align: top;\n",
       "    }\n",
       "\n",
       "    .dataframe thead th {\n",
       "        text-align: right;\n",
       "    }\n",
       "</style>\n",
       "<table border=\"1\" class=\"dataframe\">\n",
       "  <thead>\n",
       "    <tr style=\"text-align: right;\">\n",
       "      <th></th>\n",
       "      <th>file_name</th>\n",
       "      <th>uni</th>\n",
       "      <th>url</th>\n",
       "      <th>dept</th>\n",
       "      <th>grade</th>\n",
       "    </tr>\n",
       "  </thead>\n",
       "  <tbody>\n",
       "    <tr>\n",
       "      <th>0</th>\n",
       "      <td>STT_AB00237_0190_1711732_to_1723319</td>\n",
       "      <td>ཉི་མ་རིང་ཐུང་ལའང་མ་འདོད་པ་བྱས་ཀྱི་ཡོད་ན་ངས་ཚེ་...</td>\n",
       "      <td>https://huggingface.co/datasets/openpecha/STT_...</td>\n",
       "      <td>STT_AB</td>\n",
       "      <td>2</td>\n",
       "    </tr>\n",
       "    <tr>\n",
       "      <th>1</th>\n",
       "      <td>STT_AB00237_0197_1767500_to_1776441</td>\n",
       "      <td>ད་ཆ་ཁྱིམ་ཚང་འདི་ལ་འགྲིག་མཐུན་གྱི་ཆ་རྐྱེན་གནས་ཡ...</td>\n",
       "      <td>https://huggingface.co/datasets/openpecha/STT_...</td>\n",
       "      <td>STT_AB</td>\n",
       "      <td>2</td>\n",
       "    </tr>\n",
       "    <tr>\n",
       "      <th>2</th>\n",
       "      <td>STT_AB00238_0005_30554_to_39889</td>\n",
       "      <td>དྒྱེ་ནས་ཕ་དོན་གྲུབ་ཀྱི་བསམ་བློའི་ནང་དེ་ནི་ཕལ་ཆ...</td>\n",
       "      <td>https://huggingface.co/datasets/openpecha/STT_...</td>\n",
       "      <td>STT_AB</td>\n",
       "      <td>2</td>\n",
       "    </tr>\n",
       "    <tr>\n",
       "      <th>3</th>\n",
       "      <td>STT_AB00238_0006_41271_to_46288</td>\n",
       "      <td>དེ་ཉིན་གང་ལྟར་དོན་གྲུབ་ཁྱིམ་དུ་སླེབས་མ་ཐག་རང་ག...</td>\n",
       "      <td>https://huggingface.co/datasets/openpecha/STT_...</td>\n",
       "      <td>STT_AB</td>\n",
       "      <td>2</td>\n",
       "    </tr>\n",
       "    <tr>\n",
       "      <th>4</th>\n",
       "      <td>STT_AB00238_0007_47056_to_49957</td>\n",
       "      <td>དོན་གྲུབ་རང་སྐྱེས་པ་ཁྱོ་ག་ཞིག་ཡིན་པས་</td>\n",
       "      <td>https://huggingface.co/datasets/openpecha/STT_...</td>\n",
       "      <td>STT_AB</td>\n",
       "      <td>2</td>\n",
       "    </tr>\n",
       "  </tbody>\n",
       "</table>\n",
       "</div>"
      ],
      "text/plain": [
       "                             file_name  \\\n",
       "0  STT_AB00237_0190_1711732_to_1723319   \n",
       "1  STT_AB00237_0197_1767500_to_1776441   \n",
       "2      STT_AB00238_0005_30554_to_39889   \n",
       "3      STT_AB00238_0006_41271_to_46288   \n",
       "4      STT_AB00238_0007_47056_to_49957   \n",
       "\n",
       "                                                 uni  \\\n",
       "0  ཉི་མ་རིང་ཐུང་ལའང་མ་འདོད་པ་བྱས་ཀྱི་ཡོད་ན་ངས་ཚེ་...   \n",
       "1  ད་ཆ་ཁྱིམ་ཚང་འདི་ལ་འགྲིག་མཐུན་གྱི་ཆ་རྐྱེན་གནས་ཡ...   \n",
       "2  དྒྱེ་ནས་ཕ་དོན་གྲུབ་ཀྱི་བསམ་བློའི་ནང་དེ་ནི་ཕལ་ཆ...   \n",
       "3  དེ་ཉིན་གང་ལྟར་དོན་གྲུབ་ཁྱིམ་དུ་སླེབས་མ་ཐག་རང་ག...   \n",
       "4              དོན་གྲུབ་རང་སྐྱེས་པ་ཁྱོ་ག་ཞིག་ཡིན་པས་   \n",
       "\n",
       "                                                 url    dept  grade  \n",
       "0  https://huggingface.co/datasets/openpecha/STT_...  STT_AB      2  \n",
       "1  https://huggingface.co/datasets/openpecha/STT_...  STT_AB      2  \n",
       "2  https://huggingface.co/datasets/openpecha/STT_...  STT_AB      2  \n",
       "3  https://huggingface.co/datasets/openpecha/STT_...  STT_AB      2  \n",
       "4  https://huggingface.co/datasets/openpecha/STT_...  STT_AB      2  "
      ]
     },
     "execution_count": 24,
     "metadata": {},
     "output_type": "execute_result"
    }
   ],
   "source": [
    "df.head()"
   ]
  },
  {
   "cell_type": "code",
   "execution_count": 26,
   "metadata": {},
   "outputs": [],
   "source": [
    "df['file_name'] = df['file_name'].map(lambda x: x.replace(\".wav\", \"\"))\n",
    "df['file_name'] = df['file_name'].map(lambda x: x.replace(\".mp3\", \"\"))"
   ]
  },
  {
   "cell_type": "code",
   "execution_count": 29,
   "metadata": {},
   "outputs": [],
   "source": [
    "df.to_csv('01_stt_pecha_tools.tsv', sep='\\t', index=False)"
   ]
  },
  {
   "cell_type": "code",
   "execution_count": 30,
   "metadata": {},
   "outputs": [
    {
     "data": {
      "text/plain": [
       "(168277, 5)"
      ]
     },
     "execution_count": 30,
     "metadata": {},
     "output_type": "execute_result"
    }
   ],
   "source": [
    "df.shape"
   ]
  }
 ],
 "metadata": {
  "kernelspec": {
   "display_name": ".env",
   "language": "python",
   "name": "python3"
  },
  "language_info": {
   "codemirror_mode": {
    "name": "ipython",
    "version": 3
   },
   "file_extension": ".py",
   "mimetype": "text/x-python",
   "name": "python",
   "nbconvert_exporter": "python",
   "pygments_lexer": "ipython3",
   "version": "3.10.12"
  }
 },
 "nbformat": 4,
 "nbformat_minor": 2
}
