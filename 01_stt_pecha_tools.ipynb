{
 "cells": [
  {
   "cell_type": "markdown",
   "metadata": {},
   "source": [
    "# Data from stt.pecha.tools\n",
    "\n",
    "Connect to the postgres database hosted on Render using dbeaver-ce and run the following query and export the result as a csv file. \n",
    "\n",
    "![export_csv](data/export_csv.png)\n",
    "\n",
    "\n",
    "### All transcribed data\n",
    "Use the following query when you want more data but willing to compromise one the quality of the transcription. Task in state 'submitted' means the task has been transcribed by the first transcriber and not yet been reviewed or done quality control on.\n",
    "```sql\n",
    "select t.transcript, t.reviewed_transcript, t.final_transcript, t.file_name, t.url \n",
    "from \"Task\" t \n",
    "where t.state in ('submitted', 'accepted', 'finalised');\n",
    "```\n",
    "\n",
    "### Reviewed only\n",
    "The following query selects only the task that has been reviewed by the team lead but may or may not have been reviewed by the quality control team.\n",
    "reviewed at least once\n",
    "```sql \n",
    "select t.reviewed_transcript, t.final_transcript, t.file_name, t.url \n",
    "from \"Task\" t \n",
    "where t.state in ('accepted', 'finalised');\n",
    "```"
   ]
  },
  {
   "cell_type": "markdown",
   "metadata": {},
   "source": [
    "Read the exported csv from stt.pecha.tools"
   ]
  },
  {
   "cell_type": "code",
   "execution_count": 1,
   "metadata": {},
   "outputs": [],
   "source": [
    "import pandas as pd\n",
    "\n",
    "csv_path = \"/home/monlamai/_Task__202405241257.csv\"\n",
    "\n",
    "df = pd.read_csv(csv_path)"
   ]
  },
  {
   "cell_type": "code",
   "execution_count": 2,
   "metadata": {},
   "outputs": [
    {
     "data": {
      "text/html": [
       "<div>\n",
       "<style scoped>\n",
       "    .dataframe tbody tr th:only-of-type {\n",
       "        vertical-align: middle;\n",
       "    }\n",
       "\n",
       "    .dataframe tbody tr th {\n",
       "        vertical-align: top;\n",
       "    }\n",
       "\n",
       "    .dataframe thead th {\n",
       "        text-align: right;\n",
       "    }\n",
       "</style>\n",
       "<table border=\"1\" class=\"dataframe\">\n",
       "  <thead>\n",
       "    <tr style=\"text-align: right;\">\n",
       "      <th></th>\n",
       "      <th>reviewed_transcript</th>\n",
       "      <th>final_transcript</th>\n",
       "      <th>file_name</th>\n",
       "      <th>url</th>\n",
       "    </tr>\n",
       "  </thead>\n",
       "  <tbody>\n",
       "    <tr>\n",
       "      <th>0</th>\n",
       "      <td>དེ་ལ་བརྟེན་ནས་མེ་དང་བུད་ཤིང་ལ་རང་བཞིན་མེད་དོ་ས...</td>\n",
       "      <td>NaN</td>\n",
       "      <td>STT_AB00565_0410_1675759_to_1682175</td>\n",
       "      <td>https://d38pmlk0v88drf.cloudfront.net/wav16k/S...</td>\n",
       "    </tr>\n",
       "    <tr>\n",
       "      <th>1</th>\n",
       "      <td>ཐལ་འགྱུར་ནི་</td>\n",
       "      <td>NaN</td>\n",
       "      <td>STT_AB00565_0412_1692363_to_1693165</td>\n",
       "      <td>https://d38pmlk0v88drf.cloudfront.net/wav16k/S...</td>\n",
       "    </tr>\n",
       "    <tr>\n",
       "      <th>2</th>\n",
       "      <td>ཕ་རོལ་པོ་ལ་མི་འདོད་པ་འཕེན་པ་འདི་འདྲ་རྣམས་ཡིན་པས་</td>\n",
       "      <td>NaN</td>\n",
       "      <td>STT_AB00565_0415_1709513_to_1713421</td>\n",
       "      <td>https://d38pmlk0v88drf.cloudfront.net/wav16k/S...</td>\n",
       "    </tr>\n",
       "    <tr>\n",
       "      <th>3</th>\n",
       "      <td>དེས་མཚོན་ནས་ཐལ་བ་གཞན་རྣམས་ཀྱང་རྟོགས་པར་བྱའོ། །</td>\n",
       "      <td>NaN</td>\n",
       "      <td>STT_AB00565_0416_1714087_to_1717790</td>\n",
       "      <td>https://d38pmlk0v88drf.cloudfront.net/wav16k/S...</td>\n",
       "    </tr>\n",
       "    <tr>\n",
       "      <th>4</th>\n",
       "      <td>དཔང་པོ་རྒོལ་བ་དང་</td>\n",
       "      <td>NaN</td>\n",
       "      <td>STT_AB00565_0424_1767704_to_1769104</td>\n",
       "      <td>https://d38pmlk0v88drf.cloudfront.net/wav16k/S...</td>\n",
       "    </tr>\n",
       "  </tbody>\n",
       "</table>\n",
       "</div>"
      ],
      "text/plain": [
       "                                 reviewed_transcript final_transcript  \\\n",
       "0  དེ་ལ་བརྟེན་ནས་མེ་དང་བུད་ཤིང་ལ་རང་བཞིན་མེད་དོ་ས...              NaN   \n",
       "1                                       ཐལ་འགྱུར་ནི་              NaN   \n",
       "2   ཕ་རོལ་པོ་ལ་མི་འདོད་པ་འཕེན་པ་འདི་འདྲ་རྣམས་ཡིན་པས་              NaN   \n",
       "3     དེས་མཚོན་ནས་ཐལ་བ་གཞན་རྣམས་ཀྱང་རྟོགས་པར་བྱའོ། །              NaN   \n",
       "4                                  དཔང་པོ་རྒོལ་བ་དང་              NaN   \n",
       "\n",
       "                             file_name  \\\n",
       "0  STT_AB00565_0410_1675759_to_1682175   \n",
       "1  STT_AB00565_0412_1692363_to_1693165   \n",
       "2  STT_AB00565_0415_1709513_to_1713421   \n",
       "3  STT_AB00565_0416_1714087_to_1717790   \n",
       "4  STT_AB00565_0424_1767704_to_1769104   \n",
       "\n",
       "                                                 url  \n",
       "0  https://d38pmlk0v88drf.cloudfront.net/wav16k/S...  \n",
       "1  https://d38pmlk0v88drf.cloudfront.net/wav16k/S...  \n",
       "2  https://d38pmlk0v88drf.cloudfront.net/wav16k/S...  \n",
       "3  https://d38pmlk0v88drf.cloudfront.net/wav16k/S...  \n",
       "4  https://d38pmlk0v88drf.cloudfront.net/wav16k/S...  "
      ]
     },
     "execution_count": 2,
     "metadata": {},
     "output_type": "execute_result"
    }
   ],
   "source": [
    "df.head()"
   ]
  },
  {
   "cell_type": "code",
   "execution_count": 3,
   "metadata": {},
   "outputs": [
    {
     "name": "stdout",
     "output_type": "stream",
     "text": [
      "mkdir: cannot create directory ‘tsv’: File exists\n",
      "  % Total    % Received % Xferd  Average Speed   Time    Time     Time  Current\n",
      "                                 Dload  Upload   Total   Spent    Left  Speed\n",
      "100  205M  100  205M    0     0  10.9M      0  0:00:18  0:00:18 --:--:-- 10.6M\n",
      "  % Total    % Received % Xferd  Average Speed   Time    Time     Time  Current\n",
      "                                 Dload  Upload   Total   Spent    Left  Speed\n",
      "100  173M  100  173M    0     0  11.1M      0  0:00:15  0:00:15 --:--:-- 11.5M    0     0  11.0M      0  0:00:15  0:00:13  0:00:02 11.0M\n"
     ]
    }
   ],
   "source": [
    "! mkdir tsv\n",
    "! curl https://d38pmlk0v88drf.cloudfront.net/backup/finalised_2024-03-20.csv --output tsv/finalised_2024-03-20.csv\n",
    "! curl https://d38pmlk0v88drf.cloudfront.net/backup/finalised_2024-04-24.csv --output tsv/finalised_2024-04-24.csv"
   ]
  },
  {
   "cell_type": "code",
   "execution_count": 4,
   "metadata": {},
   "outputs": [],
   "source": [
    "df_backups = []\n",
    "for backup in ['2024-03-20', '2024-04-24']:\n",
    "    df_backups.append(pd.read_csv(f'tsv/finalised_{backup}.csv'))"
   ]
  },
  {
   "cell_type": "code",
   "execution_count": 11,
   "metadata": {},
   "outputs": [],
   "source": [
    "df_backup = pd.concat(df_backups)"
   ]
  },
  {
   "cell_type": "code",
   "execution_count": 12,
   "metadata": {},
   "outputs": [],
   "source": [
    "df_backup = df_backup[['reviewed_transcript','final_transcript','file_name','url']]"
   ]
  },
  {
   "cell_type": "code",
   "execution_count": 14,
   "metadata": {},
   "outputs": [],
   "source": [
    "df = pd.concat([df, df_backup])"
   ]
  },
  {
   "cell_type": "code",
   "execution_count": 15,
   "metadata": {},
   "outputs": [
    {
     "data": {
      "text/html": [
       "<div>\n",
       "<style scoped>\n",
       "    .dataframe tbody tr th:only-of-type {\n",
       "        vertical-align: middle;\n",
       "    }\n",
       "\n",
       "    .dataframe tbody tr th {\n",
       "        vertical-align: top;\n",
       "    }\n",
       "\n",
       "    .dataframe thead th {\n",
       "        text-align: right;\n",
       "    }\n",
       "</style>\n",
       "<table border=\"1\" class=\"dataframe\">\n",
       "  <thead>\n",
       "    <tr style=\"text-align: right;\">\n",
       "      <th></th>\n",
       "      <th>reviewed_transcript</th>\n",
       "      <th>final_transcript</th>\n",
       "      <th>file_name</th>\n",
       "      <th>url</th>\n",
       "    </tr>\n",
       "  </thead>\n",
       "  <tbody>\n",
       "    <tr>\n",
       "      <th>0</th>\n",
       "      <td>དེ་ལ་བརྟེན་ནས་མེ་དང་བུད་ཤིང་ལ་རང་བཞིན་མེད་དོ་ས...</td>\n",
       "      <td>NaN</td>\n",
       "      <td>STT_AB00565_0410_1675759_to_1682175</td>\n",
       "      <td>https://d38pmlk0v88drf.cloudfront.net/wav16k/S...</td>\n",
       "    </tr>\n",
       "    <tr>\n",
       "      <th>1</th>\n",
       "      <td>ཐལ་འགྱུར་ནི་</td>\n",
       "      <td>NaN</td>\n",
       "      <td>STT_AB00565_0412_1692363_to_1693165</td>\n",
       "      <td>https://d38pmlk0v88drf.cloudfront.net/wav16k/S...</td>\n",
       "    </tr>\n",
       "    <tr>\n",
       "      <th>2</th>\n",
       "      <td>ཕ་རོལ་པོ་ལ་མི་འདོད་པ་འཕེན་པ་འདི་འདྲ་རྣམས་ཡིན་པས་</td>\n",
       "      <td>NaN</td>\n",
       "      <td>STT_AB00565_0415_1709513_to_1713421</td>\n",
       "      <td>https://d38pmlk0v88drf.cloudfront.net/wav16k/S...</td>\n",
       "    </tr>\n",
       "    <tr>\n",
       "      <th>3</th>\n",
       "      <td>དེས་མཚོན་ནས་ཐལ་བ་གཞན་རྣམས་ཀྱང་རྟོགས་པར་བྱའོ། །</td>\n",
       "      <td>NaN</td>\n",
       "      <td>STT_AB00565_0416_1714087_to_1717790</td>\n",
       "      <td>https://d38pmlk0v88drf.cloudfront.net/wav16k/S...</td>\n",
       "    </tr>\n",
       "    <tr>\n",
       "      <th>4</th>\n",
       "      <td>དཔང་པོ་རྒོལ་བ་དང་</td>\n",
       "      <td>NaN</td>\n",
       "      <td>STT_AB00565_0424_1767704_to_1769104</td>\n",
       "      <td>https://d38pmlk0v88drf.cloudfront.net/wav16k/S...</td>\n",
       "    </tr>\n",
       "  </tbody>\n",
       "</table>\n",
       "</div>"
      ],
      "text/plain": [
       "                                 reviewed_transcript final_transcript  \\\n",
       "0  དེ་ལ་བརྟེན་ནས་མེ་དང་བུད་ཤིང་ལ་རང་བཞིན་མེད་དོ་ས...              NaN   \n",
       "1                                       ཐལ་འགྱུར་ནི་              NaN   \n",
       "2   ཕ་རོལ་པོ་ལ་མི་འདོད་པ་འཕེན་པ་འདི་འདྲ་རྣམས་ཡིན་པས་              NaN   \n",
       "3     དེས་མཚོན་ནས་ཐལ་བ་གཞན་རྣམས་ཀྱང་རྟོགས་པར་བྱའོ། །              NaN   \n",
       "4                                  དཔང་པོ་རྒོལ་བ་དང་              NaN   \n",
       "\n",
       "                             file_name  \\\n",
       "0  STT_AB00565_0410_1675759_to_1682175   \n",
       "1  STT_AB00565_0412_1692363_to_1693165   \n",
       "2  STT_AB00565_0415_1709513_to_1713421   \n",
       "3  STT_AB00565_0416_1714087_to_1717790   \n",
       "4  STT_AB00565_0424_1767704_to_1769104   \n",
       "\n",
       "                                                 url  \n",
       "0  https://d38pmlk0v88drf.cloudfront.net/wav16k/S...  \n",
       "1  https://d38pmlk0v88drf.cloudfront.net/wav16k/S...  \n",
       "2  https://d38pmlk0v88drf.cloudfront.net/wav16k/S...  \n",
       "3  https://d38pmlk0v88drf.cloudfront.net/wav16k/S...  \n",
       "4  https://d38pmlk0v88drf.cloudfront.net/wav16k/S...  "
      ]
     },
     "execution_count": 15,
     "metadata": {},
     "output_type": "execute_result"
    }
   ],
   "source": [
    "df.head()"
   ]
  },
  {
   "cell_type": "markdown",
   "metadata": {},
   "source": [
    "grade column is used to indicate if the quality of the transcription \n",
    "|grade|meaning|\n",
    "|-----|--------|\n",
    "| 1   | Transcribed only|\n",
    "| 2   | Reviewed by the team lead|\n",
    "| 3   | Reviewed by the quality control team|"
   ]
  },
  {
   "cell_type": "code",
   "execution_count": 16,
   "metadata": {},
   "outputs": [],
   "source": [
    "df['grade'] = 1 # by default all the task are transcibed"
   ]
  },
  {
   "cell_type": "code",
   "execution_count": 17,
   "metadata": {},
   "outputs": [],
   "source": [
    "df.loc[~df['reviewed_transcript'].isna(), 'grade'] = 2 # if the task has been reviewed, grade = 2"
   ]
  },
  {
   "cell_type": "code",
   "execution_count": 18,
   "metadata": {},
   "outputs": [],
   "source": [
    "df.loc[~df['final_transcript'].isna(), 'grade'] = 3 # if the task has been finalized, grade = 3"
   ]
  },
  {
   "cell_type": "code",
   "execution_count": 19,
   "metadata": {},
   "outputs": [],
   "source": [
    "df['final_transcript'].fillna(df['reviewed_transcript'], inplace=True)"
   ]
  },
  {
   "cell_type": "code",
   "execution_count": 20,
   "metadata": {},
   "outputs": [
    {
     "data": {
      "text/html": [
       "<div>\n",
       "<style scoped>\n",
       "    .dataframe tbody tr th:only-of-type {\n",
       "        vertical-align: middle;\n",
       "    }\n",
       "\n",
       "    .dataframe tbody tr th {\n",
       "        vertical-align: top;\n",
       "    }\n",
       "\n",
       "    .dataframe thead th {\n",
       "        text-align: right;\n",
       "    }\n",
       "</style>\n",
       "<table border=\"1\" class=\"dataframe\">\n",
       "  <thead>\n",
       "    <tr style=\"text-align: right;\">\n",
       "      <th></th>\n",
       "      <th>reviewed_transcript</th>\n",
       "      <th>final_transcript</th>\n",
       "      <th>file_name</th>\n",
       "      <th>url</th>\n",
       "      <th>grade</th>\n",
       "    </tr>\n",
       "  </thead>\n",
       "  <tbody>\n",
       "    <tr>\n",
       "      <th>0</th>\n",
       "      <td>དེ་ལ་བརྟེན་ནས་མེ་དང་བུད་ཤིང་ལ་རང་བཞིན་མེད་དོ་ས...</td>\n",
       "      <td>དེ་ལ་བརྟེན་ནས་མེ་དང་བུད་ཤིང་ལ་རང་བཞིན་མེད་དོ་ས...</td>\n",
       "      <td>STT_AB00565_0410_1675759_to_1682175</td>\n",
       "      <td>https://d38pmlk0v88drf.cloudfront.net/wav16k/S...</td>\n",
       "      <td>2</td>\n",
       "    </tr>\n",
       "    <tr>\n",
       "      <th>1</th>\n",
       "      <td>ཐལ་འགྱུར་ནི་</td>\n",
       "      <td>ཐལ་འགྱུར་ནི་</td>\n",
       "      <td>STT_AB00565_0412_1692363_to_1693165</td>\n",
       "      <td>https://d38pmlk0v88drf.cloudfront.net/wav16k/S...</td>\n",
       "      <td>2</td>\n",
       "    </tr>\n",
       "    <tr>\n",
       "      <th>2</th>\n",
       "      <td>ཕ་རོལ་པོ་ལ་མི་འདོད་པ་འཕེན་པ་འདི་འདྲ་རྣམས་ཡིན་པས་</td>\n",
       "      <td>ཕ་རོལ་པོ་ལ་མི་འདོད་པ་འཕེན་པ་འདི་འདྲ་རྣམས་ཡིན་པས་</td>\n",
       "      <td>STT_AB00565_0415_1709513_to_1713421</td>\n",
       "      <td>https://d38pmlk0v88drf.cloudfront.net/wav16k/S...</td>\n",
       "      <td>2</td>\n",
       "    </tr>\n",
       "    <tr>\n",
       "      <th>3</th>\n",
       "      <td>དེས་མཚོན་ནས་ཐལ་བ་གཞན་རྣམས་ཀྱང་རྟོགས་པར་བྱའོ། །</td>\n",
       "      <td>དེས་མཚོན་ནས་ཐལ་བ་གཞན་རྣམས་ཀྱང་རྟོགས་པར་བྱའོ། །</td>\n",
       "      <td>STT_AB00565_0416_1714087_to_1717790</td>\n",
       "      <td>https://d38pmlk0v88drf.cloudfront.net/wav16k/S...</td>\n",
       "      <td>2</td>\n",
       "    </tr>\n",
       "    <tr>\n",
       "      <th>4</th>\n",
       "      <td>དཔང་པོ་རྒོལ་བ་དང་</td>\n",
       "      <td>དཔང་པོ་རྒོལ་བ་དང་</td>\n",
       "      <td>STT_AB00565_0424_1767704_to_1769104</td>\n",
       "      <td>https://d38pmlk0v88drf.cloudfront.net/wav16k/S...</td>\n",
       "      <td>2</td>\n",
       "    </tr>\n",
       "  </tbody>\n",
       "</table>\n",
       "</div>"
      ],
      "text/plain": [
       "                                 reviewed_transcript  \\\n",
       "0  དེ་ལ་བརྟེན་ནས་མེ་དང་བུད་ཤིང་ལ་རང་བཞིན་མེད་དོ་ས...   \n",
       "1                                       ཐལ་འགྱུར་ནི་   \n",
       "2   ཕ་རོལ་པོ་ལ་མི་འདོད་པ་འཕེན་པ་འདི་འདྲ་རྣམས་ཡིན་པས་   \n",
       "3     དེས་མཚོན་ནས་ཐལ་བ་གཞན་རྣམས་ཀྱང་རྟོགས་པར་བྱའོ། །   \n",
       "4                                  དཔང་པོ་རྒོལ་བ་དང་   \n",
       "\n",
       "                                    final_transcript  \\\n",
       "0  དེ་ལ་བརྟེན་ནས་མེ་དང་བུད་ཤིང་ལ་རང་བཞིན་མེད་དོ་ས...   \n",
       "1                                       ཐལ་འགྱུར་ནི་   \n",
       "2   ཕ་རོལ་པོ་ལ་མི་འདོད་པ་འཕེན་པ་འདི་འདྲ་རྣམས་ཡིན་པས་   \n",
       "3     དེས་མཚོན་ནས་ཐལ་བ་གཞན་རྣམས་ཀྱང་རྟོགས་པར་བྱའོ། །   \n",
       "4                                  དཔང་པོ་རྒོལ་བ་དང་   \n",
       "\n",
       "                             file_name  \\\n",
       "0  STT_AB00565_0410_1675759_to_1682175   \n",
       "1  STT_AB00565_0412_1692363_to_1693165   \n",
       "2  STT_AB00565_0415_1709513_to_1713421   \n",
       "3  STT_AB00565_0416_1714087_to_1717790   \n",
       "4  STT_AB00565_0424_1767704_to_1769104   \n",
       "\n",
       "                                                 url  grade  \n",
       "0  https://d38pmlk0v88drf.cloudfront.net/wav16k/S...      2  \n",
       "1  https://d38pmlk0v88drf.cloudfront.net/wav16k/S...      2  \n",
       "2  https://d38pmlk0v88drf.cloudfront.net/wav16k/S...      2  \n",
       "3  https://d38pmlk0v88drf.cloudfront.net/wav16k/S...      2  \n",
       "4  https://d38pmlk0v88drf.cloudfront.net/wav16k/S...      2  "
      ]
     },
     "execution_count": 20,
     "metadata": {},
     "output_type": "execute_result"
    }
   ],
   "source": [
    "df.head()"
   ]
  },
  {
   "cell_type": "code",
   "execution_count": 21,
   "metadata": {},
   "outputs": [],
   "source": [
    "df = df[~df['final_transcript'].isnull()]"
   ]
  },
  {
   "cell_type": "code",
   "execution_count": 22,
   "metadata": {},
   "outputs": [],
   "source": [
    "df['dept'] = df['file_name'].str[:6] # extract department code from file name"
   ]
  },
  {
   "cell_type": "code",
   "execution_count": 23,
   "metadata": {},
   "outputs": [],
   "source": [
    "df = df[['file_name','final_transcript', 'url', 'dept', 'grade']]"
   ]
  },
  {
   "cell_type": "code",
   "execution_count": 24,
   "metadata": {},
   "outputs": [],
   "source": [
    "df.rename(columns={'final_transcript':'uni'}, inplace=True)"
   ]
  },
  {
   "cell_type": "code",
   "execution_count": 25,
   "metadata": {},
   "outputs": [
    {
     "data": {
      "text/html": [
       "<div>\n",
       "<style scoped>\n",
       "    .dataframe tbody tr th:only-of-type {\n",
       "        vertical-align: middle;\n",
       "    }\n",
       "\n",
       "    .dataframe tbody tr th {\n",
       "        vertical-align: top;\n",
       "    }\n",
       "\n",
       "    .dataframe thead th {\n",
       "        text-align: right;\n",
       "    }\n",
       "</style>\n",
       "<table border=\"1\" class=\"dataframe\">\n",
       "  <thead>\n",
       "    <tr style=\"text-align: right;\">\n",
       "      <th></th>\n",
       "      <th>file_name</th>\n",
       "      <th>uni</th>\n",
       "      <th>url</th>\n",
       "      <th>dept</th>\n",
       "      <th>grade</th>\n",
       "    </tr>\n",
       "  </thead>\n",
       "  <tbody>\n",
       "    <tr>\n",
       "      <th>0</th>\n",
       "      <td>STT_AB00565_0410_1675759_to_1682175</td>\n",
       "      <td>དེ་ལ་བརྟེན་ནས་མེ་དང་བུད་ཤིང་ལ་རང་བཞིན་མེད་དོ་ས...</td>\n",
       "      <td>https://d38pmlk0v88drf.cloudfront.net/wav16k/S...</td>\n",
       "      <td>STT_AB</td>\n",
       "      <td>2</td>\n",
       "    </tr>\n",
       "    <tr>\n",
       "      <th>1</th>\n",
       "      <td>STT_AB00565_0412_1692363_to_1693165</td>\n",
       "      <td>ཐལ་འགྱུར་ནི་</td>\n",
       "      <td>https://d38pmlk0v88drf.cloudfront.net/wav16k/S...</td>\n",
       "      <td>STT_AB</td>\n",
       "      <td>2</td>\n",
       "    </tr>\n",
       "    <tr>\n",
       "      <th>2</th>\n",
       "      <td>STT_AB00565_0415_1709513_to_1713421</td>\n",
       "      <td>ཕ་རོལ་པོ་ལ་མི་འདོད་པ་འཕེན་པ་འདི་འདྲ་རྣམས་ཡིན་པས་</td>\n",
       "      <td>https://d38pmlk0v88drf.cloudfront.net/wav16k/S...</td>\n",
       "      <td>STT_AB</td>\n",
       "      <td>2</td>\n",
       "    </tr>\n",
       "    <tr>\n",
       "      <th>3</th>\n",
       "      <td>STT_AB00565_0416_1714087_to_1717790</td>\n",
       "      <td>དེས་མཚོན་ནས་ཐལ་བ་གཞན་རྣམས་ཀྱང་རྟོགས་པར་བྱའོ། །</td>\n",
       "      <td>https://d38pmlk0v88drf.cloudfront.net/wav16k/S...</td>\n",
       "      <td>STT_AB</td>\n",
       "      <td>2</td>\n",
       "    </tr>\n",
       "    <tr>\n",
       "      <th>4</th>\n",
       "      <td>STT_AB00565_0424_1767704_to_1769104</td>\n",
       "      <td>དཔང་པོ་རྒོལ་བ་དང་</td>\n",
       "      <td>https://d38pmlk0v88drf.cloudfront.net/wav16k/S...</td>\n",
       "      <td>STT_AB</td>\n",
       "      <td>2</td>\n",
       "    </tr>\n",
       "  </tbody>\n",
       "</table>\n",
       "</div>"
      ],
      "text/plain": [
       "                             file_name  \\\n",
       "0  STT_AB00565_0410_1675759_to_1682175   \n",
       "1  STT_AB00565_0412_1692363_to_1693165   \n",
       "2  STT_AB00565_0415_1709513_to_1713421   \n",
       "3  STT_AB00565_0416_1714087_to_1717790   \n",
       "4  STT_AB00565_0424_1767704_to_1769104   \n",
       "\n",
       "                                                 uni  \\\n",
       "0  དེ་ལ་བརྟེན་ནས་མེ་དང་བུད་ཤིང་ལ་རང་བཞིན་མེད་དོ་ས...   \n",
       "1                                       ཐལ་འགྱུར་ནི་   \n",
       "2   ཕ་རོལ་པོ་ལ་མི་འདོད་པ་འཕེན་པ་འདི་འདྲ་རྣམས་ཡིན་པས་   \n",
       "3     དེས་མཚོན་ནས་ཐལ་བ་གཞན་རྣམས་ཀྱང་རྟོགས་པར་བྱའོ། །   \n",
       "4                                  དཔང་པོ་རྒོལ་བ་དང་   \n",
       "\n",
       "                                                 url    dept  grade  \n",
       "0  https://d38pmlk0v88drf.cloudfront.net/wav16k/S...  STT_AB      2  \n",
       "1  https://d38pmlk0v88drf.cloudfront.net/wav16k/S...  STT_AB      2  \n",
       "2  https://d38pmlk0v88drf.cloudfront.net/wav16k/S...  STT_AB      2  \n",
       "3  https://d38pmlk0v88drf.cloudfront.net/wav16k/S...  STT_AB      2  \n",
       "4  https://d38pmlk0v88drf.cloudfront.net/wav16k/S...  STT_AB      2  "
      ]
     },
     "execution_count": 25,
     "metadata": {},
     "output_type": "execute_result"
    }
   ],
   "source": [
    "df.head()"
   ]
  },
  {
   "cell_type": "code",
   "execution_count": 26,
   "metadata": {},
   "outputs": [],
   "source": [
    "df['file_name'] = df['file_name'].map(lambda x: x.replace(\".wav\", \"\"))\n",
    "df['file_name'] = df['file_name'].map(lambda x: x.replace(\".mp3\", \"\"))"
   ]
  },
  {
   "cell_type": "code",
   "execution_count": 27,
   "metadata": {},
   "outputs": [],
   "source": [
    "df.to_csv('01_stt_pecha_tools.csv', index=False)"
   ]
  },
  {
   "cell_type": "code",
   "execution_count": 28,
   "metadata": {},
   "outputs": [
    {
     "name": "stdout",
     "output_type": "stream",
     "text": [
      "upload: ./01_stt_pecha_tools.csv to s3://monlam.ai.stt/tsv/01_stt_pecha_tools.csv\n"
     ]
    }
   ],
   "source": [
    "! aws s3 cp 01_stt_pecha_tools.csv s3://monlam.ai.stt/tsv/01_stt_pecha_tools.csv"
   ]
  },
  {
   "cell_type": "code",
   "execution_count": 29,
   "metadata": {},
   "outputs": [
    {
     "data": {
      "text/plain": [
       "(576532, 5)"
      ]
     },
     "execution_count": 29,
     "metadata": {},
     "output_type": "execute_result"
    }
   ],
   "source": [
    "df.shape"
   ]
  }
 ],
 "metadata": {
  "kernelspec": {
   "display_name": ".env",
   "language": "python",
   "name": "python3"
  },
  "language_info": {
   "codemirror_mode": {
    "name": "ipython",
    "version": 3
   },
   "file_extension": ".py",
   "mimetype": "text/x-python",
   "name": "python",
   "nbconvert_exporter": "python",
   "pygments_lexer": "ipython3",
   "version": "3.10.12"
  }
 },
 "nbformat": 4,
 "nbformat_minor": 2
}
