{
 "cells": [
  {
   "cell_type": "markdown",
   "metadata": {},
   "source": [
    "# Data from stt.pecha.tools\n",
    "\n",
    "Connect to the postgres database hosted on Render using dbeaver-ce and run the following query and export the result as a csv file. \n",
    "\n",
    "![export_csv](data/export_csv.png)\n",
    "\n",
    "\n",
    "### All transcribed data\n",
    "Use the following query when you want more data but willing to compromise one the quality of the transcription. Task in state 'submitted' means the task has been transcribed by the first transcriber and not yet been reviewed or done quality control on.\n",
    "```sql\n",
    "select t.transcript, t.reviewed_transcript, t.final_transcript, t.file_name, t.url \n",
    "from \"Task\" t \n",
    "where t.state in ('submitted', 'accepted', 'finalised');\n",
    "```\n",
    "\n",
    "### Reviewed only\n",
    "The following query selects only the task that has been reviewed by the team lead but may or may not have been reviewed by the quality control team.\n",
    "reviewed at least once\n",
    "```sql \n",
    "select t.reviewed_transcript, t.final_transcript, t.file_name, t.url \n",
    "from \"Task\" t \n",
    "where t.state in ('accepted', 'finalised');\n",
    "```"
   ]
  },
  {
   "cell_type": "markdown",
   "metadata": {},
   "source": [
    "Read the exported csv from stt.pecha.tools"
   ]
  },
  {
   "cell_type": "code",
   "execution_count": 2,
   "metadata": {},
   "outputs": [],
   "source": [
    "import pandas as pd\n",
    "\n",
    "# csv_path = \"/home/monlamai/_Task__202403291101.csv\"\n",
    "\n",
    "# csv_path = \"/home/monlamai/_Task__202404031433.csv\"\n",
    "\n",
    "csv_path = \"/home/monlamai/_Task__202404041143.csv\"\n",
    "\n",
    "df = pd.read_csv(csv_path)"
   ]
  },
  {
   "cell_type": "code",
   "execution_count": 3,
   "metadata": {},
   "outputs": [
    {
     "data": {
      "text/html": [
       "<div>\n",
       "<style scoped>\n",
       "    .dataframe tbody tr th:only-of-type {\n",
       "        vertical-align: middle;\n",
       "    }\n",
       "\n",
       "    .dataframe tbody tr th {\n",
       "        vertical-align: top;\n",
       "    }\n",
       "\n",
       "    .dataframe thead th {\n",
       "        text-align: right;\n",
       "    }\n",
       "</style>\n",
       "<table border=\"1\" class=\"dataframe\">\n",
       "  <thead>\n",
       "    <tr style=\"text-align: right;\">\n",
       "      <th></th>\n",
       "      <th>reviewed_transcript</th>\n",
       "      <th>final_transcript</th>\n",
       "      <th>file_name</th>\n",
       "      <th>url</th>\n",
       "    </tr>\n",
       "  </thead>\n",
       "  <tbody>\n",
       "    <tr>\n",
       "      <th>0</th>\n",
       "      <td>སྔོན་འགོག་མ་བྱས་བ་ཡིན་ན་ལབ་དགོས་རཱ། ད་སྔོན་ནས་...</td>\n",
       "      <td>སྔོན་འགོག་མ་བྱས་བ་ཡིན་ན་ལབ་དགོས་རཱ། ད་སྔོན་ནས་...</td>\n",
       "      <td>STT_NS_M0321_0472_3336783_to_3340138</td>\n",
       "      <td>https://d38pmlk0v88drf.cloudfront.net/wav16k/S...</td>\n",
       "    </tr>\n",
       "    <tr>\n",
       "      <th>1</th>\n",
       "      <td>འབེལ་འབེལ་ལྷུག་ལྷུག་ཡོད་རཱ། སོ་སོ་ག་རེ་བཟའ་ན་ཡ...</td>\n",
       "      <td>འབེལ་འབེལ་ལྷུག་ལྷུག་ཡོད་རཱ། སོ་སོ་ག་རེ་བཟའ་ན་ཡ...</td>\n",
       "      <td>STT_NS_M0321_0482_3402953_to_3405182</td>\n",
       "      <td>https://d38pmlk0v88drf.cloudfront.net/wav16k/S...</td>\n",
       "    </tr>\n",
       "    <tr>\n",
       "      <th>2</th>\n",
       "      <td>དྲི་བ་འདི་ཡོད་བ་ཏོག་ཙི་དཀའ་ལས་ཁག་པོ་འདྲ་བོ་ཞིག...</td>\n",
       "      <td>NaN</td>\n",
       "      <td>STT_NS_M0068_0003_15600_to_21102</td>\n",
       "      <td>https://d38pmlk0v88drf.cloudfront.net/wav16k/S...</td>\n",
       "    </tr>\n",
       "    <tr>\n",
       "      <th>3</th>\n",
       "      <td>ད་ང་རང་ཡང་མོ་ཡག་པོ་ཡོད་རེད། མོ་ལག་པ་ཤང་པོ་ཡོད་...</td>\n",
       "      <td>ད་ང་རང་ཡང་མོ་ཡག་པོ་ཡོད་རེད། མོ་ལག་པ་ཤང་པོ་ཡོད་...</td>\n",
       "      <td>STT_NS_M0311_0108_714701_to_719069</td>\n",
       "      <td>https://d38pmlk0v88drf.cloudfront.net/wav16k/S...</td>\n",
       "    </tr>\n",
       "    <tr>\n",
       "      <th>4</th>\n",
       "      <td>ཨེ་ནས་ཨ་རག་དང་ཨེ་འདྲའི་འདྲ་བོ་ལོངས་སྤྱོད་འདྲ་བ...</td>\n",
       "      <td>ཨེ་ནས་ཨ་རག་དང་ཨེ་འདྲའི་འདྲ་བོ་ལོངས་སྤྱོད་འདྲ་བ...</td>\n",
       "      <td>STT_NS_M0311_0120_793916_to_797602</td>\n",
       "      <td>https://d38pmlk0v88drf.cloudfront.net/wav16k/S...</td>\n",
       "    </tr>\n",
       "  </tbody>\n",
       "</table>\n",
       "</div>"
      ],
      "text/plain": [
       "                                 reviewed_transcript  \\\n",
       "0  སྔོན་འགོག་མ་བྱས་བ་ཡིན་ན་ལབ་དགོས་རཱ། ད་སྔོན་ནས་...   \n",
       "1  འབེལ་འབེལ་ལྷུག་ལྷུག་ཡོད་རཱ། སོ་སོ་ག་རེ་བཟའ་ན་ཡ...   \n",
       "2  དྲི་བ་འདི་ཡོད་བ་ཏོག་ཙི་དཀའ་ལས་ཁག་པོ་འདྲ་བོ་ཞིག...   \n",
       "3  ད་ང་རང་ཡང་མོ་ཡག་པོ་ཡོད་རེད། མོ་ལག་པ་ཤང་པོ་ཡོད་...   \n",
       "4  ཨེ་ནས་ཨ་རག་དང་ཨེ་འདྲའི་འདྲ་བོ་ལོངས་སྤྱོད་འདྲ་བ...   \n",
       "\n",
       "                                    final_transcript  \\\n",
       "0  སྔོན་འགོག་མ་བྱས་བ་ཡིན་ན་ལབ་དགོས་རཱ། ད་སྔོན་ནས་...   \n",
       "1  འབེལ་འབེལ་ལྷུག་ལྷུག་ཡོད་རཱ། སོ་སོ་ག་རེ་བཟའ་ན་ཡ...   \n",
       "2                                                NaN   \n",
       "3  ད་ང་རང་ཡང་མོ་ཡག་པོ་ཡོད་རེད། མོ་ལག་པ་ཤང་པོ་ཡོད་...   \n",
       "4  ཨེ་ནས་ཨ་རག་དང་ཨེ་འདྲའི་འདྲ་བོ་ལོངས་སྤྱོད་འདྲ་བ...   \n",
       "\n",
       "                              file_name  \\\n",
       "0  STT_NS_M0321_0472_3336783_to_3340138   \n",
       "1  STT_NS_M0321_0482_3402953_to_3405182   \n",
       "2      STT_NS_M0068_0003_15600_to_21102   \n",
       "3    STT_NS_M0311_0108_714701_to_719069   \n",
       "4    STT_NS_M0311_0120_793916_to_797602   \n",
       "\n",
       "                                                 url  \n",
       "0  https://d38pmlk0v88drf.cloudfront.net/wav16k/S...  \n",
       "1  https://d38pmlk0v88drf.cloudfront.net/wav16k/S...  \n",
       "2  https://d38pmlk0v88drf.cloudfront.net/wav16k/S...  \n",
       "3  https://d38pmlk0v88drf.cloudfront.net/wav16k/S...  \n",
       "4  https://d38pmlk0v88drf.cloudfront.net/wav16k/S...  "
      ]
     },
     "execution_count": 3,
     "metadata": {},
     "output_type": "execute_result"
    }
   ],
   "source": [
    "df.head()"
   ]
  },
  {
   "cell_type": "markdown",
   "metadata": {},
   "source": [
    "grade column is used to indicate if the quality of the transcription \n",
    "|grade|meaning|\n",
    "|-----|--------|\n",
    "| 1   | Transcribed only|\n",
    "| 2   | Reviewed by the team lead|\n",
    "| 3   | Reviewed by the quality control team|"
   ]
  },
  {
   "cell_type": "code",
   "execution_count": 4,
   "metadata": {},
   "outputs": [],
   "source": [
    "df['grade'] = 1 # by default all the task are transcibed"
   ]
  },
  {
   "cell_type": "code",
   "execution_count": 5,
   "metadata": {},
   "outputs": [],
   "source": [
    "df.loc[~df['reviewed_transcript'].isna(), 'grade'] = 2 # if the task has been reviewed, grade = 2"
   ]
  },
  {
   "cell_type": "code",
   "execution_count": 6,
   "metadata": {},
   "outputs": [],
   "source": [
    "df.loc[~df['final_transcript'].isna(), 'grade'] = 3 # if the task has been finalized, grade = 3"
   ]
  },
  {
   "cell_type": "code",
   "execution_count": 7,
   "metadata": {},
   "outputs": [],
   "source": [
    "df['final_transcript'].fillna(df['reviewed_transcript'], inplace=True)"
   ]
  },
  {
   "cell_type": "code",
   "execution_count": 8,
   "metadata": {},
   "outputs": [
    {
     "data": {
      "text/html": [
       "<div>\n",
       "<style scoped>\n",
       "    .dataframe tbody tr th:only-of-type {\n",
       "        vertical-align: middle;\n",
       "    }\n",
       "\n",
       "    .dataframe tbody tr th {\n",
       "        vertical-align: top;\n",
       "    }\n",
       "\n",
       "    .dataframe thead th {\n",
       "        text-align: right;\n",
       "    }\n",
       "</style>\n",
       "<table border=\"1\" class=\"dataframe\">\n",
       "  <thead>\n",
       "    <tr style=\"text-align: right;\">\n",
       "      <th></th>\n",
       "      <th>reviewed_transcript</th>\n",
       "      <th>final_transcript</th>\n",
       "      <th>file_name</th>\n",
       "      <th>url</th>\n",
       "      <th>grade</th>\n",
       "    </tr>\n",
       "  </thead>\n",
       "  <tbody>\n",
       "    <tr>\n",
       "      <th>0</th>\n",
       "      <td>སྔོན་འགོག་མ་བྱས་བ་ཡིན་ན་ལབ་དགོས་རཱ། ད་སྔོན་ནས་...</td>\n",
       "      <td>སྔོན་འགོག་མ་བྱས་བ་ཡིན་ན་ལབ་དགོས་རཱ། ད་སྔོན་ནས་...</td>\n",
       "      <td>STT_NS_M0321_0472_3336783_to_3340138</td>\n",
       "      <td>https://d38pmlk0v88drf.cloudfront.net/wav16k/S...</td>\n",
       "      <td>3</td>\n",
       "    </tr>\n",
       "    <tr>\n",
       "      <th>1</th>\n",
       "      <td>འབེལ་འབེལ་ལྷུག་ལྷུག་ཡོད་རཱ། སོ་སོ་ག་རེ་བཟའ་ན་ཡ...</td>\n",
       "      <td>འབེལ་འབེལ་ལྷུག་ལྷུག་ཡོད་རཱ། སོ་སོ་ག་རེ་བཟའ་ན་ཡ...</td>\n",
       "      <td>STT_NS_M0321_0482_3402953_to_3405182</td>\n",
       "      <td>https://d38pmlk0v88drf.cloudfront.net/wav16k/S...</td>\n",
       "      <td>3</td>\n",
       "    </tr>\n",
       "    <tr>\n",
       "      <th>2</th>\n",
       "      <td>དྲི་བ་འདི་ཡོད་བ་ཏོག་ཙི་དཀའ་ལས་ཁག་པོ་འདྲ་བོ་ཞིག...</td>\n",
       "      <td>དྲི་བ་འདི་ཡོད་བ་ཏོག་ཙི་དཀའ་ལས་ཁག་པོ་འདྲ་བོ་ཞིག...</td>\n",
       "      <td>STT_NS_M0068_0003_15600_to_21102</td>\n",
       "      <td>https://d38pmlk0v88drf.cloudfront.net/wav16k/S...</td>\n",
       "      <td>2</td>\n",
       "    </tr>\n",
       "    <tr>\n",
       "      <th>3</th>\n",
       "      <td>ད་ང་རང་ཡང་མོ་ཡག་པོ་ཡོད་རེད། མོ་ལག་པ་ཤང་པོ་ཡོད་...</td>\n",
       "      <td>ད་ང་རང་ཡང་མོ་ཡག་པོ་ཡོད་རེད། མོ་ལག་པ་ཤང་པོ་ཡོད་...</td>\n",
       "      <td>STT_NS_M0311_0108_714701_to_719069</td>\n",
       "      <td>https://d38pmlk0v88drf.cloudfront.net/wav16k/S...</td>\n",
       "      <td>3</td>\n",
       "    </tr>\n",
       "    <tr>\n",
       "      <th>4</th>\n",
       "      <td>ཨེ་ནས་ཨ་རག་དང་ཨེ་འདྲའི་འདྲ་བོ་ལོངས་སྤྱོད་འདྲ་བ...</td>\n",
       "      <td>ཨེ་ནས་ཨ་རག་དང་ཨེ་འདྲའི་འདྲ་བོ་ལོངས་སྤྱོད་འདྲ་བ...</td>\n",
       "      <td>STT_NS_M0311_0120_793916_to_797602</td>\n",
       "      <td>https://d38pmlk0v88drf.cloudfront.net/wav16k/S...</td>\n",
       "      <td>3</td>\n",
       "    </tr>\n",
       "  </tbody>\n",
       "</table>\n",
       "</div>"
      ],
      "text/plain": [
       "                                 reviewed_transcript  \\\n",
       "0  སྔོན་འགོག་མ་བྱས་བ་ཡིན་ན་ལབ་དགོས་རཱ། ད་སྔོན་ནས་...   \n",
       "1  འབེལ་འབེལ་ལྷུག་ལྷུག་ཡོད་རཱ། སོ་སོ་ག་རེ་བཟའ་ན་ཡ...   \n",
       "2  དྲི་བ་འདི་ཡོད་བ་ཏོག་ཙི་དཀའ་ལས་ཁག་པོ་འདྲ་བོ་ཞིག...   \n",
       "3  ད་ང་རང་ཡང་མོ་ཡག་པོ་ཡོད་རེད། མོ་ལག་པ་ཤང་པོ་ཡོད་...   \n",
       "4  ཨེ་ནས་ཨ་རག་དང་ཨེ་འདྲའི་འདྲ་བོ་ལོངས་སྤྱོད་འདྲ་བ...   \n",
       "\n",
       "                                    final_transcript  \\\n",
       "0  སྔོན་འགོག་མ་བྱས་བ་ཡིན་ན་ལབ་དགོས་རཱ། ད་སྔོན་ནས་...   \n",
       "1  འབེལ་འབེལ་ལྷུག་ལྷུག་ཡོད་རཱ། སོ་སོ་ག་རེ་བཟའ་ན་ཡ...   \n",
       "2  དྲི་བ་འདི་ཡོད་བ་ཏོག་ཙི་དཀའ་ལས་ཁག་པོ་འདྲ་བོ་ཞིག...   \n",
       "3  ད་ང་རང་ཡང་མོ་ཡག་པོ་ཡོད་རེད། མོ་ལག་པ་ཤང་པོ་ཡོད་...   \n",
       "4  ཨེ་ནས་ཨ་རག་དང་ཨེ་འདྲའི་འདྲ་བོ་ལོངས་སྤྱོད་འདྲ་བ...   \n",
       "\n",
       "                              file_name  \\\n",
       "0  STT_NS_M0321_0472_3336783_to_3340138   \n",
       "1  STT_NS_M0321_0482_3402953_to_3405182   \n",
       "2      STT_NS_M0068_0003_15600_to_21102   \n",
       "3    STT_NS_M0311_0108_714701_to_719069   \n",
       "4    STT_NS_M0311_0120_793916_to_797602   \n",
       "\n",
       "                                                 url  grade  \n",
       "0  https://d38pmlk0v88drf.cloudfront.net/wav16k/S...      3  \n",
       "1  https://d38pmlk0v88drf.cloudfront.net/wav16k/S...      3  \n",
       "2  https://d38pmlk0v88drf.cloudfront.net/wav16k/S...      2  \n",
       "3  https://d38pmlk0v88drf.cloudfront.net/wav16k/S...      3  \n",
       "4  https://d38pmlk0v88drf.cloudfront.net/wav16k/S...      3  "
      ]
     },
     "execution_count": 8,
     "metadata": {},
     "output_type": "execute_result"
    }
   ],
   "source": [
    "df.head()"
   ]
  },
  {
   "cell_type": "code",
   "execution_count": 9,
   "metadata": {},
   "outputs": [],
   "source": [
    "df = df[~df['final_transcript'].isnull()]"
   ]
  },
  {
   "cell_type": "code",
   "execution_count": 10,
   "metadata": {},
   "outputs": [],
   "source": [
    "df['dept'] = df['file_name'].str[:6] # extract department code from file name"
   ]
  },
  {
   "cell_type": "code",
   "execution_count": 11,
   "metadata": {},
   "outputs": [],
   "source": [
    "df = df[['file_name','final_transcript', 'url', 'dept', 'grade']]"
   ]
  },
  {
   "cell_type": "code",
   "execution_count": 12,
   "metadata": {},
   "outputs": [],
   "source": [
    "df.rename(columns={'final_transcript':'uni'}, inplace=True)"
   ]
  },
  {
   "cell_type": "code",
   "execution_count": 13,
   "metadata": {},
   "outputs": [
    {
     "data": {
      "text/html": [
       "<div>\n",
       "<style scoped>\n",
       "    .dataframe tbody tr th:only-of-type {\n",
       "        vertical-align: middle;\n",
       "    }\n",
       "\n",
       "    .dataframe tbody tr th {\n",
       "        vertical-align: top;\n",
       "    }\n",
       "\n",
       "    .dataframe thead th {\n",
       "        text-align: right;\n",
       "    }\n",
       "</style>\n",
       "<table border=\"1\" class=\"dataframe\">\n",
       "  <thead>\n",
       "    <tr style=\"text-align: right;\">\n",
       "      <th></th>\n",
       "      <th>file_name</th>\n",
       "      <th>uni</th>\n",
       "      <th>url</th>\n",
       "      <th>dept</th>\n",
       "      <th>grade</th>\n",
       "    </tr>\n",
       "  </thead>\n",
       "  <tbody>\n",
       "    <tr>\n",
       "      <th>0</th>\n",
       "      <td>STT_NS_M0321_0472_3336783_to_3340138</td>\n",
       "      <td>སྔོན་འགོག་མ་བྱས་བ་ཡིན་ན་ལབ་དགོས་རཱ། ད་སྔོན་ནས་...</td>\n",
       "      <td>https://d38pmlk0v88drf.cloudfront.net/wav16k/S...</td>\n",
       "      <td>STT_NS</td>\n",
       "      <td>3</td>\n",
       "    </tr>\n",
       "    <tr>\n",
       "      <th>1</th>\n",
       "      <td>STT_NS_M0321_0482_3402953_to_3405182</td>\n",
       "      <td>འབེལ་འབེལ་ལྷུག་ལྷུག་ཡོད་རཱ། སོ་སོ་ག་རེ་བཟའ་ན་ཡ...</td>\n",
       "      <td>https://d38pmlk0v88drf.cloudfront.net/wav16k/S...</td>\n",
       "      <td>STT_NS</td>\n",
       "      <td>3</td>\n",
       "    </tr>\n",
       "    <tr>\n",
       "      <th>2</th>\n",
       "      <td>STT_NS_M0068_0003_15600_to_21102</td>\n",
       "      <td>དྲི་བ་འདི་ཡོད་བ་ཏོག་ཙི་དཀའ་ལས་ཁག་པོ་འདྲ་བོ་ཞིག...</td>\n",
       "      <td>https://d38pmlk0v88drf.cloudfront.net/wav16k/S...</td>\n",
       "      <td>STT_NS</td>\n",
       "      <td>2</td>\n",
       "    </tr>\n",
       "    <tr>\n",
       "      <th>3</th>\n",
       "      <td>STT_NS_M0311_0108_714701_to_719069</td>\n",
       "      <td>ད་ང་རང་ཡང་མོ་ཡག་པོ་ཡོད་རེད། མོ་ལག་པ་ཤང་པོ་ཡོད་...</td>\n",
       "      <td>https://d38pmlk0v88drf.cloudfront.net/wav16k/S...</td>\n",
       "      <td>STT_NS</td>\n",
       "      <td>3</td>\n",
       "    </tr>\n",
       "    <tr>\n",
       "      <th>4</th>\n",
       "      <td>STT_NS_M0311_0120_793916_to_797602</td>\n",
       "      <td>ཨེ་ནས་ཨ་རག་དང་ཨེ་འདྲའི་འདྲ་བོ་ལོངས་སྤྱོད་འདྲ་བ...</td>\n",
       "      <td>https://d38pmlk0v88drf.cloudfront.net/wav16k/S...</td>\n",
       "      <td>STT_NS</td>\n",
       "      <td>3</td>\n",
       "    </tr>\n",
       "  </tbody>\n",
       "</table>\n",
       "</div>"
      ],
      "text/plain": [
       "                              file_name  \\\n",
       "0  STT_NS_M0321_0472_3336783_to_3340138   \n",
       "1  STT_NS_M0321_0482_3402953_to_3405182   \n",
       "2      STT_NS_M0068_0003_15600_to_21102   \n",
       "3    STT_NS_M0311_0108_714701_to_719069   \n",
       "4    STT_NS_M0311_0120_793916_to_797602   \n",
       "\n",
       "                                                 uni  \\\n",
       "0  སྔོན་འགོག་མ་བྱས་བ་ཡིན་ན་ལབ་དགོས་རཱ། ད་སྔོན་ནས་...   \n",
       "1  འབེལ་འབེལ་ལྷུག་ལྷུག་ཡོད་རཱ། སོ་སོ་ག་རེ་བཟའ་ན་ཡ...   \n",
       "2  དྲི་བ་འདི་ཡོད་བ་ཏོག་ཙི་དཀའ་ལས་ཁག་པོ་འདྲ་བོ་ཞིག...   \n",
       "3  ད་ང་རང་ཡང་མོ་ཡག་པོ་ཡོད་རེད། མོ་ལག་པ་ཤང་པོ་ཡོད་...   \n",
       "4  ཨེ་ནས་ཨ་རག་དང་ཨེ་འདྲའི་འདྲ་བོ་ལོངས་སྤྱོད་འདྲ་བ...   \n",
       "\n",
       "                                                 url    dept  grade  \n",
       "0  https://d38pmlk0v88drf.cloudfront.net/wav16k/S...  STT_NS      3  \n",
       "1  https://d38pmlk0v88drf.cloudfront.net/wav16k/S...  STT_NS      3  \n",
       "2  https://d38pmlk0v88drf.cloudfront.net/wav16k/S...  STT_NS      2  \n",
       "3  https://d38pmlk0v88drf.cloudfront.net/wav16k/S...  STT_NS      3  \n",
       "4  https://d38pmlk0v88drf.cloudfront.net/wav16k/S...  STT_NS      3  "
      ]
     },
     "execution_count": 13,
     "metadata": {},
     "output_type": "execute_result"
    }
   ],
   "source": [
    "df.head()"
   ]
  },
  {
   "cell_type": "code",
   "execution_count": 14,
   "metadata": {},
   "outputs": [],
   "source": [
    "df['file_name'] = df['file_name'].map(lambda x: x.replace(\".wav\", \"\"))\n",
    "df['file_name'] = df['file_name'].map(lambda x: x.replace(\".mp3\", \"\"))"
   ]
  },
  {
   "cell_type": "code",
   "execution_count": 15,
   "metadata": {},
   "outputs": [],
   "source": [
    "df.to_csv('01_stt_pecha_tools.csv', index=False)"
   ]
  },
  {
   "cell_type": "code",
   "execution_count": 17,
   "metadata": {},
   "outputs": [
    {
     "name": "stdout",
     "output_type": "stream",
     "text": [
      "upload: ./01_stt_pecha_tools.csv to s3://monlam.ai.stt/tsv/01_stt_pecha_tools.csv\n"
     ]
    }
   ],
   "source": [
    "! aws s3 cp 01_stt_pecha_tools.csv s3://monlam.ai.stt/tsv/01_stt_pecha_tools.csv"
   ]
  },
  {
   "cell_type": "code",
   "execution_count": 16,
   "metadata": {},
   "outputs": [
    {
     "data": {
      "text/plain": [
       "(358731, 5)"
      ]
     },
     "execution_count": 16,
     "metadata": {},
     "output_type": "execute_result"
    }
   ],
   "source": [
    "df.shape"
   ]
  }
 ],
 "metadata": {
  "kernelspec": {
   "display_name": ".env",
   "language": "python",
   "name": "python3"
  },
  "language_info": {
   "codemirror_mode": {
    "name": "ipython",
    "version": 3
   },
   "file_extension": ".py",
   "mimetype": "text/x-python",
   "name": "python",
   "nbconvert_exporter": "python",
   "pygments_lexer": "ipython3",
   "version": "3.10.12"
  }
 },
 "nbformat": 4,
 "nbformat_minor": 2
}
